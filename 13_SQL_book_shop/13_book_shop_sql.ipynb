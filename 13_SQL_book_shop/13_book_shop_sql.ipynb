{
 "cells": [
  {
   "cell_type": "markdown",
   "id": "478e7465",
   "metadata": {},
   "source": [
    "# Цель работы.\n",
    "\n",
    "**Цель работы**:\n",
    "Анализ базы данных сервиса покупки книг по подписке. \n",
    "\n",
    "**Задачи**:\n",
    "- Изучить состав базы данных (количество и состав таблиц), \n",
    "- Выполнить запросы, которые помогут сформулировать ценностное предложение для нового продукта."
   ]
  },
  {
   "cell_type": "markdown",
   "id": "1130f0b7",
   "metadata": {},
   "source": [
    "# 1. Подключение к БД и загрузка таблиц\n",
    "Для начала необходимо подключиться к базе данных и загрузить имеющиеся таблицы. Для загрузки таблиц использую функцию `table_loading`, которая поможет загрузить таблицы БД."
   ]
  },
  {
   "cell_type": "code",
   "execution_count": 1,
   "id": "357f2431",
   "metadata": {},
   "outputs": [],
   "source": [
    "import pandas as pd\n",
    "from sqlalchemy import create_engine"
   ]
  },
  {
   "cell_type": "code",
   "execution_count": 2,
   "id": "37b3b104",
   "metadata": {},
   "outputs": [],
   "source": [
    "db_config = {'user': 'praktikum_student',\n",
    "             'pwd': 'Sdf4$2;d-d30pp',\n",
    "             'host': 'rc1b-wcoijxj3yxfsf3fs.mdb.yandexcloud.net',\n",
    "             'port': 6432, \n",
    "             'db': 'data-analyst-final-project-db'} \n",
    "\n",
    "connection_string = 'postgresql://{}:{}@{}:{}/{}'.format(db_config['user'],\n",
    "                                                         db_config['pwd'],\n",
    "                                                         db_config['host'],\n",
    "                                                         db_config['port'],\n",
    "                                                         db_config['db'])\n",
    "\n",
    "engine = create_engine(connection_string, connect_args={'sslmode':'require'})"
   ]
  },
  {
   "cell_type": "code",
   "execution_count": 3,
   "id": "fef42d03",
   "metadata": {},
   "outputs": [],
   "source": [
    "def table_loading(table):\n",
    "    \n",
    "    query = '''\n",
    "    select *\n",
    "    from %s        \n",
    "    ''' % table\n",
    "    data = pd.io.sql.read_sql(query, con = engine)\n",
    "    \n",
    "    print('Количество строк таблицы: {}'.format(len(data)))\n",
    "    print('*'*50)\n",
    "    display(data.head())"
   ]
  },
  {
   "cell_type": "markdown",
   "id": "6c373257",
   "metadata": {},
   "source": [
    "# Первичный анализ таблиц\n",
    "Загрузим таблицы и изучим их содержимое: "
   ]
  },
  {
   "cell_type": "markdown",
   "id": "6efbcc93",
   "metadata": {},
   "source": [
    "### Таблица `books` - \"книги\" \n",
    "- В таблице `books` - 1000 строк, \n",
    "- Primary Key - `book_id`, \n",
    "- Foreign Key - `author_id`, `publisher_id`\t"
   ]
  },
  {
   "cell_type": "code",
   "execution_count": 4,
   "id": "dc5bbf07",
   "metadata": {},
   "outputs": [
    {
     "name": "stdout",
     "output_type": "stream",
     "text": [
      "Количество строк таблицы: 1000\n",
      "**************************************************\n"
     ]
    },
    {
     "data": {
      "text/html": [
       "<div>\n",
       "<style scoped>\n",
       "    .dataframe tbody tr th:only-of-type {\n",
       "        vertical-align: middle;\n",
       "    }\n",
       "\n",
       "    .dataframe tbody tr th {\n",
       "        vertical-align: top;\n",
       "    }\n",
       "\n",
       "    .dataframe thead th {\n",
       "        text-align: right;\n",
       "    }\n",
       "</style>\n",
       "<table border=\"1\" class=\"dataframe\">\n",
       "  <thead>\n",
       "    <tr style=\"text-align: right;\">\n",
       "      <th></th>\n",
       "      <th>book_id</th>\n",
       "      <th>author_id</th>\n",
       "      <th>title</th>\n",
       "      <th>num_pages</th>\n",
       "      <th>publication_date</th>\n",
       "      <th>publisher_id</th>\n",
       "    </tr>\n",
       "  </thead>\n",
       "  <tbody>\n",
       "    <tr>\n",
       "      <th>0</th>\n",
       "      <td>1</td>\n",
       "      <td>546</td>\n",
       "      <td>'Salem's Lot</td>\n",
       "      <td>594</td>\n",
       "      <td>2005-11-01</td>\n",
       "      <td>93</td>\n",
       "    </tr>\n",
       "    <tr>\n",
       "      <th>1</th>\n",
       "      <td>2</td>\n",
       "      <td>465</td>\n",
       "      <td>1 000 Places to See Before You Die</td>\n",
       "      <td>992</td>\n",
       "      <td>2003-05-22</td>\n",
       "      <td>336</td>\n",
       "    </tr>\n",
       "    <tr>\n",
       "      <th>2</th>\n",
       "      <td>3</td>\n",
       "      <td>407</td>\n",
       "      <td>13 Little Blue Envelopes (Little Blue Envelope...</td>\n",
       "      <td>322</td>\n",
       "      <td>2010-12-21</td>\n",
       "      <td>135</td>\n",
       "    </tr>\n",
       "    <tr>\n",
       "      <th>3</th>\n",
       "      <td>4</td>\n",
       "      <td>82</td>\n",
       "      <td>1491: New Revelations of the Americas Before C...</td>\n",
       "      <td>541</td>\n",
       "      <td>2006-10-10</td>\n",
       "      <td>309</td>\n",
       "    </tr>\n",
       "    <tr>\n",
       "      <th>4</th>\n",
       "      <td>5</td>\n",
       "      <td>125</td>\n",
       "      <td>1776</td>\n",
       "      <td>386</td>\n",
       "      <td>2006-07-04</td>\n",
       "      <td>268</td>\n",
       "    </tr>\n",
       "  </tbody>\n",
       "</table>\n",
       "</div>"
      ],
      "text/plain": [
       "   book_id  author_id                                              title  \\\n",
       "0        1        546                                       'Salem's Lot   \n",
       "1        2        465                 1 000 Places to See Before You Die   \n",
       "2        3        407  13 Little Blue Envelopes (Little Blue Envelope...   \n",
       "3        4         82  1491: New Revelations of the Americas Before C...   \n",
       "4        5        125                                               1776   \n",
       "\n",
       "   num_pages publication_date  publisher_id  \n",
       "0        594       2005-11-01            93  \n",
       "1        992       2003-05-22           336  \n",
       "2        322       2010-12-21           135  \n",
       "3        541       2006-10-10           309  \n",
       "4        386       2006-07-04           268  "
      ]
     },
     "metadata": {},
     "output_type": "display_data"
    }
   ],
   "source": [
    "table_loading('books')"
   ]
  },
  {
   "cell_type": "markdown",
   "id": "44db4d04",
   "metadata": {},
   "source": [
    "### Таблица `authors` - \"авторы\" \n",
    "- В таблице `authors` - 636 строк, \n",
    "- Primary Key - `author_id`, \n",
    "- Foreign Key - отсутсвует.\t"
   ]
  },
  {
   "cell_type": "code",
   "execution_count": 5,
   "id": "a3a19842",
   "metadata": {},
   "outputs": [
    {
     "name": "stdout",
     "output_type": "stream",
     "text": [
      "Количество строк таблицы: 636\n",
      "**************************************************\n"
     ]
    },
    {
     "data": {
      "text/html": [
       "<div>\n",
       "<style scoped>\n",
       "    .dataframe tbody tr th:only-of-type {\n",
       "        vertical-align: middle;\n",
       "    }\n",
       "\n",
       "    .dataframe tbody tr th {\n",
       "        vertical-align: top;\n",
       "    }\n",
       "\n",
       "    .dataframe thead th {\n",
       "        text-align: right;\n",
       "    }\n",
       "</style>\n",
       "<table border=\"1\" class=\"dataframe\">\n",
       "  <thead>\n",
       "    <tr style=\"text-align: right;\">\n",
       "      <th></th>\n",
       "      <th>author_id</th>\n",
       "      <th>author</th>\n",
       "    </tr>\n",
       "  </thead>\n",
       "  <tbody>\n",
       "    <tr>\n",
       "      <th>0</th>\n",
       "      <td>1</td>\n",
       "      <td>A.S. Byatt</td>\n",
       "    </tr>\n",
       "    <tr>\n",
       "      <th>1</th>\n",
       "      <td>2</td>\n",
       "      <td>Aesop/Laura Harris/Laura Gibbs</td>\n",
       "    </tr>\n",
       "    <tr>\n",
       "      <th>2</th>\n",
       "      <td>3</td>\n",
       "      <td>Agatha Christie</td>\n",
       "    </tr>\n",
       "    <tr>\n",
       "      <th>3</th>\n",
       "      <td>4</td>\n",
       "      <td>Alan Brennert</td>\n",
       "    </tr>\n",
       "    <tr>\n",
       "      <th>4</th>\n",
       "      <td>5</td>\n",
       "      <td>Alan Moore/David   Lloyd</td>\n",
       "    </tr>\n",
       "  </tbody>\n",
       "</table>\n",
       "</div>"
      ],
      "text/plain": [
       "   author_id                          author\n",
       "0          1                      A.S. Byatt\n",
       "1          2  Aesop/Laura Harris/Laura Gibbs\n",
       "2          3                 Agatha Christie\n",
       "3          4                   Alan Brennert\n",
       "4          5        Alan Moore/David   Lloyd"
      ]
     },
     "metadata": {},
     "output_type": "display_data"
    }
   ],
   "source": [
    "table_loading('authors')"
   ]
  },
  {
   "cell_type": "markdown",
   "id": "a288cf53",
   "metadata": {},
   "source": [
    "### Таблица `publishers` - \"издатели\" \n",
    "- В таблице `publishers` - 340 строк, \n",
    "- Primary Key - `publisher_id`, \n",
    "- Foreign Key - отсутсвует.\t"
   ]
  },
  {
   "cell_type": "code",
   "execution_count": 6,
   "id": "b97d920c",
   "metadata": {},
   "outputs": [
    {
     "name": "stdout",
     "output_type": "stream",
     "text": [
      "Количество строк таблицы: 340\n",
      "**************************************************\n"
     ]
    },
    {
     "data": {
      "text/html": [
       "<div>\n",
       "<style scoped>\n",
       "    .dataframe tbody tr th:only-of-type {\n",
       "        vertical-align: middle;\n",
       "    }\n",
       "\n",
       "    .dataframe tbody tr th {\n",
       "        vertical-align: top;\n",
       "    }\n",
       "\n",
       "    .dataframe thead th {\n",
       "        text-align: right;\n",
       "    }\n",
       "</style>\n",
       "<table border=\"1\" class=\"dataframe\">\n",
       "  <thead>\n",
       "    <tr style=\"text-align: right;\">\n",
       "      <th></th>\n",
       "      <th>publisher_id</th>\n",
       "      <th>publisher</th>\n",
       "    </tr>\n",
       "  </thead>\n",
       "  <tbody>\n",
       "    <tr>\n",
       "      <th>0</th>\n",
       "      <td>1</td>\n",
       "      <td>Ace</td>\n",
       "    </tr>\n",
       "    <tr>\n",
       "      <th>1</th>\n",
       "      <td>2</td>\n",
       "      <td>Ace Book</td>\n",
       "    </tr>\n",
       "    <tr>\n",
       "      <th>2</th>\n",
       "      <td>3</td>\n",
       "      <td>Ace Books</td>\n",
       "    </tr>\n",
       "    <tr>\n",
       "      <th>3</th>\n",
       "      <td>4</td>\n",
       "      <td>Ace Hardcover</td>\n",
       "    </tr>\n",
       "    <tr>\n",
       "      <th>4</th>\n",
       "      <td>5</td>\n",
       "      <td>Addison Wesley Publishing Company</td>\n",
       "    </tr>\n",
       "  </tbody>\n",
       "</table>\n",
       "</div>"
      ],
      "text/plain": [
       "   publisher_id                          publisher\n",
       "0             1                                Ace\n",
       "1             2                           Ace Book\n",
       "2             3                          Ace Books\n",
       "3             4                      Ace Hardcover\n",
       "4             5  Addison Wesley Publishing Company"
      ]
     },
     "metadata": {},
     "output_type": "display_data"
    }
   ],
   "source": [
    "table_loading('publishers')"
   ]
  },
  {
   "cell_type": "markdown",
   "id": "39e06ea3",
   "metadata": {},
   "source": [
    "### Таблица `ratings` - \"рейтинг\" \n",
    "- В таблице `ratings` - 6456 строк, \n",
    "- Primary Key - `rating_id`, \n",
    "- Foreign Key - `book_id`.\t"
   ]
  },
  {
   "cell_type": "code",
   "execution_count": 7,
   "id": "f999996e",
   "metadata": {},
   "outputs": [
    {
     "name": "stdout",
     "output_type": "stream",
     "text": [
      "Количество строк таблицы: 6456\n",
      "**************************************************\n"
     ]
    },
    {
     "data": {
      "text/html": [
       "<div>\n",
       "<style scoped>\n",
       "    .dataframe tbody tr th:only-of-type {\n",
       "        vertical-align: middle;\n",
       "    }\n",
       "\n",
       "    .dataframe tbody tr th {\n",
       "        vertical-align: top;\n",
       "    }\n",
       "\n",
       "    .dataframe thead th {\n",
       "        text-align: right;\n",
       "    }\n",
       "</style>\n",
       "<table border=\"1\" class=\"dataframe\">\n",
       "  <thead>\n",
       "    <tr style=\"text-align: right;\">\n",
       "      <th></th>\n",
       "      <th>rating_id</th>\n",
       "      <th>book_id</th>\n",
       "      <th>username</th>\n",
       "      <th>rating</th>\n",
       "    </tr>\n",
       "  </thead>\n",
       "  <tbody>\n",
       "    <tr>\n",
       "      <th>0</th>\n",
       "      <td>1</td>\n",
       "      <td>1</td>\n",
       "      <td>ryanfranco</td>\n",
       "      <td>4</td>\n",
       "    </tr>\n",
       "    <tr>\n",
       "      <th>1</th>\n",
       "      <td>2</td>\n",
       "      <td>1</td>\n",
       "      <td>grantpatricia</td>\n",
       "      <td>2</td>\n",
       "    </tr>\n",
       "    <tr>\n",
       "      <th>2</th>\n",
       "      <td>3</td>\n",
       "      <td>1</td>\n",
       "      <td>brandtandrea</td>\n",
       "      <td>5</td>\n",
       "    </tr>\n",
       "    <tr>\n",
       "      <th>3</th>\n",
       "      <td>4</td>\n",
       "      <td>2</td>\n",
       "      <td>lorichen</td>\n",
       "      <td>3</td>\n",
       "    </tr>\n",
       "    <tr>\n",
       "      <th>4</th>\n",
       "      <td>5</td>\n",
       "      <td>2</td>\n",
       "      <td>mariokeller</td>\n",
       "      <td>2</td>\n",
       "    </tr>\n",
       "  </tbody>\n",
       "</table>\n",
       "</div>"
      ],
      "text/plain": [
       "   rating_id  book_id       username  rating\n",
       "0          1        1     ryanfranco       4\n",
       "1          2        1  grantpatricia       2\n",
       "2          3        1   brandtandrea       5\n",
       "3          4        2       lorichen       3\n",
       "4          5        2    mariokeller       2"
      ]
     },
     "metadata": {},
     "output_type": "display_data"
    }
   ],
   "source": [
    "table_loading('ratings')"
   ]
  },
  {
   "cell_type": "markdown",
   "id": "c9a184b0",
   "metadata": {},
   "source": [
    "### Таблица `reviews` - \"обзоры\" \n",
    "- В таблице `reviews` - 2793 строки, \n",
    "- Primary Key - `review_id`, \n",
    "- Foreign Key - `book_id`.\t"
   ]
  },
  {
   "cell_type": "code",
   "execution_count": 8,
   "id": "f9390908",
   "metadata": {},
   "outputs": [
    {
     "name": "stdout",
     "output_type": "stream",
     "text": [
      "Количество строк таблицы: 2793\n",
      "**************************************************\n"
     ]
    },
    {
     "data": {
      "text/html": [
       "<div>\n",
       "<style scoped>\n",
       "    .dataframe tbody tr th:only-of-type {\n",
       "        vertical-align: middle;\n",
       "    }\n",
       "\n",
       "    .dataframe tbody tr th {\n",
       "        vertical-align: top;\n",
       "    }\n",
       "\n",
       "    .dataframe thead th {\n",
       "        text-align: right;\n",
       "    }\n",
       "</style>\n",
       "<table border=\"1\" class=\"dataframe\">\n",
       "  <thead>\n",
       "    <tr style=\"text-align: right;\">\n",
       "      <th></th>\n",
       "      <th>review_id</th>\n",
       "      <th>book_id</th>\n",
       "      <th>username</th>\n",
       "      <th>text</th>\n",
       "    </tr>\n",
       "  </thead>\n",
       "  <tbody>\n",
       "    <tr>\n",
       "      <th>0</th>\n",
       "      <td>1</td>\n",
       "      <td>1</td>\n",
       "      <td>brandtandrea</td>\n",
       "      <td>Mention society tell send professor analysis. ...</td>\n",
       "    </tr>\n",
       "    <tr>\n",
       "      <th>1</th>\n",
       "      <td>2</td>\n",
       "      <td>1</td>\n",
       "      <td>ryanfranco</td>\n",
       "      <td>Foot glass pretty audience hit themselves. Amo...</td>\n",
       "    </tr>\n",
       "    <tr>\n",
       "      <th>2</th>\n",
       "      <td>3</td>\n",
       "      <td>2</td>\n",
       "      <td>lorichen</td>\n",
       "      <td>Listen treat keep worry. Miss husband tax but ...</td>\n",
       "    </tr>\n",
       "    <tr>\n",
       "      <th>3</th>\n",
       "      <td>4</td>\n",
       "      <td>3</td>\n",
       "      <td>johnsonamanda</td>\n",
       "      <td>Finally month interesting blue could nature cu...</td>\n",
       "    </tr>\n",
       "    <tr>\n",
       "      <th>4</th>\n",
       "      <td>5</td>\n",
       "      <td>3</td>\n",
       "      <td>scotttamara</td>\n",
       "      <td>Nation purpose heavy give wait song will. List...</td>\n",
       "    </tr>\n",
       "  </tbody>\n",
       "</table>\n",
       "</div>"
      ],
      "text/plain": [
       "   review_id  book_id       username  \\\n",
       "0          1        1   brandtandrea   \n",
       "1          2        1     ryanfranco   \n",
       "2          3        2       lorichen   \n",
       "3          4        3  johnsonamanda   \n",
       "4          5        3    scotttamara   \n",
       "\n",
       "                                                text  \n",
       "0  Mention society tell send professor analysis. ...  \n",
       "1  Foot glass pretty audience hit themselves. Amo...  \n",
       "2  Listen treat keep worry. Miss husband tax but ...  \n",
       "3  Finally month interesting blue could nature cu...  \n",
       "4  Nation purpose heavy give wait song will. List...  "
      ]
     },
     "metadata": {},
     "output_type": "display_data"
    }
   ],
   "source": [
    "table_loading('reviews')"
   ]
  },
  {
   "cell_type": "markdown",
   "id": "3f3326e3",
   "metadata": {},
   "source": [
    "# Выполнение запросов\n",
    "Для отображения результатов запросов использую функцию `request`, аргумент которой- запрос к БД. "
   ]
  },
  {
   "cell_type": "code",
   "execution_count": 9,
   "id": "c96b9cef",
   "metadata": {},
   "outputs": [],
   "source": [
    "def request(query):\n",
    "    request_result = pd.io.sql.read_sql(query, con = engine)\n",
    "    return request_result"
   ]
  },
  {
   "cell_type": "markdown",
   "id": "2b342fee",
   "metadata": {},
   "source": [
    "## Задача 1 - Посчитайте, сколько книг вышло после 1 января 2000 года.\n",
    "Для того, чтобы решить задачу, выгрузим уникальные идентификаторы книг `book_id` и установим условие- дата выпуска книг должна быть позднее 01.01.2000 года. Результат - таких книг в БД **821 штука.**"
   ]
  },
  {
   "cell_type": "code",
   "execution_count": 10,
   "id": "1b187181",
   "metadata": {},
   "outputs": [],
   "source": [
    "query_1 = '''\n",
    "SELECT COUNT(book_id)\n",
    "FROM books\n",
    "WHERE publication_date >= '2000-01-01'\n",
    "'''"
   ]
  },
  {
   "cell_type": "code",
   "execution_count": 11,
   "id": "76d36ac5",
   "metadata": {
    "scrolled": true
   },
   "outputs": [
    {
     "data": {
      "text/html": [
       "<div>\n",
       "<style scoped>\n",
       "    .dataframe tbody tr th:only-of-type {\n",
       "        vertical-align: middle;\n",
       "    }\n",
       "\n",
       "    .dataframe tbody tr th {\n",
       "        vertical-align: top;\n",
       "    }\n",
       "\n",
       "    .dataframe thead th {\n",
       "        text-align: right;\n",
       "    }\n",
       "</style>\n",
       "<table border=\"1\" class=\"dataframe\">\n",
       "  <thead>\n",
       "    <tr style=\"text-align: right;\">\n",
       "      <th></th>\n",
       "      <th>count</th>\n",
       "    </tr>\n",
       "  </thead>\n",
       "  <tbody>\n",
       "    <tr>\n",
       "      <th>0</th>\n",
       "      <td>821</td>\n",
       "    </tr>\n",
       "  </tbody>\n",
       "</table>\n",
       "</div>"
      ],
      "text/plain": [
       "   count\n",
       "0    821"
      ]
     },
     "execution_count": 11,
     "metadata": {},
     "output_type": "execute_result"
    }
   ],
   "source": [
    "request(query_1)"
   ]
  },
  {
   "cell_type": "markdown",
   "id": "f19d2cf1",
   "metadata": {},
   "source": [
    "## Задача 2 - Для каждой книги посчитайте количество обзоров и среднюю оценку.\n",
    "\n",
    "Для решения задачи:\n",
    "\n",
    "1. Временная таблица №1 - выгружу из таблицы `reviews`, сгруппированной по колонке `book_id`, идентификаторы книг `book_id` и количество обзоров по каждой из книг COUNT(review_id) AS review_counter. Обзоры есть не на все книги в базе. \n",
    "2. Временная таблица №2 - из таблицы `ratings`, сгруппированной по колонке `book_id`, получим идентификаторы книг `book_id` и среднюю оценку каждой книги AVG(rating) as avg_rating.\n",
    "3. При помощи LEFT JOIN соединим обе таблицы по колонке `book_id`. \n",
    "\n",
    "Таким образом, для каждой книги посчитан средний рейтинг и количество обзоров. "
   ]
  },
  {
   "cell_type": "code",
   "execution_count": 12,
   "id": "c398fc4e",
   "metadata": {},
   "outputs": [],
   "source": [
    "query_2 = '''\n",
    "WITH books_rev\n",
    "AS\n",
    "(SELECT book_id, COUNT(review_id) AS review_counter\n",
    "FROM reviews\n",
    "GROUP BY book_id),\n",
    "\n",
    "book_rait AS\n",
    "(SELECT book_id, AVG(rating) as avg_rating\n",
    "FROM ratings\n",
    "GROUP BY book_id)\n",
    "\n",
    "select bra.book_id, avg_rating, review_counter\n",
    "FROM book_rait AS bra\n",
    "LEFT JOIN books_rev AS bre ON bra.book_id = bre.book_id\n",
    "'''"
   ]
  },
  {
   "cell_type": "code",
   "execution_count": 13,
   "id": "963b2bee",
   "metadata": {},
   "outputs": [
    {
     "data": {
      "text/html": [
       "<div>\n",
       "<style scoped>\n",
       "    .dataframe tbody tr th:only-of-type {\n",
       "        vertical-align: middle;\n",
       "    }\n",
       "\n",
       "    .dataframe tbody tr th {\n",
       "        vertical-align: top;\n",
       "    }\n",
       "\n",
       "    .dataframe thead th {\n",
       "        text-align: right;\n",
       "    }\n",
       "</style>\n",
       "<table border=\"1\" class=\"dataframe\">\n",
       "  <thead>\n",
       "    <tr style=\"text-align: right;\">\n",
       "      <th></th>\n",
       "      <th>book_id</th>\n",
       "      <th>avg_rating</th>\n",
       "      <th>review_counter</th>\n",
       "    </tr>\n",
       "  </thead>\n",
       "  <tbody>\n",
       "    <tr>\n",
       "      <th>0</th>\n",
       "      <td>1</td>\n",
       "      <td>3.666667</td>\n",
       "      <td>2.0</td>\n",
       "    </tr>\n",
       "    <tr>\n",
       "      <th>1</th>\n",
       "      <td>2</td>\n",
       "      <td>2.500000</td>\n",
       "      <td>1.0</td>\n",
       "    </tr>\n",
       "    <tr>\n",
       "      <th>2</th>\n",
       "      <td>3</td>\n",
       "      <td>4.666667</td>\n",
       "      <td>3.0</td>\n",
       "    </tr>\n",
       "    <tr>\n",
       "      <th>3</th>\n",
       "      <td>4</td>\n",
       "      <td>4.500000</td>\n",
       "      <td>2.0</td>\n",
       "    </tr>\n",
       "    <tr>\n",
       "      <th>4</th>\n",
       "      <td>5</td>\n",
       "      <td>4.000000</td>\n",
       "      <td>4.0</td>\n",
       "    </tr>\n",
       "    <tr>\n",
       "      <th>...</th>\n",
       "      <td>...</td>\n",
       "      <td>...</td>\n",
       "      <td>...</td>\n",
       "    </tr>\n",
       "    <tr>\n",
       "      <th>995</th>\n",
       "      <td>996</td>\n",
       "      <td>3.666667</td>\n",
       "      <td>3.0</td>\n",
       "    </tr>\n",
       "    <tr>\n",
       "      <th>996</th>\n",
       "      <td>997</td>\n",
       "      <td>3.400000</td>\n",
       "      <td>3.0</td>\n",
       "    </tr>\n",
       "    <tr>\n",
       "      <th>997</th>\n",
       "      <td>998</td>\n",
       "      <td>3.200000</td>\n",
       "      <td>4.0</td>\n",
       "    </tr>\n",
       "    <tr>\n",
       "      <th>998</th>\n",
       "      <td>999</td>\n",
       "      <td>4.500000</td>\n",
       "      <td>2.0</td>\n",
       "    </tr>\n",
       "    <tr>\n",
       "      <th>999</th>\n",
       "      <td>1000</td>\n",
       "      <td>3.833333</td>\n",
       "      <td>4.0</td>\n",
       "    </tr>\n",
       "  </tbody>\n",
       "</table>\n",
       "<p>1000 rows × 3 columns</p>\n",
       "</div>"
      ],
      "text/plain": [
       "     book_id  avg_rating  review_counter\n",
       "0          1    3.666667             2.0\n",
       "1          2    2.500000             1.0\n",
       "2          3    4.666667             3.0\n",
       "3          4    4.500000             2.0\n",
       "4          5    4.000000             4.0\n",
       "..       ...         ...             ...\n",
       "995      996    3.666667             3.0\n",
       "996      997    3.400000             3.0\n",
       "997      998    3.200000             4.0\n",
       "998      999    4.500000             2.0\n",
       "999     1000    3.833333             4.0\n",
       "\n",
       "[1000 rows x 3 columns]"
      ]
     },
     "execution_count": 13,
     "metadata": {},
     "output_type": "execute_result"
    }
   ],
   "source": [
    "request(query_2)"
   ]
  },
  {
   "cell_type": "markdown",
   "id": "5d0254b0",
   "metadata": {},
   "source": [
    "## Задача 3 - Определите издательство, которое выпустило наибольшее число книг толще 50 страниц \n",
    "\n",
    "Для решения задачи: \n",
    "1. Выгружу из таблицы `books` идентификатор издателя `publisher_id` и количество книг `OUNT (book_id)` по каждому издательству, задам фильтр: количество страниц `num_pages` должно быть больше или равно 50, сделаю группировку по `publisher_id`. Результат запроса сохраню как временную таблицу `cte`.\n",
    "2. Соединю таблицу publishers и временной таблицей `cte` по полю `publisher_id`, выгружу поля идентификатор издателя `publisher_id`, название издателя `publisher` и количество книг. Т.к. нам необходимо издательство, которое выпустило наибольшее количество книг, отсортируем результат запроса по убыванию количества выпущенных книг и ограничим выгрузку одним издательством с наибольним количеством книг. \n",
    "\n",
    "Победителем стал издатель `Penguin Books` (publisher_id = 242), выпустивший 42 книги. "
   ]
  },
  {
   "cell_type": "code",
   "execution_count": 14,
   "id": "5595a5ae",
   "metadata": {},
   "outputs": [],
   "source": [
    "query_3 = '''\n",
    "WITH cte\n",
    "AS\n",
    "(SELECT publisher_id, COUNT (book_id)\n",
    "FROM books\n",
    "WHERE num_pages >= 50\n",
    "GROUP BY publisher_id)\n",
    "\n",
    "SELECT p.publisher_id, publisher, count\n",
    "FROM publishers AS p\n",
    "JOIN cte ON p.publisher_id = cte.publisher_id\n",
    "ORDER BY count DESC\n",
    "LIMIT 1\n",
    "'''"
   ]
  },
  {
   "cell_type": "code",
   "execution_count": 15,
   "id": "bcd39fd1",
   "metadata": {},
   "outputs": [
    {
     "data": {
      "text/html": [
       "<div>\n",
       "<style scoped>\n",
       "    .dataframe tbody tr th:only-of-type {\n",
       "        vertical-align: middle;\n",
       "    }\n",
       "\n",
       "    .dataframe tbody tr th {\n",
       "        vertical-align: top;\n",
       "    }\n",
       "\n",
       "    .dataframe thead th {\n",
       "        text-align: right;\n",
       "    }\n",
       "</style>\n",
       "<table border=\"1\" class=\"dataframe\">\n",
       "  <thead>\n",
       "    <tr style=\"text-align: right;\">\n",
       "      <th></th>\n",
       "      <th>publisher_id</th>\n",
       "      <th>publisher</th>\n",
       "      <th>count</th>\n",
       "    </tr>\n",
       "  </thead>\n",
       "  <tbody>\n",
       "    <tr>\n",
       "      <th>0</th>\n",
       "      <td>212</td>\n",
       "      <td>Penguin Books</td>\n",
       "      <td>42</td>\n",
       "    </tr>\n",
       "  </tbody>\n",
       "</table>\n",
       "</div>"
      ],
      "text/plain": [
       "   publisher_id      publisher  count\n",
       "0           212  Penguin Books     42"
      ]
     },
     "execution_count": 15,
     "metadata": {},
     "output_type": "execute_result"
    }
   ],
   "source": [
    "request(query_3)"
   ]
  },
  {
   "cell_type": "markdown",
   "id": "5fbbbfba",
   "metadata": {},
   "source": [
    "## Задача 4 -  Определите автора с самой высокой средней оценкой книг — учитывайте только книги с 50 и более оценками\n",
    "\n",
    "Здесь я предлагаю 2 варианта решения задачи. \n",
    "\n",
    "**Вариант 1 - без использования оконных функций:**\n",
    "1. Временная таблица №1 - `book_cte`. Из таблицы рейтингов `ratings`, сгруппированной по полю `book_id` выгрузим `book_id`, количество оценок `COUNT(rating_id) as counter` и среднюю оценку `AVG(rating) as book_rating`. После группировки применим фильтр - количество оценок `COUNT(rating_id)` должно быть более 50.\n",
    "2. Временная таблица №2 - `final_cte`. Таблицу `book_cte` соединим с таблицей `books` по ключу `book_id` и с таблицей `authors` по ключу `author_id`. Сгруппируем получившуюся таблицу по колонке авторов `author_id`, выведем идентификатор автора `author_id` и средний рейтинг книг по автору `avg_rating`, найденный как среднее от средней оценки книг автора. Сделаем группировку рейтинга по убыванию `ORDER BY author_rating DESC` и выведем автора с самым большим рейтингом `LIMIT 1`. \n",
    "3. Полученный результат снова соединим с таблицей `authors`, чтобы получить не только идентификатор автора `author_id`, но и его ФИО. \n",
    "\n",
    "Авторoм с самым высоким рейтингом книг стала Джоан Роулинг (рейтинг 4.28)"
   ]
  },
  {
   "cell_type": "code",
   "execution_count": 16,
   "id": "d27ae9cd",
   "metadata": {},
   "outputs": [],
   "source": [
    "query_4 = '''\n",
    "WITH book_cte\n",
    "AS\n",
    "(SELECT book_id, COUNT(rating_id) as counter, AVG(rating) as book_rating\n",
    "FROM ratings\n",
    "GROUP BY book_id\n",
    "HAVING COUNT(rating_id) > 50), \n",
    "\n",
    "final_cte\n",
    "AS\n",
    "(SELECT b.author_id, AVG(book_rating) as avg_rating\n",
    "FROM book_cte AS bc\n",
    "LEFT JOIN books AS b ON bc.book_id = b.book_id\n",
    "LEFT JOIN authors AS au ON au.author_id = b.author_id\n",
    "GROUP by b.author_id \n",
    ")\n",
    "\n",
    "SELECT a.author_id, a.author, ROUND(fc.avg_rating, 2)\n",
    "FROM authors AS a\n",
    "JOIN final_cte AS fc ON fc.author_id = a.author_id\n",
    "ORDER BY ROUND(fc.avg_rating, 2) DESC \n",
    "LIMIT 1\n",
    "'''"
   ]
  },
  {
   "cell_type": "code",
   "execution_count": 17,
   "id": "e1459a0b",
   "metadata": {},
   "outputs": [
    {
     "data": {
      "text/html": [
       "<div>\n",
       "<style scoped>\n",
       "    .dataframe tbody tr th:only-of-type {\n",
       "        vertical-align: middle;\n",
       "    }\n",
       "\n",
       "    .dataframe tbody tr th {\n",
       "        vertical-align: top;\n",
       "    }\n",
       "\n",
       "    .dataframe thead th {\n",
       "        text-align: right;\n",
       "    }\n",
       "</style>\n",
       "<table border=\"1\" class=\"dataframe\">\n",
       "  <thead>\n",
       "    <tr style=\"text-align: right;\">\n",
       "      <th></th>\n",
       "      <th>author_id</th>\n",
       "      <th>author</th>\n",
       "      <th>round</th>\n",
       "    </tr>\n",
       "  </thead>\n",
       "  <tbody>\n",
       "    <tr>\n",
       "      <th>0</th>\n",
       "      <td>236</td>\n",
       "      <td>J.K. Rowling/Mary GrandPré</td>\n",
       "      <td>4.28</td>\n",
       "    </tr>\n",
       "  </tbody>\n",
       "</table>\n",
       "</div>"
      ],
      "text/plain": [
       "   author_id                      author  round\n",
       "0        236  J.K. Rowling/Mary GrandPré   4.28"
      ]
     },
     "execution_count": 17,
     "metadata": {},
     "output_type": "execute_result"
    }
   ],
   "source": [
    "request(query_4)"
   ]
  },
  {
   "cell_type": "markdown",
   "id": "e8e45b91",
   "metadata": {},
   "source": [
    "**Вариант 2 - с использованием оконных функций:**\n",
    "\n",
    "1. Временная таблица №1 - `book_rating`. Из таблицы рейтингов `ratings`, сгруппированной по полю `book_id` выгрузим `book_id`, количество оценок `COUNT(rating_id) as counter` и среднюю оценку `AVG(rating) as book_rating`. После группировки применим фильтр - количество оценок `COUNT(rating_id)` должно быть более 50.\n",
    "2. Временная таблица №2 - `book_authors`. К таблице `books` присоединим таблицу авторов `authors` по ключу `author_id` и выгрузим идентификатор книги `book_id`, идентификатор `author_id` и ФИО `author` автора. \n",
    "3. Соединим `book_rating` и `book_authors` по ключу `book_id`. Здесь используем именно левое присоединение, т.к. нам нужны авторы только тех книг, которые есть в таблице `book_rating`. \n",
    "4. При помощи оконной функции `OVER (PARTITION BY author)` сделаем группировку по каждому автору и посчитаем средний рейтинг его книг `AVG(book_rating)`. \n",
    "5. Сделаем группировку рейтинга по убыванию `ORDER BY author_rating DESC` и выведем автора с самым большим рейтингом `LIMIT 1`. \n",
    "\n",
    "Авторoм с самым высоким рейтингом книг стала Джоан Роулинг (рейтинг 4.28)"
   ]
  },
  {
   "cell_type": "code",
   "execution_count": 18,
   "id": "bf6f82a9",
   "metadata": {},
   "outputs": [],
   "source": [
    "query_4_1 = '''\n",
    "WITH book_rating\n",
    "AS\n",
    "(SELECT r.book_id, COUNT(rating_id) as counter, AVG(rating) as book_rating\n",
    "FROM ratings AS r\n",
    "GROUP BY r.book_id\n",
    "HAVING COUNT(rating_id) > 50), \n",
    "\n",
    "book_authors AS\n",
    "(SELECT book_id, au.author_id, au.author\n",
    "FROM books as b\n",
    "JOIN authors as au ON b.author_id = au.author_id)\n",
    "\n",
    "SELECT DISTINCT author, author_id, AVG(book_rating) OVER (PARTITION BY author) AS author_rating\n",
    "FROM book_rating as br\n",
    "LEFT JOIN book_authors as ba ON br.book_id = ba.book_id\n",
    "ORDER BY author_rating DESC\n",
    "LIMIT 1\n",
    "'''"
   ]
  },
  {
   "cell_type": "code",
   "execution_count": 19,
   "id": "dbd15341",
   "metadata": {
    "scrolled": false
   },
   "outputs": [
    {
     "data": {
      "text/html": [
       "<div>\n",
       "<style scoped>\n",
       "    .dataframe tbody tr th:only-of-type {\n",
       "        vertical-align: middle;\n",
       "    }\n",
       "\n",
       "    .dataframe tbody tr th {\n",
       "        vertical-align: top;\n",
       "    }\n",
       "\n",
       "    .dataframe thead th {\n",
       "        text-align: right;\n",
       "    }\n",
       "</style>\n",
       "<table border=\"1\" class=\"dataframe\">\n",
       "  <thead>\n",
       "    <tr style=\"text-align: right;\">\n",
       "      <th></th>\n",
       "      <th>author</th>\n",
       "      <th>author_id</th>\n",
       "      <th>author_rating</th>\n",
       "    </tr>\n",
       "  </thead>\n",
       "  <tbody>\n",
       "    <tr>\n",
       "      <th>0</th>\n",
       "      <td>J.K. Rowling/Mary GrandPré</td>\n",
       "      <td>236</td>\n",
       "      <td>4.283844</td>\n",
       "    </tr>\n",
       "  </tbody>\n",
       "</table>\n",
       "</div>"
      ],
      "text/plain": [
       "                       author  author_id  author_rating\n",
       "0  J.K. Rowling/Mary GrandPré        236       4.283844"
      ]
     },
     "execution_count": 19,
     "metadata": {},
     "output_type": "execute_result"
    }
   ],
   "source": [
    "request(query_4_1)"
   ]
  },
  {
   "cell_type": "markdown",
   "id": "5e6359cc",
   "metadata": {},
   "source": [
    "## Задача 5 -  Посчитайте среднее количество обзоров от пользователей, которые поставили больше 50 оценок\n",
    "\n",
    "Здесь я также предлагаю 2 варианта решения задачи. \n",
    "\n",
    "**Вариант 1 - без использования оконных функций:**\n",
    "1. Делаю подзапрос: из таблицы `ratings`, сгруппированной по имени пользователя `username`, выведем имена пользователей `username`, число оценок от которых `COUNT(rating_id)` более 50.\n",
    "2. Из таблицы `reviews` выгрузим имена пользователей `username` и количество проведенных обзоров `COUNT(review_id) as counter`. Оставим только тех пользователей, чьи имена присутствуют в подзапросе 1 (количество оценок больше 50). \n",
    "3. Получившийся результат вынесем во временную таблицу `cte`.\n",
    "4. Сделаем запрос из `cte`, в котором посчитаем среднее количество обзоров от выбранных пользователей, округленное до 2 знака. \n",
    "\n",
    "Результат: такие пользователи сделали в среднем 24.33 обзора. "
   ]
  },
  {
   "cell_type": "code",
   "execution_count": 20,
   "id": "7fedb28c",
   "metadata": {},
   "outputs": [],
   "source": [
    "query_5 = '''\n",
    "WITH cte\n",
    "AS\n",
    "(SELECT username, COUNT(review_id) as counter\n",
    "FROM reviews AS r\n",
    "WHERE username in (SELECT username\n",
    "FROM ratings\n",
    "GROUP BY username\n",
    "HAVING COUNT(rating_id) > 50)\n",
    "GROUP BY username)\n",
    "\n",
    "SELECT ROUND(AVG(counter), 2)\n",
    "FROM cte\n",
    "'''"
   ]
  },
  {
   "cell_type": "code",
   "execution_count": 21,
   "id": "e0383b75",
   "metadata": {},
   "outputs": [
    {
     "data": {
      "text/html": [
       "<div>\n",
       "<style scoped>\n",
       "    .dataframe tbody tr th:only-of-type {\n",
       "        vertical-align: middle;\n",
       "    }\n",
       "\n",
       "    .dataframe tbody tr th {\n",
       "        vertical-align: top;\n",
       "    }\n",
       "\n",
       "    .dataframe thead th {\n",
       "        text-align: right;\n",
       "    }\n",
       "</style>\n",
       "<table border=\"1\" class=\"dataframe\">\n",
       "  <thead>\n",
       "    <tr style=\"text-align: right;\">\n",
       "      <th></th>\n",
       "      <th>round</th>\n",
       "    </tr>\n",
       "  </thead>\n",
       "  <tbody>\n",
       "    <tr>\n",
       "      <th>0</th>\n",
       "      <td>24.33</td>\n",
       "    </tr>\n",
       "  </tbody>\n",
       "</table>\n",
       "</div>"
      ],
      "text/plain": [
       "   round\n",
       "0  24.33"
      ]
     },
     "execution_count": 21,
     "metadata": {},
     "output_type": "execute_result"
    }
   ],
   "source": [
    "request(query_5)"
   ]
  },
  {
   "cell_type": "markdown",
   "id": "23199408",
   "metadata": {},
   "source": [
    "**Вариант 2 - с использованием оконных функций:**\n",
    "1. Делаю подзапрос: из таблицы `ratings`, сгруппированной по имени пользователя `username`, выведем имена пользователей `username`, число оценок от которых `COUNT(rating_id)` более 50.\n",
    "2. Сгруппируем таблицу `reviews` по именам пользователей `username` и оставим только тех пользователей, чьи имена присутствуют в подзапросе 1 (количество оценок больше 50). При помощи оконной функции `OVER()` посчитаем среднее количество обзоров `AVG(COUNT(review_id)` по выбранным пользователям, округленное до 2 знака `ROUND()`. Группировку `OVER (PARTITION BY )` здесь не ставлю, она не нужна. \n",
    "3. Т.к. оконная функция проставила одинаковый средний рейтинг по всем строкам, ограничим вывод одной строкой `LIMIT 1`. \n",
    "\n",
    "Результат: такие пользователи сделали в среднем 24.33 обзора. "
   ]
  },
  {
   "cell_type": "code",
   "execution_count": 22,
   "id": "cddca668",
   "metadata": {},
   "outputs": [],
   "source": [
    "query_5_1 = '''\n",
    "SELECT ROUND(AVG(COUNT(review_id)) OVER(), 2) AS total_avg\n",
    "FROM reviews AS r\n",
    "WHERE username in (SELECT username\n",
    "FROM ratings\n",
    "GROUP BY username\n",
    "HAVING COUNT(rating_id) > 50)\n",
    "GROUP BY username\n",
    "LIMIT 1\n",
    "'''"
   ]
  },
  {
   "cell_type": "code",
   "execution_count": 23,
   "id": "a5dae0fe",
   "metadata": {},
   "outputs": [
    {
     "data": {
      "text/html": [
       "<div>\n",
       "<style scoped>\n",
       "    .dataframe tbody tr th:only-of-type {\n",
       "        vertical-align: middle;\n",
       "    }\n",
       "\n",
       "    .dataframe tbody tr th {\n",
       "        vertical-align: top;\n",
       "    }\n",
       "\n",
       "    .dataframe thead th {\n",
       "        text-align: right;\n",
       "    }\n",
       "</style>\n",
       "<table border=\"1\" class=\"dataframe\">\n",
       "  <thead>\n",
       "    <tr style=\"text-align: right;\">\n",
       "      <th></th>\n",
       "      <th>total_avg</th>\n",
       "    </tr>\n",
       "  </thead>\n",
       "  <tbody>\n",
       "    <tr>\n",
       "      <th>0</th>\n",
       "      <td>24.33</td>\n",
       "    </tr>\n",
       "  </tbody>\n",
       "</table>\n",
       "</div>"
      ],
      "text/plain": [
       "   total_avg\n",
       "0      24.33"
      ]
     },
     "execution_count": 23,
     "metadata": {},
     "output_type": "execute_result"
    }
   ],
   "source": [
    "request(query_5_1)"
   ]
  },
  {
   "cell_type": "markdown",
   "id": "ba8d228d",
   "metadata": {},
   "source": [
    "# Вывод: \n",
    "\n",
    "В результате проведения работы была изучена база данных сервиса покупки книг по подписке. \n",
    "\n",
    "База данных представлена 5 таблицами: \n",
    "1. `books` - информация о выпущенных книгах,\n",
    "2. `publishers` - информация о издателях,\n",
    "3. `authors` - информация о авторах,\n",
    "4. `ratings` - оценки книг от пользователей,\n",
    "5. `reviews` - обзоры книг от пользователей. \n",
    "\n",
    "Каждая таблица имеет первичный ключ, связь между таблицами осуществялется при помощи внешних ключей. \n",
    "\n",
    "После проведения необходимых запросов была получена информация, которая помогут сформулировать ценностное предложение для нового продукта.\n",
    "- **Задача №1** - после 01.01.2000 г. было выпущено **821 книг**.\n",
    "- **Задача №2** - для каждой из книг посчитано количество обзоров и средняя оценка пользователей,\n",
    "- **Задача №3** - издательство Penguin Books выпустило больше всех книг **(42 шт)** объемом более 50 страниц, \n",
    "- **Задача №4** - автор с самым высоким рейтингом книг - Джоан Роулинг **(рейтинг 4.28)**,\n",
    "- **Задача №5** - среднее количество обзоров от пользователей, которые поставили больше 50 оценок - **24.33 шт.** "
   ]
  }
 ],
 "metadata": {
  "ExecuteTimeLog": [
   {
    "duration": 570,
    "start_time": "2022-09-06T10:00:11.187Z"
   },
   {
    "duration": 10229,
    "start_time": "2022-09-06T10:00:11.760Z"
   },
   {
    "duration": 4,
    "start_time": "2022-09-06T10:00:21.991Z"
   },
   {
    "duration": 94,
    "start_time": "2022-09-06T10:00:21.997Z"
   },
   {
    "duration": 14,
    "start_time": "2022-09-06T10:00:22.093Z"
   },
   {
    "duration": 13,
    "start_time": "2022-09-06T10:00:22.109Z"
   },
   {
    "duration": 27,
    "start_time": "2022-09-06T10:00:22.124Z"
   },
   {
    "duration": 20,
    "start_time": "2022-09-06T10:00:22.168Z"
   },
   {
    "duration": 2,
    "start_time": "2022-09-06T10:00:22.190Z"
   },
   {
    "duration": 4,
    "start_time": "2022-09-06T10:00:22.195Z"
   },
   {
    "duration": 14,
    "start_time": "2022-09-06T10:00:22.201Z"
   },
   {
    "duration": 2,
    "start_time": "2022-09-06T10:00:22.216Z"
   },
   {
    "duration": 32,
    "start_time": "2022-09-06T10:00:22.220Z"
   },
   {
    "duration": 2,
    "start_time": "2022-09-06T10:00:22.267Z"
   },
   {
    "duration": 25,
    "start_time": "2022-09-06T10:00:22.272Z"
   },
   {
    "duration": 12,
    "start_time": "2022-09-06T10:00:22.299Z"
   },
   {
    "duration": 47,
    "start_time": "2022-09-06T10:00:22.313Z"
   },
   {
    "duration": 12,
    "start_time": "2022-09-06T10:00:22.362Z"
   },
   {
    "duration": 39,
    "start_time": "2022-09-06T10:00:22.375Z"
   },
   {
    "duration": 3,
    "start_time": "2022-09-06T10:00:22.416Z"
   },
   {
    "duration": 32,
    "start_time": "2022-09-06T10:00:22.421Z"
   },
   {
    "duration": 15,
    "start_time": "2022-09-06T10:00:22.455Z"
   },
   {
    "duration": 33,
    "start_time": "2022-09-06T10:00:22.471Z"
   },
   {
    "duration": 3,
    "start_time": "2022-09-06T10:01:06.429Z"
   },
   {
    "duration": 17,
    "start_time": "2022-09-06T10:01:08.013Z"
   },
   {
    "duration": 3,
    "start_time": "2022-09-06T10:01:15.132Z"
   },
   {
    "duration": 14,
    "start_time": "2022-09-06T10:01:16.930Z"
   },
   {
    "duration": 3,
    "start_time": "2022-09-06T10:01:24.930Z"
   },
   {
    "duration": 20,
    "start_time": "2022-09-06T10:01:26.429Z"
   },
   {
    "duration": 467,
    "start_time": "2022-09-06T10:25:22.223Z"
   },
   {
    "duration": 6261,
    "start_time": "2022-09-06T10:25:22.692Z"
   },
   {
    "duration": 3,
    "start_time": "2022-09-06T10:25:28.955Z"
   },
   {
    "duration": 289,
    "start_time": "2022-09-06T10:25:28.959Z"
   },
   {
    "duration": 75,
    "start_time": "2022-09-06T10:25:29.249Z"
   },
   {
    "duration": 73,
    "start_time": "2022-09-06T10:25:29.325Z"
   },
   {
    "duration": 96,
    "start_time": "2022-09-06T10:25:29.399Z"
   },
   {
    "duration": 93,
    "start_time": "2022-09-06T10:25:29.496Z"
   },
   {
    "duration": 2,
    "start_time": "2022-09-06T10:25:29.590Z"
   },
   {
    "duration": 5,
    "start_time": "2022-09-06T10:25:29.593Z"
   },
   {
    "duration": 75,
    "start_time": "2022-09-06T10:25:29.599Z"
   },
   {
    "duration": 2,
    "start_time": "2022-09-06T10:25:29.675Z"
   },
   {
    "duration": 88,
    "start_time": "2022-09-06T10:25:29.678Z"
   },
   {
    "duration": 3,
    "start_time": "2022-09-06T10:26:17.756Z"
   },
   {
    "duration": 120,
    "start_time": "2022-09-06T10:26:26.291Z"
   },
   {
    "duration": 3,
    "start_time": "2022-09-06T10:26:59.771Z"
   },
   {
    "duration": 90,
    "start_time": "2022-09-06T10:27:00.291Z"
   },
   {
    "duration": 2,
    "start_time": "2022-09-06T10:28:37.084Z"
   },
   {
    "duration": 88,
    "start_time": "2022-09-06T10:28:42.831Z"
   },
   {
    "duration": 2,
    "start_time": "2022-09-06T10:32:55.420Z"
   },
   {
    "duration": 90,
    "start_time": "2022-09-06T10:32:57.366Z"
   },
   {
    "duration": 96,
    "start_time": "2022-09-06T10:33:51.390Z"
   },
   {
    "duration": 2,
    "start_time": "2022-09-06T11:11:48.471Z"
   },
   {
    "duration": 5,
    "start_time": "2022-09-06T11:11:48.475Z"
   },
   {
    "duration": 5,
    "start_time": "2022-09-06T11:11:48.482Z"
   },
   {
    "duration": 268,
    "start_time": "2022-09-06T11:11:48.489Z"
   },
   {
    "duration": 73,
    "start_time": "2022-09-06T11:11:48.759Z"
   },
   {
    "duration": 74,
    "start_time": "2022-09-06T11:11:48.834Z"
   },
   {
    "duration": 104,
    "start_time": "2022-09-06T11:11:48.909Z"
   },
   {
    "duration": 133,
    "start_time": "2022-09-06T11:11:49.015Z"
   },
   {
    "duration": 3,
    "start_time": "2022-09-06T11:11:49.150Z"
   },
   {
    "duration": 8,
    "start_time": "2022-09-06T11:11:49.154Z"
   },
   {
    "duration": 74,
    "start_time": "2022-09-06T11:11:49.163Z"
   },
   {
    "duration": 2,
    "start_time": "2022-09-06T11:11:49.239Z"
   },
   {
    "duration": 7,
    "start_time": "2022-09-06T11:11:49.242Z"
   },
   {
    "duration": 4,
    "start_time": "2022-09-06T11:11:49.251Z"
   },
   {
    "duration": 86,
    "start_time": "2022-09-06T11:11:49.256Z"
   },
   {
    "duration": 465,
    "start_time": "2022-09-06T11:17:29.030Z"
   },
   {
    "duration": 6299,
    "start_time": "2022-09-06T11:17:29.497Z"
   },
   {
    "duration": 4,
    "start_time": "2022-09-06T11:17:35.797Z"
   },
   {
    "duration": 255,
    "start_time": "2022-09-06T11:17:35.803Z"
   },
   {
    "duration": 72,
    "start_time": "2022-09-06T11:17:36.059Z"
   },
   {
    "duration": 69,
    "start_time": "2022-09-06T11:17:36.133Z"
   },
   {
    "duration": 98,
    "start_time": "2022-09-06T11:17:36.203Z"
   },
   {
    "duration": 83,
    "start_time": "2022-09-06T11:17:36.303Z"
   },
   {
    "duration": 3,
    "start_time": "2022-09-06T11:17:36.387Z"
   },
   {
    "duration": 4,
    "start_time": "2022-09-06T11:17:36.393Z"
   },
   {
    "duration": 70,
    "start_time": "2022-09-06T11:17:36.398Z"
   },
   {
    "duration": 2,
    "start_time": "2022-09-06T11:17:36.469Z"
   },
   {
    "duration": 80,
    "start_time": "2022-09-06T11:17:36.472Z"
   },
   {
    "duration": 3,
    "start_time": "2022-09-06T11:17:36.553Z"
   },
   {
    "duration": 71,
    "start_time": "2022-09-06T11:17:36.557Z"
   },
   {
    "duration": 3,
    "start_time": "2022-09-06T11:17:36.629Z"
   },
   {
    "duration": 75,
    "start_time": "2022-09-06T11:17:36.633Z"
   },
   {
    "duration": 3,
    "start_time": "2022-09-06T11:17:36.709Z"
   },
   {
    "duration": 220,
    "start_time": "2022-09-06T11:17:36.713Z"
   },
   {
    "duration": 0,
    "start_time": "2022-09-06T11:17:36.935Z"
   },
   {
    "duration": 0,
    "start_time": "2022-09-06T11:17:36.936Z"
   },
   {
    "duration": 0,
    "start_time": "2022-09-06T11:17:36.937Z"
   },
   {
    "duration": 0,
    "start_time": "2022-09-06T11:17:36.938Z"
   },
   {
    "duration": 3,
    "start_time": "2022-09-06T11:17:45.666Z"
   },
   {
    "duration": 73,
    "start_time": "2022-09-06T11:17:46.959Z"
   },
   {
    "duration": 3,
    "start_time": "2022-09-06T11:18:15.329Z"
   },
   {
    "duration": 72,
    "start_time": "2022-09-06T11:18:16.271Z"
   },
   {
    "duration": 3,
    "start_time": "2022-09-06T11:20:37.417Z"
   },
   {
    "duration": 153,
    "start_time": "2022-09-06T11:20:37.868Z"
   },
   {
    "duration": 3,
    "start_time": "2022-09-06T11:20:42.617Z"
   },
   {
    "duration": 71,
    "start_time": "2022-09-06T11:20:43.929Z"
   },
   {
    "duration": 3,
    "start_time": "2022-09-06T11:21:09.716Z"
   },
   {
    "duration": 2,
    "start_time": "2022-09-06T11:22:00.882Z"
   },
   {
    "duration": 167,
    "start_time": "2022-09-06T11:22:01.295Z"
   },
   {
    "duration": 3,
    "start_time": "2022-09-06T11:22:21.603Z"
   },
   {
    "duration": 3020,
    "start_time": "2022-09-06T11:22:22.029Z"
   },
   {
    "duration": 2,
    "start_time": "2022-09-06T11:22:53.339Z"
   },
   {
    "duration": 902,
    "start_time": "2022-09-06T11:22:53.829Z"
   },
   {
    "duration": 3,
    "start_time": "2022-09-06T11:24:12.617Z"
   },
   {
    "duration": 74,
    "start_time": "2022-09-06T11:24:13.401Z"
   },
   {
    "duration": 3,
    "start_time": "2022-09-06T11:24:18.697Z"
   },
   {
    "duration": 76,
    "start_time": "2022-09-06T11:24:19.153Z"
   },
   {
    "duration": 2,
    "start_time": "2022-09-06T11:24:31.153Z"
   },
   {
    "duration": 74,
    "start_time": "2022-09-06T11:24:32.941Z"
   },
   {
    "duration": 510,
    "start_time": "2022-09-06T11:25:48.723Z"
   },
   {
    "duration": 5320,
    "start_time": "2022-09-06T11:25:49.235Z"
   },
   {
    "duration": 5,
    "start_time": "2022-09-06T11:25:54.557Z"
   },
   {
    "duration": 309,
    "start_time": "2022-09-06T11:25:54.564Z"
   },
   {
    "duration": 76,
    "start_time": "2022-09-06T11:25:54.875Z"
   },
   {
    "duration": 75,
    "start_time": "2022-09-06T11:25:54.955Z"
   },
   {
    "duration": 104,
    "start_time": "2022-09-06T11:25:55.031Z"
   },
   {
    "duration": 93,
    "start_time": "2022-09-06T11:25:55.136Z"
   },
   {
    "duration": 2,
    "start_time": "2022-09-06T11:25:55.232Z"
   },
   {
    "duration": 14,
    "start_time": "2022-09-06T11:25:55.237Z"
   },
   {
    "duration": 79,
    "start_time": "2022-09-06T11:25:55.253Z"
   },
   {
    "duration": 2,
    "start_time": "2022-09-06T11:25:55.334Z"
   },
   {
    "duration": 93,
    "start_time": "2022-09-06T11:25:55.338Z"
   },
   {
    "duration": 3,
    "start_time": "2022-09-06T11:25:55.434Z"
   },
   {
    "duration": 73,
    "start_time": "2022-09-06T11:25:55.440Z"
   },
   {
    "duration": 2,
    "start_time": "2022-09-06T11:25:55.514Z"
   },
   {
    "duration": 115,
    "start_time": "2022-09-06T11:25:55.518Z"
   },
   {
    "duration": 2,
    "start_time": "2022-09-06T11:25:55.634Z"
   },
   {
    "duration": 80,
    "start_time": "2022-09-06T11:25:55.637Z"
   },
   {
    "duration": 2,
    "start_time": "2022-09-06T11:25:55.718Z"
   },
   {
    "duration": 78,
    "start_time": "2022-09-06T11:25:55.721Z"
   },
   {
    "duration": 3,
    "start_time": "2022-09-06T11:25:55.800Z"
   },
   {
    "duration": 84,
    "start_time": "2022-09-06T11:25:55.805Z"
   }
  ],
  "kernelspec": {
   "display_name": "Python 3 (ipykernel)",
   "language": "python",
   "name": "python3"
  },
  "language_info": {
   "codemirror_mode": {
    "name": "ipython",
    "version": 3
   },
   "file_extension": ".py",
   "mimetype": "text/x-python",
   "name": "python",
   "nbconvert_exporter": "python",
   "pygments_lexer": "ipython3",
   "version": "3.9.7"
  },
  "toc": {
   "base_numbering": 1,
   "nav_menu": {},
   "number_sections": false,
   "sideBar": true,
   "skip_h1_title": false,
   "title_cell": "Table of Contents",
   "title_sidebar": "Contents",
   "toc_cell": false,
   "toc_position": {},
   "toc_section_display": true,
   "toc_window_display": true
  }
 },
 "nbformat": 4,
 "nbformat_minor": 5
}
