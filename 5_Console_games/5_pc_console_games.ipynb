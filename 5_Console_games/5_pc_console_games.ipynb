{
 "cells": [
  {
   "cell_type": "markdown",
   "id": "2580d195",
   "metadata": {},
   "source": [
    "# Анализ продаж для планирования рекламной кампании консольных игр на 2017 г.\n",
    "# Введение\n",
    "\n",
    "Данная исследовательская работа направлена на изучение данных об играх на существующих игровых консолях. Для грамотного планирования рекламной кампании необходимо изучить самые популярные платформы, игры и их жанры, спрогнозировать потенциально прибыльные платформы и составить портрет потребителя в трех выбранных регионах. "
   ]
  },
  {
   "cell_type": "markdown",
   "id": "d9254cf5",
   "metadata": {},
   "source": [
    "**Основные задачи проекта**:\n",
    "- Изучение рынка консолей, выбор наиболее популярных моделей. \n",
    "- Изучение рынка продаж игр, выбор наиболее популярных игр и жанров. \n",
    "- Составить портрет пользователя трех наиболее интересующих регионов (NA, EU, JP)\n",
    "\n",
    "**План работ:**\n",
    "\n",
    "- Выгрузка и подготовка данных.\n",
    "- Анализ платформ с максимальными продажами.\n",
    "- Выбор актуального периода для анализа данных.\n",
    "- Выбор потенциально прибыльных платформ в соответствии с выбранным актуальным периодом. \n",
    "- Анализ глобальных продаж игр по платформам.\n",
    "- Изучение влияния отзывов критиков и игроков на продажи игр.\n",
    "- Изучение игр в разрезе популярных и непопулярных жанров. \n",
    "- Анализ и составление портрета пользователя из разных регионов (NA, EU, JP).\n",
    "- Проверка гипотез. "
   ]
  },
  {
   "cell_type": "markdown",
   "id": "113a505f",
   "metadata": {},
   "source": [
    "# 1. Открытие датафрейма\n",
    "\n",
    "Импортируем необходимые библиотеки и изучим датафрейм: <a id='info1'></a> "
   ]
  },
  {
   "cell_type": "code",
   "execution_count": 1,
   "id": "f31a5ab8",
   "metadata": {},
   "outputs": [
    {
     "name": "stdout",
     "output_type": "stream",
     "text": [
      "<class 'pandas.core.frame.DataFrame'>\n",
      "RangeIndex: 16715 entries, 0 to 16714\n",
      "Data columns (total 11 columns):\n",
      " #   Column           Non-Null Count  Dtype  \n",
      "---  ------           --------------  -----  \n",
      " 0   Name             16713 non-null  object \n",
      " 1   Platform         16715 non-null  object \n",
      " 2   Year_of_Release  16446 non-null  float64\n",
      " 3   Genre            16713 non-null  object \n",
      " 4   NA_sales         16715 non-null  float64\n",
      " 5   EU_sales         16715 non-null  float64\n",
      " 6   JP_sales         16715 non-null  float64\n",
      " 7   Other_sales      16715 non-null  float64\n",
      " 8   Critic_Score     8137 non-null   float64\n",
      " 9   User_Score       10014 non-null  object \n",
      " 10  Rating           9949 non-null   object \n",
      "dtypes: float64(6), object(5)\n",
      "memory usage: 1.4+ MB\n"
     ]
    }
   ],
   "source": [
    "import pandas as pd\n",
    "import numpy as np\n",
    "import matplotlib.pyplot as plt\n",
    "import seaborn as sns\n",
    "from scipy import stats as st\n",
    "#data = pd.read_csv(r'C:\\Users\\Seal\\PycharmProjects\\games.csv')\n",
    "data = pd.read_csv('/datasets/games.csv')\n",
    "data.info()"
   ]
  },
  {
   "cell_type": "markdown",
   "id": "d1b00ad6",
   "metadata": {},
   "source": [
    "В исследуемом датафрейме - 11 колонок, предлагаю сделать следующие шаги в процессе предобработки данных: \n",
    "- Перевести названия столбцов в нижний регистр.\n",
    "- Изучить столбцы на предметр пропусков и неверных данных.\n",
    "- Заполнить пропуски там, где это необходимо. \n",
    "- Изменить тип столбца **Year_of_Release** с типа `float64` на целочисленный `int64`\n",
    "- Изучить, почему тип данных столбца **User_Score** - `object`, а не `float64`"
   ]
  },
  {
   "cell_type": "markdown",
   "id": "5ced48a8",
   "metadata": {},
   "source": [
    "# 2. Предобработка данных\n",
    "## 2.1. Замена названий столбцов\n",
    "Как видно, первые буквы названия столбцов написаны в верхнем регистре, заменим это при помощи генератора списков и функции приведения к нижнему регистру `.lower()`."
   ]
  },
  {
   "cell_type": "code",
   "execution_count": 2,
   "id": "b29884d2",
   "metadata": {},
   "outputs": [],
   "source": [
    "data.columns = [x.lower() for x in data.columns]"
   ]
  },
  {
   "cell_type": "code",
   "execution_count": 3,
   "id": "7af67ee3",
   "metadata": {},
   "outputs": [
    {
     "data": {
      "text/plain": [
       "Index(['name', 'platform', 'year_of_release', 'genre', 'na_sales', 'eu_sales',\n",
       "       'jp_sales', 'other_sales', 'critic_score', 'user_score', 'rating'],\n",
       "      dtype='object')"
      ]
     },
     "execution_count": 3,
     "metadata": {},
     "output_type": "execute_result"
    }
   ],
   "source": [
    "data.columns #преобразование удалось- названия колонок теперь в нижнем регистре"
   ]
  },
  {
   "cell_type": "markdown",
   "id": "675b8821",
   "metadata": {},
   "source": [
    "## 2.2. Преобразование данных в столбцах\n",
    "Посмотрим на столбцы, при необходимости- преобразуем типы и заполним пропуски. "
   ]
  },
  {
   "cell_type": "code",
   "execution_count": 4,
   "id": "f2e66064",
   "metadata": {
    "scrolled": false
   },
   "outputs": [
    {
     "data": {
      "text/html": [
       "<div>\n",
       "<style scoped>\n",
       "    .dataframe tbody tr th:only-of-type {\n",
       "        vertical-align: middle;\n",
       "    }\n",
       "\n",
       "    .dataframe tbody tr th {\n",
       "        vertical-align: top;\n",
       "    }\n",
       "\n",
       "    .dataframe thead th {\n",
       "        text-align: right;\n",
       "    }\n",
       "</style>\n",
       "<table border=\"1\" class=\"dataframe\">\n",
       "  <thead>\n",
       "    <tr style=\"text-align: right;\">\n",
       "      <th></th>\n",
       "      <th>name</th>\n",
       "      <th>platform</th>\n",
       "      <th>year_of_release</th>\n",
       "      <th>genre</th>\n",
       "      <th>na_sales</th>\n",
       "      <th>eu_sales</th>\n",
       "      <th>jp_sales</th>\n",
       "      <th>other_sales</th>\n",
       "      <th>critic_score</th>\n",
       "      <th>user_score</th>\n",
       "      <th>rating</th>\n",
       "    </tr>\n",
       "  </thead>\n",
       "  <tbody>\n",
       "    <tr>\n",
       "      <th>0</th>\n",
       "      <td>Wii Sports</td>\n",
       "      <td>Wii</td>\n",
       "      <td>2006.0</td>\n",
       "      <td>Sports</td>\n",
       "      <td>41.36</td>\n",
       "      <td>28.96</td>\n",
       "      <td>3.77</td>\n",
       "      <td>8.45</td>\n",
       "      <td>76.0</td>\n",
       "      <td>8</td>\n",
       "      <td>E</td>\n",
       "    </tr>\n",
       "    <tr>\n",
       "      <th>1</th>\n",
       "      <td>Super Mario Bros.</td>\n",
       "      <td>NES</td>\n",
       "      <td>1985.0</td>\n",
       "      <td>Platform</td>\n",
       "      <td>29.08</td>\n",
       "      <td>3.58</td>\n",
       "      <td>6.81</td>\n",
       "      <td>0.77</td>\n",
       "      <td>NaN</td>\n",
       "      <td>NaN</td>\n",
       "      <td>NaN</td>\n",
       "    </tr>\n",
       "    <tr>\n",
       "      <th>2</th>\n",
       "      <td>Mario Kart Wii</td>\n",
       "      <td>Wii</td>\n",
       "      <td>2008.0</td>\n",
       "      <td>Racing</td>\n",
       "      <td>15.68</td>\n",
       "      <td>12.76</td>\n",
       "      <td>3.79</td>\n",
       "      <td>3.29</td>\n",
       "      <td>82.0</td>\n",
       "      <td>8.3</td>\n",
       "      <td>E</td>\n",
       "    </tr>\n",
       "    <tr>\n",
       "      <th>3</th>\n",
       "      <td>Wii Sports Resort</td>\n",
       "      <td>Wii</td>\n",
       "      <td>2009.0</td>\n",
       "      <td>Sports</td>\n",
       "      <td>15.61</td>\n",
       "      <td>10.93</td>\n",
       "      <td>3.28</td>\n",
       "      <td>2.95</td>\n",
       "      <td>80.0</td>\n",
       "      <td>8</td>\n",
       "      <td>E</td>\n",
       "    </tr>\n",
       "    <tr>\n",
       "      <th>4</th>\n",
       "      <td>Pokemon Red/Pokemon Blue</td>\n",
       "      <td>GB</td>\n",
       "      <td>1996.0</td>\n",
       "      <td>Role-Playing</td>\n",
       "      <td>11.27</td>\n",
       "      <td>8.89</td>\n",
       "      <td>10.22</td>\n",
       "      <td>1.00</td>\n",
       "      <td>NaN</td>\n",
       "      <td>NaN</td>\n",
       "      <td>NaN</td>\n",
       "    </tr>\n",
       "  </tbody>\n",
       "</table>\n",
       "</div>"
      ],
      "text/plain": [
       "                       name platform  year_of_release         genre  na_sales  \\\n",
       "0                Wii Sports      Wii           2006.0        Sports     41.36   \n",
       "1         Super Mario Bros.      NES           1985.0      Platform     29.08   \n",
       "2            Mario Kart Wii      Wii           2008.0        Racing     15.68   \n",
       "3         Wii Sports Resort      Wii           2009.0        Sports     15.61   \n",
       "4  Pokemon Red/Pokemon Blue       GB           1996.0  Role-Playing     11.27   \n",
       "\n",
       "   eu_sales  jp_sales  other_sales  critic_score user_score rating  \n",
       "0     28.96      3.77         8.45          76.0          8      E  \n",
       "1      3.58      6.81         0.77           NaN        NaN    NaN  \n",
       "2     12.76      3.79         3.29          82.0        8.3      E  \n",
       "3     10.93      3.28         2.95          80.0          8      E  \n",
       "4      8.89     10.22         1.00           NaN        NaN    NaN  "
      ]
     },
     "execution_count": 4,
     "metadata": {},
     "output_type": "execute_result"
    }
   ],
   "source": [
    "data.head()"
   ]
  },
  {
   "cell_type": "markdown",
   "id": "b1cba709",
   "metadata": {},
   "source": [
    "### Столбец `name`\n",
    "Если посмотрим на [информацию](#info1) о датафрейме, то увидим, что в этом столбце присутствуют пропуски. \n",
    "По запросу видно, что таких строк всего 2. Предлагаю их удалить как нерелевантные, т.к.строк всего 2 и в них указаны игры 1993 года (слишком старые) - удаление таких строк не окажет влияние на исследование."
   ]
  },
  {
   "cell_type": "code",
   "execution_count": 5,
   "id": "d88c1ad7",
   "metadata": {},
   "outputs": [
    {
     "data": {
      "text/html": [
       "<div>\n",
       "<style scoped>\n",
       "    .dataframe tbody tr th:only-of-type {\n",
       "        vertical-align: middle;\n",
       "    }\n",
       "\n",
       "    .dataframe tbody tr th {\n",
       "        vertical-align: top;\n",
       "    }\n",
       "\n",
       "    .dataframe thead th {\n",
       "        text-align: right;\n",
       "    }\n",
       "</style>\n",
       "<table border=\"1\" class=\"dataframe\">\n",
       "  <thead>\n",
       "    <tr style=\"text-align: right;\">\n",
       "      <th></th>\n",
       "      <th>name</th>\n",
       "      <th>platform</th>\n",
       "      <th>year_of_release</th>\n",
       "      <th>genre</th>\n",
       "      <th>na_sales</th>\n",
       "      <th>eu_sales</th>\n",
       "      <th>jp_sales</th>\n",
       "      <th>other_sales</th>\n",
       "      <th>critic_score</th>\n",
       "      <th>user_score</th>\n",
       "      <th>rating</th>\n",
       "    </tr>\n",
       "  </thead>\n",
       "  <tbody>\n",
       "    <tr>\n",
       "      <th>659</th>\n",
       "      <td>NaN</td>\n",
       "      <td>GEN</td>\n",
       "      <td>1993.0</td>\n",
       "      <td>NaN</td>\n",
       "      <td>1.78</td>\n",
       "      <td>0.53</td>\n",
       "      <td>0.00</td>\n",
       "      <td>0.08</td>\n",
       "      <td>NaN</td>\n",
       "      <td>NaN</td>\n",
       "      <td>NaN</td>\n",
       "    </tr>\n",
       "    <tr>\n",
       "      <th>14244</th>\n",
       "      <td>NaN</td>\n",
       "      <td>GEN</td>\n",
       "      <td>1993.0</td>\n",
       "      <td>NaN</td>\n",
       "      <td>0.00</td>\n",
       "      <td>0.00</td>\n",
       "      <td>0.03</td>\n",
       "      <td>0.00</td>\n",
       "      <td>NaN</td>\n",
       "      <td>NaN</td>\n",
       "      <td>NaN</td>\n",
       "    </tr>\n",
       "  </tbody>\n",
       "</table>\n",
       "</div>"
      ],
      "text/plain": [
       "      name platform  year_of_release genre  na_sales  eu_sales  jp_sales  \\\n",
       "659    NaN      GEN           1993.0   NaN      1.78      0.53      0.00   \n",
       "14244  NaN      GEN           1993.0   NaN      0.00      0.00      0.03   \n",
       "\n",
       "       other_sales  critic_score user_score rating  \n",
       "659           0.08           NaN        NaN    NaN  \n",
       "14244         0.00           NaN        NaN    NaN  "
      ]
     },
     "execution_count": 5,
     "metadata": {},
     "output_type": "execute_result"
    }
   ],
   "source": [
    "data.query('name != name')"
   ]
  },
  {
   "cell_type": "code",
   "execution_count": 6,
   "id": "ffb32cda",
   "metadata": {},
   "outputs": [],
   "source": [
    "data = data.query('not(name != name)')"
   ]
  },
  {
   "cell_type": "markdown",
   "id": "0b0c8c9f",
   "metadata": {},
   "source": [
    "### Столбцы `platform`, `genre`, `na_sales`, `eu_sales`, `jp_sales`, `other_sales`\n",
    "Если опять же взглянем на [информацию](#info1) о датафрейме, то увидим, что в этих столбцах нет пропусков, данные отображаются в корректных типах. Проверим текстовые столбцы `platform` и `genre` при помощи метода `unique()` на неявные дубликаты и убедимся, что они отсутствуют. Оставим столбцы без изменений."
   ]
  },
  {
   "cell_type": "code",
   "execution_count": 7,
   "id": "2ebf8035",
   "metadata": {},
   "outputs": [
    {
     "data": {
      "text/plain": [
       "array(['Wii', 'NES', 'GB', 'DS', 'X360', 'PS3', 'PS2', 'SNES', 'GBA',\n",
       "       'PS4', '3DS', 'N64', 'PS', 'XB', 'PC', '2600', 'PSP', 'XOne',\n",
       "       'WiiU', 'GC', 'GEN', 'DC', 'PSV', 'SAT', 'SCD', 'WS', 'NG', 'TG16',\n",
       "       '3DO', 'GG', 'PCFX'], dtype=object)"
      ]
     },
     "execution_count": 7,
     "metadata": {},
     "output_type": "execute_result"
    }
   ],
   "source": [
    "data['platform'].unique()"
   ]
  },
  {
   "cell_type": "code",
   "execution_count": 8,
   "id": "68098a41",
   "metadata": {},
   "outputs": [
    {
     "data": {
      "text/plain": [
       "array(['Sports', 'Platform', 'Racing', 'Role-Playing', 'Puzzle', 'Misc',\n",
       "       'Shooter', 'Simulation', 'Action', 'Fighting', 'Adventure',\n",
       "       'Strategy'], dtype=object)"
      ]
     },
     "execution_count": 8,
     "metadata": {},
     "output_type": "execute_result"
    }
   ],
   "source": [
    "data['genre'].unique()"
   ]
  },
  {
   "cell_type": "markdown",
   "id": "586b771f",
   "metadata": {},
   "source": [
    "### 2.2.1. Столбец `year_of_release`\n",
    "Видим, что в данном столбце есть пропуски, проверим, сколько их. \n",
    "Т.к. количество пропусков не превышает 2% от общего количества, а дата выпуска игры- основа нашего исследования, удалим эти данные и преобразуем столбец в тип `datetime`, а затем возьмем из формата даты- год производства."
   ]
  },
  {
   "cell_type": "code",
   "execution_count": 9,
   "id": "72e8e771",
   "metadata": {
    "scrolled": true
   },
   "outputs": [
    {
     "data": {
      "text/plain": [
       "269"
      ]
     },
     "execution_count": 9,
     "metadata": {},
     "output_type": "execute_result"
    }
   ],
   "source": [
    "len(data.query('year_of_release != year_of_release'))"
   ]
  },
  {
   "cell_type": "code",
   "execution_count": 10,
   "id": "48173174",
   "metadata": {},
   "outputs": [],
   "source": [
    "data = data.query('not(year_of_release != year_of_release)')\n",
    "data['year_of_release'] = pd.to_datetime(data['year_of_release'], format = '%Y')\n",
    "data['year_of_release'] = pd.DatetimeIndex(data['year_of_release']).year"
   ]
  },
  {
   "cell_type": "code",
   "execution_count": 11,
   "id": "b7314df0",
   "metadata": {
    "scrolled": true
   },
   "outputs": [
    {
     "data": {
      "text/html": [
       "<div>\n",
       "<style scoped>\n",
       "    .dataframe tbody tr th:only-of-type {\n",
       "        vertical-align: middle;\n",
       "    }\n",
       "\n",
       "    .dataframe tbody tr th {\n",
       "        vertical-align: top;\n",
       "    }\n",
       "\n",
       "    .dataframe thead th {\n",
       "        text-align: right;\n",
       "    }\n",
       "</style>\n",
       "<table border=\"1\" class=\"dataframe\">\n",
       "  <thead>\n",
       "    <tr style=\"text-align: right;\">\n",
       "      <th></th>\n",
       "      <th>name</th>\n",
       "      <th>platform</th>\n",
       "      <th>year_of_release</th>\n",
       "      <th>genre</th>\n",
       "      <th>na_sales</th>\n",
       "      <th>eu_sales</th>\n",
       "      <th>jp_sales</th>\n",
       "      <th>other_sales</th>\n",
       "      <th>critic_score</th>\n",
       "      <th>user_score</th>\n",
       "      <th>rating</th>\n",
       "    </tr>\n",
       "  </thead>\n",
       "  <tbody>\n",
       "    <tr>\n",
       "      <th>0</th>\n",
       "      <td>Wii Sports</td>\n",
       "      <td>Wii</td>\n",
       "      <td>2006</td>\n",
       "      <td>Sports</td>\n",
       "      <td>41.36</td>\n",
       "      <td>28.96</td>\n",
       "      <td>3.77</td>\n",
       "      <td>8.45</td>\n",
       "      <td>76.0</td>\n",
       "      <td>8</td>\n",
       "      <td>E</td>\n",
       "    </tr>\n",
       "    <tr>\n",
       "      <th>1</th>\n",
       "      <td>Super Mario Bros.</td>\n",
       "      <td>NES</td>\n",
       "      <td>1985</td>\n",
       "      <td>Platform</td>\n",
       "      <td>29.08</td>\n",
       "      <td>3.58</td>\n",
       "      <td>6.81</td>\n",
       "      <td>0.77</td>\n",
       "      <td>NaN</td>\n",
       "      <td>NaN</td>\n",
       "      <td>NaN</td>\n",
       "    </tr>\n",
       "    <tr>\n",
       "      <th>2</th>\n",
       "      <td>Mario Kart Wii</td>\n",
       "      <td>Wii</td>\n",
       "      <td>2008</td>\n",
       "      <td>Racing</td>\n",
       "      <td>15.68</td>\n",
       "      <td>12.76</td>\n",
       "      <td>3.79</td>\n",
       "      <td>3.29</td>\n",
       "      <td>82.0</td>\n",
       "      <td>8.3</td>\n",
       "      <td>E</td>\n",
       "    </tr>\n",
       "    <tr>\n",
       "      <th>3</th>\n",
       "      <td>Wii Sports Resort</td>\n",
       "      <td>Wii</td>\n",
       "      <td>2009</td>\n",
       "      <td>Sports</td>\n",
       "      <td>15.61</td>\n",
       "      <td>10.93</td>\n",
       "      <td>3.28</td>\n",
       "      <td>2.95</td>\n",
       "      <td>80.0</td>\n",
       "      <td>8</td>\n",
       "      <td>E</td>\n",
       "    </tr>\n",
       "    <tr>\n",
       "      <th>4</th>\n",
       "      <td>Pokemon Red/Pokemon Blue</td>\n",
       "      <td>GB</td>\n",
       "      <td>1996</td>\n",
       "      <td>Role-Playing</td>\n",
       "      <td>11.27</td>\n",
       "      <td>8.89</td>\n",
       "      <td>10.22</td>\n",
       "      <td>1.00</td>\n",
       "      <td>NaN</td>\n",
       "      <td>NaN</td>\n",
       "      <td>NaN</td>\n",
       "    </tr>\n",
       "  </tbody>\n",
       "</table>\n",
       "</div>"
      ],
      "text/plain": [
       "                       name platform  year_of_release         genre  na_sales  \\\n",
       "0                Wii Sports      Wii             2006        Sports     41.36   \n",
       "1         Super Mario Bros.      NES             1985      Platform     29.08   \n",
       "2            Mario Kart Wii      Wii             2008        Racing     15.68   \n",
       "3         Wii Sports Resort      Wii             2009        Sports     15.61   \n",
       "4  Pokemon Red/Pokemon Blue       GB             1996  Role-Playing     11.27   \n",
       "\n",
       "   eu_sales  jp_sales  other_sales  critic_score user_score rating  \n",
       "0     28.96      3.77         8.45          76.0          8      E  \n",
       "1      3.58      6.81         0.77           NaN        NaN    NaN  \n",
       "2     12.76      3.79         3.29          82.0        8.3      E  \n",
       "3     10.93      3.28         2.95          80.0          8      E  \n",
       "4      8.89     10.22         1.00           NaN        NaN    NaN  "
      ]
     },
     "execution_count": 11,
     "metadata": {},
     "output_type": "execute_result"
    }
   ],
   "source": [
    "data.head()"
   ]
  },
  {
   "cell_type": "code",
   "execution_count": 12,
   "id": "8c176c0b",
   "metadata": {},
   "outputs": [
    {
     "name": "stdout",
     "output_type": "stream",
     "text": [
      "<class 'pandas.core.frame.DataFrame'>\n",
      "Int64Index: 16444 entries, 0 to 16714\n",
      "Data columns (total 11 columns):\n",
      " #   Column           Non-Null Count  Dtype  \n",
      "---  ------           --------------  -----  \n",
      " 0   name             16444 non-null  object \n",
      " 1   platform         16444 non-null  object \n",
      " 2   year_of_release  16444 non-null  int64  \n",
      " 3   genre            16444 non-null  object \n",
      " 4   na_sales         16444 non-null  float64\n",
      " 5   eu_sales         16444 non-null  float64\n",
      " 6   jp_sales         16444 non-null  float64\n",
      " 7   other_sales      16444 non-null  float64\n",
      " 8   critic_score     7983 non-null   float64\n",
      " 9   user_score       9839 non-null   object \n",
      " 10  rating           9768 non-null   object \n",
      "dtypes: float64(5), int64(1), object(5)\n",
      "memory usage: 1.5+ MB\n"
     ]
    }
   ],
   "source": [
    "data.info()"
   ]
  },
  {
   "cell_type": "markdown",
   "id": "73425478",
   "metadata": {},
   "source": [
    "### 2.2.2. Столбец `user_score`\n",
    "Посмотрим, почему этот столбец имеет тип `object`, а не `float64` - выгрузим уникальные значения по колонке при помощи `value_counts()`. Видно, что кое-где пропуски заполнены не NaN, a 'tbd' - аббревиатура от английского To Be Determined (будет определено) или To Be Decided (будет решено). Заменим 'tbd' на NaN при помощи логической индексации, а затем преобразуем при помощи функции `to_numeric()` численные значения в тип `float64`:"
   ]
  },
  {
   "cell_type": "code",
   "execution_count": 13,
   "id": "8e36af8b",
   "metadata": {
    "scrolled": true
   },
   "outputs": [
    {
     "data": {
      "text/plain": [
       "tbd    2376\n",
       "7.8     322\n",
       "8       285\n",
       "8.2     276\n",
       "8.3     252\n",
       "       ... \n",
       "9.6       2\n",
       "0.9       2\n",
       "2.3       2\n",
       "0         1\n",
       "9.7       1\n",
       "Name: user_score, Length: 96, dtype: int64"
      ]
     },
     "execution_count": 13,
     "metadata": {},
     "output_type": "execute_result"
    }
   ],
   "source": [
    "data['user_score'].value_counts()"
   ]
  },
  {
   "cell_type": "code",
   "execution_count": 14,
   "id": "e486bea3",
   "metadata": {
    "scrolled": true
   },
   "outputs": [],
   "source": [
    "data.loc[data['user_score'] == 'tbd', 'user_score'] = np.nan"
   ]
  },
  {
   "cell_type": "code",
   "execution_count": 15,
   "id": "0baf7ad5",
   "metadata": {},
   "outputs": [],
   "source": [
    "data['user_score'] = pd.to_numeric(data['user_score'], errors = 'ignore')"
   ]
  },
  {
   "cell_type": "code",
   "execution_count": 16,
   "id": "db1e9d69",
   "metadata": {},
   "outputs": [
    {
     "data": {
      "text/html": [
       "<div>\n",
       "<style scoped>\n",
       "    .dataframe tbody tr th:only-of-type {\n",
       "        vertical-align: middle;\n",
       "    }\n",
       "\n",
       "    .dataframe tbody tr th {\n",
       "        vertical-align: top;\n",
       "    }\n",
       "\n",
       "    .dataframe thead th {\n",
       "        text-align: right;\n",
       "    }\n",
       "</style>\n",
       "<table border=\"1\" class=\"dataframe\">\n",
       "  <thead>\n",
       "    <tr style=\"text-align: right;\">\n",
       "      <th></th>\n",
       "      <th>name</th>\n",
       "      <th>platform</th>\n",
       "      <th>year_of_release</th>\n",
       "      <th>genre</th>\n",
       "      <th>na_sales</th>\n",
       "      <th>eu_sales</th>\n",
       "      <th>jp_sales</th>\n",
       "      <th>other_sales</th>\n",
       "      <th>critic_score</th>\n",
       "      <th>user_score</th>\n",
       "      <th>rating</th>\n",
       "    </tr>\n",
       "  </thead>\n",
       "  <tbody>\n",
       "  </tbody>\n",
       "</table>\n",
       "</div>"
      ],
      "text/plain": [
       "Empty DataFrame\n",
       "Columns: [name, platform, year_of_release, genre, na_sales, eu_sales, jp_sales, other_sales, critic_score, user_score, rating]\n",
       "Index: []"
      ]
     },
     "execution_count": 16,
     "metadata": {},
     "output_type": "execute_result"
    }
   ],
   "source": [
    "data.query('user_score == \"tbd\"') #значение 'tbd' отсутствует"
   ]
  },
  {
   "cell_type": "markdown",
   "id": "ab0c4329",
   "metadata": {},
   "source": [
    "### 2.2.3. Пропуски в столбцах `critic_score`, `user_score`, `rating`\n",
    "[Видно](#info1) ,что в данных столбцах пропущено примерно 40-50% значений. \n",
    "\n",
    "Для столбцов с количественными данными `critic_score` и `user_score` - это очень много и добиться верного заполнения пропусков - невозможно. Есть вариант для столбцов `critic_score`, `user_score` сделать группировку по дате, платформе и жанру и заполнить пропуски средними значениями оценок, но я не считаю это правильным - оценка является субьективным понятием и не зависит от других оценок игр с подобными параметрами.  Поэтому столбцы `critic_score` и `user_score` оставим без изменения. \n",
    "\n",
    "А вот в столбце `rating` - категориальные переменные, изучим их и попробуем заполнить пробелы. \n",
    "\n",
    "Приступим к заполнению пропусков рейтинга. Если загрузить уникальные значения в этом столбце, что увидим, что некоторые рейтинги имеют малое количество значений. Соединим их с другими, более массовыми категориями рейтинга: \n",
    "- **EC** (от 3 лет) и **К-А** (от 6 лет) - перенесем в категорию **Е** (игры для всех)\n",
    "- **RP** (ожидает рейтинг) и **АО** (игры от 18 лет) - перенесем в категорию **M** (игры для взрослых, старше 17 лет). "
   ]
  },
  {
   "cell_type": "code",
   "execution_count": 17,
   "id": "db0b20ba",
   "metadata": {
    "scrolled": true
   },
   "outputs": [
    {
     "data": {
      "text/plain": [
       "E       3921\n",
       "T       2905\n",
       "M       1536\n",
       "E10+    1393\n",
       "EC         8\n",
       "K-A        3\n",
       "RP         1\n",
       "AO         1\n",
       "Name: rating, dtype: int64"
      ]
     },
     "execution_count": 17,
     "metadata": {},
     "output_type": "execute_result"
    }
   ],
   "source": [
    "data['rating'].value_counts()"
   ]
  },
  {
   "cell_type": "code",
   "execution_count": 18,
   "id": "51ba7246",
   "metadata": {},
   "outputs": [],
   "source": [
    "data.loc[data['rating'] == 'EC', 'rating'] = 'E'\n",
    "data.loc[data['rating'] == 'K-A', 'rating'] = 'E'\n",
    "data.loc[data['rating'] == 'RP', 'rating'] = 'M'\n",
    "data.loc[data['rating'] == 'AO', 'rating'] = 'M'"
   ]
  },
  {
   "cell_type": "code",
   "execution_count": 19,
   "id": "24ab1297",
   "metadata": {
    "scrolled": false
   },
   "outputs": [
    {
     "data": {
      "text/plain": [
       "E       3932\n",
       "T       2905\n",
       "M       1538\n",
       "E10+    1393\n",
       "Name: rating, dtype: int64"
      ]
     },
     "execution_count": 19,
     "metadata": {},
     "output_type": "execute_result"
    }
   ],
   "source": [
    "data['rating'].value_counts() #уменьшили количество категорий, но пропуски сохраняются"
   ]
  },
  {
   "cell_type": "markdown",
   "id": "0495ad73",
   "metadata": {},
   "source": [
    "Напишем функцию, где присвоим каждой из категории рейтинга численное значение, затем заполним пропуски медианным значением по жанру игры и затем вернем строковые значения рейтинга. "
   ]
  },
  {
   "cell_type": "code",
   "execution_count": 20,
   "id": "9d007cb8",
   "metadata": {},
   "outputs": [],
   "source": [
    "def rating_score(rating): #функция для присвоения рейтингу численных значений\n",
    "    if rating == 'E':\n",
    "        return 1\n",
    "    if rating == 'E10+':\n",
    "        return 2\n",
    "    if rating == 'T':\n",
    "        return 3\n",
    "    if rating == 'M':\n",
    "        return 4"
   ]
  },
  {
   "cell_type": "code",
   "execution_count": 21,
   "id": "22ec0f2e",
   "metadata": {},
   "outputs": [
    {
     "data": {
      "text/plain": [
       "1.0    3932\n",
       "3.0    2905\n",
       "4.0    1538\n",
       "2.0    1393\n",
       "Name: rating_score, dtype: int64"
      ]
     },
     "execution_count": 21,
     "metadata": {},
     "output_type": "execute_result"
    }
   ],
   "source": [
    "data['rating_score'] = data['rating'].apply(rating_score)\n",
    "data['rating_score'].value_counts()"
   ]
  },
  {
   "cell_type": "code",
   "execution_count": 22,
   "id": "77aa62f6",
   "metadata": {},
   "outputs": [
    {
     "data": {
      "text/plain": [
       "1.0    6837\n",
       "3.0    5523\n",
       "2.0    2246\n",
       "4.0    1838\n",
       "Name: rating_score, dtype: int64"
      ]
     },
     "execution_count": 22,
     "metadata": {},
     "output_type": "execute_result"
    }
   ],
   "source": [
    "data['rating_score'] = data.groupby(['genre'])['rating_score'].apply(lambda x: x.fillna(x.median())) #заполним пропуски\n",
    "data['rating_score'].value_counts()"
   ]
  },
  {
   "cell_type": "code",
   "execution_count": 23,
   "id": "871437fe",
   "metadata": {},
   "outputs": [],
   "source": [
    "def rating_new(rating):  #функция для возврата строковых значений рейтинга\n",
    "    if rating == 1:\n",
    "        return 'E'\n",
    "    if rating == 2:\n",
    "        return 'E10+'\n",
    "    if rating == 3:\n",
    "        return 'T'\n",
    "    if rating == 4:\n",
    "        return 'M'"
   ]
  },
  {
   "cell_type": "code",
   "execution_count": 24,
   "id": "791cbc88",
   "metadata": {},
   "outputs": [
    {
     "data": {
      "text/html": [
       "<div>\n",
       "<style scoped>\n",
       "    .dataframe tbody tr th:only-of-type {\n",
       "        vertical-align: middle;\n",
       "    }\n",
       "\n",
       "    .dataframe tbody tr th {\n",
       "        vertical-align: top;\n",
       "    }\n",
       "\n",
       "    .dataframe thead th {\n",
       "        text-align: right;\n",
       "    }\n",
       "</style>\n",
       "<table border=\"1\" class=\"dataframe\">\n",
       "  <thead>\n",
       "    <tr style=\"text-align: right;\">\n",
       "      <th></th>\n",
       "      <th>name</th>\n",
       "      <th>platform</th>\n",
       "      <th>year_of_release</th>\n",
       "      <th>genre</th>\n",
       "      <th>na_sales</th>\n",
       "      <th>eu_sales</th>\n",
       "      <th>jp_sales</th>\n",
       "      <th>other_sales</th>\n",
       "      <th>critic_score</th>\n",
       "      <th>user_score</th>\n",
       "      <th>rating</th>\n",
       "    </tr>\n",
       "  </thead>\n",
       "  <tbody>\n",
       "    <tr>\n",
       "      <th>0</th>\n",
       "      <td>Wii Sports</td>\n",
       "      <td>Wii</td>\n",
       "      <td>2006</td>\n",
       "      <td>Sports</td>\n",
       "      <td>41.36</td>\n",
       "      <td>28.96</td>\n",
       "      <td>3.77</td>\n",
       "      <td>8.45</td>\n",
       "      <td>76.0</td>\n",
       "      <td>8.0</td>\n",
       "      <td>E</td>\n",
       "    </tr>\n",
       "    <tr>\n",
       "      <th>1</th>\n",
       "      <td>Super Mario Bros.</td>\n",
       "      <td>NES</td>\n",
       "      <td>1985</td>\n",
       "      <td>Platform</td>\n",
       "      <td>29.08</td>\n",
       "      <td>3.58</td>\n",
       "      <td>6.81</td>\n",
       "      <td>0.77</td>\n",
       "      <td>NaN</td>\n",
       "      <td>NaN</td>\n",
       "      <td>E</td>\n",
       "    </tr>\n",
       "    <tr>\n",
       "      <th>2</th>\n",
       "      <td>Mario Kart Wii</td>\n",
       "      <td>Wii</td>\n",
       "      <td>2008</td>\n",
       "      <td>Racing</td>\n",
       "      <td>15.68</td>\n",
       "      <td>12.76</td>\n",
       "      <td>3.79</td>\n",
       "      <td>3.29</td>\n",
       "      <td>82.0</td>\n",
       "      <td>8.3</td>\n",
       "      <td>E</td>\n",
       "    </tr>\n",
       "    <tr>\n",
       "      <th>3</th>\n",
       "      <td>Wii Sports Resort</td>\n",
       "      <td>Wii</td>\n",
       "      <td>2009</td>\n",
       "      <td>Sports</td>\n",
       "      <td>15.61</td>\n",
       "      <td>10.93</td>\n",
       "      <td>3.28</td>\n",
       "      <td>2.95</td>\n",
       "      <td>80.0</td>\n",
       "      <td>8.0</td>\n",
       "      <td>E</td>\n",
       "    </tr>\n",
       "    <tr>\n",
       "      <th>4</th>\n",
       "      <td>Pokemon Red/Pokemon Blue</td>\n",
       "      <td>GB</td>\n",
       "      <td>1996</td>\n",
       "      <td>Role-Playing</td>\n",
       "      <td>11.27</td>\n",
       "      <td>8.89</td>\n",
       "      <td>10.22</td>\n",
       "      <td>1.00</td>\n",
       "      <td>NaN</td>\n",
       "      <td>NaN</td>\n",
       "      <td>T</td>\n",
       "    </tr>\n",
       "    <tr>\n",
       "      <th>...</th>\n",
       "      <td>...</td>\n",
       "      <td>...</td>\n",
       "      <td>...</td>\n",
       "      <td>...</td>\n",
       "      <td>...</td>\n",
       "      <td>...</td>\n",
       "      <td>...</td>\n",
       "      <td>...</td>\n",
       "      <td>...</td>\n",
       "      <td>...</td>\n",
       "      <td>...</td>\n",
       "    </tr>\n",
       "    <tr>\n",
       "      <th>16710</th>\n",
       "      <td>Samurai Warriors: Sanada Maru</td>\n",
       "      <td>PS3</td>\n",
       "      <td>2016</td>\n",
       "      <td>Action</td>\n",
       "      <td>0.00</td>\n",
       "      <td>0.00</td>\n",
       "      <td>0.01</td>\n",
       "      <td>0.00</td>\n",
       "      <td>NaN</td>\n",
       "      <td>NaN</td>\n",
       "      <td>T</td>\n",
       "    </tr>\n",
       "    <tr>\n",
       "      <th>16711</th>\n",
       "      <td>LMA Manager 2007</td>\n",
       "      <td>X360</td>\n",
       "      <td>2006</td>\n",
       "      <td>Sports</td>\n",
       "      <td>0.00</td>\n",
       "      <td>0.01</td>\n",
       "      <td>0.00</td>\n",
       "      <td>0.00</td>\n",
       "      <td>NaN</td>\n",
       "      <td>NaN</td>\n",
       "      <td>E</td>\n",
       "    </tr>\n",
       "    <tr>\n",
       "      <th>16712</th>\n",
       "      <td>Haitaka no Psychedelica</td>\n",
       "      <td>PSV</td>\n",
       "      <td>2016</td>\n",
       "      <td>Adventure</td>\n",
       "      <td>0.00</td>\n",
       "      <td>0.00</td>\n",
       "      <td>0.01</td>\n",
       "      <td>0.00</td>\n",
       "      <td>NaN</td>\n",
       "      <td>NaN</td>\n",
       "      <td>E10+</td>\n",
       "    </tr>\n",
       "    <tr>\n",
       "      <th>16713</th>\n",
       "      <td>Spirits &amp; Spells</td>\n",
       "      <td>GBA</td>\n",
       "      <td>2003</td>\n",
       "      <td>Platform</td>\n",
       "      <td>0.01</td>\n",
       "      <td>0.00</td>\n",
       "      <td>0.00</td>\n",
       "      <td>0.00</td>\n",
       "      <td>NaN</td>\n",
       "      <td>NaN</td>\n",
       "      <td>E</td>\n",
       "    </tr>\n",
       "    <tr>\n",
       "      <th>16714</th>\n",
       "      <td>Winning Post 8 2016</td>\n",
       "      <td>PSV</td>\n",
       "      <td>2016</td>\n",
       "      <td>Simulation</td>\n",
       "      <td>0.00</td>\n",
       "      <td>0.00</td>\n",
       "      <td>0.01</td>\n",
       "      <td>0.00</td>\n",
       "      <td>NaN</td>\n",
       "      <td>NaN</td>\n",
       "      <td>E</td>\n",
       "    </tr>\n",
       "  </tbody>\n",
       "</table>\n",
       "<p>16444 rows × 11 columns</p>\n",
       "</div>"
      ],
      "text/plain": [
       "                                name platform  year_of_release         genre  \\\n",
       "0                         Wii Sports      Wii             2006        Sports   \n",
       "1                  Super Mario Bros.      NES             1985      Platform   \n",
       "2                     Mario Kart Wii      Wii             2008        Racing   \n",
       "3                  Wii Sports Resort      Wii             2009        Sports   \n",
       "4           Pokemon Red/Pokemon Blue       GB             1996  Role-Playing   \n",
       "...                              ...      ...              ...           ...   \n",
       "16710  Samurai Warriors: Sanada Maru      PS3             2016        Action   \n",
       "16711               LMA Manager 2007     X360             2006        Sports   \n",
       "16712        Haitaka no Psychedelica      PSV             2016     Adventure   \n",
       "16713               Spirits & Spells      GBA             2003      Platform   \n",
       "16714            Winning Post 8 2016      PSV             2016    Simulation   \n",
       "\n",
       "       na_sales  eu_sales  jp_sales  other_sales  critic_score  user_score  \\\n",
       "0         41.36     28.96      3.77         8.45          76.0         8.0   \n",
       "1         29.08      3.58      6.81         0.77           NaN         NaN   \n",
       "2         15.68     12.76      3.79         3.29          82.0         8.3   \n",
       "3         15.61     10.93      3.28         2.95          80.0         8.0   \n",
       "4         11.27      8.89     10.22         1.00           NaN         NaN   \n",
       "...         ...       ...       ...          ...           ...         ...   \n",
       "16710      0.00      0.00      0.01         0.00           NaN         NaN   \n",
       "16711      0.00      0.01      0.00         0.00           NaN         NaN   \n",
       "16712      0.00      0.00      0.01         0.00           NaN         NaN   \n",
       "16713      0.01      0.00      0.00         0.00           NaN         NaN   \n",
       "16714      0.00      0.00      0.01         0.00           NaN         NaN   \n",
       "\n",
       "      rating  \n",
       "0          E  \n",
       "1          E  \n",
       "2          E  \n",
       "3          E  \n",
       "4          T  \n",
       "...      ...  \n",
       "16710      T  \n",
       "16711      E  \n",
       "16712   E10+  \n",
       "16713      E  \n",
       "16714      E  \n",
       "\n",
       "[16444 rows x 11 columns]"
      ]
     },
     "execution_count": 24,
     "metadata": {},
     "output_type": "execute_result"
    }
   ],
   "source": [
    "data['rating'] = data['rating_score'].apply(rating_new)\n",
    "data.drop(columns = 'rating_score', axis = 1)"
   ]
  },
  {
   "cell_type": "code",
   "execution_count": 25,
   "id": "e6a0348b",
   "metadata": {},
   "outputs": [
    {
     "data": {
      "text/plain": [
       "E       6837\n",
       "T       5523\n",
       "E10+    2246\n",
       "M       1838\n",
       "Name: rating, dtype: int64"
      ]
     },
     "execution_count": 25,
     "metadata": {},
     "output_type": "execute_result"
    }
   ],
   "source": [
    "data['rating'].value_counts()"
   ]
  },
  {
   "cell_type": "markdown",
   "id": "4fa9f7e3",
   "metadata": {},
   "source": [
    "## 2.3 Подсчет общего количества продаж\n",
    "Создадим столбец **total_sales**, где подсчитаем суммарные продажи игр. "
   ]
  },
  {
   "cell_type": "code",
   "execution_count": 26,
   "id": "8d782a8f",
   "metadata": {},
   "outputs": [
    {
     "data": {
      "text/html": [
       "<div>\n",
       "<style scoped>\n",
       "    .dataframe tbody tr th:only-of-type {\n",
       "        vertical-align: middle;\n",
       "    }\n",
       "\n",
       "    .dataframe tbody tr th {\n",
       "        vertical-align: top;\n",
       "    }\n",
       "\n",
       "    .dataframe thead th {\n",
       "        text-align: right;\n",
       "    }\n",
       "</style>\n",
       "<table border=\"1\" class=\"dataframe\">\n",
       "  <thead>\n",
       "    <tr style=\"text-align: right;\">\n",
       "      <th></th>\n",
       "      <th>name</th>\n",
       "      <th>platform</th>\n",
       "      <th>year_of_release</th>\n",
       "      <th>genre</th>\n",
       "      <th>na_sales</th>\n",
       "      <th>eu_sales</th>\n",
       "      <th>jp_sales</th>\n",
       "      <th>other_sales</th>\n",
       "      <th>critic_score</th>\n",
       "      <th>user_score</th>\n",
       "      <th>rating</th>\n",
       "      <th>rating_score</th>\n",
       "      <th>total_sales</th>\n",
       "    </tr>\n",
       "  </thead>\n",
       "  <tbody>\n",
       "    <tr>\n",
       "      <th>0</th>\n",
       "      <td>Wii Sports</td>\n",
       "      <td>Wii</td>\n",
       "      <td>2006</td>\n",
       "      <td>Sports</td>\n",
       "      <td>41.36</td>\n",
       "      <td>28.96</td>\n",
       "      <td>3.77</td>\n",
       "      <td>8.45</td>\n",
       "      <td>76.0</td>\n",
       "      <td>8.0</td>\n",
       "      <td>E</td>\n",
       "      <td>1.0</td>\n",
       "      <td>82.54</td>\n",
       "    </tr>\n",
       "    <tr>\n",
       "      <th>1</th>\n",
       "      <td>Super Mario Bros.</td>\n",
       "      <td>NES</td>\n",
       "      <td>1985</td>\n",
       "      <td>Platform</td>\n",
       "      <td>29.08</td>\n",
       "      <td>3.58</td>\n",
       "      <td>6.81</td>\n",
       "      <td>0.77</td>\n",
       "      <td>NaN</td>\n",
       "      <td>NaN</td>\n",
       "      <td>E</td>\n",
       "      <td>1.0</td>\n",
       "      <td>40.24</td>\n",
       "    </tr>\n",
       "    <tr>\n",
       "      <th>2</th>\n",
       "      <td>Mario Kart Wii</td>\n",
       "      <td>Wii</td>\n",
       "      <td>2008</td>\n",
       "      <td>Racing</td>\n",
       "      <td>15.68</td>\n",
       "      <td>12.76</td>\n",
       "      <td>3.79</td>\n",
       "      <td>3.29</td>\n",
       "      <td>82.0</td>\n",
       "      <td>8.3</td>\n",
       "      <td>E</td>\n",
       "      <td>1.0</td>\n",
       "      <td>35.52</td>\n",
       "    </tr>\n",
       "    <tr>\n",
       "      <th>3</th>\n",
       "      <td>Wii Sports Resort</td>\n",
       "      <td>Wii</td>\n",
       "      <td>2009</td>\n",
       "      <td>Sports</td>\n",
       "      <td>15.61</td>\n",
       "      <td>10.93</td>\n",
       "      <td>3.28</td>\n",
       "      <td>2.95</td>\n",
       "      <td>80.0</td>\n",
       "      <td>8.0</td>\n",
       "      <td>E</td>\n",
       "      <td>1.0</td>\n",
       "      <td>32.77</td>\n",
       "    </tr>\n",
       "    <tr>\n",
       "      <th>4</th>\n",
       "      <td>Pokemon Red/Pokemon Blue</td>\n",
       "      <td>GB</td>\n",
       "      <td>1996</td>\n",
       "      <td>Role-Playing</td>\n",
       "      <td>11.27</td>\n",
       "      <td>8.89</td>\n",
       "      <td>10.22</td>\n",
       "      <td>1.00</td>\n",
       "      <td>NaN</td>\n",
       "      <td>NaN</td>\n",
       "      <td>T</td>\n",
       "      <td>3.0</td>\n",
       "      <td>31.38</td>\n",
       "    </tr>\n",
       "  </tbody>\n",
       "</table>\n",
       "</div>"
      ],
      "text/plain": [
       "                       name platform  year_of_release         genre  na_sales  \\\n",
       "0                Wii Sports      Wii             2006        Sports     41.36   \n",
       "1         Super Mario Bros.      NES             1985      Platform     29.08   \n",
       "2            Mario Kart Wii      Wii             2008        Racing     15.68   \n",
       "3         Wii Sports Resort      Wii             2009        Sports     15.61   \n",
       "4  Pokemon Red/Pokemon Blue       GB             1996  Role-Playing     11.27   \n",
       "\n",
       "   eu_sales  jp_sales  other_sales  critic_score  user_score rating  \\\n",
       "0     28.96      3.77         8.45          76.0         8.0      E   \n",
       "1      3.58      6.81         0.77           NaN         NaN      E   \n",
       "2     12.76      3.79         3.29          82.0         8.3      E   \n",
       "3     10.93      3.28         2.95          80.0         8.0      E   \n",
       "4      8.89     10.22         1.00           NaN         NaN      T   \n",
       "\n",
       "   rating_score  total_sales  \n",
       "0           1.0        82.54  \n",
       "1           1.0        40.24  \n",
       "2           1.0        35.52  \n",
       "3           1.0        32.77  \n",
       "4           3.0        31.38  "
      ]
     },
     "execution_count": 26,
     "metadata": {},
     "output_type": "execute_result"
    }
   ],
   "source": [
    "data['total_sales'] = data[['na_sales','eu_sales','jp_sales', 'other_sales']].sum(axis = 1)\n",
    "data.head()"
   ]
  },
  {
   "cell_type": "markdown",
   "id": "c40e395a",
   "metadata": {},
   "source": [
    "Проверим датафрейм на наличие дубликатов и посмотрим инфо по датафрейму после преобразований:"
   ]
  },
  {
   "cell_type": "code",
   "execution_count": 27,
   "id": "1831e008",
   "metadata": {
    "scrolled": true
   },
   "outputs": [
    {
     "name": "stdout",
     "output_type": "stream",
     "text": [
      "0\n"
     ]
    }
   ],
   "source": [
    "print(data.duplicated().sum())"
   ]
  },
  {
   "cell_type": "code",
   "execution_count": 28,
   "id": "2b18a3b0",
   "metadata": {
    "scrolled": false
   },
   "outputs": [
    {
     "name": "stdout",
     "output_type": "stream",
     "text": [
      "<class 'pandas.core.frame.DataFrame'>\n",
      "Int64Index: 16444 entries, 0 to 16714\n",
      "Data columns (total 13 columns):\n",
      " #   Column           Non-Null Count  Dtype  \n",
      "---  ------           --------------  -----  \n",
      " 0   name             16444 non-null  object \n",
      " 1   platform         16444 non-null  object \n",
      " 2   year_of_release  16444 non-null  int64  \n",
      " 3   genre            16444 non-null  object \n",
      " 4   na_sales         16444 non-null  float64\n",
      " 5   eu_sales         16444 non-null  float64\n",
      " 6   jp_sales         16444 non-null  float64\n",
      " 7   other_sales      16444 non-null  float64\n",
      " 8   critic_score     7983 non-null   float64\n",
      " 9   user_score       7463 non-null   float64\n",
      " 10  rating           16444 non-null  object \n",
      " 11  rating_score     16444 non-null  float64\n",
      " 12  total_sales      16444 non-null  float64\n",
      "dtypes: float64(8), int64(1), object(4)\n",
      "memory usage: 1.8+ MB\n"
     ]
    }
   ],
   "source": [
    "data.info()"
   ]
  },
  {
   "cell_type": "markdown",
   "id": "4f93be7c",
   "metadata": {},
   "source": [
    "Как видно, все необходимые преобразования произведены, можно приступать непосредственно к исследованию. "
   ]
  },
  {
   "cell_type": "markdown",
   "id": "378e4059",
   "metadata": {},
   "source": [
    "# 3. Исследовательский анализ данных\n",
    "## 3.1. Выпуск игр по годам\n",
    "Исследуем, сколько игр выпускалось по годам - построим график на основе данных сводной таблицы.\n",
    "Видно, что до 1990 г. релизы игр были единичными, после 1994 года наблюдается умеренный рост количества выпущенных игр. После 2001 года рост усиливается и достигает своего пика в 2008-2009 годах, а затем идет на спад. С 2012 г. наблюдается резкий спад количества выпускаемых игр, и в периоде с 2012 включительно по 2016 год - количество выпущенных игр практически неизменно. \n",
    "\n",
    "Считаю, что для дальнейшего исследования необходимо использовать период за последние 5 лет (т.е. 2012-2016 гг. включительно):\n",
    "- данные по количеству выпущенных игр с 2007 по 2011 г. - ощутимо больше периода 2012-2016 гг. \n",
    "- компьютерные игры быстро устаревают и игры, выпущенные более 5 лет назад уже не продаются массово и интересны только ограниченному кругу потребителей."
   ]
  },
  {
   "cell_type": "code",
   "execution_count": 29,
   "id": "961cc08c",
   "metadata": {},
   "outputs": [
    {
     "data": {
      "text/plain": [
       "<AxesSubplot:xlabel='Годы выпуска игр', ylabel='Количество выпущенных игр'>"
      ]
     },
     "execution_count": 29,
     "metadata": {},
     "output_type": "execute_result"
    },
    {
     "data": {
      "image/png": "[encoded data removed]",
      "text/plain": [
       "<Figure size 648x504 with 1 Axes>"
      ]
     },
     "metadata": {
      "needs_background": "light"
     },
     "output_type": "display_data"
    }
   ],
   "source": [
    "data.pivot_table(index = 'year_of_release', values = 'name', aggfunc = 'count').plot(kind = 'bar', \n",
    "                                    figsize = (9, 7), xlabel = 'Годы выпуска игр', ylabel = 'Количество выпущенных игр')"
   ]
  },
  {
   "cell_type": "markdown",
   "id": "9d13eb73",
   "metadata": {},
   "source": [
    "## 3.2. Продажи по платформам.\n",
    "При помощи агрегирования в сводную таблицу, найдем платформы с самыми большими продажами. Видно, что самые крупные продажи наблюдаются по платформам из списка ниже (всего 6 платформ). "
   ]
  },
  {
   "cell_type": "code",
   "execution_count": 30,
   "id": "eaf14992",
   "metadata": {},
   "outputs": [
    {
     "data": {
      "text/plain": [
       "<AxesSubplot:xlabel='Платформа', ylabel='Сумма продаж'>"
      ]
     },
     "execution_count": 30,
     "metadata": {},
     "output_type": "execute_result"
    },
    {
     "data": {
      "image/png": "[encoded data removed]",
      "text/plain": [
       "<Figure size 504x360 with 1 Axes>"
      ]
     },
     "metadata": {
      "needs_background": "light"
     },
     "output_type": "display_data"
    }
   ],
   "source": [
    "data.pivot_table(index = 'platform', values = 'total_sales', aggfunc = 'sum').sort_values(by = 'total_sales').plot(\n",
    "    kind = 'bar', figsize = (7, 5), xlabel = 'Платформа', ylabel = \"Сумма продаж\")"
   ]
  },
  {
   "cell_type": "code",
   "execution_count": 31,
   "id": "b37d2bac",
   "metadata": {},
   "outputs": [
    {
     "data": {
      "text/html": [
       "<div>\n",
       "<style scoped>\n",
       "    .dataframe tbody tr th:only-of-type {\n",
       "        vertical-align: middle;\n",
       "    }\n",
       "\n",
       "    .dataframe tbody tr th {\n",
       "        vertical-align: top;\n",
       "    }\n",
       "\n",
       "    .dataframe thead th {\n",
       "        text-align: right;\n",
       "    }\n",
       "</style>\n",
       "<table border=\"1\" class=\"dataframe\">\n",
       "  <thead>\n",
       "    <tr style=\"text-align: right;\">\n",
       "      <th></th>\n",
       "      <th>total_sales</th>\n",
       "    </tr>\n",
       "    <tr>\n",
       "      <th>platform</th>\n",
       "      <th></th>\n",
       "    </tr>\n",
       "  </thead>\n",
       "  <tbody>\n",
       "    <tr>\n",
       "      <th>PS2</th>\n",
       "      <td>1233.56</td>\n",
       "    </tr>\n",
       "    <tr>\n",
       "      <th>X360</th>\n",
       "      <td>961.24</td>\n",
       "    </tr>\n",
       "    <tr>\n",
       "      <th>PS3</th>\n",
       "      <td>931.34</td>\n",
       "    </tr>\n",
       "    <tr>\n",
       "      <th>Wii</th>\n",
       "      <td>891.18</td>\n",
       "    </tr>\n",
       "    <tr>\n",
       "      <th>DS</th>\n",
       "      <td>802.78</td>\n",
       "    </tr>\n",
       "    <tr>\n",
       "      <th>PS</th>\n",
       "      <td>727.58</td>\n",
       "    </tr>\n",
       "  </tbody>\n",
       "</table>\n",
       "</div>"
      ],
      "text/plain": [
       "          total_sales\n",
       "platform             \n",
       "PS2           1233.56\n",
       "X360           961.24\n",
       "PS3            931.34\n",
       "Wii            891.18\n",
       "DS             802.78\n",
       "PS             727.58"
      ]
     },
     "execution_count": 31,
     "metadata": {},
     "output_type": "execute_result"
    }
   ],
   "source": [
    "data_top_sales = data.pivot_table(index = 'platform', values = 'total_sales',\n",
    "                            aggfunc = 'sum').query('total_sales > 700').sort_values(by = 'total_sales', ascending = False)\n",
    "data_top_sales\n",
    "#ТОП продаж за весь период"
   ]
  },
  {
   "cell_type": "markdown",
   "id": "17b886c5",
   "metadata": {},
   "source": [
    "Для визуализации времени жизни каждой из платформ нарисуем столбчатую диаграмму, которая покажет года жизни и продажи по каждой из платформ. "
   ]
  },
  {
   "cell_type": "code",
   "execution_count": 32,
   "id": "97d87e9c",
   "metadata": {},
   "outputs": [
    {
     "data": {
      "text/plain": [
       "<AxesSubplot:xlabel='Год продажи консоли', ylabel='Сумма продаж'>"
      ]
     },
     "execution_count": 32,
     "metadata": {},
     "output_type": "execute_result"
    },
    {
     "data": {
      "image/png": "[encoded data removed]",
      "text/plain": [
       "<Figure size 1440x504 with 1 Axes>"
      ]
     },
     "metadata": {
      "needs_background": "light"
     },
     "output_type": "display_data"
    }
   ],
   "source": [
    "data.query('platform in @data_top_sales.index').pivot_table(\n",
    "    columns = 'platform', index = 'year_of_release', values = 'total_sales', \n",
    "    aggfunc = 'sum', fill_value=0).plot(kind = 'bar', width = 1.3, linewidth = 100, \n",
    "    figsize = (20, 7), xlabel =  \"Год продажи консоли\", ylabel = \"Сумма продаж\")"
   ]
  },
  {
   "cell_type": "markdown",
   "id": "4a182735",
   "metadata": {},
   "source": [
    "Если проанализировать полученные графики, то можно заметить, что платформы PS заменяют друг друга с периодичностью 7-9 лет (PS-PS2-PS3). Такая же продолжитьтельность жизнедеятельности, в среднем, и у других платформ.\n",
    "Максимальные продажи в год зафиксированы у платформ PS2 (2002 и 2004 г.) и Wii (2009 г.)\n",
    "\n",
    "Исходя из графика, считаю, что в среднем платформы сменяют друг друга каждые 7-8 лет. Проверим среднюю \"продолжительность жизни\" каждой из платформ рассчетным методом. Видно, что, как и предполагалось, **средний срок жизни платформы- 7,7 лет**."
   ]
  },
  {
   "cell_type": "code",
   "execution_count": 33,
   "id": "a14f9048",
   "metadata": {},
   "outputs": [
    {
     "data": {
      "text/plain": [
       "7.7"
      ]
     },
     "execution_count": 33,
     "metadata": {},
     "output_type": "execute_result"
    }
   ],
   "source": [
    "data_platform_life = data[['platform', 'year_of_release']]\n",
    "data_platform_life = data_platform_life.drop_duplicates()\n",
    "data_platform_life = data_platform_life.groupby('platform')['year_of_release'].count()\n",
    "round(data_platform_life.mean(), 1)"
   ]
  },
  {
   "cell_type": "markdown",
   "id": "17a7f6e6",
   "metadata": {},
   "source": [
    "## 3.3. Анализ актуальных данных"
   ]
  },
  {
   "cell_type": "markdown",
   "id": "d1adf6a5",
   "metadata": {},
   "source": [
    "Однако возможно, что в топ продаж попали старые платформы, которые сейчас не актуальны. Сделаем запрос на основании вывода из прошлого пункта и рассмотрим игры, выпущенные позже 2014 г. (т.е за последние 3 года).\n",
    "Видно, что лидеры продаж полностью изменились - лидируют приставки PS4 и XOne, далее идут 3DS, WiiU, PS3 (предок PS4) и PC (игры на компьютере)\n",
    "Т.к. компьютерные игры быстро становятся неактуальными, будем исследовать платформы, которые лидируют уже после 2014 г. "
   ]
  },
  {
   "cell_type": "code",
   "execution_count": 34,
   "id": "8bbbabdb",
   "metadata": {},
   "outputs": [],
   "source": [
    "data_actual = data.query('year_of_release > 2014')"
   ]
  },
  {
   "cell_type": "code",
   "execution_count": 35,
   "id": "1f971388",
   "metadata": {},
   "outputs": [
    {
     "data": {
      "text/plain": [
       "<AxesSubplot:xlabel='Консоль', ylabel='Сумма продаж'>"
      ]
     },
     "execution_count": 35,
     "metadata": {},
     "output_type": "execute_result"
    },
    {
     "data": {
      "image/png": "[encoded data removed]",
      "text/plain": [
       "<Figure size 504x360 with 1 Axes>"
      ]
     },
     "metadata": {
      "needs_background": "light"
     },
     "output_type": "display_data"
    }
   ],
   "source": [
    "data_actual.pivot_table(\n",
    "    index = 'platform', values = 'total_sales', aggfunc = 'sum').sort_values(by = 'total_sales').plot(\n",
    "    kind = 'bar', figsize = (7, 5), xlabel =  \"Консоль\", ylabel = \"Сумма продаж\")"
   ]
  },
  {
   "cell_type": "markdown",
   "id": "860725e7",
   "metadata": {},
   "source": [
    "Тот же список мы получим, если выгрузим ТОП продаж с 2014 г.Видно, что лидером продаж является платформа PS4, на втором месте - XOne , третье место заняла платформа 3DS. Построим распределение продаж по годам и посмотрим, какими были продажи в разные годы для выбранных платформ. "
   ]
  },
  {
   "cell_type": "code",
   "execution_count": 36,
   "id": "4340fe8e",
   "metadata": {
    "scrolled": true
   },
   "outputs": [
    {
     "data": {
      "text/html": [
       "<div>\n",
       "<style scoped>\n",
       "    .dataframe tbody tr th:only-of-type {\n",
       "        vertical-align: middle;\n",
       "    }\n",
       "\n",
       "    .dataframe tbody tr th {\n",
       "        vertical-align: top;\n",
       "    }\n",
       "\n",
       "    .dataframe thead th {\n",
       "        text-align: right;\n",
       "    }\n",
       "</style>\n",
       "<table border=\"1\" class=\"dataframe\">\n",
       "  <thead>\n",
       "    <tr style=\"text-align: right;\">\n",
       "      <th></th>\n",
       "      <th>total_sales</th>\n",
       "    </tr>\n",
       "    <tr>\n",
       "      <th>platform</th>\n",
       "      <th></th>\n",
       "    </tr>\n",
       "  </thead>\n",
       "  <tbody>\n",
       "    <tr>\n",
       "      <th>PS4</th>\n",
       "      <td>188.15</td>\n",
       "    </tr>\n",
       "    <tr>\n",
       "      <th>XOne</th>\n",
       "      <td>86.29</td>\n",
       "    </tr>\n",
       "    <tr>\n",
       "      <th>3DS</th>\n",
       "      <td>42.92</td>\n",
       "    </tr>\n",
       "    <tr>\n",
       "      <th>WiiU</th>\n",
       "      <td>20.95</td>\n",
       "    </tr>\n",
       "    <tr>\n",
       "      <th>PS3</th>\n",
       "      <td>20.42</td>\n",
       "    </tr>\n",
       "    <tr>\n",
       "      <th>PC</th>\n",
       "      <td>13.77</td>\n",
       "    </tr>\n",
       "  </tbody>\n",
       "</table>\n",
       "</div>"
      ],
      "text/plain": [
       "          total_sales\n",
       "platform             \n",
       "PS4            188.15\n",
       "XOne            86.29\n",
       "3DS             42.92\n",
       "WiiU            20.95\n",
       "PS3             20.42\n",
       "PC              13.77"
      ]
     },
     "execution_count": 36,
     "metadata": {},
     "output_type": "execute_result"
    }
   ],
   "source": [
    "data_actual.pivot_table(index = 'platform', values = 'total_sales', \n",
    "                                                 aggfunc = 'sum').sort_values(by = 'total_sales', ascending = False).head(6)\n",
    "#ТОП продаж с 2014 г."
   ]
  },
  {
   "cell_type": "markdown",
   "id": "faddebe6",
   "metadata": {},
   "source": [
    "Если изучить графики распределения продаж, то можно отметить:\n",
    "- Платформы `X360`, `PS3` и `3DS` - очевидно, выходят из обращения, т.к. на графиках мы видим спад продаж практически до нуля. \n",
    "- Платформы `XOne` и `PS4`, наоборот- до 2015 г. наблюдался рост продаж (пик- в 2015 г.), в 2016 г. продажи просели, но это может быть обусловлено неполными данными за 2016 г.\n",
    "- На платформе `WiiU` пик продаж наблюдался в 2014 г., далее идет значительное падение к 2016 г. при неплохих продажах в 2015 г. Опять же, предполагаю, что серьезное падение в 2016 г. связано с недостатком данных. "
   ]
  },
  {
   "cell_type": "code",
   "execution_count": 37,
   "id": "221d7d6b",
   "metadata": {
    "scrolled": true
   },
   "outputs": [
    {
     "data": {
      "text/plain": [
       "<AxesSubplot:xlabel='Год выпуска', ylabel='Объем продаж'>"
      ]
     },
     "execution_count": 37,
     "metadata": {},
     "output_type": "execute_result"
    },
    {
     "data": {
      "image/png": "[encoded data removed]",
      "text/plain": [
       "<Figure size 432x288 with 1 Axes>"
      ]
     },
     "metadata": {
      "needs_background": "light"
     },
     "output_type": "display_data"
    }
   ],
   "source": [
    "data.query('platform == \"PS4\" and year_of_release > 2011').pivot_table(index = 'year_of_release', values = 'total_sales',    \n",
    "                                            aggfunc = 'sum').plot(style = 'o-', grid = True, \n",
    "                                                                 xlabel = \"Год выпуска\", ylabel = \"Объем продаж\")"
   ]
  },
  {
   "cell_type": "code",
   "execution_count": 38,
   "id": "9572daae",
   "metadata": {
    "scrolled": false
   },
   "outputs": [
    {
     "data": {
      "text/plain": [
       "<AxesSubplot:xlabel='Год выпуска', ylabel='Объем продаж'>"
      ]
     },
     "execution_count": 38,
     "metadata": {},
     "output_type": "execute_result"
    },
    {
     "data": {
      "image/png": "[encoded data removed]",
      "text/plain": [
       "<Figure size 432x288 with 1 Axes>"
      ]
     },
     "metadata": {
      "needs_background": "light"
     },
     "output_type": "display_data"
    }
   ],
   "source": [
    "data.query('platform == \"XOne\" and year_of_release > 2011').pivot_table(index = 'year_of_release', values = 'total_sales',    \n",
    "                                            aggfunc = 'sum').plot(style = 'o-', grid = True,\n",
    "                                                                 xlabel = \"Год выпуска\", ylabel = \"Объем продаж\")"
   ]
  },
  {
   "cell_type": "code",
   "execution_count": 39,
   "id": "7427a618",
   "metadata": {
    "scrolled": false
   },
   "outputs": [
    {
     "data": {
      "text/plain": [
       "<AxesSubplot:xlabel='Год выпуска', ylabel='Объем продаж'>"
      ]
     },
     "execution_count": 39,
     "metadata": {},
     "output_type": "execute_result"
    },
    {
     "data": {
      "image/png": "[encoded data removed]",
      "text/plain": [
       "<Figure size 432x288 with 1 Axes>"
      ]
     },
     "metadata": {
      "needs_background": "light"
     },
     "output_type": "display_data"
    }
   ],
   "source": [
    "data.query('platform == \"3DS\" and year_of_release > 2011').pivot_table(index = 'year_of_release', values = 'total_sales',    \n",
    "                                            aggfunc = 'sum').plot(style = 'o-', grid = True,\n",
    "                                                                 xlabel = \"Год выпуска\", ylabel = \"Объем продаж\")"
   ]
  },
  {
   "cell_type": "code",
   "execution_count": 40,
   "id": "1544a0ad",
   "metadata": {
    "scrolled": false
   },
   "outputs": [
    {
     "data": {
      "text/plain": [
       "<AxesSubplot:xlabel='Год выпуска', ylabel='Объем продаж'>"
      ]
     },
     "execution_count": 40,
     "metadata": {},
     "output_type": "execute_result"
    },
    {
     "data": {
      "image/png": "[encoded data removed]",
      "text/plain": [
       "<Figure size 432x288 with 1 Axes>"
      ]
     },
     "metadata": {
      "needs_background": "light"
     },
     "output_type": "display_data"
    }
   ],
   "source": [
    "data.query('platform == \"X360\" and year_of_release > 2011').pivot_table(index = 'year_of_release', values = 'total_sales',    \n",
    "                                            aggfunc = 'sum').plot(style = 'o-', grid = True,\n",
    "                                                                 xlabel = \"Год выпуска\", ylabel = \"Объем продаж\")"
   ]
  },
  {
   "cell_type": "code",
   "execution_count": 41,
   "id": "a27376fd",
   "metadata": {
    "scrolled": false
   },
   "outputs": [
    {
     "data": {
      "text/plain": [
       "<AxesSubplot:xlabel='Год выпуска', ylabel='Объем продаж'>"
      ]
     },
     "execution_count": 41,
     "metadata": {},
     "output_type": "execute_result"
    },
    {
     "data": {
      "image/png": "[encoded data removed]",
      "text/plain": [
       "<Figure size 432x288 with 1 Axes>"
      ]
     },
     "metadata": {
      "needs_background": "light"
     },
     "output_type": "display_data"
    }
   ],
   "source": [
    "data.query('platform == \"PS3\" and year_of_release > 2011').pivot_table(index = 'year_of_release', values = 'total_sales',    \n",
    "                                            aggfunc = 'sum').plot(style = 'o-', grid = True,\n",
    "                                                                 xlabel = \"Год выпуска\", ylabel = \"Объем продаж\")"
   ]
  },
  {
   "cell_type": "code",
   "execution_count": 42,
   "id": "599f1bca",
   "metadata": {},
   "outputs": [
    {
     "data": {
      "text/plain": [
       "<AxesSubplot:xlabel='Год выпуска', ylabel='Объем продаж'>"
      ]
     },
     "execution_count": 42,
     "metadata": {},
     "output_type": "execute_result"
    },
    {
     "data": {
      "image/png": "[encoded data removed]",
      "text/plain": [
       "<Figure size 432x288 with 1 Axes>"
      ]
     },
     "metadata": {
      "needs_background": "light"
     },
     "output_type": "display_data"
    }
   ],
   "source": [
    "data.query('platform == \"WiiU\" and year_of_release > 2011').pivot_table(index = 'year_of_release', values = 'total_sales',    \n",
    "                                            aggfunc = 'sum').plot(style = 'o-', grid = True,\n",
    "                                                                 xlabel = \"Год выпуска\", ylabel = \"Объем продаж\")"
   ]
  },
  {
   "cell_type": "markdown",
   "id": "84444852",
   "metadata": {},
   "source": [
    "Таким образом, я предполагаю, что в потенциально прибыльные платформы мы точно можем отнести `XOne` и `PS4`. Посмотрим сумму продаж за последние 2 года и выберем еще пару популярных платформ. \n",
    "Видим, что в ТОП-5 продаж все еще попадают `3DS` и `PS3`, а также попала еще одна платформа- `WiiU`. Заменим платформу `PS3` как устаревающую на игры для `PC`- они находятся на 6 месте, но все-таки популярность подобных игр не угасает. "
   ]
  },
  {
   "cell_type": "code",
   "execution_count": 43,
   "id": "30cb7177",
   "metadata": {},
   "outputs": [
    {
     "data": {
      "text/html": [
       "<div>\n",
       "<style scoped>\n",
       "    .dataframe tbody tr th:only-of-type {\n",
       "        vertical-align: middle;\n",
       "    }\n",
       "\n",
       "    .dataframe tbody tr th {\n",
       "        vertical-align: top;\n",
       "    }\n",
       "\n",
       "    .dataframe thead th {\n",
       "        text-align: right;\n",
       "    }\n",
       "</style>\n",
       "<table border=\"1\" class=\"dataframe\">\n",
       "  <thead>\n",
       "    <tr style=\"text-align: right;\">\n",
       "      <th></th>\n",
       "      <th>total_sales</th>\n",
       "    </tr>\n",
       "    <tr>\n",
       "      <th>platform</th>\n",
       "      <th></th>\n",
       "    </tr>\n",
       "  </thead>\n",
       "  <tbody>\n",
       "    <tr>\n",
       "      <th>PS4</th>\n",
       "      <td>188.15</td>\n",
       "    </tr>\n",
       "    <tr>\n",
       "      <th>XOne</th>\n",
       "      <td>86.29</td>\n",
       "    </tr>\n",
       "    <tr>\n",
       "      <th>3DS</th>\n",
       "      <td>42.92</td>\n",
       "    </tr>\n",
       "    <tr>\n",
       "      <th>WiiU</th>\n",
       "      <td>20.95</td>\n",
       "    </tr>\n",
       "    <tr>\n",
       "      <th>PC</th>\n",
       "      <td>13.77</td>\n",
       "    </tr>\n",
       "  </tbody>\n",
       "</table>\n",
       "</div>"
      ],
      "text/plain": [
       "          total_sales\n",
       "platform             \n",
       "PS4            188.15\n",
       "XOne            86.29\n",
       "3DS             42.92\n",
       "WiiU            20.95\n",
       "PC              13.77"
      ]
     },
     "execution_count": 43,
     "metadata": {},
     "output_type": "execute_result"
    }
   ],
   "source": [
    "data_actual_top = data_actual.query('year_of_release > 2014').pivot_table(index = 'platform', values = 'total_sales', \n",
    "                                    aggfunc = 'sum').sort_values(by = 'total_sales', ascending = False).head(6)\n",
    "data_actual_top = data_actual_top.query('platform != \"PS3\"')\n",
    "data_actual_top"
   ]
  },
  {
   "cell_type": "markdown",
   "id": "8da8eef9",
   "metadata": {},
   "source": [
    "Платформа Х360 не была мною выбрана, т.к. я считаю ее в срезе данного исследования устаревающей, и, несмотря на историю ее больших продаж, платформа будет заменяться на последователь XOne. Также, насколько я знаю, на платформу Х360 нет каких-то эксклюзивных игр, которые не выпускаются на иных популярных консолях, таких как PS3/PS4. \n",
    "\n",
    "Платформы PS4, XOne я выбираю как массовые и кассовые, WiiU, 3DS и PC - как менее кассовые, но тем не менее, привлекательные для нишевого потребителя. "
   ]
  },
  {
   "cell_type": "markdown",
   "id": "0434127e",
   "metadata": {},
   "source": [
    "### 3.3.1. Анализ глобальных продаж игр на приоритетных платформах. \n",
    "При помощи графика `boxplot` проанализируем глобальные продажи на выбранных приоритетных платформах. "
   ]
  },
  {
   "cell_type": "code",
   "execution_count": 44,
   "id": "02500ec6",
   "metadata": {},
   "outputs": [
    {
     "data": {
      "text/plain": [
       "<AxesSubplot:xlabel='platform', ylabel='total_sales'>"
      ]
     },
     "execution_count": 44,
     "metadata": {},
     "output_type": "execute_result"
    },
    {
     "data": {
      "image/png": "[encoded data removed]",
      "text/plain": [
       "<Figure size 720x360 with 1 Axes>"
      ]
     },
     "metadata": {
      "needs_background": "light"
     },
     "output_type": "display_data"
    }
   ],
   "source": [
    "plt.figure(figsize=[10,5])\n",
    "sns.boxplot(data = data_actual.query('platform in @data_actual_top.index'), x = 'platform', y = 'total_sales')"
   ]
  },
  {
   "cell_type": "markdown",
   "id": "b8a6db45",
   "metadata": {},
   "source": [
    "Если посмотреть на график \"ящик с усами\" для выбранных платформ, то видим, что верхние значения межквартильного размаха для всех исследуемых платформ не превышают значения 2. Каждая из платформ дает \"выбросы\" выше максимального значения межквартильного размаха. Эти \"выбросы\"- это наиболее кассовые игры по каждой из платформ, которые не вписываются в общую картину. Как видно, лидером здесь является платформа `PS4`: макисмальный выброс находится в районе 14 и это самая кассовая игра из всех на исследуемых платформах. Далее идут платформы `XOne` и `3DS` - максимально кассовые игры на этих платформах достигают значения 8. И замыкают топ платформы `WiiU` и `РС` с максимальными \"выбросами\" в районе 6 и 2 соответственно. \n",
    "\n",
    "Замечу, что на данном графике самые кассовые игры помечаются как выбросы, т.к. они не входят в межквартильный размах (т.е Q3+1,5IQR) и выбиваются из общей статистической картины. \n",
    "\n",
    "Ограничим ось Y значением 2, тем самым увеличив масштабирование, и рассмотрим платформы отдельно. "
   ]
  },
  {
   "cell_type": "code",
   "execution_count": 45,
   "id": "47c96d94",
   "metadata": {},
   "outputs": [
    {
     "data": {
      "text/plain": [
       "<AxesSubplot:xlabel='platform', ylabel='total_sales'>"
      ]
     },
     "execution_count": 45,
     "metadata": {},
     "output_type": "execute_result"
    },
    {
     "data": {
      "image/png": "[encoded data removed]",
      "text/plain": [
       "<Figure size 720x360 with 1 Axes>"
      ]
     },
     "metadata": {
      "needs_background": "light"
     },
     "output_type": "display_data"
    }
   ],
   "source": [
    "plt.figure(figsize=[10,5])\n",
    "plt.ylim([0, 2])\n",
    "sns.boxplot(data = data_actual.query('platform in @data_actual_top.index'), x = 'platform', y = 'total_sales')"
   ]
  },
  {
   "cell_type": "markdown",
   "id": "d60104df",
   "metadata": {},
   "source": [
    "Если проанализировать график, можно сделать следующие выводы:\n",
    "- Нижняя граница межквартильного размаха одинакова для всех платформ и находится в районе 0.01-0.05.\n",
    "- Медианное значение продаж игр сдвинуто к нижней границе Q1 (первый квартиль) и опять же, очень близко для всех платформ и находится на уровне 0,15 - 0,2, за исключением платформ `WiiU` (медиана в районе 0,25) и `PC`(медиана на уровне 0,05) - т.е. 50% игр зарабатывают менее этого значения.\n",
    "- Уровень третьего квартиля Q3 выше всего у платформ `XOne` и `WiiU` -  находится на уровне 0,55. Далее идет платформа `PS4` - ок. 0,4; `3DS` - ок. 0,25 и меньше всех эта граница у платформы `PC` - на уровне 0,2. Граница Q3 показывает нам, что 75% игр платформы зарабатывают меньше этого уровня. \n",
    "- Максимумы статистически значимой выборки (верхний межквартильный размах) также разнятся в зависимости от платформы: выше всех у `XOne` - 1,35, далее идет `WiiU` - 1,05, `PS4` - 1,00, `3DS` - 0.50 и завершает пятерку `PC` - 0,4. \n"
   ]
  },
  {
   "cell_type": "markdown",
   "id": "e526ec2d",
   "metadata": {},
   "source": [
    "**Самые кассовые игры по платформам**\n",
    "\n",
    "По диаграмме boxplot() видно, что некоторые игры не списываются в статистическую выборку и идут на диаграмме как \"выбросы\". Сделаем выгрузку самых кассовых игр по выбранным платформам, основываясь на уровне \"выбросов\" из диаграммы \"ящик с усами\".\n",
    "\n",
    "**1. Платформа `PS4`**"
   ]
  },
  {
   "cell_type": "code",
   "execution_count": 46,
   "id": "203f07cc",
   "metadata": {},
   "outputs": [
    {
     "data": {
      "text/html": [
       "<div>\n",
       "<style scoped>\n",
       "    .dataframe tbody tr th:only-of-type {\n",
       "        vertical-align: middle;\n",
       "    }\n",
       "\n",
       "    .dataframe tbody tr th {\n",
       "        vertical-align: top;\n",
       "    }\n",
       "\n",
       "    .dataframe thead th {\n",
       "        text-align: right;\n",
       "    }\n",
       "</style>\n",
       "<table border=\"1\" class=\"dataframe\">\n",
       "  <thead>\n",
       "    <tr style=\"text-align: right;\">\n",
       "      <th></th>\n",
       "      <th>name</th>\n",
       "      <th>platform</th>\n",
       "      <th>year_of_release</th>\n",
       "      <th>genre</th>\n",
       "      <th>na_sales</th>\n",
       "      <th>eu_sales</th>\n",
       "      <th>jp_sales</th>\n",
       "      <th>other_sales</th>\n",
       "      <th>critic_score</th>\n",
       "      <th>user_score</th>\n",
       "      <th>rating</th>\n",
       "      <th>rating_score</th>\n",
       "      <th>total_sales</th>\n",
       "    </tr>\n",
       "  </thead>\n",
       "  <tbody>\n",
       "    <tr>\n",
       "      <th>31</th>\n",
       "      <td>Call of Duty: Black Ops 3</td>\n",
       "      <td>PS4</td>\n",
       "      <td>2015</td>\n",
       "      <td>Shooter</td>\n",
       "      <td>6.03</td>\n",
       "      <td>5.86</td>\n",
       "      <td>0.36</td>\n",
       "      <td>2.38</td>\n",
       "      <td>NaN</td>\n",
       "      <td>NaN</td>\n",
       "      <td>M</td>\n",
       "      <td>4.0</td>\n",
       "      <td>14.63</td>\n",
       "    </tr>\n",
       "    <tr>\n",
       "      <th>77</th>\n",
       "      <td>FIFA 16</td>\n",
       "      <td>PS4</td>\n",
       "      <td>2015</td>\n",
       "      <td>Sports</td>\n",
       "      <td>1.12</td>\n",
       "      <td>6.12</td>\n",
       "      <td>0.06</td>\n",
       "      <td>1.28</td>\n",
       "      <td>82.0</td>\n",
       "      <td>4.3</td>\n",
       "      <td>E</td>\n",
       "      <td>1.0</td>\n",
       "      <td>8.58</td>\n",
       "    </tr>\n",
       "    <tr>\n",
       "      <th>87</th>\n",
       "      <td>Star Wars Battlefront (2015)</td>\n",
       "      <td>PS4</td>\n",
       "      <td>2015</td>\n",
       "      <td>Shooter</td>\n",
       "      <td>2.99</td>\n",
       "      <td>3.49</td>\n",
       "      <td>0.22</td>\n",
       "      <td>1.28</td>\n",
       "      <td>NaN</td>\n",
       "      <td>NaN</td>\n",
       "      <td>M</td>\n",
       "      <td>4.0</td>\n",
       "      <td>7.98</td>\n",
       "    </tr>\n",
       "    <tr>\n",
       "      <th>94</th>\n",
       "      <td>FIFA 17</td>\n",
       "      <td>PS4</td>\n",
       "      <td>2016</td>\n",
       "      <td>Sports</td>\n",
       "      <td>0.66</td>\n",
       "      <td>5.75</td>\n",
       "      <td>0.08</td>\n",
       "      <td>1.11</td>\n",
       "      <td>85.0</td>\n",
       "      <td>5.0</td>\n",
       "      <td>E</td>\n",
       "      <td>1.0</td>\n",
       "      <td>7.60</td>\n",
       "    </tr>\n",
       "    <tr>\n",
       "      <th>105</th>\n",
       "      <td>Fallout 4</td>\n",
       "      <td>PS4</td>\n",
       "      <td>2015</td>\n",
       "      <td>Role-Playing</td>\n",
       "      <td>2.53</td>\n",
       "      <td>3.27</td>\n",
       "      <td>0.24</td>\n",
       "      <td>1.13</td>\n",
       "      <td>87.0</td>\n",
       "      <td>6.5</td>\n",
       "      <td>M</td>\n",
       "      <td>4.0</td>\n",
       "      <td>7.17</td>\n",
       "    </tr>\n",
       "    <tr>\n",
       "      <th>171</th>\n",
       "      <td>Uncharted 4: A Thief's End</td>\n",
       "      <td>PS4</td>\n",
       "      <td>2016</td>\n",
       "      <td>Shooter</td>\n",
       "      <td>1.85</td>\n",
       "      <td>2.50</td>\n",
       "      <td>0.19</td>\n",
       "      <td>0.85</td>\n",
       "      <td>93.0</td>\n",
       "      <td>7.9</td>\n",
       "      <td>T</td>\n",
       "      <td>3.0</td>\n",
       "      <td>5.39</td>\n",
       "    </tr>\n",
       "  </tbody>\n",
       "</table>\n",
       "</div>"
      ],
      "text/plain": [
       "                             name platform  year_of_release         genre  \\\n",
       "31      Call of Duty: Black Ops 3      PS4             2015       Shooter   \n",
       "77                        FIFA 16      PS4             2015        Sports   \n",
       "87   Star Wars Battlefront (2015)      PS4             2015       Shooter   \n",
       "94                        FIFA 17      PS4             2016        Sports   \n",
       "105                     Fallout 4      PS4             2015  Role-Playing   \n",
       "171    Uncharted 4: A Thief's End      PS4             2016       Shooter   \n",
       "\n",
       "     na_sales  eu_sales  jp_sales  other_sales  critic_score  user_score  \\\n",
       "31       6.03      5.86      0.36         2.38           NaN         NaN   \n",
       "77       1.12      6.12      0.06         1.28          82.0         4.3   \n",
       "87       2.99      3.49      0.22         1.28           NaN         NaN   \n",
       "94       0.66      5.75      0.08         1.11          85.0         5.0   \n",
       "105      2.53      3.27      0.24         1.13          87.0         6.5   \n",
       "171      1.85      2.50      0.19         0.85          93.0         7.9   \n",
       "\n",
       "    rating  rating_score  total_sales  \n",
       "31       M           4.0        14.63  \n",
       "77       E           1.0         8.58  \n",
       "87       M           4.0         7.98  \n",
       "94       E           1.0         7.60  \n",
       "105      M           4.0         7.17  \n",
       "171      T           3.0         5.39  "
      ]
     },
     "execution_count": 46,
     "metadata": {},
     "output_type": "execute_result"
    }
   ],
   "source": [
    "data_actual.query('platform == \"PS4\" and total_sales > 5')"
   ]
  },
  {
   "cell_type": "markdown",
   "id": "359fff7f",
   "metadata": {},
   "source": [
    "**2. Платформа `XOne`**"
   ]
  },
  {
   "cell_type": "code",
   "execution_count": 47,
   "id": "b8ba9eee",
   "metadata": {},
   "outputs": [
    {
     "data": {
      "text/html": [
       "<div>\n",
       "<style scoped>\n",
       "    .dataframe tbody tr th:only-of-type {\n",
       "        vertical-align: middle;\n",
       "    }\n",
       "\n",
       "    .dataframe tbody tr th {\n",
       "        vertical-align: top;\n",
       "    }\n",
       "\n",
       "    .dataframe thead th {\n",
       "        text-align: right;\n",
       "    }\n",
       "</style>\n",
       "<table border=\"1\" class=\"dataframe\">\n",
       "  <thead>\n",
       "    <tr style=\"text-align: right;\">\n",
       "      <th></th>\n",
       "      <th>name</th>\n",
       "      <th>platform</th>\n",
       "      <th>year_of_release</th>\n",
       "      <th>genre</th>\n",
       "      <th>na_sales</th>\n",
       "      <th>eu_sales</th>\n",
       "      <th>jp_sales</th>\n",
       "      <th>other_sales</th>\n",
       "      <th>critic_score</th>\n",
       "      <th>user_score</th>\n",
       "      <th>rating</th>\n",
       "      <th>rating_score</th>\n",
       "      <th>total_sales</th>\n",
       "    </tr>\n",
       "  </thead>\n",
       "  <tbody>\n",
       "    <tr>\n",
       "      <th>99</th>\n",
       "      <td>Call of Duty: Black Ops 3</td>\n",
       "      <td>XOne</td>\n",
       "      <td>2015</td>\n",
       "      <td>Shooter</td>\n",
       "      <td>4.59</td>\n",
       "      <td>2.11</td>\n",
       "      <td>0.01</td>\n",
       "      <td>0.68</td>\n",
       "      <td>NaN</td>\n",
       "      <td>NaN</td>\n",
       "      <td>M</td>\n",
       "      <td>4.0</td>\n",
       "      <td>7.39</td>\n",
       "    </tr>\n",
       "    <tr>\n",
       "      <th>242</th>\n",
       "      <td>Halo 5: Guardians</td>\n",
       "      <td>XOne</td>\n",
       "      <td>2015</td>\n",
       "      <td>Shooter</td>\n",
       "      <td>2.78</td>\n",
       "      <td>1.27</td>\n",
       "      <td>0.03</td>\n",
       "      <td>0.41</td>\n",
       "      <td>84.0</td>\n",
       "      <td>6.4</td>\n",
       "      <td>T</td>\n",
       "      <td>3.0</td>\n",
       "      <td>4.49</td>\n",
       "    </tr>\n",
       "    <tr>\n",
       "      <th>270</th>\n",
       "      <td>Fallout 4</td>\n",
       "      <td>XOne</td>\n",
       "      <td>2015</td>\n",
       "      <td>Role-Playing</td>\n",
       "      <td>2.51</td>\n",
       "      <td>1.32</td>\n",
       "      <td>0.01</td>\n",
       "      <td>0.38</td>\n",
       "      <td>88.0</td>\n",
       "      <td>6.2</td>\n",
       "      <td>M</td>\n",
       "      <td>4.0</td>\n",
       "      <td>4.22</td>\n",
       "    </tr>\n",
       "    <tr>\n",
       "      <th>342</th>\n",
       "      <td>Star Wars Battlefront (2015)</td>\n",
       "      <td>XOne</td>\n",
       "      <td>2015</td>\n",
       "      <td>Shooter</td>\n",
       "      <td>2.04</td>\n",
       "      <td>1.28</td>\n",
       "      <td>0.02</td>\n",
       "      <td>0.32</td>\n",
       "      <td>NaN</td>\n",
       "      <td>NaN</td>\n",
       "      <td>M</td>\n",
       "      <td>4.0</td>\n",
       "      <td>3.66</td>\n",
       "    </tr>\n",
       "    <tr>\n",
       "      <th>413</th>\n",
       "      <td>Gears of War: Ultimate Edition</td>\n",
       "      <td>XOne</td>\n",
       "      <td>2015</td>\n",
       "      <td>Shooter</td>\n",
       "      <td>2.61</td>\n",
       "      <td>0.33</td>\n",
       "      <td>0.00</td>\n",
       "      <td>0.34</td>\n",
       "      <td>82.0</td>\n",
       "      <td>7.5</td>\n",
       "      <td>M</td>\n",
       "      <td>4.0</td>\n",
       "      <td>3.28</td>\n",
       "    </tr>\n",
       "    <tr>\n",
       "      <th>417</th>\n",
       "      <td>FIFA 16</td>\n",
       "      <td>XOne</td>\n",
       "      <td>2015</td>\n",
       "      <td>Sports</td>\n",
       "      <td>0.89</td>\n",
       "      <td>2.12</td>\n",
       "      <td>0.00</td>\n",
       "      <td>0.24</td>\n",
       "      <td>84.0</td>\n",
       "      <td>4.4</td>\n",
       "      <td>E</td>\n",
       "      <td>1.0</td>\n",
       "      <td>3.25</td>\n",
       "    </tr>\n",
       "  </tbody>\n",
       "</table>\n",
       "</div>"
      ],
      "text/plain": [
       "                               name platform  year_of_release         genre  \\\n",
       "99        Call of Duty: Black Ops 3     XOne             2015       Shooter   \n",
       "242               Halo 5: Guardians     XOne             2015       Shooter   \n",
       "270                       Fallout 4     XOne             2015  Role-Playing   \n",
       "342    Star Wars Battlefront (2015)     XOne             2015       Shooter   \n",
       "413  Gears of War: Ultimate Edition     XOne             2015       Shooter   \n",
       "417                         FIFA 16     XOne             2015        Sports   \n",
       "\n",
       "     na_sales  eu_sales  jp_sales  other_sales  critic_score  user_score  \\\n",
       "99       4.59      2.11      0.01         0.68           NaN         NaN   \n",
       "242      2.78      1.27      0.03         0.41          84.0         6.4   \n",
       "270      2.51      1.32      0.01         0.38          88.0         6.2   \n",
       "342      2.04      1.28      0.02         0.32           NaN         NaN   \n",
       "413      2.61      0.33      0.00         0.34          82.0         7.5   \n",
       "417      0.89      2.12      0.00         0.24          84.0         4.4   \n",
       "\n",
       "    rating  rating_score  total_sales  \n",
       "99       M           4.0         7.39  \n",
       "242      T           3.0         4.49  \n",
       "270      M           4.0         4.22  \n",
       "342      M           4.0         3.66  \n",
       "413      M           4.0         3.28  \n",
       "417      E           1.0         3.25  "
      ]
     },
     "execution_count": 47,
     "metadata": {},
     "output_type": "execute_result"
    }
   ],
   "source": [
    "data_actual.query('platform == \"XOne\" and total_sales > 3')"
   ]
  },
  {
   "cell_type": "markdown",
   "id": "b95aee71",
   "metadata": {},
   "source": [
    "**3. Платформа `3DS`**"
   ]
  },
  {
   "cell_type": "code",
   "execution_count": 48,
   "id": "4673018c",
   "metadata": {
    "scrolled": true
   },
   "outputs": [
    {
     "data": {
      "text/html": [
       "<div>\n",
       "<style scoped>\n",
       "    .dataframe tbody tr th:only-of-type {\n",
       "        vertical-align: middle;\n",
       "    }\n",
       "\n",
       "    .dataframe tbody tr th {\n",
       "        vertical-align: top;\n",
       "    }\n",
       "\n",
       "    .dataframe thead th {\n",
       "        text-align: right;\n",
       "    }\n",
       "</style>\n",
       "<table border=\"1\" class=\"dataframe\">\n",
       "  <thead>\n",
       "    <tr style=\"text-align: right;\">\n",
       "      <th></th>\n",
       "      <th>name</th>\n",
       "      <th>platform</th>\n",
       "      <th>year_of_release</th>\n",
       "      <th>genre</th>\n",
       "      <th>na_sales</th>\n",
       "      <th>eu_sales</th>\n",
       "      <th>jp_sales</th>\n",
       "      <th>other_sales</th>\n",
       "      <th>critic_score</th>\n",
       "      <th>user_score</th>\n",
       "      <th>rating</th>\n",
       "      <th>rating_score</th>\n",
       "      <th>total_sales</th>\n",
       "    </tr>\n",
       "  </thead>\n",
       "  <tbody>\n",
       "    <tr>\n",
       "      <th>108</th>\n",
       "      <td>Pokemon Sun/Moon</td>\n",
       "      <td>3DS</td>\n",
       "      <td>2016</td>\n",
       "      <td>Role-Playing</td>\n",
       "      <td>2.98</td>\n",
       "      <td>1.45</td>\n",
       "      <td>2.26</td>\n",
       "      <td>0.45</td>\n",
       "      <td>NaN</td>\n",
       "      <td>NaN</td>\n",
       "      <td>T</td>\n",
       "      <td>3.0</td>\n",
       "      <td>7.14</td>\n",
       "    </tr>\n",
       "    <tr>\n",
       "      <th>406</th>\n",
       "      <td>Monster Hunter X</td>\n",
       "      <td>3DS</td>\n",
       "      <td>2015</td>\n",
       "      <td>Action</td>\n",
       "      <td>0.27</td>\n",
       "      <td>0.21</td>\n",
       "      <td>2.79</td>\n",
       "      <td>0.05</td>\n",
       "      <td>NaN</td>\n",
       "      <td>NaN</td>\n",
       "      <td>T</td>\n",
       "      <td>3.0</td>\n",
       "      <td>3.32</td>\n",
       "    </tr>\n",
       "    <tr>\n",
       "      <th>457</th>\n",
       "      <td>Animal Crossing: Happy Home Designer</td>\n",
       "      <td>3DS</td>\n",
       "      <td>2015</td>\n",
       "      <td>Simulation</td>\n",
       "      <td>0.51</td>\n",
       "      <td>1.02</td>\n",
       "      <td>1.40</td>\n",
       "      <td>0.12</td>\n",
       "      <td>66.0</td>\n",
       "      <td>6.9</td>\n",
       "      <td>E</td>\n",
       "      <td>1.0</td>\n",
       "      <td>3.05</td>\n",
       "    </tr>\n",
       "    <tr>\n",
       "      <th>677</th>\n",
       "      <td>The Legend of Zelda: Majora's Mask 3D</td>\n",
       "      <td>3DS</td>\n",
       "      <td>2015</td>\n",
       "      <td>Action</td>\n",
       "      <td>1.15</td>\n",
       "      <td>0.55</td>\n",
       "      <td>0.47</td>\n",
       "      <td>0.17</td>\n",
       "      <td>89.0</td>\n",
       "      <td>9.0</td>\n",
       "      <td>E10+</td>\n",
       "      <td>2.0</td>\n",
       "      <td>2.34</td>\n",
       "    </tr>\n",
       "    <tr>\n",
       "      <th>694</th>\n",
       "      <td>Yokai Watch Busters</td>\n",
       "      <td>3DS</td>\n",
       "      <td>2015</td>\n",
       "      <td>Action</td>\n",
       "      <td>0.00</td>\n",
       "      <td>0.00</td>\n",
       "      <td>2.29</td>\n",
       "      <td>0.00</td>\n",
       "      <td>NaN</td>\n",
       "      <td>NaN</td>\n",
       "      <td>T</td>\n",
       "      <td>3.0</td>\n",
       "      <td>2.29</td>\n",
       "    </tr>\n",
       "  </tbody>\n",
       "</table>\n",
       "</div>"
      ],
      "text/plain": [
       "                                      name platform  year_of_release  \\\n",
       "108                       Pokemon Sun/Moon      3DS             2016   \n",
       "406                       Monster Hunter X      3DS             2015   \n",
       "457   Animal Crossing: Happy Home Designer      3DS             2015   \n",
       "677  The Legend of Zelda: Majora's Mask 3D      3DS             2015   \n",
       "694                    Yokai Watch Busters      3DS             2015   \n",
       "\n",
       "            genre  na_sales  eu_sales  jp_sales  other_sales  critic_score  \\\n",
       "108  Role-Playing      2.98      1.45      2.26         0.45           NaN   \n",
       "406        Action      0.27      0.21      2.79         0.05           NaN   \n",
       "457    Simulation      0.51      1.02      1.40         0.12          66.0   \n",
       "677        Action      1.15      0.55      0.47         0.17          89.0   \n",
       "694        Action      0.00      0.00      2.29         0.00           NaN   \n",
       "\n",
       "     user_score rating  rating_score  total_sales  \n",
       "108         NaN      T           3.0         7.14  \n",
       "406         NaN      T           3.0         3.32  \n",
       "457         6.9      E           1.0         3.05  \n",
       "677         9.0   E10+           2.0         2.34  \n",
       "694         NaN      T           3.0         2.29  "
      ]
     },
     "execution_count": 48,
     "metadata": {},
     "output_type": "execute_result"
    }
   ],
   "source": [
    "data_actual.query('platform == \"3DS\" and total_sales > 2')"
   ]
  },
  {
   "cell_type": "markdown",
   "id": "b8a0b913",
   "metadata": {},
   "source": [
    "**4. Платформа `WiiU`**"
   ]
  },
  {
   "cell_type": "code",
   "execution_count": 49,
   "id": "92af5f6d",
   "metadata": {},
   "outputs": [
    {
     "data": {
      "text/html": [
       "<div>\n",
       "<style scoped>\n",
       "    .dataframe tbody tr th:only-of-type {\n",
       "        vertical-align: middle;\n",
       "    }\n",
       "\n",
       "    .dataframe tbody tr th {\n",
       "        vertical-align: top;\n",
       "    }\n",
       "\n",
       "    .dataframe thead th {\n",
       "        text-align: right;\n",
       "    }\n",
       "</style>\n",
       "<table border=\"1\" class=\"dataframe\">\n",
       "  <thead>\n",
       "    <tr style=\"text-align: right;\">\n",
       "      <th></th>\n",
       "      <th>name</th>\n",
       "      <th>platform</th>\n",
       "      <th>year_of_release</th>\n",
       "      <th>genre</th>\n",
       "      <th>na_sales</th>\n",
       "      <th>eu_sales</th>\n",
       "      <th>jp_sales</th>\n",
       "      <th>other_sales</th>\n",
       "      <th>critic_score</th>\n",
       "      <th>user_score</th>\n",
       "      <th>rating</th>\n",
       "      <th>rating_score</th>\n",
       "      <th>total_sales</th>\n",
       "    </tr>\n",
       "  </thead>\n",
       "  <tbody>\n",
       "    <tr>\n",
       "      <th>247</th>\n",
       "      <td>Splatoon</td>\n",
       "      <td>WiiU</td>\n",
       "      <td>2015</td>\n",
       "      <td>Shooter</td>\n",
       "      <td>1.54</td>\n",
       "      <td>1.18</td>\n",
       "      <td>1.46</td>\n",
       "      <td>0.26</td>\n",
       "      <td>81.0</td>\n",
       "      <td>8.5</td>\n",
       "      <td>E10+</td>\n",
       "      <td>2.0</td>\n",
       "      <td>4.44</td>\n",
       "    </tr>\n",
       "    <tr>\n",
       "      <th>424</th>\n",
       "      <td>Super Mario Maker</td>\n",
       "      <td>WiiU</td>\n",
       "      <td>2015</td>\n",
       "      <td>Platform</td>\n",
       "      <td>1.18</td>\n",
       "      <td>0.89</td>\n",
       "      <td>0.94</td>\n",
       "      <td>0.20</td>\n",
       "      <td>88.0</td>\n",
       "      <td>8.7</td>\n",
       "      <td>E</td>\n",
       "      <td>1.0</td>\n",
       "      <td>3.21</td>\n",
       "    </tr>\n",
       "  </tbody>\n",
       "</table>\n",
       "</div>"
      ],
      "text/plain": [
       "                  name platform  year_of_release     genre  na_sales  \\\n",
       "247           Splatoon     WiiU             2015   Shooter      1.54   \n",
       "424  Super Mario Maker     WiiU             2015  Platform      1.18   \n",
       "\n",
       "     eu_sales  jp_sales  other_sales  critic_score  user_score rating  \\\n",
       "247      1.18      1.46         0.26          81.0         8.5   E10+   \n",
       "424      0.89      0.94         0.20          88.0         8.7      E   \n",
       "\n",
       "     rating_score  total_sales  \n",
       "247           2.0         4.44  \n",
       "424           1.0         3.21  "
      ]
     },
     "execution_count": 49,
     "metadata": {},
     "output_type": "execute_result"
    }
   ],
   "source": [
    "data_actual.query('platform == \"WiiU\" and total_sales > 2')"
   ]
  },
  {
   "cell_type": "markdown",
   "id": "135e5392",
   "metadata": {},
   "source": [
    "**5. Платформа `PС`**"
   ]
  },
  {
   "cell_type": "code",
   "execution_count": 50,
   "id": "413ba5ea",
   "metadata": {},
   "outputs": [
    {
     "data": {
      "text/html": [
       "<div>\n",
       "<style scoped>\n",
       "    .dataframe tbody tr th:only-of-type {\n",
       "        vertical-align: middle;\n",
       "    }\n",
       "\n",
       "    .dataframe tbody tr th {\n",
       "        vertical-align: top;\n",
       "    }\n",
       "\n",
       "    .dataframe thead th {\n",
       "        text-align: right;\n",
       "    }\n",
       "</style>\n",
       "<table border=\"1\" class=\"dataframe\">\n",
       "  <thead>\n",
       "    <tr style=\"text-align: right;\">\n",
       "      <th></th>\n",
       "      <th>name</th>\n",
       "      <th>platform</th>\n",
       "      <th>year_of_release</th>\n",
       "      <th>genre</th>\n",
       "      <th>na_sales</th>\n",
       "      <th>eu_sales</th>\n",
       "      <th>jp_sales</th>\n",
       "      <th>other_sales</th>\n",
       "      <th>critic_score</th>\n",
       "      <th>user_score</th>\n",
       "      <th>rating</th>\n",
       "      <th>rating_score</th>\n",
       "      <th>total_sales</th>\n",
       "    </tr>\n",
       "  </thead>\n",
       "  <tbody>\n",
       "    <tr>\n",
       "      <th>1530</th>\n",
       "      <td>Fallout 4</td>\n",
       "      <td>PC</td>\n",
       "      <td>2015</td>\n",
       "      <td>Role-Playing</td>\n",
       "      <td>0.51</td>\n",
       "      <td>0.67</td>\n",
       "      <td>0.0</td>\n",
       "      <td>0.10</td>\n",
       "      <td>84.0</td>\n",
       "      <td>5.4</td>\n",
       "      <td>M</td>\n",
       "      <td>4.0</td>\n",
       "      <td>1.28</td>\n",
       "    </tr>\n",
       "    <tr>\n",
       "      <th>1730</th>\n",
       "      <td>Grand Theft Auto V</td>\n",
       "      <td>PC</td>\n",
       "      <td>2015</td>\n",
       "      <td>Action</td>\n",
       "      <td>0.39</td>\n",
       "      <td>0.69</td>\n",
       "      <td>0.0</td>\n",
       "      <td>0.09</td>\n",
       "      <td>96.0</td>\n",
       "      <td>7.9</td>\n",
       "      <td>M</td>\n",
       "      <td>4.0</td>\n",
       "      <td>1.17</td>\n",
       "    </tr>\n",
       "  </tbody>\n",
       "</table>\n",
       "</div>"
      ],
      "text/plain": [
       "                    name platform  year_of_release         genre  na_sales  \\\n",
       "1530           Fallout 4       PC             2015  Role-Playing      0.51   \n",
       "1730  Grand Theft Auto V       PC             2015        Action      0.39   \n",
       "\n",
       "      eu_sales  jp_sales  other_sales  critic_score  user_score rating  \\\n",
       "1530      0.67       0.0         0.10          84.0         5.4      M   \n",
       "1730      0.69       0.0         0.09          96.0         7.9      M   \n",
       "\n",
       "      rating_score  total_sales  \n",
       "1530           4.0         1.28  \n",
       "1730           4.0         1.17  "
      ]
     },
     "execution_count": 50,
     "metadata": {},
     "output_type": "execute_result"
    }
   ],
   "source": [
    "data_actual.query('platform == \"PC\" and total_sales > 1')"
   ]
  },
  {
   "cell_type": "markdown",
   "id": "249b15b3",
   "metadata": {},
   "source": [
    "### 3.3.2. Влияние отзывов на продажи\n",
    "Рассмотрим влияние отзывов критиков и пользователей на продажи. \n",
    "Для этого возьмем самую кассовую из выбранных платформ - `PS4` и посмотрим корреляцию между продажами и отзывами.\n",
    "\n",
    "**1. Платформа PS4**\n",
    "\n",
    "Рассмотрим корреляцию между отзывами критиков и продажами. Как видно по коэффициенту корреляции, эти величины хоть и связаны, но слабо, что подтверждает диаграмма рассеяния - здесь видно, что игры с большой кассовостью продаж сконцентрированы в зоне более высоких отзывов критиков, однако- высокий отзыв критиков не гарантирует кассовую игру. Видно, что многие игры и с высокими отзывами критиков (более 80), все равно находятся в околонулевой зоне продаж. "
   ]
  },
  {
   "cell_type": "code",
   "execution_count": 51,
   "id": "fed72379",
   "metadata": {},
   "outputs": [
    {
     "data": {
      "text/plain": [
       "0.3928485555130601"
      ]
     },
     "execution_count": 51,
     "metadata": {},
     "output_type": "execute_result"
    }
   ],
   "source": [
    "data_actual.query('platform == \"PS4\"')['total_sales'].corr(data_actual.query('platform == \"PS4\"')['critic_score'])"
   ]
  },
  {
   "cell_type": "code",
   "execution_count": 52,
   "id": "5d855c7d",
   "metadata": {},
   "outputs": [
    {
     "data": {
      "text/plain": [
       "<AxesSubplot:title={'center':'Зависимость продаж игр от отзывов критиков'}, xlabel='critic_score', ylabel='total_sales'>"
      ]
     },
     "execution_count": 52,
     "metadata": {},
     "output_type": "execute_result"
    },
    {
     "data": {
      "image/png": "[encoded data removed]",
      "text/plain": [
       "<Figure size 432x288 with 1 Axes>"
      ]
     },
     "metadata": {
      "needs_background": "light"
     },
     "output_type": "display_data"
    }
   ],
   "source": [
    "data_actual.query('platform == \"PS4\"').plot(x = 'critic_score', y = 'total_sales', \n",
    "                                            kind = 'scatter', title = ('Зависимость продаж игр от отзывов критиков'))"
   ]
  },
  {
   "cell_type": "markdown",
   "id": "789777bf",
   "metadata": {},
   "source": [
    "Если же посмотрим корреляцию между отзывами пользователей и общими продажами игры, то здесь видно, что никакой взаимосвязи между величинами нет. Видно, что кассовыми становятся игры с любыми отзывами пользователей - от 3 и до 9, то же самое можно сказать и в обратную сторону- немалая часть игр с высоким рейтингом игроков не становится кассовой. \n",
    "Таким образом, связи между отзывами пользователей и продажами- нет. "
   ]
  },
  {
   "cell_type": "code",
   "execution_count": 53,
   "id": "745d89ab",
   "metadata": {},
   "outputs": [
    {
     "data": {
      "text/plain": [
       "-0.05973845712638215"
      ]
     },
     "execution_count": 53,
     "metadata": {},
     "output_type": "execute_result"
    }
   ],
   "source": [
    "data_actual.query('platform == \"PS4\"')['total_sales'].corr(data_actual.query('platform == \"PS4\"')['user_score'])"
   ]
  },
  {
   "cell_type": "code",
   "execution_count": 54,
   "id": "2a91d254",
   "metadata": {},
   "outputs": [
    {
     "data": {
      "text/plain": [
       "<AxesSubplot:title={'center':'Зависимость продаж игр от отзывов пользователей'}, xlabel='user_score', ylabel='total_sales'>"
      ]
     },
     "execution_count": 54,
     "metadata": {},
     "output_type": "execute_result"
    },
    {
     "data": {
      "image/png": "[encoded data removed]",
      "text/plain": [
       "<Figure size 432x288 with 1 Axes>"
      ]
     },
     "metadata": {
      "needs_background": "light"
     },
     "output_type": "display_data"
    }
   ],
   "source": [
    "data_actual.query('platform == \"PS4\"').plot(x = 'user_score', y = 'total_sales', \n",
    "                                            kind = 'scatter', title = ('Зависимость продаж игр от отзывов пользователей'))"
   ]
  },
  {
   "cell_type": "markdown",
   "id": "bf5d8033",
   "metadata": {},
   "source": [
    "Посмотрим то же самое и для других выбранных платформ: \n",
    "\n",
    "**2. Платформа `XOne`**\n",
    "\n",
    "Здесь коэффициенты корреляции и графики практически совпадают со значениями предыдущей платформы `PS4`- все продаваемые игры на данной платформе имели хорошие отзывы критиков, но эта зависимость нелинейная- не все игры с хорошими отзывами становятся продаваемыми хитами. \n",
    "\n",
    "Между отзывами пользователей и продажами связи нет- как видно на графике, есть как кассовые игры с оценкой пользователей 3, так и игры с низкими продажами, но высоко оцененные игроками. "
   ]
  },
  {
   "cell_type": "code",
   "execution_count": 55,
   "id": "47b622eb",
   "metadata": {},
   "outputs": [
    {
     "data": {
      "text/plain": [
       "0.430888745821368"
      ]
     },
     "execution_count": 55,
     "metadata": {},
     "output_type": "execute_result"
    }
   ],
   "source": [
    "data_actual.query('platform == \"XOne\"')['total_sales'].corr(data_actual.query('platform == \"XOne\"')['critic_score'])"
   ]
  },
  {
   "cell_type": "code",
   "execution_count": 56,
   "id": "20c4eebd",
   "metadata": {},
   "outputs": [
    {
     "data": {
      "text/plain": [
       "<AxesSubplot:title={'center':'Зависимость продаж игр от отзывов критиков'}, xlabel='critic_score', ylabel='total_sales'>"
      ]
     },
     "execution_count": 56,
     "metadata": {},
     "output_type": "execute_result"
    },
    {
     "data": {
      "image/png": "[encoded data removed]",
      "text/plain": [
       "<Figure size 432x288 with 1 Axes>"
      ]
     },
     "metadata": {
      "needs_background": "light"
     },
     "output_type": "display_data"
    }
   ],
   "source": [
    "data_actual.query('platform == \"XOne\"').plot(x = 'critic_score', y = 'total_sales', \n",
    "                                            kind = 'scatter', title = ('Зависимость продаж игр от отзывов критиков'))"
   ]
  },
  {
   "cell_type": "code",
   "execution_count": 57,
   "id": "0b6fbd19",
   "metadata": {},
   "outputs": [
    {
     "data": {
      "text/plain": [
       "-0.04146733387366271"
      ]
     },
     "execution_count": 57,
     "metadata": {},
     "output_type": "execute_result"
    }
   ],
   "source": [
    "data_actual.query('platform == \"XOne\"')['total_sales'].corr(data_actual.query('platform == \"XOne\"')['user_score'])"
   ]
  },
  {
   "cell_type": "code",
   "execution_count": 58,
   "id": "608ee641",
   "metadata": {},
   "outputs": [
    {
     "data": {
      "text/plain": [
       "<AxesSubplot:title={'center':'Зависимость продаж игр от отзывов пользователей'}, xlabel='user_score', ylabel='total_sales'>"
      ]
     },
     "execution_count": 58,
     "metadata": {},
     "output_type": "execute_result"
    },
    {
     "data": {
      "image/png": "[encoded data removed]",
      "text/plain": [
       "<Figure size 432x288 with 1 Axes>"
      ]
     },
     "metadata": {
      "needs_background": "light"
     },
     "output_type": "display_data"
    }
   ],
   "source": [
    "data_actual.query('platform == \"XOne\"').plot(x = 'user_score', y = 'total_sales', \n",
    "                                            kind = 'scatter', title = ('Зависимость продаж игр от отзывов пользователей'))"
   ]
  },
  {
   "cell_type": "markdown",
   "id": "7a33bcf9",
   "metadata": {},
   "source": [
    "**3. Платформа `3DS`**\n",
    "\n",
    "Здесь, в целом, сохраняется тенденция предыдущих платформ, но есть одно но- коэффициент зависимости между отзывами критиков и продажами ниже, чем в предыдущих вариантах, однако коэффициент зависимости между отзывами пользователей и продажами- растет, между этими величинами наблюдается слабая зависимость. "
   ]
  },
  {
   "cell_type": "code",
   "execution_count": 59,
   "id": "a29c9c85",
   "metadata": {
    "scrolled": false
   },
   "outputs": [
    {
     "data": {
      "text/plain": [
       "0.17757455046092874"
      ]
     },
     "execution_count": 59,
     "metadata": {},
     "output_type": "execute_result"
    }
   ],
   "source": [
    "data_actual.query('platform == \"3DS\"')['total_sales'].corr(data_actual.query('platform == \"3DS\"')['critic_score'])"
   ]
  },
  {
   "cell_type": "code",
   "execution_count": 60,
   "id": "338788f0",
   "metadata": {
    "scrolled": true
   },
   "outputs": [
    {
     "data": {
      "text/plain": [
       "<AxesSubplot:title={'center':'Зависимость продаж игр от отзывов критиков'}, xlabel='critic_score', ylabel='total_sales'>"
      ]
     },
     "execution_count": 60,
     "metadata": {},
     "output_type": "execute_result"
    },
    {
     "data": {
      "image/png": "[encoded data removed]",
      "text/plain": [
       "<Figure size 432x288 with 1 Axes>"
      ]
     },
     "metadata": {
      "needs_background": "light"
     },
     "output_type": "display_data"
    }
   ],
   "source": [
    "data_actual.query('platform == \"3DS\"').plot(x = 'critic_score', y = 'total_sales', \n",
    "                                            kind = 'scatter', title = ('Зависимость продаж игр от отзывов критиков'))"
   ]
  },
  {
   "cell_type": "code",
   "execution_count": 61,
   "id": "5a957715",
   "metadata": {},
   "outputs": [
    {
     "data": {
      "text/plain": [
       "0.19879627008102985"
      ]
     },
     "execution_count": 61,
     "metadata": {},
     "output_type": "execute_result"
    }
   ],
   "source": [
    "data_actual.query('platform == \"3DS\"')['total_sales'].corr(data_actual.query('platform == \"3DS\"')['user_score'])"
   ]
  },
  {
   "cell_type": "code",
   "execution_count": 62,
   "id": "5b96ba44",
   "metadata": {
    "scrolled": true
   },
   "outputs": [
    {
     "data": {
      "text/plain": [
       "<AxesSubplot:title={'center':'Зависимость продаж игр от отзывов пользователей'}, xlabel='user_score', ylabel='total_sales'>"
      ]
     },
     "execution_count": 62,
     "metadata": {},
     "output_type": "execute_result"
    },
    {
     "data": {
      "image/png": "[encoded data removed]",
      "text/plain": [
       "<Figure size 432x288 with 1 Axes>"
      ]
     },
     "metadata": {
      "needs_background": "light"
     },
     "output_type": "display_data"
    }
   ],
   "source": [
    "data_actual.query('platform == \"3DS\"').plot(x = 'user_score', y = 'total_sales', \n",
    "                                            kind = 'scatter', title = ('Зависимость продаж игр от отзывов пользователей'))"
   ]
  },
  {
   "cell_type": "markdown",
   "id": "c85ed3fc",
   "metadata": {},
   "source": [
    "**4. Платформа `WiiU`**\n",
    "\n",
    "На этой платформе наблюдается примерно равная слабая связь как между отзывами критиков и продажей, так и между отзывами пользователей и продажей. Можно сказать, что именно на этой платформе пользователи больше всего ориентируются на отзывы при выборе игры. "
   ]
  },
  {
   "cell_type": "code",
   "execution_count": 63,
   "id": "ed9f730a",
   "metadata": {
    "scrolled": false
   },
   "outputs": [
    {
     "data": {
      "text/plain": [
       "0.31704571176962204"
      ]
     },
     "execution_count": 63,
     "metadata": {},
     "output_type": "execute_result"
    }
   ],
   "source": [
    "data_actual.query('platform == \"WiiU\"')['total_sales'].corr(data_actual.query('platform == \"WiiU\"')['critic_score'])"
   ]
  },
  {
   "cell_type": "code",
   "execution_count": 64,
   "id": "fc4b10d0",
   "metadata": {
    "scrolled": true
   },
   "outputs": [
    {
     "data": {
      "text/plain": [
       "<AxesSubplot:title={'center':'Зависимость продаж игр от отзывов критиков'}, xlabel='critic_score', ylabel='total_sales'>"
      ]
     },
     "execution_count": 64,
     "metadata": {},
     "output_type": "execute_result"
    },
    {
     "data": {
      "image/png": "[encoded data removed]",
      "text/plain": [
       "<Figure size 432x288 with 1 Axes>"
      ]
     },
     "metadata": {
      "needs_background": "light"
     },
     "output_type": "display_data"
    }
   ],
   "source": [
    "data_actual.query('platform == \"WiiU\"').plot(x = 'critic_score', y = 'total_sales', \n",
    "                                            kind = 'scatter', title = ('Зависимость продаж игр от отзывов критиков'))"
   ]
  },
  {
   "cell_type": "code",
   "execution_count": 65,
   "id": "fb774fc2",
   "metadata": {},
   "outputs": [
    {
     "data": {
      "text/plain": [
       "0.36351857248094444"
      ]
     },
     "execution_count": 65,
     "metadata": {},
     "output_type": "execute_result"
    }
   ],
   "source": [
    "data_actual.query('platform == \"WiiU\"')['total_sales'].corr(data_actual.query('platform == \"WiiU\"')['user_score'])"
   ]
  },
  {
   "cell_type": "code",
   "execution_count": 66,
   "id": "b3af9fd7",
   "metadata": {
    "scrolled": true
   },
   "outputs": [
    {
     "data": {
      "text/plain": [
       "<AxesSubplot:title={'center':'Зависимость продаж игр от отзывов пользователей'}, xlabel='user_score', ylabel='total_sales'>"
      ]
     },
     "execution_count": 66,
     "metadata": {},
     "output_type": "execute_result"
    },
    {
     "data": {
      "image/png": "[encoded data removed]",
      "text/plain": [
       "<Figure size 432x288 with 1 Axes>"
      ]
     },
     "metadata": {
      "needs_background": "light"
     },
     "output_type": "display_data"
    }
   ],
   "source": [
    "data_actual.query('platform == \"WiiU\"').plot(x = 'user_score', y = 'total_sales', \n",
    "                                            kind = 'scatter', title = ('Зависимость продаж игр от отзывов пользователей'))"
   ]
  },
  {
   "cell_type": "markdown",
   "id": "fc055630",
   "metadata": {},
   "source": [
    "**5. Платформа `PC`**\n",
    "\n",
    "На этой платформе так же, как и на предыдущей, наблюдается связь между продажами и отзывами критиков, а также слабая (но имеющаяся!) связь между продажами и отзывами покупателей, однако, меньше, чем на предыдущей платформе."
   ]
  },
  {
   "cell_type": "code",
   "execution_count": 67,
   "id": "1df4d513",
   "metadata": {},
   "outputs": [
    {
     "data": {
      "text/plain": [
       "0.3773317477241351"
      ]
     },
     "execution_count": 67,
     "metadata": {},
     "output_type": "execute_result"
    }
   ],
   "source": [
    "data_actual.query('platform == \"PC\"')['total_sales'].corr(data_actual.query('platform == \"PC\"')['critic_score'])"
   ]
  },
  {
   "cell_type": "code",
   "execution_count": 68,
   "id": "c3e9d178",
   "metadata": {},
   "outputs": [
    {
     "data": {
      "text/plain": [
       "<AxesSubplot:title={'center':'Зависимость продаж игр от отзывов критиков'}, xlabel='critic_score', ylabel='total_sales'>"
      ]
     },
     "execution_count": 68,
     "metadata": {},
     "output_type": "execute_result"
    },
    {
     "data": {
      "image/png": "[encoded data removed]",
      "text/plain": [
       "<Figure size 432x288 with 1 Axes>"
      ]
     },
     "metadata": {
      "needs_background": "light"
     },
     "output_type": "display_data"
    }
   ],
   "source": [
    "data_actual.query('platform == \"PC\"').plot(x = 'critic_score', y = 'total_sales', \n",
    "                                            kind = 'scatter', title = ('Зависимость продаж игр от отзывов критиков'))"
   ]
  },
  {
   "cell_type": "code",
   "execution_count": 69,
   "id": "48024bfc",
   "metadata": {},
   "outputs": [
    {
     "data": {
      "text/plain": [
       "0.15038053045029076"
      ]
     },
     "execution_count": 69,
     "metadata": {},
     "output_type": "execute_result"
    }
   ],
   "source": [
    "data_actual.query('platform == \"PC\"')['total_sales'].corr(data_actual.query('platform == \"PC\"')['user_score'])"
   ]
  },
  {
   "cell_type": "code",
   "execution_count": 70,
   "id": "a0fccfe4",
   "metadata": {},
   "outputs": [
    {
     "data": {
      "text/plain": [
       "<AxesSubplot:title={'center':'Зависимость продаж игр от отзывов пользователей'}, xlabel='user_score', ylabel='total_sales'>"
      ]
     },
     "execution_count": 70,
     "metadata": {},
     "output_type": "execute_result"
    },
    {
     "data": {
      "image/png": "[encoded data removed]",
      "text/plain": [
       "<Figure size 432x288 with 1 Axes>"
      ]
     },
     "metadata": {
      "needs_background": "light"
     },
     "output_type": "display_data"
    }
   ],
   "source": [
    "data_actual.query('platform == \"PC\"').plot(x = 'user_score', y = 'total_sales', \n",
    "                                            kind = 'scatter', title = ('Зависимость продаж игр от отзывов пользователей'))"
   ]
  },
  {
   "cell_type": "markdown",
   "id": "4c74f7e1",
   "metadata": {},
   "source": [
    "**Вывод по блоку:**\n",
    "\n",
    "Было найдено, что между отзывами критиков и продажами игр в среднем существует слабая зависимость, тогда как зависимость между оценками пользователей и продажами, по большей части, отсутствует. \n",
    "Думаю, это связано с тем, что высокую оценку критиков всегда получают ожидаемые серийные игры (FIFA, Call of Duty, GTA, Fallout), которые всегда хорошо продаются- это и дает слабую взаимосвязь между величинами. Однако при высоких продажах такая игра все равно может \"не зайти\" игрокам и получить низкие оценки пользователей. \n",
    "\n",
    "Среди рассмотренных платформ только `WiiU` и `PC` имеют слабую взаимосвязь продаж с обеими величинами- это значит, что при выборе игр пользователи этой платформы все-таки обращают внимание на отзывы. "
   ]
  },
  {
   "cell_type": "markdown",
   "id": "a3d64a94",
   "metadata": {},
   "source": [
    "### 3.3.3. Распределение игр по жанрам.\n",
    "Рассмотрим распределение игр по жанрам. Создадим сводную таблицу, где найдем самые кассовые и самые малопродаваемые жанры компьютерных игр:"
   ]
  },
  {
   "cell_type": "code",
   "execution_count": 71,
   "id": "8aca192e",
   "metadata": {},
   "outputs": [
    {
     "data": {
      "text/html": [
       "<div>\n",
       "<style scoped>\n",
       "    .dataframe tbody tr th:only-of-type {\n",
       "        vertical-align: middle;\n",
       "    }\n",
       "\n",
       "    .dataframe tbody tr th {\n",
       "        vertical-align: top;\n",
       "    }\n",
       "\n",
       "    .dataframe thead th {\n",
       "        text-align: right;\n",
       "    }\n",
       "</style>\n",
       "<table border=\"1\" class=\"dataframe\">\n",
       "  <thead>\n",
       "    <tr style=\"text-align: right;\">\n",
       "      <th>platform</th>\n",
       "      <th>3DS</th>\n",
       "      <th>PC</th>\n",
       "      <th>PS3</th>\n",
       "      <th>PS4</th>\n",
       "      <th>PSP</th>\n",
       "      <th>PSV</th>\n",
       "      <th>Wii</th>\n",
       "      <th>WiiU</th>\n",
       "      <th>X360</th>\n",
       "      <th>XOne</th>\n",
       "      <th>total</th>\n",
       "    </tr>\n",
       "    <tr>\n",
       "      <th>genre</th>\n",
       "      <th></th>\n",
       "      <th></th>\n",
       "      <th></th>\n",
       "      <th></th>\n",
       "      <th></th>\n",
       "      <th></th>\n",
       "      <th></th>\n",
       "      <th></th>\n",
       "      <th></th>\n",
       "      <th></th>\n",
       "      <th></th>\n",
       "    </tr>\n",
       "  </thead>\n",
       "  <tbody>\n",
       "    <tr>\n",
       "      <th>Shooter</th>\n",
       "      <td>0.00</td>\n",
       "      <td>3.29</td>\n",
       "      <td>2.48</td>\n",
       "      <td>57.16</td>\n",
       "      <td>0.00</td>\n",
       "      <td>0.00</td>\n",
       "      <td>0.00</td>\n",
       "      <td>4.81</td>\n",
       "      <td>2.38</td>\n",
       "      <td>35.61</td>\n",
       "      <td>105.73</td>\n",
       "    </tr>\n",
       "    <tr>\n",
       "      <th>Action</th>\n",
       "      <td>18.42</td>\n",
       "      <td>2.81</td>\n",
       "      <td>6.37</td>\n",
       "      <td>48.05</td>\n",
       "      <td>0.12</td>\n",
       "      <td>4.73</td>\n",
       "      <td>0.19</td>\n",
       "      <td>4.18</td>\n",
       "      <td>3.31</td>\n",
       "      <td>13.95</td>\n",
       "      <td>102.13</td>\n",
       "    </tr>\n",
       "    <tr>\n",
       "      <th>Sports</th>\n",
       "      <td>0.14</td>\n",
       "      <td>0.58</td>\n",
       "      <td>7.27</td>\n",
       "      <td>34.67</td>\n",
       "      <td>0.00</td>\n",
       "      <td>0.30</td>\n",
       "      <td>0.00</td>\n",
       "      <td>0.44</td>\n",
       "      <td>5.14</td>\n",
       "      <td>15.79</td>\n",
       "      <td>64.33</td>\n",
       "    </tr>\n",
       "    <tr>\n",
       "      <th>Role-Playing</th>\n",
       "      <td>15.20</td>\n",
       "      <td>2.53</td>\n",
       "      <td>1.23</td>\n",
       "      <td>23.51</td>\n",
       "      <td>0.00</td>\n",
       "      <td>3.09</td>\n",
       "      <td>0.00</td>\n",
       "      <td>1.52</td>\n",
       "      <td>0.00</td>\n",
       "      <td>8.74</td>\n",
       "      <td>55.82</td>\n",
       "    </tr>\n",
       "    <tr>\n",
       "      <th>Misc</th>\n",
       "      <td>2.76</td>\n",
       "      <td>0.04</td>\n",
       "      <td>0.70</td>\n",
       "      <td>2.23</td>\n",
       "      <td>0.00</td>\n",
       "      <td>0.76</td>\n",
       "      <td>1.13</td>\n",
       "      <td>3.63</td>\n",
       "      <td>0.58</td>\n",
       "      <td>2.34</td>\n",
       "      <td>14.17</td>\n",
       "    </tr>\n",
       "    <tr>\n",
       "      <th>Fighting</th>\n",
       "      <td>0.43</td>\n",
       "      <td>0.10</td>\n",
       "      <td>0.74</td>\n",
       "      <td>7.57</td>\n",
       "      <td>0.00</td>\n",
       "      <td>0.12</td>\n",
       "      <td>0.00</td>\n",
       "      <td>1.01</td>\n",
       "      <td>0.23</td>\n",
       "      <td>2.17</td>\n",
       "      <td>12.37</td>\n",
       "    </tr>\n",
       "    <tr>\n",
       "      <th>Adventure</th>\n",
       "      <td>0.69</td>\n",
       "      <td>0.34</td>\n",
       "      <td>1.05</td>\n",
       "      <td>5.16</td>\n",
       "      <td>0.00</td>\n",
       "      <td>1.23</td>\n",
       "      <td>0.00</td>\n",
       "      <td>0.01</td>\n",
       "      <td>1.28</td>\n",
       "      <td>2.22</td>\n",
       "      <td>11.98</td>\n",
       "    </tr>\n",
       "    <tr>\n",
       "      <th>Racing</th>\n",
       "      <td>0.00</td>\n",
       "      <td>0.33</td>\n",
       "      <td>0.10</td>\n",
       "      <td>5.76</td>\n",
       "      <td>0.00</td>\n",
       "      <td>0.05</td>\n",
       "      <td>0.00</td>\n",
       "      <td>0.00</td>\n",
       "      <td>0.01</td>\n",
       "      <td>4.61</td>\n",
       "      <td>10.86</td>\n",
       "    </tr>\n",
       "    <tr>\n",
       "      <th>Platform</th>\n",
       "      <td>0.77</td>\n",
       "      <td>0.06</td>\n",
       "      <td>0.11</td>\n",
       "      <td>2.49</td>\n",
       "      <td>0.00</td>\n",
       "      <td>0.04</td>\n",
       "      <td>0.00</td>\n",
       "      <td>5.34</td>\n",
       "      <td>0.19</td>\n",
       "      <td>0.28</td>\n",
       "      <td>9.28</td>\n",
       "    </tr>\n",
       "    <tr>\n",
       "      <th>Simulation</th>\n",
       "      <td>3.46</td>\n",
       "      <td>1.76</td>\n",
       "      <td>0.37</td>\n",
       "      <td>1.23</td>\n",
       "      <td>0.00</td>\n",
       "      <td>0.04</td>\n",
       "      <td>0.00</td>\n",
       "      <td>0.00</td>\n",
       "      <td>0.36</td>\n",
       "      <td>0.33</td>\n",
       "      <td>7.55</td>\n",
       "    </tr>\n",
       "    <tr>\n",
       "      <th>Strategy</th>\n",
       "      <td>0.37</td>\n",
       "      <td>1.93</td>\n",
       "      <td>0.00</td>\n",
       "      <td>0.30</td>\n",
       "      <td>0.00</td>\n",
       "      <td>0.13</td>\n",
       "      <td>0.00</td>\n",
       "      <td>0.00</td>\n",
       "      <td>0.00</td>\n",
       "      <td>0.25</td>\n",
       "      <td>2.98</td>\n",
       "    </tr>\n",
       "    <tr>\n",
       "      <th>Puzzle</th>\n",
       "      <td>0.68</td>\n",
       "      <td>0.00</td>\n",
       "      <td>0.00</td>\n",
       "      <td>0.02</td>\n",
       "      <td>0.00</td>\n",
       "      <td>0.01</td>\n",
       "      <td>0.00</td>\n",
       "      <td>0.01</td>\n",
       "      <td>0.00</td>\n",
       "      <td>0.00</td>\n",
       "      <td>0.72</td>\n",
       "    </tr>\n",
       "  </tbody>\n",
       "</table>\n",
       "</div>"
      ],
      "text/plain": [
       "platform        3DS    PC   PS3    PS4   PSP   PSV   Wii  WiiU  X360   XOne  \\\n",
       "genre                                                                         \n",
       "Shooter        0.00  3.29  2.48  57.16  0.00  0.00  0.00  4.81  2.38  35.61   \n",
       "Action        18.42  2.81  6.37  48.05  0.12  4.73  0.19  4.18  3.31  13.95   \n",
       "Sports         0.14  0.58  7.27  34.67  0.00  0.30  0.00  0.44  5.14  15.79   \n",
       "Role-Playing  15.20  2.53  1.23  23.51  0.00  3.09  0.00  1.52  0.00   8.74   \n",
       "Misc           2.76  0.04  0.70   2.23  0.00  0.76  1.13  3.63  0.58   2.34   \n",
       "Fighting       0.43  0.10  0.74   7.57  0.00  0.12  0.00  1.01  0.23   2.17   \n",
       "Adventure      0.69  0.34  1.05   5.16  0.00  1.23  0.00  0.01  1.28   2.22   \n",
       "Racing         0.00  0.33  0.10   5.76  0.00  0.05  0.00  0.00  0.01   4.61   \n",
       "Platform       0.77  0.06  0.11   2.49  0.00  0.04  0.00  5.34  0.19   0.28   \n",
       "Simulation     3.46  1.76  0.37   1.23  0.00  0.04  0.00  0.00  0.36   0.33   \n",
       "Strategy       0.37  1.93  0.00   0.30  0.00  0.13  0.00  0.00  0.00   0.25   \n",
       "Puzzle         0.68  0.00  0.00   0.02  0.00  0.01  0.00  0.01  0.00   0.00   \n",
       "\n",
       "platform       total  \n",
       "genre                 \n",
       "Shooter       105.73  \n",
       "Action        102.13  \n",
       "Sports         64.33  \n",
       "Role-Playing   55.82  \n",
       "Misc           14.17  \n",
       "Fighting       12.37  \n",
       "Adventure      11.98  \n",
       "Racing         10.86  \n",
       "Platform        9.28  \n",
       "Simulation      7.55  \n",
       "Strategy        2.98  \n",
       "Puzzle          0.72  "
      ]
     },
     "execution_count": 71,
     "metadata": {},
     "output_type": "execute_result"
    }
   ],
   "source": [
    "data_genre_all = data_actual.pivot_table(columns = 'platform', \n",
    "                                     index = 'genre', values = 'total_sales', aggfunc = 'sum', fill_value=0)\n",
    "data_genre_all['total'] = data_genre_all.sum(axis = 1)\n",
    "data_genre_all.sort_values(by = 'total', ascending = False)"
   ]
  },
  {
   "cell_type": "code",
   "execution_count": 72,
   "id": "89a454eb",
   "metadata": {},
   "outputs": [
    {
     "data": {
      "text/plain": [
       "<AxesSubplot:xlabel='Жанр', ylabel='Объем продаж'>"
      ]
     },
     "execution_count": 72,
     "metadata": {},
     "output_type": "execute_result"
    },
    {
     "data": {
      "image/png": "[encoded data removed]",
      "text/plain": [
       "<Figure size 432x288 with 1 Axes>"
      ]
     },
     "metadata": {
      "needs_background": "light"
     },
     "output_type": "display_data"
    }
   ],
   "source": [
    "data_genre_all.sort_values(by = 'total', ascending = False)['total'].plot(kind = 'bar', xlabel = 'Жанр', \n",
    "                                                                          ylabel = 'Объем продаж')"
   ]
  },
  {
   "cell_type": "markdown",
   "id": "78a5b6e7",
   "metadata": {},
   "source": [
    "Из сводной таблицы и диаграммы видно, что самыми популярными жанрами игр (среди всех платформ) являются: \n",
    "- Shooter (продажи- 105.73)\n",
    "- Action (продажи - 102.13) \n",
    "- Sports (продажи - 64.33)\n",
    "- Role-Playing (продажи - 55.82)\n",
    "- Fighting (продажи - 11.28)\n",
    "\n",
    "И самые низкоприбыльные жанры: \n",
    "- Simulation (продажи- 7.55)\n",
    "- Strategy (продажи - 2.98)\n",
    "- Puzzle (продажи - 0.72)\n",
    "\n",
    "Посмотрим, какое же распределение по жанрам в приоритетных платформах: "
   ]
  },
  {
   "cell_type": "code",
   "execution_count": 73,
   "id": "57337dfc",
   "metadata": {},
   "outputs": [
    {
     "data": {
      "text/html": [
       "<div>\n",
       "<style scoped>\n",
       "    .dataframe tbody tr th:only-of-type {\n",
       "        vertical-align: middle;\n",
       "    }\n",
       "\n",
       "    .dataframe tbody tr th {\n",
       "        vertical-align: top;\n",
       "    }\n",
       "\n",
       "    .dataframe thead th {\n",
       "        text-align: right;\n",
       "    }\n",
       "</style>\n",
       "<table border=\"1\" class=\"dataframe\">\n",
       "  <thead>\n",
       "    <tr style=\"text-align: right;\">\n",
       "      <th>platform</th>\n",
       "      <th>3DS</th>\n",
       "      <th>PC</th>\n",
       "      <th>PS4</th>\n",
       "      <th>WiiU</th>\n",
       "      <th>XOne</th>\n",
       "      <th>total</th>\n",
       "    </tr>\n",
       "    <tr>\n",
       "      <th>genre</th>\n",
       "      <th></th>\n",
       "      <th></th>\n",
       "      <th></th>\n",
       "      <th></th>\n",
       "      <th></th>\n",
       "      <th></th>\n",
       "    </tr>\n",
       "  </thead>\n",
       "  <tbody>\n",
       "    <tr>\n",
       "      <th>Shooter</th>\n",
       "      <td>0.00</td>\n",
       "      <td>3.29</td>\n",
       "      <td>57.16</td>\n",
       "      <td>4.81</td>\n",
       "      <td>35.61</td>\n",
       "      <td>100.87</td>\n",
       "    </tr>\n",
       "    <tr>\n",
       "      <th>Action</th>\n",
       "      <td>18.42</td>\n",
       "      <td>2.81</td>\n",
       "      <td>48.05</td>\n",
       "      <td>4.18</td>\n",
       "      <td>13.95</td>\n",
       "      <td>87.41</td>\n",
       "    </tr>\n",
       "    <tr>\n",
       "      <th>Sports</th>\n",
       "      <td>0.14</td>\n",
       "      <td>0.58</td>\n",
       "      <td>34.67</td>\n",
       "      <td>0.44</td>\n",
       "      <td>15.79</td>\n",
       "      <td>51.62</td>\n",
       "    </tr>\n",
       "    <tr>\n",
       "      <th>Role-Playing</th>\n",
       "      <td>15.20</td>\n",
       "      <td>2.53</td>\n",
       "      <td>23.51</td>\n",
       "      <td>1.52</td>\n",
       "      <td>8.74</td>\n",
       "      <td>51.50</td>\n",
       "    </tr>\n",
       "    <tr>\n",
       "      <th>Fighting</th>\n",
       "      <td>0.43</td>\n",
       "      <td>0.10</td>\n",
       "      <td>7.57</td>\n",
       "      <td>1.01</td>\n",
       "      <td>2.17</td>\n",
       "      <td>11.28</td>\n",
       "    </tr>\n",
       "    <tr>\n",
       "      <th>Misc</th>\n",
       "      <td>2.76</td>\n",
       "      <td>0.04</td>\n",
       "      <td>2.23</td>\n",
       "      <td>3.63</td>\n",
       "      <td>2.34</td>\n",
       "      <td>11.00</td>\n",
       "    </tr>\n",
       "    <tr>\n",
       "      <th>Racing</th>\n",
       "      <td>0.00</td>\n",
       "      <td>0.33</td>\n",
       "      <td>5.76</td>\n",
       "      <td>0.00</td>\n",
       "      <td>4.61</td>\n",
       "      <td>10.70</td>\n",
       "    </tr>\n",
       "    <tr>\n",
       "      <th>Platform</th>\n",
       "      <td>0.77</td>\n",
       "      <td>0.06</td>\n",
       "      <td>2.49</td>\n",
       "      <td>5.34</td>\n",
       "      <td>0.28</td>\n",
       "      <td>8.94</td>\n",
       "    </tr>\n",
       "    <tr>\n",
       "      <th>Adventure</th>\n",
       "      <td>0.69</td>\n",
       "      <td>0.34</td>\n",
       "      <td>5.16</td>\n",
       "      <td>0.01</td>\n",
       "      <td>2.22</td>\n",
       "      <td>8.42</td>\n",
       "    </tr>\n",
       "    <tr>\n",
       "      <th>Simulation</th>\n",
       "      <td>3.46</td>\n",
       "      <td>1.76</td>\n",
       "      <td>1.23</td>\n",
       "      <td>0.00</td>\n",
       "      <td>0.33</td>\n",
       "      <td>6.78</td>\n",
       "    </tr>\n",
       "    <tr>\n",
       "      <th>Strategy</th>\n",
       "      <td>0.37</td>\n",
       "      <td>1.93</td>\n",
       "      <td>0.30</td>\n",
       "      <td>0.00</td>\n",
       "      <td>0.25</td>\n",
       "      <td>2.85</td>\n",
       "    </tr>\n",
       "    <tr>\n",
       "      <th>Puzzle</th>\n",
       "      <td>0.68</td>\n",
       "      <td>0.00</td>\n",
       "      <td>0.02</td>\n",
       "      <td>0.01</td>\n",
       "      <td>0.00</td>\n",
       "      <td>0.71</td>\n",
       "    </tr>\n",
       "  </tbody>\n",
       "</table>\n",
       "</div>"
      ],
      "text/plain": [
       "platform        3DS    PC    PS4  WiiU   XOne   total\n",
       "genre                                                \n",
       "Shooter        0.00  3.29  57.16  4.81  35.61  100.87\n",
       "Action        18.42  2.81  48.05  4.18  13.95   87.41\n",
       "Sports         0.14  0.58  34.67  0.44  15.79   51.62\n",
       "Role-Playing  15.20  2.53  23.51  1.52   8.74   51.50\n",
       "Fighting       0.43  0.10   7.57  1.01   2.17   11.28\n",
       "Misc           2.76  0.04   2.23  3.63   2.34   11.00\n",
       "Racing         0.00  0.33   5.76  0.00   4.61   10.70\n",
       "Platform       0.77  0.06   2.49  5.34   0.28    8.94\n",
       "Adventure      0.69  0.34   5.16  0.01   2.22    8.42\n",
       "Simulation     3.46  1.76   1.23  0.00   0.33    6.78\n",
       "Strategy       0.37  1.93   0.30  0.00   0.25    2.85\n",
       "Puzzle         0.68  0.00   0.02  0.01   0.00    0.71"
      ]
     },
     "execution_count": 73,
     "metadata": {},
     "output_type": "execute_result"
    }
   ],
   "source": [
    "data_genre_top = data_actual.query('platform in @data_actual_top.index').pivot_table(columns = 'platform', \n",
    "                                     index = 'genre', values = 'total_sales', aggfunc = 'sum', fill_value=0)\n",
    "data_genre_top['total'] = data_genre_top.sum(axis = 1)\n",
    "data_genre_top.sort_values(by = 'total', ascending = False)"
   ]
  },
  {
   "cell_type": "markdown",
   "id": "92e33410",
   "metadata": {},
   "source": [
    "Видно, что и в выбранных платформах точно такой же порядок популярных и непопулярных платформ.\n",
    "Проверим, сколько приносят 2 самые популярные и 2 самые непопулярные платформы:\n"
   ]
  },
  {
   "cell_type": "code",
   "execution_count": 74,
   "id": "2d0cc0cb",
   "metadata": {},
   "outputs": [
    {
     "data": {
      "text/plain": [
       "0.53"
      ]
     },
     "execution_count": 74,
     "metadata": {},
     "output_type": "execute_result"
    }
   ],
   "source": [
    "round((data_genre_top.loc['Action', 'total'] + data_genre_top.loc['Shooter', 'total']) /  \n",
    "      data_genre_top['total'].sum(), 2)  #доля 2 самых популярных категорий"
   ]
  },
  {
   "cell_type": "code",
   "execution_count": 75,
   "id": "a3042de3",
   "metadata": {
    "scrolled": true
   },
   "outputs": [
    {
     "data": {
      "text/plain": [
       "0.01"
      ]
     },
     "execution_count": 75,
     "metadata": {},
     "output_type": "execute_result"
    }
   ],
   "source": [
    "round((data_genre_top.loc['Strategy', 'total'] + data_genre_top.loc['Puzzle', 'total']) /  \n",
    "      data_genre_top['total'].sum(), 2)  #доля 2 самых непопулярных категорий"
   ]
  },
  {
   "cell_type": "markdown",
   "id": "c2b0caea",
   "metadata": {},
   "source": [
    "Построим диаграмму, где посмотрим на самые популярные жанры в разрезе платформ.\n",
    "\n",
    "**По самым популярным жанрам** можно сказать следующее: \n",
    "\n",
    "1) В жанре \"Shooter\" на первом месте `PS4`, далее `Xone`, платформа `3DS` практически не представлена. \n",
    "\n",
    "2) В жанре \"Action\" лидирует платформа `PS4`, далее идет `3DS`. Меньше всех представлена платформа `PC`.\n",
    "\n",
    "3) Жанр \"Sports\" - лидеры те же, что и у \"Shooter\", платформы `3DS` и `WiiU` - минимальные продажи.\n",
    "\n",
    "4) Жанр \"Role-Playing\" - лидирует `PS4`, далее идет `3DS`, все остальные платформы представлены намного меньше. Минимальное значение - у платформы `WiiU`.\n",
    "\n",
    "5) Жанр \"Fighting\" - на первом месте `PS4`, далее `Xone`, остальные платформы представлены мало."
   ]
  },
  {
   "cell_type": "code",
   "execution_count": 76,
   "id": "839b5bd6",
   "metadata": {},
   "outputs": [
    {
     "data": {
      "text/plain": [
       "<AxesSubplot:xlabel='Жанр', ylabel='Объем продаж'>"
      ]
     },
     "execution_count": 76,
     "metadata": {},
     "output_type": "execute_result"
    },
    {
     "data": {
      "image/png": "[encoded data removed]",
      "text/plain": [
       "<Figure size 864x504 with 1 Axes>"
      ]
     },
     "metadata": {
      "needs_background": "light"
     },
     "output_type": "display_data"
    }
   ],
   "source": [
    "data_genre_top_head5 = data_genre_top.sort_values(by = 'total', ascending = False).head()\n",
    "data_genre_top_head5 = data_genre_top_head5[['3DS', 'PC', 'PS4', 'WiiU', 'XOne']]\n",
    "data_genre_top_head5.plot(kind = 'bar', width = 0.8, figsize = (12, 7), xlabel = \"Жанр\", ylabel = \"Объем продаж\")"
   ]
  },
  {
   "cell_type": "markdown",
   "id": "728e5709",
   "metadata": {},
   "source": [
    "Если посчитать долю 5 самых популярных жанров игр в общих продажах выбранных платформ, то она гигантская и составляет 86% от общих продаж. "
   ]
  },
  {
   "cell_type": "code",
   "execution_count": 77,
   "id": "ea24eb40",
   "metadata": {},
   "outputs": [
    {
     "data": {
      "text/plain": [
       "0.86"
      ]
     },
     "execution_count": 77,
     "metadata": {},
     "output_type": "execute_result"
    }
   ],
   "source": [
    "round((data_genre_top.loc['Action', 'total'] + data_genre_top.loc['Shooter', 'total'] + data_genre_top.loc\n",
    "       ['Role-Playing', 'total'] + data_genre_top.loc['Sports', 'total'] + data_genre_top.loc\n",
    "      ['Fighting', 'total']) /  data_genre_top['total'].sum(), 2)  #доля 5 самых популярных категорий"
   ]
  },
  {
   "cell_type": "markdown",
   "id": "bf176b19",
   "metadata": {},
   "source": [
    "Сделаем выборку по **самым непопулярным жанрам**.\n",
    "\n",
    "1) Жанр \"Platform\" - больше всего продаж у платформы `WiiU`, далее идет `PS4`. \n",
    "\n",
    "2) Жанр \"Adventure\" - безоговорочно лидирует `PS4`, остальные платформы представлены мало. \n",
    "\n",
    "3) Жанр \"Simulation\" - лидирует `3DS` с огромным отрывом от других платформ. \n",
    "\n",
    "4) Жанр \"Strategy\" - больше всего продаж у платформы `PС`. \n",
    "\n",
    "5) Жанр \"Puzzle\" - лидирует `3DS`. Остальные платформы практически не представлены. "
   ]
  },
  {
   "cell_type": "code",
   "execution_count": 78,
   "id": "4fff433b",
   "metadata": {},
   "outputs": [
    {
     "data": {
      "text/plain": [
       "<AxesSubplot:xlabel='Жанр', ylabel='Объем продаж'>"
      ]
     },
     "execution_count": 78,
     "metadata": {},
     "output_type": "execute_result"
    },
    {
     "data": {
      "image/png": "[encoded data removed]",
      "text/plain": [
       "<Figure size 864x504 with 1 Axes>"
      ]
     },
     "metadata": {
      "needs_background": "light"
     },
     "output_type": "display_data"
    }
   ],
   "source": [
    "data_genre_top_tail5 = data_genre_top.sort_values(by = 'total', ascending = False).tail()\n",
    "data_genre_top_tail5 = data_genre_top_tail5[['3DS', 'PC', 'PS4', 'WiiU', 'XOne']]\n",
    "data_genre_top_tail5.plot(kind = 'bar', width = 0.8, figsize = (12, 7), xlabel = \"Жанр\", ylabel = \"Объем продаж\")"
   ]
  },
  {
   "cell_type": "markdown",
   "id": "2fc42c3a",
   "metadata": {},
   "source": [
    "Если по аналогии с предыдущим шагом посчитать долю 5 самых малораспостраненных жанров, то она составит всего 8% от общих продаж. "
   ]
  },
  {
   "cell_type": "code",
   "execution_count": 79,
   "id": "8c109aac",
   "metadata": {},
   "outputs": [
    {
     "data": {
      "text/plain": [
       "0.08"
      ]
     },
     "execution_count": 79,
     "metadata": {},
     "output_type": "execute_result"
    }
   ],
   "source": [
    "round((data_genre_top.loc['Platform', 'total'] + data_genre_top.loc['Simulation', 'total'] + data_genre_top.loc\n",
    "       ['Adventure', 'total'] + data_genre_top.loc['Strategy', 'total'] + data_genre_top.loc\n",
    "      ['Puzzle', 'total']) /  data_genre_top['total'].sum(), 2)  #доля 5 самых непопулярных категорий"
   ]
  },
  {
   "cell_type": "markdown",
   "id": "9f174804",
   "metadata": {},
   "source": [
    "Проанализируем 5 самых популярных жанров на диаграмме размаха. \n",
    "Если посмотреть первый график, видно, что наиболее длинный ряд успешно продающихся игр в жанре `Shooter`- здесь и самое высокое значение Q3 (около 1,75), и самое большое значение верхней границы межквартильного размаха (значение ок. 4). Также в этом жанре есть игра-лидер продаж (значение ок. 14,5). \n",
    "Изменим масштаб и рассмотрим графики более детально. "
   ]
  },
  {
   "cell_type": "code",
   "execution_count": 80,
   "id": "e55fbbd2",
   "metadata": {
    "scrolled": false
   },
   "outputs": [
    {
     "data": {
      "text/plain": [
       "<AxesSubplot:xlabel='genre', ylabel='total_sales'>"
      ]
     },
     "execution_count": 80,
     "metadata": {},
     "output_type": "execute_result"
    },
    {
     "data": {
      "image/png": "[encoded data removed]",
      "text/plain": [
       "<Figure size 720x360 with 1 Axes>"
      ]
     },
     "metadata": {
      "needs_background": "light"
     },
     "output_type": "display_data"
    }
   ],
   "source": [
    "plt.figure(figsize=[10,5])\n",
    "sns.boxplot(data = data_actual.query('platform in @data_actual_top.index and genre in @data_genre_top_head5.index'), \n",
    "            x = 'genre', y = 'total_sales')"
   ]
  },
  {
   "cell_type": "markdown",
   "id": "b10d5a28",
   "metadata": {},
   "source": [
    "На масштабированном графике продолжает выделяться жанр `Shooter` - как имеющий самый большой предел Q3 (ок. 1.75). Если рассмотреть медианное значение, то жанр `Shooter` снова будет лидировать (медиана - ок. 0.40, т.е. сдвинута вниз к пределу Q1). Далее с отрывом идет жанр `Role-Playing` (медиана - ок. 0,25), за ним -  `Sports` и `Fighting` (ок. 0.2) и завершает пятерку `Action` - медиана в районе 0.15. У всех жанров медиана сдвинута вниз, к Q1, предел Q3 для жанров составляет: \n",
    "- `Shooter` - 1.75.\n",
    "- `Sports` - 0.60.\n",
    "- `Role-Playing` - 0.50.\n",
    "- `Fighting` - 0.35. \n",
    "- `Action` - 0.30.\n",
    "\n",
    "Предел верхнего межквартильного размаха уменьшается в такой же последовательности, за исключением того, что у жанра `Fighting` граница Q3 практически совпадает с верхним пределом. \n",
    "У жанра `Action` - видим большое количество \"выбросов\", которые не попали в статистические показатели - т.е. у этого жанра кроме \"середнячков\" есть и немало кассовых игр. \n",
    "\n",
    "Из всего вышеперечисленного, считаю, что наиболее стабильным является жанр `Shooter` (как самый популярный и кассовый - продажи игр в этом жанре выше, чем в каком-либо другом). Также неплохо себя показывают жанры `Sports` (2е место по продажам) и `Action` (имеет как неплохие средние показатели, так и большое количество \"кучно\" идущих продающихся игр). "
   ]
  },
  {
   "cell_type": "code",
   "execution_count": 81,
   "id": "31ba3f89",
   "metadata": {
    "scrolled": false
   },
   "outputs": [
    {
     "data": {
      "text/plain": [
       "<AxesSubplot:xlabel='genre', ylabel='total_sales'>"
      ]
     },
     "execution_count": 81,
     "metadata": {},
     "output_type": "execute_result"
    },
    {
     "data": {
      "image/png": "[encoded data removed]",
      "text/plain": [
       "<Figure size 720x360 with 1 Axes>"
      ]
     },
     "metadata": {
      "needs_background": "light"
     },
     "output_type": "display_data"
    }
   ],
   "source": [
    "plt.figure(figsize=[10,5])\n",
    "plt.ylim([0, 2])\n",
    "sns.boxplot(data = data_actual.query('platform in @data_actual_top.index and genre in @data_genre_top_head5.index'), \n",
    "            x = 'genre', y = 'total_sales')"
   ]
  },
  {
   "cell_type": "markdown",
   "id": "fb044e1d",
   "metadata": {},
   "source": [
    "**Вывод по блоку:**\n",
    "\n",
    "Были найдены как самые популярные, так и наименее популярные жанры игр среди выбранных платформ. Оказалось, что среди самых популярных жанров велика доля платформs `PS4`, а среди непопулярных жанров больше всего игр представлено на платформе `3DS`. Два самых популярных жанра (Action, Shooter) - приносят 53% от продаж всех игр (при общей доле в продажах 5 самых популярных жанров в 86%) , два самых непопулярных (Strategy, Puzzle) - приносят около 1 % (при доле 5 самых непопулярных жанров в 8%). \n",
    "Наиболее стабильным является жанр `Shooter` (как самый популярный и кассовый - продажи игр в этом жанре выше, чем в каком-либо другом)."
   ]
  },
  {
   "cell_type": "markdown",
   "id": "9776a1c8",
   "metadata": {},
   "source": [
    "# 4. Портрет пользователя в каждом из регионов\n",
    "Рассмотрение пользователя каждого региона невозможно без сравнения с глобальными показателями. \n",
    "Посмотрим, какие платформы из выбранных нами популярны в том или ином регионе. "
   ]
  },
  {
   "cell_type": "code",
   "execution_count": 82,
   "id": "25f80651",
   "metadata": {},
   "outputs": [],
   "source": [
    "platform_global = data_actual_top\n",
    "platform_global['percent'] = round((platform_global['total_sales'] / platform_global['total_sales'].sum() *100), 2)"
   ]
  },
  {
   "cell_type": "code",
   "execution_count": 83,
   "id": "b8564233",
   "metadata": {},
   "outputs": [],
   "source": [
    "platform_na = data_actual.query('platform in @data_actual_top.index').pivot_table(index = 'platform', values = 'na_sales', \n",
    "                        aggfunc = 'sum').sort_values(by = 'na_sales', ascending = False).head()\n",
    "platform_na['percent'] = round((platform_na['na_sales'] / platform_na['na_sales'].sum() *100), 2)"
   ]
  },
  {
   "cell_type": "code",
   "execution_count": 84,
   "id": "62019d1e",
   "metadata": {},
   "outputs": [],
   "source": [
    "platform_eu = data_actual.query('platform in @data_actual_top.index').pivot_table(index = 'platform', values = 'eu_sales', \n",
    "                        aggfunc = 'sum').sort_values(by = 'eu_sales', ascending = False).head()\n",
    "platform_eu['percent'] = round((platform_eu['eu_sales'] / platform_eu['eu_sales'].sum() *100), 2)"
   ]
  },
  {
   "cell_type": "code",
   "execution_count": 85,
   "id": "192d2c57",
   "metadata": {},
   "outputs": [],
   "source": [
    "platform_jp = data_actual.query('platform in @data_actual_top.index').pivot_table(index = 'platform', values = 'jp_sales', \n",
    "                        aggfunc = 'sum').sort_values(by = 'jp_sales', ascending = False).head()\n",
    "platform_jp['percent'] = round((platform_jp['jp_sales'] / platform_jp['jp_sales'].sum() *100), 2)"
   ]
  },
  {
   "cell_type": "markdown",
   "id": "7043a9a4",
   "metadata": {},
   "source": [
    "## 4.1. Популярные игровые консоли в каждом из регионов\n",
    "Построим общий график, где рассмотрим популярные консоли в каждом из регионов. "
   ]
  },
  {
   "cell_type": "code",
   "execution_count": 86,
   "id": "5316a537",
   "metadata": {},
   "outputs": [
    {
     "data": {
      "image/png": "[encoded data removed]",
      "text/plain": [
       "<Figure size 1080x720 with 4 Axes>"
      ]
     },
     "metadata": {
      "needs_background": "light"
     },
     "output_type": "display_data"
    }
   ],
   "source": [
    "fig = plt.figure(figsize=(15, 10))\n",
    "plt.suptitle(\"Диаграмма популярности игровых консолей в различных регионах\")\n",
    "\n",
    "plt.subplot(2, 2, 1)\n",
    "platform_global['percent'].plot(kind = 'bar', xlabel = ' ', ylabel = '% продаж', title = ('Глобальные продажи'))\n",
    "\n",
    "plt.subplot(2, 2, 2)\n",
    "platform_na['percent'].plot(kind = 'bar', xlabel = ' ', ylabel = '% продаж', title = ('Регион NA'))\n",
    "\n",
    "plt.subplot(2, 2, 3)\n",
    "platform_eu['percent'].plot(kind = 'bar', xlabel = ' ', ylabel = '% продаж', title = ('Регион EU'))\n",
    "\n",
    "plt.subplot(2, 2, 4)\n",
    "platform_jp['percent'].plot(kind = 'bar', xlabel = ' ', ylabel = '% продаж', title = ('Регион JP'))\n",
    "\n",
    "plt.show()"
   ]
  },
  {
   "cell_type": "markdown",
   "id": "724b653a",
   "metadata": {},
   "source": [
    "Видно, что в регионах `NA` и `EU` безоговорочные лидеры сохраняются: на первом месте платформа `PS4` (ок. 45% в регионе `NA` и 60% - в регионе `EU`), далее идет платформа `XOne` (ок. 35% в регионе `NA` и 20% - в регионе `EU`). Затем порядок популярности меняется: в регионе `NA` это `3DS`, `WiiU` (9 и 7% соответственно) и `PC` (ок. 5%); в регионе `EU` оставшиеся 3 платформы занимают долю примерно по 7% каждая.  \n",
    "\n",
    "В регионе `JP` лидеры продаж совсем иные- на первом месте с большим отрывом `3DS` (ок. 58%), далее `PS4` (ок. 30%), `WiiU` (ок. 10%). `XOne` занимает долю в 1-2% и `PC` вообще не котируется на данном рынке.  Т.е в этом регионе тренды абсолютно не совпадают с глобальными показателями и было верным решением выбрать как потенциально прибыльные непопулярные на европейском рынке `3DS` и `WiiU`."
   ]
  },
  {
   "cell_type": "markdown",
   "id": "f0960e43",
   "metadata": {},
   "source": [
    "## 4.2. Популярные игровые жанры в каждом из регионов\n",
    "Здесь также составим общий график и посмотрим на различия в жанрах. "
   ]
  },
  {
   "cell_type": "code",
   "execution_count": 87,
   "id": "1f0ae5af",
   "metadata": {},
   "outputs": [],
   "source": [
    "genre_global = data_actual.query('platform in @data_actual_top.index').pivot_table(index = 'genre', \n",
    "                                            values = 'total_sales', aggfunc = 'sum').sort_values(by = 'total_sales', ascending = False).head()\n",
    "genre_global['percent'] = round((genre_global['total_sales'] / genre_global['total_sales'].sum() *100), 2)"
   ]
  },
  {
   "cell_type": "code",
   "execution_count": 88,
   "id": "71dc7a9a",
   "metadata": {
    "scrolled": false
   },
   "outputs": [],
   "source": [
    "genre_na = data_actual.query('platform in @data_actual_top.index').pivot_table(index = 'genre', \n",
    "                                            values = 'na_sales', aggfunc = 'sum').sort_values(by = 'na_sales', ascending = False).head()\n",
    "genre_na['percent'] = round((genre_na['na_sales'] / genre_na['na_sales'].sum() *100), 2)"
   ]
  },
  {
   "cell_type": "code",
   "execution_count": 89,
   "id": "f792e7be",
   "metadata": {},
   "outputs": [],
   "source": [
    "genre_eu = data_actual.query('platform in @data_actual_top.index').pivot_table(index = 'genre', \n",
    "                                            values = 'eu_sales', aggfunc = 'sum').sort_values(by = 'eu_sales', ascending = False).head()\n",
    "genre_eu['percent'] = round((genre_eu['eu_sales'] / genre_eu['eu_sales'].sum() *100), 2)"
   ]
  },
  {
   "cell_type": "code",
   "execution_count": 90,
   "id": "97bb1ba6",
   "metadata": {},
   "outputs": [],
   "source": [
    "genre_jp= data_actual.query('platform in @data_actual_top.index').pivot_table(index = 'genre', \n",
    "                                            values = 'jp_sales', aggfunc = 'sum').sort_values(by = 'jp_sales', ascending = False).head()\n",
    "genre_jp['percent'] = round((genre_jp['jp_sales'] / genre_jp['jp_sales'].sum() *100), 2)"
   ]
  },
  {
   "cell_type": "code",
   "execution_count": 91,
   "id": "e62ae9e3",
   "metadata": {},
   "outputs": [
    {
     "data": {
      "image/png": "[encoded data removed]",
      "text/plain": [
       "<Figure size 1080x720 with 4 Axes>"
      ]
     },
     "metadata": {
      "needs_background": "light"
     },
     "output_type": "display_data"
    }
   ],
   "source": [
    "fig = plt.figure(figsize=(15, 10))\n",
    "plt.suptitle(\"Диаграмма популярности жанров игр в различных регионах\")\n",
    "\n",
    "plt.subplot(2, 2, 1)\n",
    "genre_global['percent'].plot(kind = 'bar', xlabel = ' ', ylabel = '% продаж', title = ('Глобальные продажи'))\n",
    "\n",
    "plt.subplot(2, 2, 2)\n",
    "genre_na['percent'].plot(kind = 'bar', xlabel = ' ', ylabel = '% продаж', title = ('Регион NA'))\n",
    "\n",
    "plt.subplot(2, 2, 3)\n",
    "genre_eu['percent'].plot(kind = 'bar', xlabel = ' ', ylabel = '% продаж', title = ('Регион EU'))\n",
    "\n",
    "plt.subplot(2, 2, 4)\n",
    "genre_jp['percent'].plot(kind = 'bar', xlabel = ' ', ylabel = '% продаж', title = ('Регион JP'))\n",
    "\n",
    "plt.show()"
   ]
  },
  {
   "cell_type": "markdown",
   "id": "1acadeaf",
   "metadata": {},
   "source": [
    "Как видно, ТОП-5 в регионе `NA` абсолютно совпадает с глобальным. В регионе `EU` - все также совпадает с глобальной разбивкой, за исключением последней, 5 позиции- в регионе на этом месте располагается жанр `Racing`, а не `Fighting`. Но лидеры остаются теми же самыми: на первом месте с большим отрывом жанр `Shooter`, на втором- `Action`.\n",
    "\n",
    "В регионе `JP`, как и в прошлом случае, ситуация совершенно иная: глобальный лидер `Shooter` всего лишь на 3м месте, тогда как на первом - `Action` (ок. 48%), далее - `Role-Playing` (ок. 30%). В пятерку здесь также попали жанры, которых не было ранее- на 4м месте `Misc` (ок. 8%) и `Simulation`(ок. 7%)."
   ]
  },
  {
   "cell_type": "markdown",
   "id": "b523dc96",
   "metadata": {},
   "source": [
    "## 4.1. Портрет пользователя Североамериканского региона (NA)\n",
    "\n",
    "Составление портретов игроков начнем с Североамериканского региона (`NA`). Как видно, ТОП-5 платформ остался таким же, как и был выбран мною для рассмотрения, но есть различия в доле продаж. "
   ]
  },
  {
   "cell_type": "markdown",
   "id": "00d90a16",
   "metadata": {},
   "source": [
    "В этом регионе распределение популярных жанров полностью совпадает с глобальными лидерами, безоговорочно лидирует жанр `Shooter`. Если мы загрузим список самых популярных игр, то увидим, что из 5 самых популярных игр по 2 из них- на платформах `PS4` и `XOne`, пятая - на платформе `3DS`."
   ]
  },
  {
   "cell_type": "code",
   "execution_count": 92,
   "id": "9a858242",
   "metadata": {},
   "outputs": [
    {
     "data": {
      "text/html": [
       "<div>\n",
       "<style scoped>\n",
       "    .dataframe tbody tr th:only-of-type {\n",
       "        vertical-align: middle;\n",
       "    }\n",
       "\n",
       "    .dataframe tbody tr th {\n",
       "        vertical-align: top;\n",
       "    }\n",
       "\n",
       "    .dataframe thead th {\n",
       "        text-align: right;\n",
       "    }\n",
       "</style>\n",
       "<table border=\"1\" class=\"dataframe\">\n",
       "  <thead>\n",
       "    <tr style=\"text-align: right;\">\n",
       "      <th></th>\n",
       "      <th>name</th>\n",
       "      <th>platform</th>\n",
       "      <th>year_of_release</th>\n",
       "      <th>genre</th>\n",
       "      <th>na_sales</th>\n",
       "      <th>eu_sales</th>\n",
       "      <th>jp_sales</th>\n",
       "      <th>other_sales</th>\n",
       "      <th>critic_score</th>\n",
       "      <th>user_score</th>\n",
       "      <th>rating</th>\n",
       "      <th>rating_score</th>\n",
       "      <th>total_sales</th>\n",
       "    </tr>\n",
       "  </thead>\n",
       "  <tbody>\n",
       "    <tr>\n",
       "      <th>31</th>\n",
       "      <td>Call of Duty: Black Ops 3</td>\n",
       "      <td>PS4</td>\n",
       "      <td>2015</td>\n",
       "      <td>Shooter</td>\n",
       "      <td>6.03</td>\n",
       "      <td>5.86</td>\n",
       "      <td>0.36</td>\n",
       "      <td>2.38</td>\n",
       "      <td>NaN</td>\n",
       "      <td>NaN</td>\n",
       "      <td>M</td>\n",
       "      <td>4.0</td>\n",
       "      <td>14.63</td>\n",
       "    </tr>\n",
       "    <tr>\n",
       "      <th>99</th>\n",
       "      <td>Call of Duty: Black Ops 3</td>\n",
       "      <td>XOne</td>\n",
       "      <td>2015</td>\n",
       "      <td>Shooter</td>\n",
       "      <td>4.59</td>\n",
       "      <td>2.11</td>\n",
       "      <td>0.01</td>\n",
       "      <td>0.68</td>\n",
       "      <td>NaN</td>\n",
       "      <td>NaN</td>\n",
       "      <td>M</td>\n",
       "      <td>4.0</td>\n",
       "      <td>7.39</td>\n",
       "    </tr>\n",
       "    <tr>\n",
       "      <th>87</th>\n",
       "      <td>Star Wars Battlefront (2015)</td>\n",
       "      <td>PS4</td>\n",
       "      <td>2015</td>\n",
       "      <td>Shooter</td>\n",
       "      <td>2.99</td>\n",
       "      <td>3.49</td>\n",
       "      <td>0.22</td>\n",
       "      <td>1.28</td>\n",
       "      <td>NaN</td>\n",
       "      <td>NaN</td>\n",
       "      <td>M</td>\n",
       "      <td>4.0</td>\n",
       "      <td>7.98</td>\n",
       "    </tr>\n",
       "    <tr>\n",
       "      <th>108</th>\n",
       "      <td>Pokemon Sun/Moon</td>\n",
       "      <td>3DS</td>\n",
       "      <td>2016</td>\n",
       "      <td>Role-Playing</td>\n",
       "      <td>2.98</td>\n",
       "      <td>1.45</td>\n",
       "      <td>2.26</td>\n",
       "      <td>0.45</td>\n",
       "      <td>NaN</td>\n",
       "      <td>NaN</td>\n",
       "      <td>T</td>\n",
       "      <td>3.0</td>\n",
       "      <td>7.14</td>\n",
       "    </tr>\n",
       "    <tr>\n",
       "      <th>242</th>\n",
       "      <td>Halo 5: Guardians</td>\n",
       "      <td>XOne</td>\n",
       "      <td>2015</td>\n",
       "      <td>Shooter</td>\n",
       "      <td>2.78</td>\n",
       "      <td>1.27</td>\n",
       "      <td>0.03</td>\n",
       "      <td>0.41</td>\n",
       "      <td>84.0</td>\n",
       "      <td>6.4</td>\n",
       "      <td>T</td>\n",
       "      <td>3.0</td>\n",
       "      <td>4.49</td>\n",
       "    </tr>\n",
       "  </tbody>\n",
       "</table>\n",
       "</div>"
      ],
      "text/plain": [
       "                             name platform  year_of_release         genre  \\\n",
       "31      Call of Duty: Black Ops 3      PS4             2015       Shooter   \n",
       "99      Call of Duty: Black Ops 3     XOne             2015       Shooter   \n",
       "87   Star Wars Battlefront (2015)      PS4             2015       Shooter   \n",
       "108              Pokemon Sun/Moon      3DS             2016  Role-Playing   \n",
       "242             Halo 5: Guardians     XOne             2015       Shooter   \n",
       "\n",
       "     na_sales  eu_sales  jp_sales  other_sales  critic_score  user_score  \\\n",
       "31       6.03      5.86      0.36         2.38           NaN         NaN   \n",
       "99       4.59      2.11      0.01         0.68           NaN         NaN   \n",
       "87       2.99      3.49      0.22         1.28           NaN         NaN   \n",
       "108      2.98      1.45      2.26         0.45           NaN         NaN   \n",
       "242      2.78      1.27      0.03         0.41          84.0         6.4   \n",
       "\n",
       "    rating  rating_score  total_sales  \n",
       "31       M           4.0        14.63  \n",
       "99       M           4.0         7.39  \n",
       "87       M           4.0         7.98  \n",
       "108      T           3.0         7.14  \n",
       "242      T           3.0         4.49  "
      ]
     },
     "execution_count": 92,
     "metadata": {},
     "output_type": "execute_result"
    }
   ],
   "source": [
    "data_actual.query('platform in @data_actual_top.index').sort_values(by = 'na_sales', ascending = False).head()"
   ]
  },
  {
   "cell_type": "markdown",
   "id": "5fd400ec",
   "metadata": {},
   "source": [
    "Рассмотрим также, влияет ли рейтинг игры на ее продажи? Рассмотрим это при помощи сводной таблицы:"
   ]
  },
  {
   "cell_type": "code",
   "execution_count": 93,
   "id": "d2f34026",
   "metadata": {},
   "outputs": [
    {
     "data": {
      "text/html": [
       "<div>\n",
       "<style scoped>\n",
       "    .dataframe tbody tr th:only-of-type {\n",
       "        vertical-align: middle;\n",
       "    }\n",
       "\n",
       "    .dataframe tbody tr th {\n",
       "        vertical-align: top;\n",
       "    }\n",
       "\n",
       "    .dataframe thead th {\n",
       "        text-align: right;\n",
       "    }\n",
       "</style>\n",
       "<table border=\"1\" class=\"dataframe\">\n",
       "  <thead>\n",
       "    <tr style=\"text-align: right;\">\n",
       "      <th></th>\n",
       "      <th>na_sales</th>\n",
       "    </tr>\n",
       "    <tr>\n",
       "      <th>rating</th>\n",
       "      <th></th>\n",
       "    </tr>\n",
       "  </thead>\n",
       "  <tbody>\n",
       "    <tr>\n",
       "      <th>E</th>\n",
       "      <td>0.131429</td>\n",
       "    </tr>\n",
       "    <tr>\n",
       "      <th>E10+</th>\n",
       "      <td>0.162200</td>\n",
       "    </tr>\n",
       "    <tr>\n",
       "      <th>M</th>\n",
       "      <td>0.432603</td>\n",
       "    </tr>\n",
       "    <tr>\n",
       "      <th>T</th>\n",
       "      <td>0.106132</td>\n",
       "    </tr>\n",
       "  </tbody>\n",
       "</table>\n",
       "</div>"
      ],
      "text/plain": [
       "        na_sales\n",
       "rating          \n",
       "E       0.131429\n",
       "E10+    0.162200\n",
       "M       0.432603\n",
       "T       0.106132"
      ]
     },
     "execution_count": 93,
     "metadata": {},
     "output_type": "execute_result"
    }
   ],
   "source": [
    "data_actual.query('platform in @data_actual_top.index').pivot_table(index = 'rating', values = 'na_sales')"
   ]
  },
  {
   "cell_type": "code",
   "execution_count": 94,
   "id": "914e5e62",
   "metadata": {},
   "outputs": [
    {
     "data": {
      "text/plain": [
       "<AxesSubplot:xlabel='rating'>"
      ]
     },
     "execution_count": 94,
     "metadata": {},
     "output_type": "execute_result"
    },
    {
     "data": {
      "image/png": "[encoded data removed]",
      "text/plain": [
       "<Figure size 432x288 with 1 Axes>"
      ]
     },
     "metadata": {
      "needs_background": "light"
     },
     "output_type": "display_data"
    }
   ],
   "source": [
    "data_actual.query('platform in @data_actual_top.index').pivot_table(index = 'rating', values = 'na_sales').plot(kind = 'bar')"
   ]
  },
  {
   "cell_type": "markdown",
   "id": "0e4c1e36",
   "metadata": {},
   "source": [
    "Если посмотреть на график, то видно, что самыми популярными являются игры для взрослых (М - категория 17+), далее идут семейные игры Е10+ (от 10 лет), (Е - категория 6+) и, наконец, игры для подростков (Т - 14+). Можно предположить, что покупатели приставок берут игры сначала для себя, а потом и для детей, чем и обуславливается популярность данных двух категорий. В списке самых полпулярных игр для данного региона видно, что 3 из 5 популярных игр имеют взрослый рейтинг М, а 2 - подростковый рейтинг Т. \n",
    "\n",
    "Таким образом, портрет среднего игрока в регионе `NA`: **пользователь, играющий в Shooter - \"Call of Duty: Black Ops II\" (рейтинг М), на платформе PS4**"
   ]
  },
  {
   "cell_type": "markdown",
   "id": "0ef96cf5",
   "metadata": {},
   "source": [
    "## 4.2. Портрет пользователя Европейского региона (EU)\n",
    "\n",
    "Продолжим составлять портреты пользователей и перейдем на европейский рынок (`EU`). Посмотрим игры-лидеры продаж и изучим распределение рейтингов игр:"
   ]
  },
  {
   "cell_type": "markdown",
   "id": "d7c2a820",
   "metadata": {},
   "source": [
    "В этом регионе, в отличие от предыдущего, все 5 популярных игр выпущены на одну платформу- `PS4`. Лидером продаж же здесь стала игра жанра `Sports` - **FIFA16**"
   ]
  },
  {
   "cell_type": "code",
   "execution_count": 95,
   "id": "cedde1bf",
   "metadata": {},
   "outputs": [
    {
     "data": {
      "text/html": [
       "<div>\n",
       "<style scoped>\n",
       "    .dataframe tbody tr th:only-of-type {\n",
       "        vertical-align: middle;\n",
       "    }\n",
       "\n",
       "    .dataframe tbody tr th {\n",
       "        vertical-align: top;\n",
       "    }\n",
       "\n",
       "    .dataframe thead th {\n",
       "        text-align: right;\n",
       "    }\n",
       "</style>\n",
       "<table border=\"1\" class=\"dataframe\">\n",
       "  <thead>\n",
       "    <tr style=\"text-align: right;\">\n",
       "      <th></th>\n",
       "      <th>name</th>\n",
       "      <th>platform</th>\n",
       "      <th>year_of_release</th>\n",
       "      <th>genre</th>\n",
       "      <th>na_sales</th>\n",
       "      <th>eu_sales</th>\n",
       "      <th>jp_sales</th>\n",
       "      <th>other_sales</th>\n",
       "      <th>critic_score</th>\n",
       "      <th>user_score</th>\n",
       "      <th>rating</th>\n",
       "      <th>rating_score</th>\n",
       "      <th>total_sales</th>\n",
       "    </tr>\n",
       "  </thead>\n",
       "  <tbody>\n",
       "    <tr>\n",
       "      <th>77</th>\n",
       "      <td>FIFA 16</td>\n",
       "      <td>PS4</td>\n",
       "      <td>2015</td>\n",
       "      <td>Sports</td>\n",
       "      <td>1.12</td>\n",
       "      <td>6.12</td>\n",
       "      <td>0.06</td>\n",
       "      <td>1.28</td>\n",
       "      <td>82.0</td>\n",
       "      <td>4.3</td>\n",
       "      <td>E</td>\n",
       "      <td>1.0</td>\n",
       "      <td>8.58</td>\n",
       "    </tr>\n",
       "    <tr>\n",
       "      <th>31</th>\n",
       "      <td>Call of Duty: Black Ops 3</td>\n",
       "      <td>PS4</td>\n",
       "      <td>2015</td>\n",
       "      <td>Shooter</td>\n",
       "      <td>6.03</td>\n",
       "      <td>5.86</td>\n",
       "      <td>0.36</td>\n",
       "      <td>2.38</td>\n",
       "      <td>NaN</td>\n",
       "      <td>NaN</td>\n",
       "      <td>M</td>\n",
       "      <td>4.0</td>\n",
       "      <td>14.63</td>\n",
       "    </tr>\n",
       "    <tr>\n",
       "      <th>94</th>\n",
       "      <td>FIFA 17</td>\n",
       "      <td>PS4</td>\n",
       "      <td>2016</td>\n",
       "      <td>Sports</td>\n",
       "      <td>0.66</td>\n",
       "      <td>5.75</td>\n",
       "      <td>0.08</td>\n",
       "      <td>1.11</td>\n",
       "      <td>85.0</td>\n",
       "      <td>5.0</td>\n",
       "      <td>E</td>\n",
       "      <td>1.0</td>\n",
       "      <td>7.60</td>\n",
       "    </tr>\n",
       "    <tr>\n",
       "      <th>87</th>\n",
       "      <td>Star Wars Battlefront (2015)</td>\n",
       "      <td>PS4</td>\n",
       "      <td>2015</td>\n",
       "      <td>Shooter</td>\n",
       "      <td>2.99</td>\n",
       "      <td>3.49</td>\n",
       "      <td>0.22</td>\n",
       "      <td>1.28</td>\n",
       "      <td>NaN</td>\n",
       "      <td>NaN</td>\n",
       "      <td>M</td>\n",
       "      <td>4.0</td>\n",
       "      <td>7.98</td>\n",
       "    </tr>\n",
       "    <tr>\n",
       "      <th>105</th>\n",
       "      <td>Fallout 4</td>\n",
       "      <td>PS4</td>\n",
       "      <td>2015</td>\n",
       "      <td>Role-Playing</td>\n",
       "      <td>2.53</td>\n",
       "      <td>3.27</td>\n",
       "      <td>0.24</td>\n",
       "      <td>1.13</td>\n",
       "      <td>87.0</td>\n",
       "      <td>6.5</td>\n",
       "      <td>M</td>\n",
       "      <td>4.0</td>\n",
       "      <td>7.17</td>\n",
       "    </tr>\n",
       "  </tbody>\n",
       "</table>\n",
       "</div>"
      ],
      "text/plain": [
       "                             name platform  year_of_release         genre  \\\n",
       "77                        FIFA 16      PS4             2015        Sports   \n",
       "31      Call of Duty: Black Ops 3      PS4             2015       Shooter   \n",
       "94                        FIFA 17      PS4             2016        Sports   \n",
       "87   Star Wars Battlefront (2015)      PS4             2015       Shooter   \n",
       "105                     Fallout 4      PS4             2015  Role-Playing   \n",
       "\n",
       "     na_sales  eu_sales  jp_sales  other_sales  critic_score  user_score  \\\n",
       "77       1.12      6.12      0.06         1.28          82.0         4.3   \n",
       "31       6.03      5.86      0.36         2.38           NaN         NaN   \n",
       "94       0.66      5.75      0.08         1.11          85.0         5.0   \n",
       "87       2.99      3.49      0.22         1.28           NaN         NaN   \n",
       "105      2.53      3.27      0.24         1.13          87.0         6.5   \n",
       "\n",
       "    rating  rating_score  total_sales  \n",
       "77       E           1.0         8.58  \n",
       "31       M           4.0        14.63  \n",
       "94       E           1.0         7.60  \n",
       "87       M           4.0         7.98  \n",
       "105      M           4.0         7.17  "
      ]
     },
     "execution_count": 95,
     "metadata": {},
     "output_type": "execute_result"
    }
   ],
   "source": [
    "data_actual.query('platform in @data_actual_top.index').sort_values(by = 'eu_sales', ascending = False).head()"
   ]
  },
  {
   "cell_type": "markdown",
   "id": "697e0da8",
   "metadata": {},
   "source": [
    "В распределении игр по рейтингу сохраняется та же картина, что и в североамериканском регионе - лидируют игры с рейтингом М, далее Е, Е10+ и Т. Можно сказать то же самое, что приставка покупается не только для индивидуального, но и для семейного пользования. Однако если мы посмотрим на таблицу 5 самых популярных игр региона, то 3 из них имеют \"взрослый\" рейтинг М, 2 же другие- имеют \"семейный\" рейтинг Е (6+), что наводит на мысль- в этом регионе популярны игры в приставку с детьми и пользователи обращают внимание на такие игры. "
   ]
  },
  {
   "cell_type": "code",
   "execution_count": 96,
   "id": "a0e2848c",
   "metadata": {
    "scrolled": true
   },
   "outputs": [
    {
     "data": {
      "text/html": [
       "<div>\n",
       "<style scoped>\n",
       "    .dataframe tbody tr th:only-of-type {\n",
       "        vertical-align: middle;\n",
       "    }\n",
       "\n",
       "    .dataframe tbody tr th {\n",
       "        vertical-align: top;\n",
       "    }\n",
       "\n",
       "    .dataframe thead th {\n",
       "        text-align: right;\n",
       "    }\n",
       "</style>\n",
       "<table border=\"1\" class=\"dataframe\">\n",
       "  <thead>\n",
       "    <tr style=\"text-align: right;\">\n",
       "      <th></th>\n",
       "      <th>eu_sales</th>\n",
       "    </tr>\n",
       "    <tr>\n",
       "      <th>rating</th>\n",
       "      <th></th>\n",
       "    </tr>\n",
       "  </thead>\n",
       "  <tbody>\n",
       "    <tr>\n",
       "      <th>E</th>\n",
       "      <td>0.193901</td>\n",
       "    </tr>\n",
       "    <tr>\n",
       "      <th>E10+</th>\n",
       "      <td>0.101900</td>\n",
       "    </tr>\n",
       "    <tr>\n",
       "      <th>M</th>\n",
       "      <td>0.408082</td>\n",
       "    </tr>\n",
       "    <tr>\n",
       "      <th>T</th>\n",
       "      <td>0.092956</td>\n",
       "    </tr>\n",
       "  </tbody>\n",
       "</table>\n",
       "</div>"
      ],
      "text/plain": [
       "        eu_sales\n",
       "rating          \n",
       "E       0.193901\n",
       "E10+    0.101900\n",
       "M       0.408082\n",
       "T       0.092956"
      ]
     },
     "execution_count": 96,
     "metadata": {},
     "output_type": "execute_result"
    }
   ],
   "source": [
    "data_actual.query('platform in @data_actual_top.index').pivot_table(index = 'rating', values = 'eu_sales')"
   ]
  },
  {
   "cell_type": "code",
   "execution_count": 97,
   "id": "eaf7fbf4",
   "metadata": {},
   "outputs": [
    {
     "data": {
      "text/plain": [
       "<AxesSubplot:xlabel='rating'>"
      ]
     },
     "execution_count": 97,
     "metadata": {},
     "output_type": "execute_result"
    },
    {
     "data": {
      "image/png": "[encoded data removed]",
      "text/plain": [
       "<Figure size 432x288 with 1 Axes>"
      ]
     },
     "metadata": {
      "needs_background": "light"
     },
     "output_type": "display_data"
    }
   ],
   "source": [
    "data_actual.query('platform in @data_actual_top.index').pivot_table(index = 'rating', values = 'eu_sales').plot(kind = 'bar')"
   ]
  },
  {
   "cell_type": "markdown",
   "id": "6e49a117",
   "metadata": {},
   "source": [
    "Тем самым, портрет европейского пользователя следующий:  **пользователь, играющий в Sports - \"FIFA 16\" (рейтинг М), на платформе PS4**"
   ]
  },
  {
   "cell_type": "markdown",
   "id": "7a8ecfba",
   "metadata": {},
   "source": [
    "## 4.3. Портрет пользователя Японского региона (JP)\n",
    "\n",
    "Рассмотрим портрет японского польхователя (`JP`). Как было сказано выше, лидирующие консоли здесь совсем другие, нежели в Европейском или Североамериканском регионе, здесь лидирует `3DS` и `WiiU`. Посмотрим, какие же игры популярны здесь: "
   ]
  },
  {
   "cell_type": "markdown",
   "id": "29a71218",
   "metadata": {},
   "source": [
    "ТОП популярных игр также кардинально отличается от топа игр Америки и Европы - здесь 4 из 5 игр принадлежат платформе 3DS и 2 игры из 5 - в жанре `Action`. "
   ]
  },
  {
   "cell_type": "code",
   "execution_count": 98,
   "id": "20685a8c",
   "metadata": {},
   "outputs": [
    {
     "data": {
      "text/html": [
       "<div>\n",
       "<style scoped>\n",
       "    .dataframe tbody tr th:only-of-type {\n",
       "        vertical-align: middle;\n",
       "    }\n",
       "\n",
       "    .dataframe tbody tr th {\n",
       "        vertical-align: top;\n",
       "    }\n",
       "\n",
       "    .dataframe thead th {\n",
       "        text-align: right;\n",
       "    }\n",
       "</style>\n",
       "<table border=\"1\" class=\"dataframe\">\n",
       "  <thead>\n",
       "    <tr style=\"text-align: right;\">\n",
       "      <th></th>\n",
       "      <th>name</th>\n",
       "      <th>platform</th>\n",
       "      <th>year_of_release</th>\n",
       "      <th>genre</th>\n",
       "      <th>na_sales</th>\n",
       "      <th>eu_sales</th>\n",
       "      <th>jp_sales</th>\n",
       "      <th>other_sales</th>\n",
       "      <th>critic_score</th>\n",
       "      <th>user_score</th>\n",
       "      <th>rating</th>\n",
       "      <th>rating_score</th>\n",
       "      <th>total_sales</th>\n",
       "    </tr>\n",
       "  </thead>\n",
       "  <tbody>\n",
       "    <tr>\n",
       "      <th>406</th>\n",
       "      <td>Monster Hunter X</td>\n",
       "      <td>3DS</td>\n",
       "      <td>2015</td>\n",
       "      <td>Action</td>\n",
       "      <td>0.27</td>\n",
       "      <td>0.21</td>\n",
       "      <td>2.79</td>\n",
       "      <td>0.05</td>\n",
       "      <td>NaN</td>\n",
       "      <td>NaN</td>\n",
       "      <td>T</td>\n",
       "      <td>3.0</td>\n",
       "      <td>3.32</td>\n",
       "    </tr>\n",
       "    <tr>\n",
       "      <th>694</th>\n",
       "      <td>Yokai Watch Busters</td>\n",
       "      <td>3DS</td>\n",
       "      <td>2015</td>\n",
       "      <td>Action</td>\n",
       "      <td>0.00</td>\n",
       "      <td>0.00</td>\n",
       "      <td>2.29</td>\n",
       "      <td>0.00</td>\n",
       "      <td>NaN</td>\n",
       "      <td>NaN</td>\n",
       "      <td>T</td>\n",
       "      <td>3.0</td>\n",
       "      <td>2.29</td>\n",
       "    </tr>\n",
       "    <tr>\n",
       "      <th>108</th>\n",
       "      <td>Pokemon Sun/Moon</td>\n",
       "      <td>3DS</td>\n",
       "      <td>2016</td>\n",
       "      <td>Role-Playing</td>\n",
       "      <td>2.98</td>\n",
       "      <td>1.45</td>\n",
       "      <td>2.26</td>\n",
       "      <td>0.45</td>\n",
       "      <td>NaN</td>\n",
       "      <td>NaN</td>\n",
       "      <td>T</td>\n",
       "      <td>3.0</td>\n",
       "      <td>7.14</td>\n",
       "    </tr>\n",
       "    <tr>\n",
       "      <th>247</th>\n",
       "      <td>Splatoon</td>\n",
       "      <td>WiiU</td>\n",
       "      <td>2015</td>\n",
       "      <td>Shooter</td>\n",
       "      <td>1.54</td>\n",
       "      <td>1.18</td>\n",
       "      <td>1.46</td>\n",
       "      <td>0.26</td>\n",
       "      <td>81.0</td>\n",
       "      <td>8.5</td>\n",
       "      <td>E10+</td>\n",
       "      <td>2.0</td>\n",
       "      <td>4.44</td>\n",
       "    </tr>\n",
       "    <tr>\n",
       "      <th>457</th>\n",
       "      <td>Animal Crossing: Happy Home Designer</td>\n",
       "      <td>3DS</td>\n",
       "      <td>2015</td>\n",
       "      <td>Simulation</td>\n",
       "      <td>0.51</td>\n",
       "      <td>1.02</td>\n",
       "      <td>1.40</td>\n",
       "      <td>0.12</td>\n",
       "      <td>66.0</td>\n",
       "      <td>6.9</td>\n",
       "      <td>E</td>\n",
       "      <td>1.0</td>\n",
       "      <td>3.05</td>\n",
       "    </tr>\n",
       "  </tbody>\n",
       "</table>\n",
       "</div>"
      ],
      "text/plain": [
       "                                     name platform  year_of_release  \\\n",
       "406                      Monster Hunter X      3DS             2015   \n",
       "694                   Yokai Watch Busters      3DS             2015   \n",
       "108                      Pokemon Sun/Moon      3DS             2016   \n",
       "247                              Splatoon     WiiU             2015   \n",
       "457  Animal Crossing: Happy Home Designer      3DS             2015   \n",
       "\n",
       "            genre  na_sales  eu_sales  jp_sales  other_sales  critic_score  \\\n",
       "406        Action      0.27      0.21      2.79         0.05           NaN   \n",
       "694        Action      0.00      0.00      2.29         0.00           NaN   \n",
       "108  Role-Playing      2.98      1.45      2.26         0.45           NaN   \n",
       "247       Shooter      1.54      1.18      1.46         0.26          81.0   \n",
       "457    Simulation      0.51      1.02      1.40         0.12          66.0   \n",
       "\n",
       "     user_score rating  rating_score  total_sales  \n",
       "406         NaN      T           3.0         3.32  \n",
       "694         NaN      T           3.0         2.29  \n",
       "108         NaN      T           3.0         7.14  \n",
       "247         8.5   E10+           2.0         4.44  \n",
       "457         6.9      E           1.0         3.05  "
      ]
     },
     "execution_count": 98,
     "metadata": {},
     "output_type": "execute_result"
    }
   ],
   "source": [
    "data_actual.query('platform in @data_actual_top.index').sort_values(by = 'jp_sales', ascending = False).head()"
   ]
  },
  {
   "cell_type": "markdown",
   "id": "46c09135",
   "metadata": {},
   "source": [
    "Если посмотреть на влияние рейтинга игры на продажи, здесь опять же данные очень отличаются от регионов `NA` и `EU`. \n",
    "Лидируют с большим отрывом - игры для подростков (Т- 14+), затем игры для детей Е (6+) и Е10+ (10+), игры для взрослых игроков (М)- только четвертом, последнем месте. \n",
    "Можно предположить, что здесь приставки покупаются в первую очередь для детей, взрослые играют в них намного меньше. Это подтверждается и тем, что самая популярная игра в данном регионе имеет рейтинг Т. "
   ]
  },
  {
   "cell_type": "code",
   "execution_count": 99,
   "id": "2ab8303d",
   "metadata": {},
   "outputs": [
    {
     "name": "stdout",
     "output_type": "stream",
     "text": [
      "<class 'pandas.core.frame.DataFrame'>\n",
      "RangeIndex: 16715 entries, 0 to 16714\n",
      "Data columns (total 11 columns):\n",
      " #   Column           Non-Null Count  Dtype  \n",
      "---  ------           --------------  -----  \n",
      " 0   Name             16713 non-null  object \n",
      " 1   Platform         16715 non-null  object \n",
      " 2   Year_of_Release  16446 non-null  float64\n",
      " 3   Genre            16713 non-null  object \n",
      " 4   NA_sales         16715 non-null  float64\n",
      " 5   EU_sales         16715 non-null  float64\n",
      " 6   JP_sales         16715 non-null  float64\n",
      " 7   Other_sales      16715 non-null  float64\n",
      " 8   Critic_Score     8137 non-null   float64\n",
      " 9   User_Score       10014 non-null  object \n",
      " 10  Rating           9949 non-null   object \n",
      "dtypes: float64(6), object(5)\n",
      "memory usage: 1.4+ MB\n"
     ]
    }
   ],
   "source": [
    "# check\n",
    "df = pd.read_csv('/datasets/games.csv')\n",
    "\n",
    "df.info()\n",
    "df['Rating'] = df['Rating'].fillna('unknown')"
   ]
  },
  {
   "cell_type": "code",
   "execution_count": 100,
   "id": "69dca119",
   "metadata": {},
   "outputs": [
    {
     "name": "stdout",
     "output_type": "stream",
     "text": [
      "<class 'pandas.core.frame.DataFrame'>\n",
      "RangeIndex: 16715 entries, 0 to 16714\n",
      "Data columns (total 11 columns):\n",
      " #   Column           Non-Null Count  Dtype  \n",
      "---  ------           --------------  -----  \n",
      " 0   Name             16713 non-null  object \n",
      " 1   Platform         16715 non-null  object \n",
      " 2   Year_of_Release  16446 non-null  float64\n",
      " 3   Genre            16713 non-null  object \n",
      " 4   NA_sales         16715 non-null  float64\n",
      " 5   EU_sales         16715 non-null  float64\n",
      " 6   JP_sales         16715 non-null  float64\n",
      " 7   Other_sales      16715 non-null  float64\n",
      " 8   Critic_Score     8137 non-null   float64\n",
      " 9   User_Score       10014 non-null  object \n",
      " 10  Rating           16715 non-null  object \n",
      "dtypes: float64(6), object(5)\n",
      "memory usage: 1.4+ MB\n"
     ]
    }
   ],
   "source": [
    "# check\n",
    "df.info()"
   ]
  },
  {
   "cell_type": "code",
   "execution_count": 110,
   "id": "1ecfc21e",
   "metadata": {},
   "outputs": [
    {
     "data": {
      "image/png": "[encoded data removed]",
      "text/plain": [
       "<Figure size 432x288 with 1 Axes>"
      ]
     },
     "metadata": {
      "needs_background": "light"
     },
     "output_type": "display_data"
    }
   ],
   "source": [
    "(\n",
    "    df\n",
    "    .query('Platform in @data_actual_top.index')\n",
    "    .pivot_table(index = 'Rating', values = 'JP_sales', aggfunc = 'sum')\n",
    "    .plot(kind = 'bar')\n",
    ");"
   ]
  },
  {
   "cell_type": "code",
   "execution_count": 102,
   "id": "355492d7",
   "metadata": {},
   "outputs": [
    {
     "data": {
      "text/plain": [
       "<AxesSubplot:xlabel='rating'>"
      ]
     },
     "execution_count": 102,
     "metadata": {},
     "output_type": "execute_result"
    },
    {
     "data": {
      "image/png": "[encoded data removed]",
      "text/plain": [
       "<Figure size 432x288 with 1 Axes>"
      ]
     },
     "metadata": {
      "needs_background": "light"
     },
     "output_type": "display_data"
    }
   ],
   "source": [
    "data_actual.query('platform in @data_actual_top.index').pivot_table(index = 'rating', values = 'jp_sales').plot(kind = 'bar')"
   ]
  },
  {
   "cell_type": "markdown",
   "id": "aad3efce",
   "metadata": {},
   "source": [
    "Таким образом, портрет пользователя в регионе `JP`: **пользователь, играющий в Action - \"Monster Hunter X\" (рейтинг Т) на платформе 3DS**"
   ]
  },
  {
   "cell_type": "markdown",
   "id": "5933f022",
   "metadata": {},
   "source": [
    "**Вывод по блоку:**\n",
    "\n",
    "В процессе исследования было выяснено, что предпочтения игроков из регионов `NA` и `EU` схожи, это подтверждается пересечениями в самых популярных приставках  и жанрах игр.  Пользователи из этих регионов покупают приставки в первую очередь для личного использования, но также велика доля и игр для детей. В общем, данные по регионам `NA` и `EU` совпадают с общемировыми показателями. \n",
    "\n",
    "Ситуация же в японском регионе `JP` абсолютно иная. В лидерах - совершенно иные приставки, нежели в двух других регионах, рейтинг жанров тоже отличается. Возможно, это связано с тем, что большой популярностью в японском регионе пользуются семейные игры, что может значить следующее- приставка покупается как подарок для ребенка или средство семейного досуга. \n"
   ]
  },
  {
   "cell_type": "markdown",
   "id": "aaf30200",
   "metadata": {},
   "source": [
    "# 5. Проверка гипотез\n",
    "## 5.1. Средние пользовательские рейтинги платформ XBox One и PC - одинаковые\n",
    "\n",
    "Проверим гипотезы и подтвердим или опровергнем их. \n",
    "Сформулируем нулевую и альтернативную гипотезы: \n",
    "\n",
    "- Н0: \"Средние пользовательские рейтинги платформ XBox One и PC - **равны**\"\n",
    "- Н1: \"Средние пользовательские рейтинги платформ XBox One и PC - **не равны**\"\n",
    "\n",
    "Для подтверждения или опровержения воспользуемся гипотезой о равенстве среднего двух генеральных совокупностей по взятым из них выборкам.  Для проверки используем метод `st.ttest_ind` и зададим `alpha = 0.05` и параметр `equal_var = False` - дисперсии выборок не считать равными. "
   ]
  },
  {
   "cell_type": "code",
   "execution_count": 103,
   "id": "53283875",
   "metadata": {},
   "outputs": [],
   "source": [
    "sample_xone = data_actual.query('platform in @data_actual_top.index and platform == \"XOne\"')['user_score']\n",
    "sample_xone = sample_xone.dropna()\n",
    "xone_array = np.asarray(sample_xone)"
   ]
  },
  {
   "cell_type": "code",
   "execution_count": 104,
   "id": "a32599c6",
   "metadata": {},
   "outputs": [],
   "source": [
    "sample_pc = data_actual.query('platform in @data_actual_top.index and platform == \"PC\"')['user_score']\n",
    "sample_pc = sample_pc.dropna()\n",
    "pc_array = np.asarray(sample_pc)"
   ]
  },
  {
   "cell_type": "code",
   "execution_count": 105,
   "id": "f9111c46",
   "metadata": {},
   "outputs": [
    {
     "name": "stdout",
     "output_type": "stream",
     "text": [
      "p-значение:  0.2946308864003345\n",
      "Верна нулевая гипотеза Н0\n"
     ]
    }
   ],
   "source": [
    "alpha = .05 # критический уровень статистической значимости\n",
    "\n",
    "result_platform = st.ttest_ind(xone_array, pc_array, equal_var = False)\n",
    "\n",
    "print('p-значение: ', result_platform.pvalue)\n",
    "\n",
    "if result_platform.pvalue < alpha:\n",
    "    print(\"Верна альтернативная гипотеза Н1\")\n",
    "else:\n",
    "    print(\"Верна нулевая гипотеза Н0\") "
   ]
  },
  {
   "cell_type": "markdown",
   "id": "66345849",
   "metadata": {},
   "source": [
    "**Вывод**:\n",
    "\n",
    "В результате теста было получено значение `p-value` = 0.29. Это значит, что мы имеем 29% вероятности получить такое или бОльшее различие случайно. Это большая вероятность, чтобы делать вывод о значимом различии рейтингов. Соответственно,  мы не отвергаем сформулированную нулевую гипотезу о равенстве пользовательских рейтингов на платформах Xbox One и PC. "
   ]
  },
  {
   "cell_type": "code",
   "execution_count": 106,
   "id": "4442a58b",
   "metadata": {},
   "outputs": [
    {
     "name": "stdout",
     "output_type": "stream",
     "text": [
      "p-значение: 0.1912450522572209\n",
      "Не получилось отвергнуть нулевую гипотезу\n"
     ]
    }
   ],
   "source": [
    "# Приведены два датасета: сумма покупок, совершённых за месяц посетителями ...\n",
    "\n",
    "sample_1 = [3071, 3636, 3454, 3151, 2185, 3259, 1727, 2263, 2015,\n",
    "2582, 4815, 633, 3186, 887, 2028, 3589, 2564, 1422, 1785,\n",
    "3180, 1770, 2716, 2546, 1848, 4644, 3134, 475, 2686,\n",
    "1838, 3352]\n",
    "sample_2 = [1211, 1228, 2157, 3699, 600, 1898, 1688, 1420, 5048, 3007,\n",
    "509, 3777, 5583, 3949, 121, 1674, 4300, 1338, 3066,\n",
    "3562, 1010, 2311, 462, 863, 2021, 528, 1849, 255,\n",
    "1740, 2596]\n",
    "alpha = .05 # критический уровень статистической значимости\n",
    "# если p-value окажется меньше него - отвергнем гипотезу\n",
    "results = st.ttest_ind(\n",
    "sample_1,\n",
    "sample_2)\n",
    "print('p-значение:', results.pvalue)\n",
    "if (results.pvalue < alpha):\n",
    "    print(\"Отвергаем нулевую гипотезу\")\n",
    "else:\n",
    "\n",
    "    print(\"Не получилось отвергнуть нулевую гипотезу\")"
   ]
  },
  {
   "cell_type": "markdown",
   "id": "d18b46f6",
   "metadata": {},
   "source": [
    "## 5.2. Средние пользовательские рейтинги жанров \"Action\" и \"Sports\" - разные"
   ]
  },
  {
   "cell_type": "markdown",
   "id": "af838a11",
   "metadata": {},
   "source": [
    "Здесь также воспользуемся гипотезой о равенстве среднего двух генеральных совокупностей по взятым из них выборкам.  Для проверки используем метод `st.ttest_ind` и зададим `alpha = 0.05` и параметр `equal_var = False` - дисперсии выборок не считать равными. \n",
    "Сформулируем гипотезы: \n",
    "\n",
    "- Н0: \"Средние пользовательские рейтинги жанров \"Action\" и \"Sports\" - равны.\"\n",
    "- Н1: \"Средние пользовательские рейтинги жанров \"Action\" и \"Sports\" - НЕ равны.\""
   ]
  },
  {
   "cell_type": "code",
   "execution_count": 107,
   "id": "6bb9deb2",
   "metadata": {},
   "outputs": [],
   "source": [
    "sample_action = data_actual.query('platform in @data_actual_top.index and genre == \"Action\"')['user_score']\n",
    "sample_action = sample_action.dropna()\n",
    "action_array = np.asarray(sample_action)"
   ]
  },
  {
   "cell_type": "code",
   "execution_count": 108,
   "id": "95403dde",
   "metadata": {},
   "outputs": [],
   "source": [
    "sample_sports = data_actual.query('platform in @data_actual_top.index and genre == \"Sports\"')['user_score']\n",
    "sample_sports = sample_sports.dropna()\n",
    "sports_array = np.asarray(sample_sports)"
   ]
  },
  {
   "cell_type": "code",
   "execution_count": 109,
   "id": "5c8e770f",
   "metadata": {},
   "outputs": [
    {
     "name": "stdout",
     "output_type": "stream",
     "text": [
      "p-значение:  1.6403234671994533e-06\n",
      "Верна альтернативная гипотеза Н1\n"
     ]
    }
   ],
   "source": [
    "alpha = .05 # критический уровень статистической значимости\n",
    "\n",
    "result_platform = st.ttest_ind(action_array, sports_array, equal_var = False)\n",
    "\n",
    "print('p-значение: ', result_platform.pvalue)\n",
    "\n",
    "if result_platform.pvalue < alpha:\n",
    "    print(\"Верна альтернативная гипотеза Н1\")\n",
    "else:\n",
    "    print(\"Верна нулевая гипотеза Н0\") "
   ]
  },
  {
   "cell_type": "markdown",
   "id": "b4f78eec",
   "metadata": {},
   "source": [
    "**Вывод:**\n",
    "\n",
    "В этом случае отвергается нулевая гипотеза о равенстве рейтингов в жанрах \"Action\" и \"Sports\" в пользу альтернативной -  \"Средние пользовательские рейтинги жанров \"Action\" и \"Sports\" - **НЕ равны**\", т.е. рейтинги действительно разные. \n",
    "Видно, что `p-value` очень мал, а это значит, что мы имеем очень малую вероятность получить результат Н0 случайно. "
   ]
  },
  {
   "cell_type": "markdown",
   "id": "b1b21148",
   "metadata": {},
   "source": [
    "# Вывод\n",
    "\n",
    "В ходе проекта были исследованы данные о продажах и популярности игр на различнх игровых консолях для прогнозирования дальнейших продаж. В процессе исследования было решено выбрать период исследования с 2014 по 2016 гг., а также выбраны приоритетные консоли для иследования: \n",
    "- PS4;\n",
    "- XOne;\n",
    "- 3DS;\n",
    "- WiiU;\n",
    "- PC.\n",
    "\n",
    "Платформа Х360 не была мною выбрана, т.к. я считаю ее в срезе данного исследования устаревающей и не имеющей эксклюзивных игр, она заменяется своим последователем XOne, то же самое- и с платформой PS3 (есть продукт-последователь - PS4)\n",
    "\n",
    "В разрезе выбранного периода и консолей был произведен анализ глобальных продаж игр на платформах при помощи диаграммы boxplot(), где было выяснено, что максимальная граница межквартильного размаха платформ находится на уровне 1,35 (для платформы `XOne` и это максимум для выбранных платформ), однако популярные игры могут давать \"выбросы\" в объеме продаж вплоть до значения 15 (`PS4`).\n",
    "\n",
    "Также было выяснено, что отзывы критиков хоть и связаны и объемом продаж игры, но довольно слабо. Отзывы пользователей и вовсе не связаны с продажей. Однако эти тезисы не относятся к платформе `3DS`- только на этой платформе есть слабая взаимосвязь продаж как с отзывами критиков, так и с отзывами пользователей. Пользователи этой платформы при покупке игр ориентируются на отзывы таких же пользователей. \n",
    "\n",
    "Были найдены самые популярные жанры игр, доля продаж которых на выбранных платформах достигает 86%. \n",
    "Это такие жанры, как: \n",
    "- Shooter (продажи- 105.73)\n",
    "- Action (продажи - 102.13) \n",
    "- Sports (продажи - 64.33)\n",
    "- Role-Playing (продажи - 55.82)\n",
    "- Fighting (продажи - 11.28)\n",
    "\n",
    "Также были рассмотрена и пятерка самых непопулярных жанров, их доля в продаже на выбранных платформах не превышает 8%. \n",
    "\n",
    "В процессе работы также были составлены портреты пользователей из разных регионов: \n",
    "- в регионе `NA`: пользователь, играющий в Shooter - \"Call of Duty: Black Ops II\" (рейтинг М), на платформе PS4;\n",
    "- в регионе `EU`: пользователь, играющий в Sports - \"FIFA 16\" (рейтинг М), на платформе PS4;\n",
    "- в регионе `JP`: пользователь, играющий в Action - \"Monster Hunter X\" (рейтинг Т) на платформе 3DS, \n",
    "\n",
    "а также проверено 2 гипотезы. В первом случае нулевая гипотеза Н0: \"Средние пользовательские рейтинги платформ XBox One и PC - **равны**\" - не отвергается, во втором нулевая гипотеза \"Средние пользовательские рейтинги жанров \"Action\" и \"Sports\" - **равны**\" - отвергается в пользу альтернативной гипотезы Н1. \n",
    "\n",
    "Тем самым, проделанное исследование дает ясность о том, какие игры и на каких платформах можно предлагать конечным потребителям, соответствующим созданному портрету потребителя."
   ]
  }
 ],
 "metadata": {
  "ExecuteTimeLog": [
   {
    "duration": 52,
    "start_time": "2022-05-07T19:38:14.548Z"
   },
   {
    "duration": 1446,
    "start_time": "2022-05-07T19:38:19.063Z"
   },
   {
    "duration": 4,
    "start_time": "2022-05-07T19:38:20.511Z"
   },
   {
    "duration": 16,
    "start_time": "2022-05-07T19:38:20.516Z"
   },
   {
    "duration": 22,
    "start_time": "2022-05-07T19:38:20.534Z"
   },
   {
    "duration": 19,
    "start_time": "2022-05-07T19:38:20.558Z"
   },
   {
    "duration": 7,
    "start_time": "2022-05-07T19:38:20.579Z"
   },
   {
    "duration": 21,
    "start_time": "2022-05-07T19:38:20.588Z"
   },
   {
    "duration": 10,
    "start_time": "2022-05-07T19:38:20.611Z"
   },
   {
    "duration": 17,
    "start_time": "2022-05-07T19:38:20.623Z"
   },
   {
    "duration": 21,
    "start_time": "2022-05-07T19:38:20.642Z"
   },
   {
    "duration": 23,
    "start_time": "2022-05-07T19:38:20.665Z"
   },
   {
    "duration": 22,
    "start_time": "2022-05-07T19:38:20.690Z"
   },
   {
    "duration": 7,
    "start_time": "2022-05-07T19:38:20.714Z"
   },
   {
    "duration": 9,
    "start_time": "2022-05-07T19:38:20.723Z"
   },
   {
    "duration": 20,
    "start_time": "2022-05-07T19:38:20.733Z"
   },
   {
    "duration": 28,
    "start_time": "2022-05-07T19:38:20.755Z"
   },
   {
    "duration": 21,
    "start_time": "2022-05-07T19:38:20.785Z"
   },
   {
    "duration": 17,
    "start_time": "2022-05-07T19:38:20.807Z"
   },
   {
    "duration": 19,
    "start_time": "2022-05-07T19:38:20.825Z"
   },
   {
    "duration": 16,
    "start_time": "2022-05-07T19:38:20.846Z"
   },
   {
    "duration": 353,
    "start_time": "2022-05-07T19:38:20.863Z"
   },
   {
    "duration": 283,
    "start_time": "2022-05-07T19:38:21.218Z"
   },
   {
    "duration": 26,
    "start_time": "2022-05-07T19:38:21.503Z"
   },
   {
    "duration": 486,
    "start_time": "2022-05-07T19:38:21.530Z"
   },
   {
    "duration": 12,
    "start_time": "2022-05-07T19:38:22.017Z"
   },
   {
    "duration": 10,
    "start_time": "2022-05-07T19:38:22.031Z"
   },
   {
    "duration": 173,
    "start_time": "2022-05-07T19:38:22.043Z"
   },
   {
    "duration": 85,
    "start_time": "2022-05-07T19:38:22.222Z"
   },
   {
    "duration": 157,
    "start_time": "2022-05-07T19:38:22.309Z"
   },
   {
    "duration": 164,
    "start_time": "2022-05-07T19:38:22.468Z"
   },
   {
    "duration": 160,
    "start_time": "2022-05-07T19:38:22.633Z"
   },
   {
    "duration": 145,
    "start_time": "2022-05-07T19:38:22.795Z"
   },
   {
    "duration": 148,
    "start_time": "2022-05-07T19:38:22.942Z"
   },
   {
    "duration": 16,
    "start_time": "2022-05-07T19:38:23.091Z"
   },
   {
    "duration": 184,
    "start_time": "2022-05-07T19:38:23.108Z"
   },
   {
    "duration": 169,
    "start_time": "2022-05-07T19:38:23.294Z"
   },
   {
    "duration": 172,
    "start_time": "2022-05-07T19:38:23.465Z"
   },
   {
    "duration": 20,
    "start_time": "2022-05-07T19:38:23.639Z"
   },
   {
    "duration": 29,
    "start_time": "2022-05-07T19:38:23.661Z"
   },
   {
    "duration": 40,
    "start_time": "2022-05-07T19:38:23.692Z"
   },
   {
    "duration": 32,
    "start_time": "2022-05-07T19:38:23.734Z"
   },
   {
    "duration": 37,
    "start_time": "2022-05-07T19:38:23.767Z"
   },
   {
    "duration": 19,
    "start_time": "2022-05-07T19:38:23.805Z"
   },
   {
    "duration": 161,
    "start_time": "2022-05-07T19:38:23.825Z"
   },
   {
    "duration": 10,
    "start_time": "2022-05-07T19:38:23.987Z"
   },
   {
    "duration": 163,
    "start_time": "2022-05-07T19:38:23.999Z"
   },
   {
    "duration": 10,
    "start_time": "2022-05-07T19:38:24.164Z"
   },
   {
    "duration": 171,
    "start_time": "2022-05-07T19:38:24.175Z"
   },
   {
    "duration": 9,
    "start_time": "2022-05-07T19:38:24.348Z"
   },
   {
    "duration": 155,
    "start_time": "2022-05-07T19:38:24.359Z"
   },
   {
    "duration": 15,
    "start_time": "2022-05-07T19:38:24.515Z"
   },
   {
    "duration": 243,
    "start_time": "2022-05-07T19:38:24.532Z"
   },
   {
    "duration": 10,
    "start_time": "2022-05-07T19:38:24.777Z"
   },
   {
    "duration": 149,
    "start_time": "2022-05-07T19:38:24.789Z"
   },
   {
    "duration": 9,
    "start_time": "2022-05-07T19:38:24.940Z"
   },
   {
    "duration": 159,
    "start_time": "2022-05-07T19:38:24.951Z"
   },
   {
    "duration": 16,
    "start_time": "2022-05-07T19:38:25.112Z"
   },
   {
    "duration": 143,
    "start_time": "2022-05-07T19:38:25.130Z"
   },
   {
    "duration": 11,
    "start_time": "2022-05-07T19:38:25.275Z"
   },
   {
    "duration": 184,
    "start_time": "2022-05-07T19:38:25.288Z"
   },
   {
    "duration": 11,
    "start_time": "2022-05-07T19:38:25.474Z"
   },
   {
    "duration": 164,
    "start_time": "2022-05-07T19:38:25.486Z"
   },
   {
    "duration": 33,
    "start_time": "2022-05-07T19:38:25.651Z"
   },
   {
    "duration": 173,
    "start_time": "2022-05-07T19:38:25.686Z"
   },
   {
    "duration": 31,
    "start_time": "2022-05-07T19:38:25.861Z"
   },
   {
    "duration": 5,
    "start_time": "2022-05-07T19:38:25.894Z"
   },
   {
    "duration": 24,
    "start_time": "2022-05-07T19:38:25.900Z"
   },
   {
    "duration": 240,
    "start_time": "2022-05-07T19:38:25.925Z"
   },
   {
    "duration": 5,
    "start_time": "2022-05-07T19:38:26.166Z"
   },
   {
    "duration": 221,
    "start_time": "2022-05-07T19:38:26.173Z"
   },
   {
    "duration": 5,
    "start_time": "2022-05-07T19:38:26.396Z"
   },
   {
    "duration": 39,
    "start_time": "2022-05-07T19:38:26.403Z"
   },
   {
    "duration": 81,
    "start_time": "2022-05-07T19:38:26.444Z"
   },
   {
    "duration": 15,
    "start_time": "2022-05-07T19:38:26.526Z"
   },
   {
    "duration": 109,
    "start_time": "2022-05-07T19:38:26.543Z"
   },
   {
    "duration": 14,
    "start_time": "2022-05-07T19:38:26.655Z"
   },
   {
    "duration": 147,
    "start_time": "2022-05-07T19:38:26.670Z"
   },
   {
    "duration": 15,
    "start_time": "2022-05-07T19:38:26.822Z"
   },
   {
    "duration": 12,
    "start_time": "2022-05-07T19:38:26.839Z"
   },
   {
    "duration": 135,
    "start_time": "2022-05-07T19:38:26.852Z"
   },
   {
    "duration": 15,
    "start_time": "2022-05-07T19:38:26.989Z"
   },
   {
    "duration": 82,
    "start_time": "2022-05-07T19:38:27.023Z"
   },
   {
    "duration": 27,
    "start_time": "2022-05-07T19:38:27.107Z"
   },
   {
    "duration": 156,
    "start_time": "2022-05-07T19:38:27.137Z"
   },
   {
    "duration": 29,
    "start_time": "2022-05-07T19:38:27.295Z"
   },
   {
    "duration": 12,
    "start_time": "2022-05-07T19:38:27.326Z"
   },
   {
    "duration": 153,
    "start_time": "2022-05-07T19:38:27.340Z"
   },
   {
    "duration": 16,
    "start_time": "2022-05-07T19:38:27.495Z"
   },
   {
    "duration": 183,
    "start_time": "2022-05-07T19:38:27.523Z"
   },
   {
    "duration": 26,
    "start_time": "2022-05-07T19:38:27.708Z"
   },
   {
    "duration": 137,
    "start_time": "2022-05-07T19:38:27.736Z"
   },
   {
    "duration": 15,
    "start_time": "2022-05-07T19:38:27.875Z"
   },
   {
    "duration": 12,
    "start_time": "2022-05-07T19:38:27.891Z"
   },
   {
    "duration": 148,
    "start_time": "2022-05-07T19:38:27.904Z"
   },
   {
    "duration": 6,
    "start_time": "2022-05-07T19:38:28.054Z"
   },
   {
    "duration": 27,
    "start_time": "2022-05-07T19:38:28.061Z"
   },
   {
    "duration": 17,
    "start_time": "2022-05-07T19:38:28.089Z"
   },
   {
    "duration": 4,
    "start_time": "2022-05-07T19:38:28.107Z"
   },
   {
    "duration": 20,
    "start_time": "2022-05-07T19:38:28.113Z"
   },
   {
    "duration": 22,
    "start_time": "2022-05-07T19:38:28.134Z"
   },
   {
    "duration": 14,
    "start_time": "2022-05-07T19:38:28.158Z"
   },
   {
    "duration": 6,
    "start_time": "2022-05-07T19:38:28.174Z"
   },
   {
    "duration": 18,
    "start_time": "2022-05-07T20:09:14.920Z"
   },
   {
    "duration": 7,
    "start_time": "2022-05-07T20:17:02.489Z"
   },
   {
    "duration": 6,
    "start_time": "2022-05-07T20:19:06.749Z"
   },
   {
    "duration": 6,
    "start_time": "2022-05-07T20:19:08.374Z"
   },
   {
    "duration": 4,
    "start_time": "2022-05-07T20:19:09.462Z"
   },
   {
    "duration": 1297,
    "start_time": "2022-05-07T20:29:57.313Z"
   },
   {
    "duration": 3,
    "start_time": "2022-05-07T20:29:58.612Z"
   },
   {
    "duration": 9,
    "start_time": "2022-05-07T20:29:58.617Z"
   },
   {
    "duration": 19,
    "start_time": "2022-05-07T20:29:58.628Z"
   },
   {
    "duration": 17,
    "start_time": "2022-05-07T20:29:58.650Z"
   },
   {
    "duration": 8,
    "start_time": "2022-05-07T20:29:58.669Z"
   },
   {
    "duration": 6,
    "start_time": "2022-05-07T20:29:58.679Z"
   },
   {
    "duration": 41,
    "start_time": "2022-05-07T20:29:58.687Z"
   },
   {
    "duration": 13,
    "start_time": "2022-05-07T20:29:58.730Z"
   },
   {
    "duration": 12,
    "start_time": "2022-05-07T20:29:58.745Z"
   },
   {
    "duration": 13,
    "start_time": "2022-05-07T20:29:58.759Z"
   },
   {
    "duration": 15,
    "start_time": "2022-05-07T20:29:58.773Z"
   },
   {
    "duration": 38,
    "start_time": "2022-05-07T20:29:58.790Z"
   },
   {
    "duration": 8,
    "start_time": "2022-05-07T20:29:58.834Z"
   },
   {
    "duration": 8,
    "start_time": "2022-05-07T20:29:58.844Z"
   },
   {
    "duration": 18,
    "start_time": "2022-05-07T20:29:58.854Z"
   },
   {
    "duration": 17,
    "start_time": "2022-05-07T20:29:58.873Z"
   },
   {
    "duration": 42,
    "start_time": "2022-05-07T20:29:58.892Z"
   },
   {
    "duration": 13,
    "start_time": "2022-05-07T20:29:58.936Z"
   },
   {
    "duration": 342,
    "start_time": "2022-05-07T20:29:58.951Z"
   },
   {
    "duration": 285,
    "start_time": "2022-05-07T20:29:59.294Z"
   },
   {
    "duration": 16,
    "start_time": "2022-05-07T20:29:59.581Z"
   },
   {
    "duration": 535,
    "start_time": "2022-05-07T20:29:59.599Z"
   },
   {
    "duration": 11,
    "start_time": "2022-05-07T20:30:00.136Z"
   },
   {
    "duration": 7,
    "start_time": "2022-05-07T20:30:00.148Z"
   },
   {
    "duration": 198,
    "start_time": "2022-05-07T20:30:00.156Z"
   },
   {
    "duration": 17,
    "start_time": "2022-05-07T20:30:00.356Z"
   },
   {
    "duration": 235,
    "start_time": "2022-05-07T20:30:00.374Z"
   },
   {
    "duration": 175,
    "start_time": "2022-05-07T20:30:00.610Z"
   },
   {
    "duration": 183,
    "start_time": "2022-05-07T20:30:00.788Z"
   },
   {
    "duration": 172,
    "start_time": "2022-05-07T20:30:00.973Z"
   },
   {
    "duration": 168,
    "start_time": "2022-05-07T20:30:01.147Z"
   },
   {
    "duration": 23,
    "start_time": "2022-05-07T20:30:01.317Z"
   },
   {
    "duration": 200,
    "start_time": "2022-05-07T20:30:01.342Z"
   },
   {
    "duration": 161,
    "start_time": "2022-05-07T20:30:01.544Z"
   },
   {
    "duration": 188,
    "start_time": "2022-05-07T20:30:01.707Z"
   },
   {
    "duration": 34,
    "start_time": "2022-05-07T20:30:01.897Z"
   },
   {
    "duration": 34,
    "start_time": "2022-05-07T20:30:01.932Z"
   },
   {
    "duration": 47,
    "start_time": "2022-05-07T20:30:01.968Z"
   },
   {
    "duration": 33,
    "start_time": "2022-05-07T20:30:02.017Z"
   },
   {
    "duration": 16,
    "start_time": "2022-05-07T20:30:02.055Z"
   },
   {
    "duration": 21,
    "start_time": "2022-05-07T20:30:02.073Z"
   },
   {
    "duration": 158,
    "start_time": "2022-05-07T20:30:02.096Z"
   },
   {
    "duration": 10,
    "start_time": "2022-05-07T20:30:02.255Z"
   },
   {
    "duration": 171,
    "start_time": "2022-05-07T20:30:02.267Z"
   },
   {
    "duration": 10,
    "start_time": "2022-05-07T20:30:02.440Z"
   },
   {
    "duration": 159,
    "start_time": "2022-05-07T20:30:02.452Z"
   },
   {
    "duration": 24,
    "start_time": "2022-05-07T20:30:02.612Z"
   },
   {
    "duration": 147,
    "start_time": "2022-05-07T20:30:02.637Z"
   },
   {
    "duration": 11,
    "start_time": "2022-05-07T20:30:02.786Z"
   },
   {
    "duration": 240,
    "start_time": "2022-05-07T20:30:02.799Z"
   },
   {
    "duration": 10,
    "start_time": "2022-05-07T20:30:03.041Z"
   },
   {
    "duration": 142,
    "start_time": "2022-05-07T20:30:03.052Z"
   },
   {
    "duration": 10,
    "start_time": "2022-05-07T20:30:03.195Z"
   },
   {
    "duration": 157,
    "start_time": "2022-05-07T20:30:03.207Z"
   },
   {
    "duration": 10,
    "start_time": "2022-05-07T20:30:03.366Z"
   },
   {
    "duration": 159,
    "start_time": "2022-05-07T20:30:03.377Z"
   },
   {
    "duration": 10,
    "start_time": "2022-05-07T20:30:03.538Z"
   },
   {
    "duration": 159,
    "start_time": "2022-05-07T20:30:03.549Z"
   },
   {
    "duration": 20,
    "start_time": "2022-05-07T20:30:03.710Z"
   },
   {
    "duration": 156,
    "start_time": "2022-05-07T20:30:03.732Z"
   },
   {
    "duration": 37,
    "start_time": "2022-05-07T20:30:03.889Z"
   },
   {
    "duration": 156,
    "start_time": "2022-05-07T20:30:03.927Z"
   },
   {
    "duration": 27,
    "start_time": "2022-05-07T20:30:04.085Z"
   },
   {
    "duration": 6,
    "start_time": "2022-05-07T20:30:04.123Z"
   },
   {
    "duration": 8,
    "start_time": "2022-05-07T20:30:04.131Z"
   },
   {
    "duration": 241,
    "start_time": "2022-05-07T20:30:04.141Z"
   },
   {
    "duration": 5,
    "start_time": "2022-05-07T20:30:04.384Z"
   },
   {
    "duration": 257,
    "start_time": "2022-05-07T20:30:04.391Z"
   },
   {
    "duration": 6,
    "start_time": "2022-05-07T20:30:04.650Z"
   },
   {
    "duration": 10,
    "start_time": "2022-05-07T20:30:04.658Z"
   },
   {
    "duration": 107,
    "start_time": "2022-05-07T20:30:04.670Z"
   },
   {
    "duration": 17,
    "start_time": "2022-05-07T20:30:04.779Z"
   },
   {
    "duration": 103,
    "start_time": "2022-05-07T20:30:04.797Z"
   },
   {
    "duration": 32,
    "start_time": "2022-05-07T20:30:04.901Z"
   },
   {
    "duration": 141,
    "start_time": "2022-05-07T20:30:04.938Z"
   },
   {
    "duration": 16,
    "start_time": "2022-05-07T20:30:05.081Z"
   },
   {
    "duration": 31,
    "start_time": "2022-05-07T20:30:05.098Z"
   },
   {
    "duration": 140,
    "start_time": "2022-05-07T20:30:05.131Z"
   },
   {
    "duration": 19,
    "start_time": "2022-05-07T20:30:05.273Z"
   },
   {
    "duration": 106,
    "start_time": "2022-05-07T20:30:05.293Z"
   },
   {
    "duration": 33,
    "start_time": "2022-05-07T20:30:05.401Z"
   },
   {
    "duration": 163,
    "start_time": "2022-05-07T20:30:05.437Z"
   },
   {
    "duration": 26,
    "start_time": "2022-05-07T20:30:05.602Z"
   },
   {
    "duration": 13,
    "start_time": "2022-05-07T20:30:05.630Z"
   },
   {
    "duration": 155,
    "start_time": "2022-05-07T20:30:05.645Z"
   },
   {
    "duration": 30,
    "start_time": "2022-05-07T20:30:05.802Z"
   },
   {
    "duration": 205,
    "start_time": "2022-05-07T20:30:05.834Z"
   },
   {
    "duration": 15,
    "start_time": "2022-05-07T20:30:06.042Z"
   },
   {
    "duration": 178,
    "start_time": "2022-05-07T20:30:06.059Z"
   },
   {
    "duration": 16,
    "start_time": "2022-05-07T20:30:06.239Z"
   },
   {
    "duration": 16,
    "start_time": "2022-05-07T20:30:06.257Z"
   },
   {
    "duration": 162,
    "start_time": "2022-05-07T20:30:06.275Z"
   },
   {
    "duration": 8,
    "start_time": "2022-05-07T20:30:06.439Z"
   },
   {
    "duration": 9,
    "start_time": "2022-05-07T20:30:06.448Z"
   },
   {
    "duration": 6,
    "start_time": "2022-05-07T20:30:06.458Z"
   },
   {
    "duration": 14,
    "start_time": "2022-05-07T20:30:06.466Z"
   },
   {
    "duration": 6,
    "start_time": "2022-05-07T20:30:06.482Z"
   },
   {
    "duration": 7,
    "start_time": "2022-05-07T20:30:06.490Z"
   },
   {
    "duration": 9,
    "start_time": "2022-05-07T20:30:06.524Z"
   },
   {
    "duration": 11,
    "start_time": "2022-05-07T20:30:06.535Z"
   },
   {
    "duration": 203,
    "start_time": "2022-05-09T12:52:17.011Z"
   },
   {
    "duration": 191,
    "start_time": "2022-05-09T12:52:19.289Z"
   },
   {
    "duration": 1717,
    "start_time": "2022-05-09T13:00:09.110Z"
   },
   {
    "duration": 9,
    "start_time": "2022-05-09T13:00:10.829Z"
   },
   {
    "duration": 7,
    "start_time": "2022-05-09T13:00:10.839Z"
   },
   {
    "duration": 20,
    "start_time": "2022-05-09T13:00:10.848Z"
   },
   {
    "duration": 17,
    "start_time": "2022-05-09T13:00:10.870Z"
   },
   {
    "duration": 7,
    "start_time": "2022-05-09T13:00:10.889Z"
   },
   {
    "duration": 9,
    "start_time": "2022-05-09T13:00:10.930Z"
   },
   {
    "duration": 7,
    "start_time": "2022-05-09T13:00:10.941Z"
   },
   {
    "duration": 10,
    "start_time": "2022-05-09T13:00:10.950Z"
   },
   {
    "duration": 17,
    "start_time": "2022-05-09T13:00:10.963Z"
   },
   {
    "duration": 40,
    "start_time": "2022-05-09T13:00:10.982Z"
   },
   {
    "duration": 22,
    "start_time": "2022-05-09T13:00:11.025Z"
   },
   {
    "duration": 11,
    "start_time": "2022-05-09T13:00:11.049Z"
   },
   {
    "duration": 10,
    "start_time": "2022-05-09T13:00:11.062Z"
   },
   {
    "duration": 11,
    "start_time": "2022-05-09T13:00:11.073Z"
   },
   {
    "duration": 38,
    "start_time": "2022-05-09T13:00:11.086Z"
   },
   {
    "duration": 14,
    "start_time": "2022-05-09T13:00:24.269Z"
   },
   {
    "duration": 16,
    "start_time": "2022-05-09T13:01:45.351Z"
   },
   {
    "duration": 24,
    "start_time": "2022-05-09T13:02:01.534Z"
   },
   {
    "duration": 24,
    "start_time": "2022-05-09T13:02:10.475Z"
   },
   {
    "duration": 36,
    "start_time": "2022-05-09T13:02:17.609Z"
   },
   {
    "duration": 129,
    "start_time": "2022-05-09T13:02:40.512Z"
   },
   {
    "duration": 46,
    "start_time": "2022-05-09T13:02:44.650Z"
   },
   {
    "duration": 24,
    "start_time": "2022-05-09T13:05:23.340Z"
   },
   {
    "duration": 25,
    "start_time": "2022-05-09T13:05:40.429Z"
   },
   {
    "duration": 32,
    "start_time": "2022-05-09T13:05:56.842Z"
   },
   {
    "duration": 8,
    "start_time": "2022-05-09T13:08:08.536Z"
   },
   {
    "duration": 10,
    "start_time": "2022-05-09T13:08:53.245Z"
   },
   {
    "duration": 8,
    "start_time": "2022-05-09T13:09:38.458Z"
   },
   {
    "duration": 147,
    "start_time": "2022-05-09T13:10:54.930Z"
   },
   {
    "duration": 8,
    "start_time": "2022-05-09T13:11:19.020Z"
   },
   {
    "duration": 14,
    "start_time": "2022-05-09T13:12:16.796Z"
   },
   {
    "duration": 8,
    "start_time": "2022-05-09T13:12:25.410Z"
   },
   {
    "duration": 7,
    "start_time": "2022-05-09T13:12:56.012Z"
   },
   {
    "duration": 133,
    "start_time": "2022-05-09T13:15:47.540Z"
   },
   {
    "duration": 11,
    "start_time": "2022-05-09T13:16:09.300Z"
   },
   {
    "duration": 19,
    "start_time": "2022-05-09T13:16:26.117Z"
   },
   {
    "duration": 8,
    "start_time": "2022-05-09T13:16:34.441Z"
   },
   {
    "duration": 7,
    "start_time": "2022-05-09T13:17:28.742Z"
   },
   {
    "duration": 14,
    "start_time": "2022-05-09T13:31:02.824Z"
   },
   {
    "duration": 8,
    "start_time": "2022-05-09T13:31:09.256Z"
   },
   {
    "duration": 207,
    "start_time": "2022-05-09T13:31:30.266Z"
   },
   {
    "duration": 9,
    "start_time": "2022-05-09T13:31:37.771Z"
   },
   {
    "duration": 9,
    "start_time": "2022-05-09T13:31:42.144Z"
   },
   {
    "duration": 7,
    "start_time": "2022-05-09T13:31:50.915Z"
   },
   {
    "duration": 5,
    "start_time": "2022-05-09T13:33:29.940Z"
   },
   {
    "duration": 8,
    "start_time": "2022-05-09T13:33:37.738Z"
   },
   {
    "duration": 12,
    "start_time": "2022-05-09T13:34:21.098Z"
   },
   {
    "duration": 10,
    "start_time": "2022-05-09T13:34:22.720Z"
   },
   {
    "duration": 55,
    "start_time": "2022-05-09T13:35:42.340Z"
   },
   {
    "duration": 63,
    "start_time": "2022-05-09T13:36:33.640Z"
   },
   {
    "duration": 20,
    "start_time": "2022-05-09T13:37:01.460Z"
   },
   {
    "duration": 20,
    "start_time": "2022-05-09T13:37:09.746Z"
   },
   {
    "duration": 12,
    "start_time": "2022-05-09T13:37:54.587Z"
   },
   {
    "duration": 4,
    "start_time": "2022-05-09T13:42:27.580Z"
   },
   {
    "duration": 20,
    "start_time": "2022-05-09T13:43:03.307Z"
   },
   {
    "duration": 12,
    "start_time": "2022-05-09T13:43:08.242Z"
   },
   {
    "duration": 14,
    "start_time": "2022-05-09T13:43:12.701Z"
   },
   {
    "duration": 8,
    "start_time": "2022-05-09T13:43:27.986Z"
   },
   {
    "duration": 1836,
    "start_time": "2022-05-09T13:44:16.197Z"
   },
   {
    "duration": 5,
    "start_time": "2022-05-09T13:44:18.036Z"
   },
   {
    "duration": 10,
    "start_time": "2022-05-09T13:44:18.043Z"
   },
   {
    "duration": 18,
    "start_time": "2022-05-09T13:44:18.058Z"
   },
   {
    "duration": 58,
    "start_time": "2022-05-09T13:44:18.078Z"
   },
   {
    "duration": 14,
    "start_time": "2022-05-09T13:44:18.139Z"
   },
   {
    "duration": 7,
    "start_time": "2022-05-09T13:44:18.155Z"
   },
   {
    "duration": 6,
    "start_time": "2022-05-09T13:44:18.164Z"
   },
   {
    "duration": 9,
    "start_time": "2022-05-09T13:44:18.173Z"
   },
   {
    "duration": 53,
    "start_time": "2022-05-09T13:44:18.185Z"
   },
   {
    "duration": 16,
    "start_time": "2022-05-09T13:44:18.242Z"
   },
   {
    "duration": 16,
    "start_time": "2022-05-09T13:44:18.260Z"
   },
   {
    "duration": 8,
    "start_time": "2022-05-09T13:44:18.278Z"
   },
   {
    "duration": 7,
    "start_time": "2022-05-09T13:44:18.288Z"
   },
   {
    "duration": 12,
    "start_time": "2022-05-09T13:44:18.327Z"
   },
   {
    "duration": 17,
    "start_time": "2022-05-09T13:44:18.342Z"
   },
   {
    "duration": 9,
    "start_time": "2022-05-09T13:44:18.361Z"
   },
   {
    "duration": 11,
    "start_time": "2022-05-09T13:44:18.372Z"
   },
   {
    "duration": 43,
    "start_time": "2022-05-09T13:44:18.385Z"
   },
   {
    "duration": 13,
    "start_time": "2022-05-09T13:44:18.431Z"
   },
   {
    "duration": 5,
    "start_time": "2022-05-09T13:44:18.446Z"
   },
   {
    "duration": 12,
    "start_time": "2022-05-09T13:44:18.453Z"
   },
   {
    "duration": 11,
    "start_time": "2022-05-09T13:44:18.467Z"
   },
   {
    "duration": 9,
    "start_time": "2022-05-09T13:44:49.754Z"
   },
   {
    "duration": 364,
    "start_time": "2022-05-09T13:45:02.144Z"
   },
   {
    "duration": 16,
    "start_time": "2022-05-09T13:45:08.580Z"
   },
   {
    "duration": 122,
    "start_time": "2022-05-09T13:46:14.986Z"
   },
   {
    "duration": 159,
    "start_time": "2022-05-09T13:47:02.598Z"
   },
   {
    "duration": 1471,
    "start_time": "2022-05-09T13:47:27.911Z"
   },
   {
    "duration": 3,
    "start_time": "2022-05-09T13:47:29.385Z"
   },
   {
    "duration": 8,
    "start_time": "2022-05-09T13:47:29.390Z"
   },
   {
    "duration": 29,
    "start_time": "2022-05-09T13:47:29.401Z"
   },
   {
    "duration": 25,
    "start_time": "2022-05-09T13:47:29.435Z"
   },
   {
    "duration": 10,
    "start_time": "2022-05-09T13:47:29.463Z"
   },
   {
    "duration": 9,
    "start_time": "2022-05-09T13:47:29.476Z"
   },
   {
    "duration": 12,
    "start_time": "2022-05-09T13:47:29.488Z"
   },
   {
    "duration": 12,
    "start_time": "2022-05-09T13:47:29.527Z"
   },
   {
    "duration": 18,
    "start_time": "2022-05-09T13:47:29.544Z"
   },
   {
    "duration": 21,
    "start_time": "2022-05-09T13:47:29.565Z"
   },
   {
    "duration": 50,
    "start_time": "2022-05-09T13:47:29.588Z"
   },
   {
    "duration": 10,
    "start_time": "2022-05-09T13:47:29.640Z"
   },
   {
    "duration": 8,
    "start_time": "2022-05-09T13:47:29.651Z"
   },
   {
    "duration": 10,
    "start_time": "2022-05-09T13:47:29.661Z"
   },
   {
    "duration": 20,
    "start_time": "2022-05-09T13:47:29.673Z"
   },
   {
    "duration": 30,
    "start_time": "2022-05-09T13:47:29.695Z"
   },
   {
    "duration": 15,
    "start_time": "2022-05-09T13:47:29.727Z"
   },
   {
    "duration": 10,
    "start_time": "2022-05-09T13:47:29.743Z"
   },
   {
    "duration": 10,
    "start_time": "2022-05-09T13:47:29.755Z"
   },
   {
    "duration": 5,
    "start_time": "2022-05-09T13:47:29.767Z"
   },
   {
    "duration": 14,
    "start_time": "2022-05-09T13:47:29.773Z"
   },
   {
    "duration": 51,
    "start_time": "2022-05-09T13:47:29.789Z"
   },
   {
    "duration": 16,
    "start_time": "2022-05-09T13:47:29.842Z"
   },
   {
    "duration": 7,
    "start_time": "2022-05-09T13:47:40.470Z"
   },
   {
    "duration": 4,
    "start_time": "2022-05-09T13:49:06.678Z"
   },
   {
    "duration": 13,
    "start_time": "2022-05-09T13:49:08.033Z"
   },
   {
    "duration": 16,
    "start_time": "2022-05-09T13:49:23.521Z"
   },
   {
    "duration": 49,
    "start_time": "2022-05-09T13:50:58.970Z"
   },
   {
    "duration": 8,
    "start_time": "2022-05-09T13:51:05.646Z"
   },
   {
    "duration": 1643,
    "start_time": "2022-05-09T13:54:03.624Z"
   },
   {
    "duration": 7,
    "start_time": "2022-05-09T13:54:05.270Z"
   },
   {
    "duration": 14,
    "start_time": "2022-05-09T13:54:05.279Z"
   },
   {
    "duration": 35,
    "start_time": "2022-05-09T13:54:05.296Z"
   },
   {
    "duration": 22,
    "start_time": "2022-05-09T13:54:05.334Z"
   },
   {
    "duration": 9,
    "start_time": "2022-05-09T13:54:05.359Z"
   },
   {
    "duration": 9,
    "start_time": "2022-05-09T13:54:05.369Z"
   },
   {
    "duration": 7,
    "start_time": "2022-05-09T13:54:05.381Z"
   },
   {
    "duration": 16,
    "start_time": "2022-05-09T13:54:05.428Z"
   },
   {
    "duration": 18,
    "start_time": "2022-05-09T13:54:05.448Z"
   },
   {
    "duration": 23,
    "start_time": "2022-05-09T13:54:05.469Z"
   },
   {
    "duration": 45,
    "start_time": "2022-05-09T13:54:05.495Z"
   },
   {
    "duration": 9,
    "start_time": "2022-05-09T13:54:05.543Z"
   },
   {
    "duration": 10,
    "start_time": "2022-05-09T13:54:05.554Z"
   },
   {
    "duration": 10,
    "start_time": "2022-05-09T13:54:05.566Z"
   },
   {
    "duration": 29,
    "start_time": "2022-05-09T13:54:05.578Z"
   },
   {
    "duration": 45,
    "start_time": "2022-05-09T13:54:05.609Z"
   },
   {
    "duration": 16,
    "start_time": "2022-05-09T13:54:05.656Z"
   },
   {
    "duration": 10,
    "start_time": "2022-05-09T13:54:05.674Z"
   },
   {
    "duration": 6,
    "start_time": "2022-05-09T13:54:05.686Z"
   },
   {
    "duration": 17,
    "start_time": "2022-05-09T13:54:05.694Z"
   },
   {
    "duration": 24,
    "start_time": "2022-05-09T13:54:05.713Z"
   },
   {
    "duration": 4,
    "start_time": "2022-05-09T13:54:05.740Z"
   },
   {
    "duration": 33,
    "start_time": "2022-05-09T13:54:05.747Z"
   },
   {
    "duration": 8,
    "start_time": "2022-05-09T13:54:05.781Z"
   },
   {
    "duration": 111,
    "start_time": "2022-05-09T13:55:31.181Z"
   },
   {
    "duration": 17,
    "start_time": "2022-05-09T13:55:40.749Z"
   },
   {
    "duration": 15,
    "start_time": "2022-05-09T13:55:48.197Z"
   },
   {
    "duration": 15,
    "start_time": "2022-05-09T13:55:49.462Z"
   },
   {
    "duration": 376,
    "start_time": "2022-05-09T13:56:19.991Z"
   },
   {
    "duration": 477,
    "start_time": "2022-05-09T13:57:07.873Z"
   },
   {
    "duration": 343,
    "start_time": "2022-05-09T13:57:35.343Z"
   },
   {
    "duration": 298,
    "start_time": "2022-05-09T13:59:15.247Z"
   },
   {
    "duration": 26,
    "start_time": "2022-05-09T13:59:23.822Z"
   },
   {
    "duration": 612,
    "start_time": "2022-05-09T13:59:31.744Z"
   },
   {
    "duration": 857,
    "start_time": "2022-05-09T14:00:01.273Z"
   },
   {
    "duration": 549,
    "start_time": "2022-05-09T14:00:35.923Z"
   },
   {
    "duration": 649,
    "start_time": "2022-05-09T14:00:54.241Z"
   },
   {
    "duration": 535,
    "start_time": "2022-05-09T14:01:33.456Z"
   },
   {
    "duration": 12,
    "start_time": "2022-05-09T14:01:37.145Z"
   },
   {
    "duration": 10,
    "start_time": "2022-05-09T14:01:39.038Z"
   },
   {
    "duration": 6,
    "start_time": "2022-05-09T14:01:46.844Z"
   },
   {
    "duration": 10,
    "start_time": "2022-05-09T14:02:04.498Z"
   },
   {
    "duration": 40,
    "start_time": "2022-05-09T14:02:14.520Z"
   },
   {
    "duration": 7,
    "start_time": "2022-05-09T14:02:25.008Z"
   },
   {
    "duration": 28,
    "start_time": "2022-05-09T14:02:25.737Z"
   },
   {
    "duration": 26,
    "start_time": "2022-05-09T14:02:29.380Z"
   },
   {
    "duration": 8,
    "start_time": "2022-05-09T14:02:37.475Z"
   },
   {
    "duration": 24,
    "start_time": "2022-05-09T14:02:38.280Z"
   },
   {
    "duration": 7,
    "start_time": "2022-05-09T14:03:00.746Z"
   },
   {
    "duration": 33,
    "start_time": "2022-05-09T14:03:01.344Z"
   },
   {
    "duration": 251,
    "start_time": "2022-05-09T14:03:10.882Z"
   },
   {
    "duration": 187,
    "start_time": "2022-05-09T14:07:12.088Z"
   },
   {
    "duration": 23,
    "start_time": "2022-05-09T14:07:49.467Z"
   },
   {
    "duration": 19,
    "start_time": "2022-05-09T14:07:59.408Z"
   },
   {
    "duration": 15,
    "start_time": "2022-05-09T14:08:06.994Z"
   },
   {
    "duration": 18,
    "start_time": "2022-05-09T14:08:11.100Z"
   },
   {
    "duration": 16,
    "start_time": "2022-05-09T14:08:16.162Z"
   },
   {
    "duration": 15,
    "start_time": "2022-05-09T14:08:43.809Z"
   },
   {
    "duration": 148,
    "start_time": "2022-05-09T14:12:39.506Z"
   },
   {
    "duration": 226,
    "start_time": "2022-05-09T14:14:02.486Z"
   },
   {
    "duration": 201,
    "start_time": "2022-05-09T14:14:11.922Z"
   },
   {
    "duration": 153,
    "start_time": "2022-05-09T14:14:16.316Z"
   },
   {
    "duration": 153,
    "start_time": "2022-05-09T14:14:43.953Z"
   },
   {
    "duration": 149,
    "start_time": "2022-05-09T14:15:29.665Z"
   },
   {
    "duration": 161,
    "start_time": "2022-05-09T14:15:45.516Z"
   },
   {
    "duration": 164,
    "start_time": "2022-05-09T14:15:50.559Z"
   },
   {
    "duration": 174,
    "start_time": "2022-05-09T14:16:20.628Z"
   },
   {
    "duration": 279,
    "start_time": "2022-05-09T14:16:37.363Z"
   },
   {
    "duration": 26,
    "start_time": "2022-05-09T14:17:58.868Z"
   },
   {
    "duration": 24,
    "start_time": "2022-05-09T14:18:13.834Z"
   },
   {
    "duration": 19,
    "start_time": "2022-05-09T14:19:48.973Z"
   },
   {
    "duration": 173,
    "start_time": "2022-05-09T14:21:49.802Z"
   },
   {
    "duration": 173,
    "start_time": "2022-05-09T14:23:08.452Z"
   },
   {
    "duration": 21,
    "start_time": "2022-05-09T14:27:11.226Z"
   },
   {
    "duration": 19,
    "start_time": "2022-05-09T14:27:22.846Z"
   },
   {
    "duration": 19,
    "start_time": "2022-05-09T14:27:31.508Z"
   },
   {
    "duration": 16,
    "start_time": "2022-05-09T14:27:49.994Z"
   },
   {
    "duration": 19,
    "start_time": "2022-05-09T14:27:52.736Z"
   },
   {
    "duration": 18,
    "start_time": "2022-05-09T14:27:57.938Z"
   },
   {
    "duration": 17,
    "start_time": "2022-05-09T14:28:14.880Z"
   },
   {
    "duration": 16,
    "start_time": "2022-05-09T14:28:17.473Z"
   },
   {
    "duration": 20,
    "start_time": "2022-05-09T14:28:20.356Z"
   },
   {
    "duration": 17,
    "start_time": "2022-05-09T14:28:27.974Z"
   },
   {
    "duration": 14,
    "start_time": "2022-05-09T14:28:42.551Z"
   },
   {
    "duration": 18,
    "start_time": "2022-05-09T14:28:45.151Z"
   },
   {
    "duration": 9,
    "start_time": "2022-05-09T14:29:39.108Z"
   },
   {
    "duration": 150,
    "start_time": "2022-05-09T14:29:40.430Z"
   },
   {
    "duration": 10,
    "start_time": "2022-05-09T14:29:52.787Z"
   },
   {
    "duration": 210,
    "start_time": "2022-05-09T14:29:53.176Z"
   },
   {
    "duration": 12,
    "start_time": "2022-05-09T14:30:03.511Z"
   },
   {
    "duration": 206,
    "start_time": "2022-05-09T14:30:04.457Z"
   },
   {
    "duration": 17,
    "start_time": "2022-05-09T14:30:08.324Z"
   },
   {
    "duration": 196,
    "start_time": "2022-05-09T14:30:09.001Z"
   },
   {
    "duration": 14,
    "start_time": "2022-05-09T14:30:37.921Z"
   },
   {
    "duration": 142,
    "start_time": "2022-05-09T14:30:38.574Z"
   },
   {
    "duration": 10,
    "start_time": "2022-05-09T14:30:41.988Z"
   },
   {
    "duration": 153,
    "start_time": "2022-05-09T14:30:42.578Z"
   },
   {
    "duration": 10,
    "start_time": "2022-05-09T14:30:55.553Z"
   },
   {
    "duration": 146,
    "start_time": "2022-05-09T14:30:56.121Z"
   },
   {
    "duration": 10,
    "start_time": "2022-05-09T14:30:59.381Z"
   },
   {
    "duration": 136,
    "start_time": "2022-05-09T14:30:59.798Z"
   },
   {
    "duration": 10,
    "start_time": "2022-05-09T14:31:58.982Z"
   },
   {
    "duration": 15,
    "start_time": "2022-05-09T14:32:02.543Z"
   },
   {
    "duration": 147,
    "start_time": "2022-05-09T14:32:13.687Z"
   },
   {
    "duration": 13,
    "start_time": "2022-05-09T14:32:29.126Z"
   },
   {
    "duration": 163,
    "start_time": "2022-05-09T14:32:38.818Z"
   },
   {
    "duration": 34,
    "start_time": "2022-05-09T14:34:19.652Z"
   },
   {
    "duration": 152,
    "start_time": "2022-05-09T14:34:32.565Z"
   },
   {
    "duration": 46,
    "start_time": "2022-05-09T14:36:00.866Z"
   },
   {
    "duration": 7,
    "start_time": "2022-05-09T14:36:11.275Z"
   },
   {
    "duration": 7,
    "start_time": "2022-05-09T14:36:12.649Z"
   },
   {
    "duration": 24,
    "start_time": "2022-05-09T14:38:53.526Z"
   },
   {
    "duration": 16,
    "start_time": "2022-05-09T14:39:05.882Z"
   },
   {
    "duration": 5,
    "start_time": "2022-05-09T14:39:22.681Z"
   },
   {
    "duration": 12,
    "start_time": "2022-05-09T14:39:29.346Z"
   },
   {
    "duration": 376,
    "start_time": "2022-05-09T14:39:51.083Z"
   },
   {
    "duration": 23,
    "start_time": "2022-05-09T14:40:08.320Z"
   },
   {
    "duration": 18,
    "start_time": "2022-05-09T14:40:20.434Z"
   },
   {
    "duration": 253,
    "start_time": "2022-05-09T14:40:26.954Z"
   },
   {
    "duration": 6,
    "start_time": "2022-05-09T14:40:30.418Z"
   },
   {
    "duration": 221,
    "start_time": "2022-05-09T14:40:36.265Z"
   },
   {
    "duration": 7,
    "start_time": "2022-05-09T14:41:57.440Z"
   },
   {
    "duration": 10,
    "start_time": "2022-05-09T14:41:57.920Z"
   },
   {
    "duration": 6,
    "start_time": "2022-05-09T14:42:49.126Z"
   },
   {
    "duration": 208,
    "start_time": "2022-05-09T14:45:53.687Z"
   },
   {
    "duration": 7,
    "start_time": "2022-05-09T14:46:37.134Z"
   },
   {
    "duration": 58,
    "start_time": "2022-05-09T14:48:58.700Z"
   },
   {
    "duration": 29,
    "start_time": "2022-05-09T14:49:09.517Z"
   },
   {
    "duration": 35,
    "start_time": "2022-05-09T14:49:21.131Z"
   },
   {
    "duration": 1307,
    "start_time": "2022-05-09T14:49:31.005Z"
   },
   {
    "duration": 4,
    "start_time": "2022-05-09T14:49:32.314Z"
   },
   {
    "duration": 9,
    "start_time": "2022-05-09T14:49:32.320Z"
   },
   {
    "duration": 34,
    "start_time": "2022-05-09T14:49:32.332Z"
   },
   {
    "duration": 18,
    "start_time": "2022-05-09T14:49:32.367Z"
   },
   {
    "duration": 8,
    "start_time": "2022-05-09T14:49:32.386Z"
   },
   {
    "duration": 8,
    "start_time": "2022-05-09T14:49:32.395Z"
   },
   {
    "duration": 6,
    "start_time": "2022-05-09T14:49:32.405Z"
   },
   {
    "duration": 15,
    "start_time": "2022-05-09T14:49:32.425Z"
   },
   {
    "duration": 13,
    "start_time": "2022-05-09T14:49:32.443Z"
   },
   {
    "duration": 12,
    "start_time": "2022-05-09T14:49:32.458Z"
   },
   {
    "duration": 20,
    "start_time": "2022-05-09T14:49:32.471Z"
   },
   {
    "duration": 7,
    "start_time": "2022-05-09T14:49:32.492Z"
   },
   {
    "duration": 33,
    "start_time": "2022-05-09T14:49:32.501Z"
   },
   {
    "duration": 9,
    "start_time": "2022-05-09T14:49:32.542Z"
   },
   {
    "duration": 14,
    "start_time": "2022-05-09T14:49:32.553Z"
   },
   {
    "duration": 7,
    "start_time": "2022-05-09T14:49:32.569Z"
   },
   {
    "duration": 18,
    "start_time": "2022-05-09T14:49:32.578Z"
   },
   {
    "duration": 9,
    "start_time": "2022-05-09T14:49:32.598Z"
   },
   {
    "duration": 36,
    "start_time": "2022-05-09T14:49:32.609Z"
   },
   {
    "duration": 41,
    "start_time": "2022-05-09T14:49:32.647Z"
   },
   {
    "duration": 19,
    "start_time": "2022-05-09T14:49:32.690Z"
   },
   {
    "duration": 3,
    "start_time": "2022-05-09T14:49:32.711Z"
   },
   {
    "duration": 46,
    "start_time": "2022-05-09T14:49:32.715Z"
   },
   {
    "duration": 7,
    "start_time": "2022-05-09T14:49:32.762Z"
   },
   {
    "duration": 30,
    "start_time": "2022-05-09T14:49:32.770Z"
   },
   {
    "duration": 14,
    "start_time": "2022-05-09T14:49:32.802Z"
   },
   {
    "duration": 31,
    "start_time": "2022-05-09T14:49:32.820Z"
   },
   {
    "duration": 348,
    "start_time": "2022-05-09T14:49:32.852Z"
   },
   {
    "duration": 395,
    "start_time": "2022-05-09T14:49:33.201Z"
   },
   {
    "duration": 29,
    "start_time": "2022-05-09T14:49:33.598Z"
   },
   {
    "duration": 520,
    "start_time": "2022-05-09T14:49:33.628Z"
   },
   {
    "duration": 11,
    "start_time": "2022-05-09T14:49:34.150Z"
   },
   {
    "duration": 6,
    "start_time": "2022-05-09T14:49:34.162Z"
   },
   {
    "duration": 200,
    "start_time": "2022-05-09T14:49:34.169Z"
   },
   {
    "duration": 14,
    "start_time": "2022-05-09T14:49:34.371Z"
   },
   {
    "duration": 248,
    "start_time": "2022-05-09T14:49:34.387Z"
   },
   {
    "duration": 169,
    "start_time": "2022-05-09T14:49:34.637Z"
   },
   {
    "duration": 168,
    "start_time": "2022-05-09T14:49:34.808Z"
   },
   {
    "duration": 191,
    "start_time": "2022-05-09T14:49:34.978Z"
   },
   {
    "duration": 195,
    "start_time": "2022-05-09T14:49:35.171Z"
   },
   {
    "duration": 203,
    "start_time": "2022-05-09T14:49:35.368Z"
   },
   {
    "duration": 21,
    "start_time": "2022-05-09T14:49:35.572Z"
   },
   {
    "duration": 204,
    "start_time": "2022-05-09T14:49:35.595Z"
   },
   {
    "duration": 195,
    "start_time": "2022-05-09T14:49:35.800Z"
   },
   {
    "duration": 26,
    "start_time": "2022-05-09T14:49:35.997Z"
   },
   {
    "duration": 27,
    "start_time": "2022-05-09T14:49:36.028Z"
   },
   {
    "duration": 21,
    "start_time": "2022-05-09T14:49:36.057Z"
   },
   {
    "duration": 21,
    "start_time": "2022-05-09T14:49:36.080Z"
   },
   {
    "duration": 29,
    "start_time": "2022-05-09T14:49:36.103Z"
   },
   {
    "duration": 19,
    "start_time": "2022-05-09T14:49:36.134Z"
   },
   {
    "duration": 156,
    "start_time": "2022-05-09T14:49:36.155Z"
   },
   {
    "duration": 17,
    "start_time": "2022-05-09T14:49:36.313Z"
   },
   {
    "duration": 153,
    "start_time": "2022-05-09T14:49:36.331Z"
   },
   {
    "duration": 10,
    "start_time": "2022-05-09T14:49:36.486Z"
   },
   {
    "duration": 167,
    "start_time": "2022-05-09T14:49:36.497Z"
   },
   {
    "duration": 9,
    "start_time": "2022-05-09T14:49:36.666Z"
   },
   {
    "duration": 152,
    "start_time": "2022-05-09T14:49:36.676Z"
   },
   {
    "duration": 14,
    "start_time": "2022-05-09T14:49:36.830Z"
   },
   {
    "duration": 152,
    "start_time": "2022-05-09T14:49:36.846Z"
   },
   {
    "duration": 10,
    "start_time": "2022-05-09T14:49:37.000Z"
   },
   {
    "duration": 241,
    "start_time": "2022-05-09T14:49:37.028Z"
   },
   {
    "duration": 9,
    "start_time": "2022-05-09T14:49:37.271Z"
   },
   {
    "duration": 143,
    "start_time": "2022-05-09T14:49:37.281Z"
   },
   {
    "duration": 19,
    "start_time": "2022-05-09T14:49:37.431Z"
   },
   {
    "duration": 140,
    "start_time": "2022-05-09T14:49:37.452Z"
   },
   {
    "duration": 10,
    "start_time": "2022-05-09T14:49:37.594Z"
   },
   {
    "duration": 155,
    "start_time": "2022-05-09T14:49:37.606Z"
   },
   {
    "duration": 10,
    "start_time": "2022-05-09T14:49:37.763Z"
   },
   {
    "duration": 177,
    "start_time": "2022-05-09T14:49:37.775Z"
   },
   {
    "duration": 29,
    "start_time": "2022-05-09T14:49:37.953Z"
   },
   {
    "duration": 169,
    "start_time": "2022-05-09T14:49:37.983Z"
   },
   {
    "duration": 27,
    "start_time": "2022-05-09T14:49:38.154Z"
   },
   {
    "duration": 5,
    "start_time": "2022-05-09T14:49:38.183Z"
   },
   {
    "duration": 7,
    "start_time": "2022-05-09T14:49:38.189Z"
   },
   {
    "duration": 254,
    "start_time": "2022-05-09T14:49:38.198Z"
   },
   {
    "duration": 5,
    "start_time": "2022-05-09T14:49:38.454Z"
   },
   {
    "duration": 229,
    "start_time": "2022-05-09T14:49:38.461Z"
   },
   {
    "duration": 6,
    "start_time": "2022-05-09T14:49:38.692Z"
   },
   {
    "duration": 28,
    "start_time": "2022-05-09T14:49:38.700Z"
   },
   {
    "duration": 86,
    "start_time": "2022-05-09T14:49:38.729Z"
   },
   {
    "duration": 20,
    "start_time": "2022-05-09T14:49:38.829Z"
   },
   {
    "duration": 100,
    "start_time": "2022-05-09T14:49:38.851Z"
   },
   {
    "duration": 14,
    "start_time": "2022-05-09T14:49:38.953Z"
   },
   {
    "duration": 144,
    "start_time": "2022-05-09T14:49:38.969Z"
   },
   {
    "duration": 22,
    "start_time": "2022-05-09T14:49:39.115Z"
   },
   {
    "duration": 12,
    "start_time": "2022-05-09T14:49:39.147Z"
   },
   {
    "duration": 151,
    "start_time": "2022-05-09T14:49:39.161Z"
   },
   {
    "duration": 31,
    "start_time": "2022-05-09T14:49:39.314Z"
   },
   {
    "duration": 101,
    "start_time": "2022-05-09T14:49:39.347Z"
   },
   {
    "duration": 15,
    "start_time": "2022-05-09T14:49:39.450Z"
   },
   {
    "duration": 175,
    "start_time": "2022-05-09T14:49:39.467Z"
   },
   {
    "duration": 17,
    "start_time": "2022-05-09T14:49:39.650Z"
   },
   {
    "duration": 17,
    "start_time": "2022-05-09T14:49:39.668Z"
   },
   {
    "duration": 170,
    "start_time": "2022-05-09T14:49:39.687Z"
   },
   {
    "duration": 18,
    "start_time": "2022-05-09T14:49:39.859Z"
   },
   {
    "duration": 111,
    "start_time": "2022-05-09T14:49:39.878Z"
   },
   {
    "duration": 15,
    "start_time": "2022-05-09T14:49:39.991Z"
   },
   {
    "duration": 160,
    "start_time": "2022-05-09T14:49:40.008Z"
   },
   {
    "duration": 21,
    "start_time": "2022-05-09T14:49:40.170Z"
   },
   {
    "duration": 34,
    "start_time": "2022-05-09T14:49:40.193Z"
   },
   {
    "duration": 274,
    "start_time": "2022-05-09T14:49:40.229Z"
   },
   {
    "duration": 7,
    "start_time": "2022-05-09T14:49:40.505Z"
   },
   {
    "duration": 21,
    "start_time": "2022-05-09T14:49:40.514Z"
   },
   {
    "duration": 9,
    "start_time": "2022-05-09T14:49:40.537Z"
   },
   {
    "duration": 5,
    "start_time": "2022-05-09T14:49:40.551Z"
   },
   {
    "duration": 6,
    "start_time": "2022-05-09T14:49:40.558Z"
   },
   {
    "duration": 10,
    "start_time": "2022-05-09T14:49:40.566Z"
   },
   {
    "duration": 8,
    "start_time": "2022-05-09T14:49:40.578Z"
   },
   {
    "duration": 10,
    "start_time": "2022-05-09T14:49:40.588Z"
   },
   {
    "duration": 28,
    "start_time": "2022-05-09T14:50:55.065Z"
   },
   {
    "duration": 22,
    "start_time": "2022-05-09T14:51:04.699Z"
   },
   {
    "duration": 11,
    "start_time": "2022-05-09T14:55:23.988Z"
   },
   {
    "duration": 202,
    "start_time": "2022-05-09T14:56:56.778Z"
   },
   {
    "duration": 178,
    "start_time": "2022-05-09T14:57:07.522Z"
   },
   {
    "duration": 172,
    "start_time": "2022-05-09T14:57:15.352Z"
   },
   {
    "duration": 178,
    "start_time": "2022-05-09T14:57:30.464Z"
   },
   {
    "duration": 24,
    "start_time": "2022-05-09T14:58:48.987Z"
   },
   {
    "duration": 119,
    "start_time": "2022-05-09T14:59:36.634Z"
   },
   {
    "duration": 23,
    "start_time": "2022-05-09T14:59:43.714Z"
   },
   {
    "duration": 191,
    "start_time": "2022-05-09T15:00:17.680Z"
   },
   {
    "duration": 1344,
    "start_time": "2022-05-10T12:05:29.624Z"
   },
   {
    "duration": 3,
    "start_time": "2022-05-10T12:05:30.970Z"
   },
   {
    "duration": 11,
    "start_time": "2022-05-10T12:05:30.975Z"
   },
   {
    "duration": 18,
    "start_time": "2022-05-10T12:05:30.987Z"
   },
   {
    "duration": 14,
    "start_time": "2022-05-10T12:05:31.007Z"
   },
   {
    "duration": 6,
    "start_time": "2022-05-10T12:05:31.022Z"
   },
   {
    "duration": 19,
    "start_time": "2022-05-10T12:05:31.030Z"
   },
   {
    "duration": 7,
    "start_time": "2022-05-10T12:05:31.050Z"
   },
   {
    "duration": 14,
    "start_time": "2022-05-10T12:05:31.058Z"
   },
   {
    "duration": 18,
    "start_time": "2022-05-10T12:05:31.073Z"
   },
   {
    "duration": 11,
    "start_time": "2022-05-10T12:05:31.093Z"
   },
   {
    "duration": 21,
    "start_time": "2022-05-10T12:05:31.106Z"
   },
   {
    "duration": 6,
    "start_time": "2022-05-10T12:05:31.129Z"
   },
   {
    "duration": 5,
    "start_time": "2022-05-10T12:05:31.149Z"
   },
   {
    "duration": 9,
    "start_time": "2022-05-10T12:05:31.155Z"
   },
   {
    "duration": 12,
    "start_time": "2022-05-10T12:05:31.166Z"
   },
   {
    "duration": 5,
    "start_time": "2022-05-10T12:05:31.180Z"
   },
   {
    "duration": 10,
    "start_time": "2022-05-10T12:05:31.187Z"
   },
   {
    "duration": 8,
    "start_time": "2022-05-10T12:05:31.198Z"
   },
   {
    "duration": 7,
    "start_time": "2022-05-10T12:05:31.207Z"
   },
   {
    "duration": 36,
    "start_time": "2022-05-10T12:05:31.216Z"
   },
   {
    "duration": 16,
    "start_time": "2022-05-10T12:05:31.253Z"
   },
   {
    "duration": 3,
    "start_time": "2022-05-10T12:05:31.270Z"
   },
   {
    "duration": 28,
    "start_time": "2022-05-10T12:05:31.275Z"
   },
   {
    "duration": 6,
    "start_time": "2022-05-10T12:05:31.304Z"
   },
   {
    "duration": 41,
    "start_time": "2022-05-10T12:05:31.312Z"
   },
   {
    "duration": 14,
    "start_time": "2022-05-10T12:05:31.354Z"
   },
   {
    "duration": 12,
    "start_time": "2022-05-10T12:05:31.369Z"
   },
   {
    "duration": 318,
    "start_time": "2022-05-10T12:05:31.382Z"
   },
   {
    "duration": 248,
    "start_time": "2022-05-10T12:05:31.701Z"
   },
   {
    "duration": 14,
    "start_time": "2022-05-10T12:05:31.950Z"
   },
   {
    "duration": 439,
    "start_time": "2022-05-10T12:05:31.966Z"
   },
   {
    "duration": 10,
    "start_time": "2022-05-10T12:05:32.407Z"
   },
   {
    "duration": 6,
    "start_time": "2022-05-10T12:05:32.418Z"
   },
   {
    "duration": 169,
    "start_time": "2022-05-10T12:05:32.425Z"
   },
   {
    "duration": 12,
    "start_time": "2022-05-10T12:05:32.596Z"
   },
   {
    "duration": 199,
    "start_time": "2022-05-10T12:05:32.610Z"
   },
   {
    "duration": 139,
    "start_time": "2022-05-10T12:05:32.810Z"
   },
   {
    "duration": 139,
    "start_time": "2022-05-10T12:05:32.950Z"
   },
   {
    "duration": 149,
    "start_time": "2022-05-10T12:05:33.090Z"
   },
   {
    "duration": 146,
    "start_time": "2022-05-10T12:05:33.248Z"
   },
   {
    "duration": 155,
    "start_time": "2022-05-10T12:05:33.396Z"
   },
   {
    "duration": 16,
    "start_time": "2022-05-10T12:05:33.552Z"
   },
   {
    "duration": 156,
    "start_time": "2022-05-10T12:05:33.569Z"
   },
   {
    "duration": 158,
    "start_time": "2022-05-10T12:05:33.726Z"
   },
   {
    "duration": 15,
    "start_time": "2022-05-10T12:05:33.886Z"
   },
   {
    "duration": 17,
    "start_time": "2022-05-10T12:05:33.903Z"
   },
   {
    "duration": 37,
    "start_time": "2022-05-10T12:05:33.921Z"
   },
   {
    "duration": 13,
    "start_time": "2022-05-10T12:05:33.960Z"
   },
   {
    "duration": 15,
    "start_time": "2022-05-10T12:05:33.975Z"
   },
   {
    "duration": 9,
    "start_time": "2022-05-10T12:05:33.991Z"
   },
   {
    "duration": 137,
    "start_time": "2022-05-10T12:05:34.001Z"
   },
   {
    "duration": 8,
    "start_time": "2022-05-10T12:05:34.147Z"
   },
   {
    "duration": 129,
    "start_time": "2022-05-10T12:05:34.157Z"
   },
   {
    "duration": 9,
    "start_time": "2022-05-10T12:05:34.287Z"
   },
   {
    "duration": 126,
    "start_time": "2022-05-10T12:05:34.298Z"
   },
   {
    "duration": 21,
    "start_time": "2022-05-10T12:05:34.426Z"
   },
   {
    "duration": 132,
    "start_time": "2022-05-10T12:05:34.449Z"
   },
   {
    "duration": 9,
    "start_time": "2022-05-10T12:05:34.584Z"
   },
   {
    "duration": 207,
    "start_time": "2022-05-10T12:05:34.595Z"
   },
   {
    "duration": 8,
    "start_time": "2022-05-10T12:05:34.803Z"
   },
   {
    "duration": 145,
    "start_time": "2022-05-10T12:05:34.813Z"
   },
   {
    "duration": 9,
    "start_time": "2022-05-10T12:05:34.959Z"
   },
   {
    "duration": 154,
    "start_time": "2022-05-10T12:05:34.969Z"
   },
   {
    "duration": 9,
    "start_time": "2022-05-10T12:05:35.124Z"
   },
   {
    "duration": 130,
    "start_time": "2022-05-10T12:05:35.134Z"
   },
   {
    "duration": 8,
    "start_time": "2022-05-10T12:05:35.265Z"
   },
   {
    "duration": 127,
    "start_time": "2022-05-10T12:05:35.275Z"
   },
   {
    "duration": 8,
    "start_time": "2022-05-10T12:05:35.404Z"
   },
   {
    "duration": 145,
    "start_time": "2022-05-10T12:05:35.413Z"
   },
   {
    "duration": 30,
    "start_time": "2022-05-10T12:05:35.560Z"
   },
   {
    "duration": 157,
    "start_time": "2022-05-10T12:05:35.591Z"
   },
   {
    "duration": 23,
    "start_time": "2022-05-10T12:05:35.750Z"
   },
   {
    "duration": 4,
    "start_time": "2022-05-10T12:05:35.775Z"
   },
   {
    "duration": 6,
    "start_time": "2022-05-10T12:05:35.780Z"
   },
   {
    "duration": 209,
    "start_time": "2022-05-10T12:05:35.788Z"
   },
   {
    "duration": 5,
    "start_time": "2022-05-10T12:05:35.999Z"
   },
   {
    "duration": 198,
    "start_time": "2022-05-10T12:05:36.005Z"
   },
   {
    "duration": 4,
    "start_time": "2022-05-10T12:05:36.205Z"
   },
   {
    "duration": 160,
    "start_time": "2022-05-10T12:05:36.211Z"
   },
   {
    "duration": 159,
    "start_time": "2022-05-10T12:05:36.373Z"
   },
   {
    "duration": 199,
    "start_time": "2022-05-10T12:12:30.452Z"
   },
   {
    "duration": 144,
    "start_time": "2022-05-10T12:13:34.171Z"
   },
   {
    "duration": 194,
    "start_time": "2022-05-10T12:15:14.862Z"
   },
   {
    "duration": 277,
    "start_time": "2022-05-10T12:15:28.172Z"
   },
   {
    "duration": 138,
    "start_time": "2022-05-10T12:34:46.737Z"
   },
   {
    "duration": 133,
    "start_time": "2022-05-10T12:34:50.089Z"
   },
   {
    "duration": 8,
    "start_time": "2022-05-10T12:35:29.168Z"
   },
   {
    "duration": 69,
    "start_time": "2022-05-10T12:35:31.484Z"
   },
   {
    "duration": 7,
    "start_time": "2022-05-10T12:36:40.666Z"
   },
   {
    "duration": 8,
    "start_time": "2022-05-10T12:36:53.396Z"
   },
   {
    "duration": 75,
    "start_time": "2022-05-10T12:36:55.993Z"
   },
   {
    "duration": 7,
    "start_time": "2022-05-10T12:36:58.386Z"
   },
   {
    "duration": 1183,
    "start_time": "2022-05-10T12:37:19.670Z"
   },
   {
    "duration": 3,
    "start_time": "2022-05-10T12:37:20.855Z"
   },
   {
    "duration": 7,
    "start_time": "2022-05-10T12:37:20.859Z"
   },
   {
    "duration": 14,
    "start_time": "2022-05-10T12:37:20.868Z"
   },
   {
    "duration": 14,
    "start_time": "2022-05-10T12:37:20.884Z"
   },
   {
    "duration": 7,
    "start_time": "2022-05-10T12:37:20.899Z"
   },
   {
    "duration": 5,
    "start_time": "2022-05-10T12:37:20.907Z"
   },
   {
    "duration": 35,
    "start_time": "2022-05-10T12:37:20.913Z"
   },
   {
    "duration": 6,
    "start_time": "2022-05-10T12:37:20.950Z"
   },
   {
    "duration": 10,
    "start_time": "2022-05-10T12:37:20.959Z"
   },
   {
    "duration": 11,
    "start_time": "2022-05-10T12:37:20.970Z"
   },
   {
    "duration": 12,
    "start_time": "2022-05-10T12:37:20.983Z"
   },
   {
    "duration": 6,
    "start_time": "2022-05-10T12:37:20.996Z"
   },
   {
    "duration": 5,
    "start_time": "2022-05-10T12:37:21.004Z"
   },
   {
    "duration": 40,
    "start_time": "2022-05-10T12:37:21.011Z"
   },
   {
    "duration": 17,
    "start_time": "2022-05-10T12:37:21.053Z"
   },
   {
    "duration": 6,
    "start_time": "2022-05-10T12:37:21.071Z"
   },
   {
    "duration": 14,
    "start_time": "2022-05-10T12:37:21.078Z"
   },
   {
    "duration": 8,
    "start_time": "2022-05-10T12:37:21.093Z"
   },
   {
    "duration": 4,
    "start_time": "2022-05-10T12:37:21.102Z"
   },
   {
    "duration": 16,
    "start_time": "2022-05-10T12:37:21.107Z"
   },
   {
    "duration": 35,
    "start_time": "2022-05-10T12:37:21.125Z"
   },
   {
    "duration": 3,
    "start_time": "2022-05-10T12:37:21.161Z"
   },
   {
    "duration": 24,
    "start_time": "2022-05-10T12:37:21.166Z"
   },
   {
    "duration": 6,
    "start_time": "2022-05-10T12:37:21.192Z"
   },
   {
    "duration": 17,
    "start_time": "2022-05-10T12:37:21.200Z"
   },
   {
    "duration": 39,
    "start_time": "2022-05-10T12:37:21.219Z"
   },
   {
    "duration": 13,
    "start_time": "2022-05-10T12:37:21.263Z"
   },
   {
    "duration": 312,
    "start_time": "2022-05-10T12:37:21.277Z"
   },
   {
    "duration": 244,
    "start_time": "2022-05-10T12:37:21.591Z"
   },
   {
    "duration": 20,
    "start_time": "2022-05-10T12:37:21.837Z"
   },
   {
    "duration": 441,
    "start_time": "2022-05-10T12:37:21.858Z"
   },
   {
    "duration": 8,
    "start_time": "2022-05-10T12:37:22.301Z"
   },
   {
    "duration": 4,
    "start_time": "2022-05-10T12:37:22.311Z"
   },
   {
    "duration": 164,
    "start_time": "2022-05-10T12:37:22.317Z"
   },
   {
    "duration": 12,
    "start_time": "2022-05-10T12:37:22.483Z"
   },
   {
    "duration": 208,
    "start_time": "2022-05-10T12:37:22.496Z"
   },
   {
    "duration": 131,
    "start_time": "2022-05-10T12:37:22.706Z"
   },
   {
    "duration": 138,
    "start_time": "2022-05-10T12:37:22.839Z"
   },
   {
    "duration": 150,
    "start_time": "2022-05-10T12:37:22.979Z"
   },
   {
    "duration": 151,
    "start_time": "2022-05-10T12:37:23.130Z"
   },
   {
    "duration": 164,
    "start_time": "2022-05-10T12:37:23.283Z"
   },
   {
    "duration": 20,
    "start_time": "2022-05-10T12:37:23.450Z"
   },
   {
    "duration": 155,
    "start_time": "2022-05-10T12:37:23.471Z"
   },
   {
    "duration": 161,
    "start_time": "2022-05-10T12:37:23.628Z"
   },
   {
    "duration": 16,
    "start_time": "2022-05-10T12:37:23.791Z"
   },
   {
    "duration": 16,
    "start_time": "2022-05-10T12:37:23.808Z"
   },
   {
    "duration": 29,
    "start_time": "2022-05-10T12:37:23.826Z"
   },
   {
    "duration": 14,
    "start_time": "2022-05-10T12:37:23.857Z"
   },
   {
    "duration": 18,
    "start_time": "2022-05-10T12:37:23.872Z"
   },
   {
    "duration": 9,
    "start_time": "2022-05-10T12:37:23.892Z"
   },
   {
    "duration": 138,
    "start_time": "2022-05-10T12:37:23.903Z"
   },
   {
    "duration": 8,
    "start_time": "2022-05-10T12:37:24.047Z"
   },
   {
    "duration": 128,
    "start_time": "2022-05-10T12:37:24.056Z"
   },
   {
    "duration": 9,
    "start_time": "2022-05-10T12:37:24.185Z"
   },
   {
    "duration": 129,
    "start_time": "2022-05-10T12:37:24.195Z"
   },
   {
    "duration": 8,
    "start_time": "2022-05-10T12:37:24.326Z"
   },
   {
    "duration": 134,
    "start_time": "2022-05-10T12:37:24.335Z"
   },
   {
    "duration": 9,
    "start_time": "2022-05-10T12:37:24.470Z"
   },
   {
    "duration": 134,
    "start_time": "2022-05-10T12:37:24.480Z"
   },
   {
    "duration": 9,
    "start_time": "2022-05-10T12:37:24.615Z"
   },
   {
    "duration": 224,
    "start_time": "2022-05-10T12:37:24.625Z"
   },
   {
    "duration": 9,
    "start_time": "2022-05-10T12:37:24.850Z"
   },
   {
    "duration": 125,
    "start_time": "2022-05-10T12:37:24.860Z"
   },
   {
    "duration": 9,
    "start_time": "2022-05-10T12:37:24.986Z"
   },
   {
    "duration": 130,
    "start_time": "2022-05-10T12:37:24.996Z"
   },
   {
    "duration": 22,
    "start_time": "2022-05-10T12:37:25.127Z"
   },
   {
    "duration": 128,
    "start_time": "2022-05-10T12:37:25.150Z"
   },
   {
    "duration": 9,
    "start_time": "2022-05-10T12:37:25.280Z"
   },
   {
    "duration": 142,
    "start_time": "2022-05-10T12:37:25.290Z"
   },
   {
    "duration": 37,
    "start_time": "2022-05-10T12:37:25.434Z"
   },
   {
    "duration": 147,
    "start_time": "2022-05-10T12:37:25.473Z"
   },
   {
    "duration": 40,
    "start_time": "2022-05-10T12:37:25.621Z"
   },
   {
    "duration": 5,
    "start_time": "2022-05-10T12:37:25.662Z"
   },
   {
    "duration": 5,
    "start_time": "2022-05-10T12:37:25.668Z"
   },
   {
    "duration": 219,
    "start_time": "2022-05-10T12:37:25.674Z"
   },
   {
    "duration": 6,
    "start_time": "2022-05-10T12:37:25.895Z"
   },
   {
    "duration": 204,
    "start_time": "2022-05-10T12:37:25.903Z"
   },
   {
    "duration": 5,
    "start_time": "2022-05-10T12:37:26.109Z"
   },
   {
    "duration": 169,
    "start_time": "2022-05-10T12:37:26.116Z"
   },
   {
    "duration": 163,
    "start_time": "2022-05-10T12:37:26.287Z"
   },
   {
    "duration": 9,
    "start_time": "2022-05-10T12:37:26.456Z"
   },
   {
    "duration": 88,
    "start_time": "2022-05-10T12:37:26.467Z"
   },
   {
    "duration": 8,
    "start_time": "2022-05-10T12:38:12.655Z"
   },
   {
    "duration": 7,
    "start_time": "2022-05-10T12:38:56.919Z"
   },
   {
    "duration": 20,
    "start_time": "2022-05-10T12:39:26.079Z"
   },
   {
    "duration": 18,
    "start_time": "2022-05-10T12:40:17.333Z"
   },
   {
    "duration": 76,
    "start_time": "2022-05-10T12:40:22.339Z"
   },
   {
    "duration": 74,
    "start_time": "2022-05-10T12:40:41.621Z"
   },
   {
    "duration": 15,
    "start_time": "2022-05-10T12:42:01.623Z"
   },
   {
    "duration": 114,
    "start_time": "2022-05-10T12:42:10.200Z"
   },
   {
    "duration": 17,
    "start_time": "2022-05-10T12:42:21.070Z"
   },
   {
    "duration": 14,
    "start_time": "2022-05-10T12:42:31.849Z"
   },
   {
    "duration": 124,
    "start_time": "2022-05-10T12:42:41.825Z"
   },
   {
    "duration": 18,
    "start_time": "2022-05-10T12:43:12.151Z"
   },
   {
    "duration": 14,
    "start_time": "2022-05-10T12:43:25.816Z"
   },
   {
    "duration": 223,
    "start_time": "2022-05-10T12:43:32.461Z"
   },
   {
    "duration": 17,
    "start_time": "2022-05-10T12:43:36.915Z"
   },
   {
    "duration": 13,
    "start_time": "2022-05-10T12:43:48.223Z"
   },
   {
    "duration": 117,
    "start_time": "2022-05-10T12:43:51.627Z"
   },
   {
    "duration": 17,
    "start_time": "2022-05-10T12:43:58.349Z"
   },
   {
    "duration": 72,
    "start_time": "2022-05-10T12:44:07.339Z"
   },
   {
    "duration": 15,
    "start_time": "2022-05-10T12:44:15.956Z"
   },
   {
    "duration": 138,
    "start_time": "2022-05-10T12:44:18.999Z"
   },
   {
    "duration": 17,
    "start_time": "2022-05-10T12:44:23.318Z"
   },
   {
    "duration": 14,
    "start_time": "2022-05-10T12:44:27.206Z"
   },
   {
    "duration": 117,
    "start_time": "2022-05-10T12:44:29.657Z"
   },
   {
    "duration": 4,
    "start_time": "2022-05-10T12:56:16.523Z"
   },
   {
    "duration": 8,
    "start_time": "2022-05-10T12:56:24.883Z"
   },
   {
    "duration": 305,
    "start_time": "2022-05-10T13:00:01.565Z"
   },
   {
    "duration": 129,
    "start_time": "2022-05-10T13:03:49.160Z"
   },
   {
    "duration": 161,
    "start_time": "2022-05-10T13:04:05.653Z"
   },
   {
    "duration": 252,
    "start_time": "2022-05-10T13:04:42.336Z"
   },
   {
    "duration": 305,
    "start_time": "2022-05-10T13:04:47.873Z"
   },
   {
    "duration": 301,
    "start_time": "2022-05-10T13:05:40.889Z"
   },
   {
    "duration": 452,
    "start_time": "2022-05-10T13:06:59.153Z"
   },
   {
    "duration": 324,
    "start_time": "2022-05-10T13:07:07.012Z"
   },
   {
    "duration": 317,
    "start_time": "2022-05-10T13:07:12.268Z"
   },
   {
    "duration": 332,
    "start_time": "2022-05-10T13:07:15.150Z"
   },
   {
    "duration": 103,
    "start_time": "2022-05-10T13:07:54.664Z"
   },
   {
    "duration": 361,
    "start_time": "2022-05-10T13:08:13.589Z"
   },
   {
    "duration": 213,
    "start_time": "2022-05-10T13:08:44.289Z"
   },
   {
    "duration": 484,
    "start_time": "2022-05-10T13:08:57.827Z"
   },
   {
    "duration": 305,
    "start_time": "2022-05-10T13:09:06.561Z"
   },
   {
    "duration": 237,
    "start_time": "2022-05-10T13:09:13.072Z"
   },
   {
    "duration": 338,
    "start_time": "2022-05-10T13:09:22.105Z"
   },
   {
    "duration": 300,
    "start_time": "2022-05-10T13:09:26.295Z"
   },
   {
    "duration": 329,
    "start_time": "2022-05-10T13:09:36.233Z"
   },
   {
    "duration": 135,
    "start_time": "2022-05-10T13:11:35.411Z"
   },
   {
    "duration": 172,
    "start_time": "2022-05-10T13:11:45.528Z"
   },
   {
    "duration": 151,
    "start_time": "2022-05-10T13:12:11.038Z"
   },
   {
    "duration": 147,
    "start_time": "2022-05-10T13:12:26.817Z"
   },
   {
    "duration": 492,
    "start_time": "2022-05-10T13:12:41.870Z"
   },
   {
    "duration": 338,
    "start_time": "2022-05-10T13:13:08.268Z"
   },
   {
    "duration": 466,
    "start_time": "2022-05-10T13:14:31.458Z"
   },
   {
    "duration": 437,
    "start_time": "2022-05-10T13:14:40.821Z"
   },
   {
    "duration": 424,
    "start_time": "2022-05-10T13:14:52.429Z"
   },
   {
    "duration": 338,
    "start_time": "2022-05-10T13:14:59.867Z"
   },
   {
    "duration": 458,
    "start_time": "2022-05-10T13:16:11.812Z"
   },
   {
    "duration": 317,
    "start_time": "2022-05-10T13:18:36.442Z"
   },
   {
    "duration": 318,
    "start_time": "2022-05-10T13:19:28.754Z"
   },
   {
    "duration": 326,
    "start_time": "2022-05-10T13:19:44.521Z"
   },
   {
    "duration": 397,
    "start_time": "2022-05-10T13:19:48.478Z"
   },
   {
    "duration": 336,
    "start_time": "2022-05-10T13:20:11.075Z"
   },
   {
    "duration": 464,
    "start_time": "2022-05-10T13:21:44.207Z"
   },
   {
    "duration": 333,
    "start_time": "2022-05-10T13:22:14.990Z"
   },
   {
    "duration": 318,
    "start_time": "2022-05-10T13:22:53.670Z"
   },
   {
    "duration": 325,
    "start_time": "2022-05-10T13:23:04.197Z"
   },
   {
    "duration": 333,
    "start_time": "2022-05-10T13:23:52.515Z"
   },
   {
    "duration": 341,
    "start_time": "2022-05-10T13:25:58.729Z"
   },
   {
    "duration": 336,
    "start_time": "2022-05-10T13:26:15.676Z"
   },
   {
    "duration": 534,
    "start_time": "2022-05-10T13:27:01.744Z"
   },
   {
    "duration": 350,
    "start_time": "2022-05-10T13:27:38.077Z"
   },
   {
    "duration": 354,
    "start_time": "2022-05-10T13:27:50.881Z"
   },
   {
    "duration": 4,
    "start_time": "2022-05-10T13:28:13.254Z"
   },
   {
    "duration": 18,
    "start_time": "2022-05-10T13:28:26.082Z"
   },
   {
    "duration": 12,
    "start_time": "2022-05-10T13:28:30.059Z"
   },
   {
    "duration": 12,
    "start_time": "2022-05-10T13:29:09.139Z"
   },
   {
    "duration": 12,
    "start_time": "2022-05-10T13:29:33.231Z"
   },
   {
    "duration": 315,
    "start_time": "2022-05-10T13:42:14.081Z"
   },
   {
    "duration": 213,
    "start_time": "2022-05-10T13:43:21.539Z"
   },
   {
    "duration": 421,
    "start_time": "2022-05-10T13:43:31.277Z"
   },
   {
    "duration": 15,
    "start_time": "2022-05-10T13:44:36.246Z"
   },
   {
    "duration": 442,
    "start_time": "2022-05-10T13:46:26.712Z"
   },
   {
    "duration": 690,
    "start_time": "2022-05-10T13:46:48.598Z"
   },
   {
    "duration": 12,
    "start_time": "2022-05-10T13:57:31.033Z"
   },
   {
    "duration": 16,
    "start_time": "2022-05-10T13:57:36.752Z"
   },
   {
    "duration": 13,
    "start_time": "2022-05-10T13:58:09.335Z"
   },
   {
    "duration": 18,
    "start_time": "2022-05-10T13:58:14.457Z"
   },
   {
    "duration": 12,
    "start_time": "2022-05-10T13:58:30.836Z"
   },
   {
    "duration": 12,
    "start_time": "2022-05-10T13:59:01.518Z"
   },
   {
    "duration": 11,
    "start_time": "2022-05-10T14:00:47.721Z"
   },
   {
    "duration": 17,
    "start_time": "2022-05-10T14:00:50.181Z"
   },
   {
    "duration": 407,
    "start_time": "2022-05-10T14:01:18.051Z"
   },
   {
    "duration": 369,
    "start_time": "2022-05-10T14:08:28.650Z"
   },
   {
    "duration": 11,
    "start_time": "2022-05-10T14:09:16.734Z"
   },
   {
    "duration": 11,
    "start_time": "2022-05-10T14:10:13.767Z"
   },
   {
    "duration": 11,
    "start_time": "2022-05-10T14:10:14.162Z"
   },
   {
    "duration": 11,
    "start_time": "2022-05-10T14:10:14.558Z"
   },
   {
    "duration": 7,
    "start_time": "2022-05-10T14:10:16.838Z"
   },
   {
    "duration": 498,
    "start_time": "2022-05-10T14:10:41.324Z"
   },
   {
    "duration": 18,
    "start_time": "2022-05-10T14:13:20.016Z"
   },
   {
    "duration": 13,
    "start_time": "2022-05-10T14:15:10.131Z"
   },
   {
    "duration": 1186,
    "start_time": "2022-05-10T14:20:46.880Z"
   },
   {
    "duration": 3,
    "start_time": "2022-05-10T14:20:48.069Z"
   },
   {
    "duration": 7,
    "start_time": "2022-05-10T14:20:48.074Z"
   },
   {
    "duration": 16,
    "start_time": "2022-05-10T14:20:48.083Z"
   },
   {
    "duration": 14,
    "start_time": "2022-05-10T14:20:48.101Z"
   },
   {
    "duration": 30,
    "start_time": "2022-05-10T14:20:48.117Z"
   },
   {
    "duration": 7,
    "start_time": "2022-05-10T14:20:48.150Z"
   },
   {
    "duration": 10,
    "start_time": "2022-05-10T14:20:48.158Z"
   },
   {
    "duration": 8,
    "start_time": "2022-05-10T14:20:48.170Z"
   },
   {
    "duration": 12,
    "start_time": "2022-05-10T14:20:48.179Z"
   },
   {
    "duration": 12,
    "start_time": "2022-05-10T14:20:48.192Z"
   },
   {
    "duration": 42,
    "start_time": "2022-05-10T14:20:48.205Z"
   },
   {
    "duration": 9,
    "start_time": "2022-05-10T14:20:48.250Z"
   },
   {
    "duration": 8,
    "start_time": "2022-05-10T14:20:48.263Z"
   },
   {
    "duration": 9,
    "start_time": "2022-05-10T14:20:48.273Z"
   },
   {
    "duration": 14,
    "start_time": "2022-05-10T14:20:48.284Z"
   },
   {
    "duration": 21,
    "start_time": "2022-05-10T14:20:48.299Z"
   },
   {
    "duration": 20,
    "start_time": "2022-05-10T14:20:48.321Z"
   },
   {
    "duration": 15,
    "start_time": "2022-05-10T14:20:48.347Z"
   },
   {
    "duration": 15,
    "start_time": "2022-05-10T14:20:48.364Z"
   },
   {
    "duration": 13,
    "start_time": "2022-05-10T14:20:48.381Z"
   },
   {
    "duration": 25,
    "start_time": "2022-05-10T14:20:48.396Z"
   },
   {
    "duration": 2,
    "start_time": "2022-05-10T14:20:48.423Z"
   },
   {
    "duration": 25,
    "start_time": "2022-05-10T14:20:48.427Z"
   },
   {
    "duration": 9,
    "start_time": "2022-05-10T14:20:48.454Z"
   },
   {
    "duration": 19,
    "start_time": "2022-05-10T14:20:48.465Z"
   },
   {
    "duration": 15,
    "start_time": "2022-05-10T14:20:48.486Z"
   },
   {
    "duration": 12,
    "start_time": "2022-05-10T14:20:48.502Z"
   },
   {
    "duration": 359,
    "start_time": "2022-05-10T14:20:48.516Z"
   },
   {
    "duration": 266,
    "start_time": "2022-05-10T14:20:48.877Z"
   },
   {
    "duration": 18,
    "start_time": "2022-05-10T14:20:49.148Z"
   },
   {
    "duration": 475,
    "start_time": "2022-05-10T14:20:49.168Z"
   },
   {
    "duration": 12,
    "start_time": "2022-05-10T14:20:49.645Z"
   },
   {
    "duration": 6,
    "start_time": "2022-05-10T14:20:49.659Z"
   },
   {
    "duration": 170,
    "start_time": "2022-05-10T14:20:49.667Z"
   },
   {
    "duration": 20,
    "start_time": "2022-05-10T14:20:49.839Z"
   },
   {
    "duration": 323,
    "start_time": "2022-05-10T14:20:49.862Z"
   },
   {
    "duration": 221,
    "start_time": "2022-05-10T14:20:50.187Z"
   },
   {
    "duration": 195,
    "start_time": "2022-05-10T14:20:50.410Z"
   },
   {
    "duration": 166,
    "start_time": "2022-05-10T14:20:50.607Z"
   },
   {
    "duration": 187,
    "start_time": "2022-05-10T14:20:50.778Z"
   },
   {
    "duration": 176,
    "start_time": "2022-05-10T14:20:50.967Z"
   },
   {
    "duration": 23,
    "start_time": "2022-05-10T14:20:51.145Z"
   },
   {
    "duration": 169,
    "start_time": "2022-05-10T14:20:51.170Z"
   },
   {
    "duration": 175,
    "start_time": "2022-05-10T14:20:51.341Z"
   },
   {
    "duration": 43,
    "start_time": "2022-05-10T14:20:51.518Z"
   },
   {
    "duration": 23,
    "start_time": "2022-05-10T14:20:51.562Z"
   },
   {
    "duration": 66,
    "start_time": "2022-05-10T14:20:51.586Z"
   },
   {
    "duration": 23,
    "start_time": "2022-05-10T14:20:51.654Z"
   },
   {
    "duration": 16,
    "start_time": "2022-05-10T14:20:51.679Z"
   },
   {
    "duration": 10,
    "start_time": "2022-05-10T14:20:51.696Z"
   },
   {
    "duration": 240,
    "start_time": "2022-05-10T14:20:51.707Z"
   },
   {
    "duration": 13,
    "start_time": "2022-05-10T14:20:51.949Z"
   },
   {
    "duration": 155,
    "start_time": "2022-05-10T14:20:51.964Z"
   },
   {
    "duration": 10,
    "start_time": "2022-05-10T14:20:52.120Z"
   },
   {
    "duration": 153,
    "start_time": "2022-05-10T14:20:52.131Z"
   },
   {
    "duration": 9,
    "start_time": "2022-05-10T14:20:52.286Z"
   },
   {
    "duration": 144,
    "start_time": "2022-05-10T14:20:52.296Z"
   },
   {
    "duration": 11,
    "start_time": "2022-05-10T14:20:52.448Z"
   },
   {
    "duration": 224,
    "start_time": "2022-05-10T14:20:52.461Z"
   },
   {
    "duration": 8,
    "start_time": "2022-05-10T14:20:52.687Z"
   },
   {
    "duration": 161,
    "start_time": "2022-05-10T14:20:52.696Z"
   },
   {
    "duration": 9,
    "start_time": "2022-05-10T14:20:52.858Z"
   },
   {
    "duration": 138,
    "start_time": "2022-05-10T14:20:52.869Z"
   },
   {
    "duration": 8,
    "start_time": "2022-05-10T14:20:53.009Z"
   },
   {
    "duration": 143,
    "start_time": "2022-05-10T14:20:53.019Z"
   },
   {
    "duration": 10,
    "start_time": "2022-05-10T14:20:53.164Z"
   },
   {
    "duration": 153,
    "start_time": "2022-05-10T14:20:53.176Z"
   },
   {
    "duration": 8,
    "start_time": "2022-05-10T14:20:53.331Z"
   },
   {
    "duration": 153,
    "start_time": "2022-05-10T14:20:53.350Z"
   },
   {
    "duration": 45,
    "start_time": "2022-05-10T14:20:53.504Z"
   },
   {
    "duration": 159,
    "start_time": "2022-05-10T14:20:53.551Z"
   },
   {
    "duration": 41,
    "start_time": "2022-05-10T14:20:53.712Z"
   },
   {
    "duration": 6,
    "start_time": "2022-05-10T14:20:53.755Z"
   },
   {
    "duration": 14,
    "start_time": "2022-05-10T14:20:53.763Z"
   },
   {
    "duration": 215,
    "start_time": "2022-05-10T14:20:53.778Z"
   },
   {
    "duration": 5,
    "start_time": "2022-05-10T14:20:53.994Z"
   },
   {
    "duration": 216,
    "start_time": "2022-05-10T14:20:54.000Z"
   },
   {
    "duration": 5,
    "start_time": "2022-05-10T14:20:54.218Z"
   },
   {
    "duration": 185,
    "start_time": "2022-05-10T14:20:54.224Z"
   },
   {
    "duration": 181,
    "start_time": "2022-05-10T14:20:54.410Z"
   },
   {
    "duration": 5,
    "start_time": "2022-05-10T14:20:54.592Z"
   },
   {
    "duration": 14,
    "start_time": "2022-05-10T14:20:54.598Z"
   },
   {
    "duration": 11,
    "start_time": "2022-05-10T14:20:54.614Z"
   },
   {
    "duration": 31,
    "start_time": "2022-05-10T14:20:54.626Z"
   },
   {
    "duration": 391,
    "start_time": "2022-05-10T14:20:54.659Z"
   },
   {
    "duration": 19,
    "start_time": "2022-05-10T14:20:55.053Z"
   },
   {
    "duration": 14,
    "start_time": "2022-05-10T14:20:55.073Z"
   },
   {
    "duration": 11,
    "start_time": "2022-05-10T14:20:55.089Z"
   },
   {
    "duration": 146,
    "start_time": "2022-05-10T14:20:55.102Z"
   },
   {
    "duration": 414,
    "start_time": "2022-05-10T14:20:55.251Z"
   },
   {
    "duration": 19,
    "start_time": "2022-05-10T14:20:55.666Z"
   },
   {
    "duration": 13,
    "start_time": "2022-05-10T14:20:55.686Z"
   },
   {
    "duration": 136,
    "start_time": "2022-05-10T14:20:55.701Z"
   },
   {
    "duration": 32,
    "start_time": "2022-05-10T14:20:55.839Z"
   },
   {
    "duration": 14,
    "start_time": "2022-05-10T14:20:55.873Z"
   },
   {
    "duration": 173,
    "start_time": "2022-05-10T14:20:55.889Z"
   },
   {
    "duration": 18,
    "start_time": "2022-05-10T14:20:56.064Z"
   },
   {
    "duration": 14,
    "start_time": "2022-05-10T14:20:56.084Z"
   },
   {
    "duration": 140,
    "start_time": "2022-05-10T14:20:56.100Z"
   },
   {
    "duration": 6,
    "start_time": "2022-05-10T14:22:57.819Z"
   },
   {
    "duration": 6,
    "start_time": "2022-05-10T14:23:37.100Z"
   },
   {
    "duration": 108,
    "start_time": "2022-05-10T14:23:40.627Z"
   },
   {
    "duration": 17,
    "start_time": "2022-05-10T14:24:06.002Z"
   },
   {
    "duration": 9,
    "start_time": "2022-05-10T14:25:50.593Z"
   },
   {
    "duration": 6,
    "start_time": "2022-05-10T14:25:56.132Z"
   },
   {
    "duration": 6,
    "start_time": "2022-05-10T14:25:57.693Z"
   },
   {
    "duration": 4,
    "start_time": "2022-05-10T14:25:58.774Z"
   },
   {
    "duration": 4,
    "start_time": "2022-05-10T14:26:11.636Z"
   },
   {
    "duration": 4,
    "start_time": "2022-05-10T14:26:12.080Z"
   },
   {
    "duration": 7,
    "start_time": "2022-05-10T14:35:08.382Z"
   },
   {
    "duration": 6,
    "start_time": "2022-05-10T14:35:54.333Z"
   },
   {
    "duration": 4,
    "start_time": "2022-05-10T14:36:17.685Z"
   },
   {
    "duration": 1220,
    "start_time": "2022-05-10T14:46:11.055Z"
   },
   {
    "duration": 3,
    "start_time": "2022-05-10T14:46:12.277Z"
   },
   {
    "duration": 7,
    "start_time": "2022-05-10T14:46:12.282Z"
   },
   {
    "duration": 16,
    "start_time": "2022-05-10T14:46:12.291Z"
   },
   {
    "duration": 16,
    "start_time": "2022-05-10T14:46:12.308Z"
   },
   {
    "duration": 6,
    "start_time": "2022-05-10T14:46:12.348Z"
   },
   {
    "duration": 10,
    "start_time": "2022-05-10T14:46:12.356Z"
   },
   {
    "duration": 9,
    "start_time": "2022-05-10T14:46:12.368Z"
   },
   {
    "duration": 19,
    "start_time": "2022-05-10T14:46:12.379Z"
   },
   {
    "duration": 14,
    "start_time": "2022-05-10T14:46:12.401Z"
   },
   {
    "duration": 12,
    "start_time": "2022-05-10T14:46:12.416Z"
   },
   {
    "duration": 26,
    "start_time": "2022-05-10T14:46:12.429Z"
   },
   {
    "duration": 6,
    "start_time": "2022-05-10T14:46:12.457Z"
   },
   {
    "duration": 6,
    "start_time": "2022-05-10T14:46:12.464Z"
   },
   {
    "duration": 7,
    "start_time": "2022-05-10T14:46:12.471Z"
   },
   {
    "duration": 13,
    "start_time": "2022-05-10T14:46:12.479Z"
   },
   {
    "duration": 5,
    "start_time": "2022-05-10T14:46:12.494Z"
   },
   {
    "duration": 12,
    "start_time": "2022-05-10T14:46:12.501Z"
   },
   {
    "duration": 5,
    "start_time": "2022-05-10T14:46:12.515Z"
   },
   {
    "duration": 4,
    "start_time": "2022-05-10T14:46:12.547Z"
   },
   {
    "duration": 12,
    "start_time": "2022-05-10T14:46:12.553Z"
   },
   {
    "duration": 17,
    "start_time": "2022-05-10T14:46:12.567Z"
   },
   {
    "duration": 4,
    "start_time": "2022-05-10T14:46:12.586Z"
   },
   {
    "duration": 26,
    "start_time": "2022-05-10T14:46:12.591Z"
   },
   {
    "duration": 7,
    "start_time": "2022-05-10T14:46:12.647Z"
   },
   {
    "duration": 18,
    "start_time": "2022-05-10T14:46:12.656Z"
   },
   {
    "duration": 15,
    "start_time": "2022-05-10T14:46:12.676Z"
   },
   {
    "duration": 13,
    "start_time": "2022-05-10T14:46:12.696Z"
   },
   {
    "duration": 348,
    "start_time": "2022-05-10T14:46:12.711Z"
   },
   {
    "duration": 254,
    "start_time": "2022-05-10T14:46:13.061Z"
   },
   {
    "duration": 32,
    "start_time": "2022-05-10T14:46:13.317Z"
   },
   {
    "duration": 507,
    "start_time": "2022-05-10T14:46:13.350Z"
   },
   {
    "duration": 9,
    "start_time": "2022-05-10T14:46:13.859Z"
   },
   {
    "duration": 5,
    "start_time": "2022-05-10T14:46:13.870Z"
   },
   {
    "duration": 171,
    "start_time": "2022-05-10T14:46:13.876Z"
   },
   {
    "duration": 13,
    "start_time": "2022-05-10T14:46:14.049Z"
   },
   {
    "duration": 209,
    "start_time": "2022-05-10T14:46:14.064Z"
   },
   {
    "duration": 140,
    "start_time": "2022-05-10T14:46:14.274Z"
   },
   {
    "duration": 152,
    "start_time": "2022-05-10T14:46:14.416Z"
   },
   {
    "duration": 143,
    "start_time": "2022-05-10T14:46:14.569Z"
   },
   {
    "duration": 149,
    "start_time": "2022-05-10T14:46:14.713Z"
   },
   {
    "duration": 166,
    "start_time": "2022-05-10T14:46:14.863Z"
   },
   {
    "duration": 23,
    "start_time": "2022-05-10T14:46:15.030Z"
   },
   {
    "duration": 167,
    "start_time": "2022-05-10T14:46:15.055Z"
   },
   {
    "duration": 161,
    "start_time": "2022-05-10T14:46:15.223Z"
   },
   {
    "duration": 16,
    "start_time": "2022-05-10T14:46:15.385Z"
   },
   {
    "duration": 16,
    "start_time": "2022-05-10T14:46:15.402Z"
   },
   {
    "duration": 33,
    "start_time": "2022-05-10T14:46:15.420Z"
   },
   {
    "duration": 16,
    "start_time": "2022-05-10T14:46:15.454Z"
   },
   {
    "duration": 14,
    "start_time": "2022-05-10T14:46:15.472Z"
   },
   {
    "duration": 9,
    "start_time": "2022-05-10T14:46:15.487Z"
   },
   {
    "duration": 135,
    "start_time": "2022-05-10T14:46:15.497Z"
   },
   {
    "duration": 18,
    "start_time": "2022-05-10T14:46:15.634Z"
   },
   {
    "duration": 133,
    "start_time": "2022-05-10T14:46:15.654Z"
   },
   {
    "duration": 8,
    "start_time": "2022-05-10T14:46:15.789Z"
   },
   {
    "duration": 131,
    "start_time": "2022-05-10T14:46:15.799Z"
   },
   {
    "duration": 19,
    "start_time": "2022-05-10T14:46:15.932Z"
   },
   {
    "duration": 140,
    "start_time": "2022-05-10T14:46:15.953Z"
   },
   {
    "duration": 10,
    "start_time": "2022-05-10T14:46:16.094Z"
   },
   {
    "duration": 128,
    "start_time": "2022-05-10T14:46:16.105Z"
   },
   {
    "duration": 17,
    "start_time": "2022-05-10T14:46:16.235Z"
   },
   {
    "duration": 219,
    "start_time": "2022-05-10T14:46:16.253Z"
   },
   {
    "duration": 8,
    "start_time": "2022-05-10T14:46:16.474Z"
   },
   {
    "duration": 125,
    "start_time": "2022-05-10T14:46:16.484Z"
   },
   {
    "duration": 9,
    "start_time": "2022-05-10T14:46:16.611Z"
   },
   {
    "duration": 128,
    "start_time": "2022-05-10T14:46:16.621Z"
   },
   {
    "duration": 9,
    "start_time": "2022-05-10T14:46:16.750Z"
   },
   {
    "duration": 129,
    "start_time": "2022-05-10T14:46:16.760Z"
   },
   {
    "duration": 9,
    "start_time": "2022-05-10T14:46:16.891Z"
   },
   {
    "duration": 158,
    "start_time": "2022-05-10T14:46:16.902Z"
   },
   {
    "duration": 27,
    "start_time": "2022-05-10T14:46:17.062Z"
   },
   {
    "duration": 147,
    "start_time": "2022-05-10T14:46:17.090Z"
   },
   {
    "duration": 28,
    "start_time": "2022-05-10T14:46:17.239Z"
   },
   {
    "duration": 3,
    "start_time": "2022-05-10T14:46:17.269Z"
   },
   {
    "duration": 5,
    "start_time": "2022-05-10T14:46:17.274Z"
   },
   {
    "duration": 217,
    "start_time": "2022-05-10T14:46:17.280Z"
   },
   {
    "duration": 5,
    "start_time": "2022-05-10T14:46:17.498Z"
   },
   {
    "duration": 200,
    "start_time": "2022-05-10T14:46:17.504Z"
   },
   {
    "duration": 5,
    "start_time": "2022-05-10T14:46:17.705Z"
   },
   {
    "duration": 159,
    "start_time": "2022-05-10T14:46:17.711Z"
   },
   {
    "duration": 161,
    "start_time": "2022-05-10T14:46:17.871Z"
   },
   {
    "duration": 9,
    "start_time": "2022-05-10T14:46:18.038Z"
   },
   {
    "duration": 13,
    "start_time": "2022-05-10T14:46:18.049Z"
   },
   {
    "duration": 11,
    "start_time": "2022-05-10T14:46:18.063Z"
   },
   {
    "duration": 10,
    "start_time": "2022-05-10T14:46:18.076Z"
   },
   {
    "duration": 379,
    "start_time": "2022-05-10T14:46:18.088Z"
   },
   {
    "duration": 14,
    "start_time": "2022-05-10T14:46:18.468Z"
   },
   {
    "duration": 11,
    "start_time": "2022-05-10T14:46:18.483Z"
   },
   {
    "duration": 11,
    "start_time": "2022-05-10T14:46:18.496Z"
   },
   {
    "duration": 11,
    "start_time": "2022-05-10T14:46:18.508Z"
   },
   {
    "duration": 498,
    "start_time": "2022-05-10T14:46:18.521Z"
   },
   {
    "duration": 28,
    "start_time": "2022-05-10T14:46:19.021Z"
   },
   {
    "duration": 15,
    "start_time": "2022-05-10T14:46:19.050Z"
   },
   {
    "duration": 138,
    "start_time": "2022-05-10T14:46:19.067Z"
   },
   {
    "duration": 19,
    "start_time": "2022-05-10T14:46:19.207Z"
   },
   {
    "duration": 27,
    "start_time": "2022-05-10T14:46:19.228Z"
   },
   {
    "duration": 148,
    "start_time": "2022-05-10T14:46:19.258Z"
   },
   {
    "duration": 20,
    "start_time": "2022-05-10T14:46:19.408Z"
   },
   {
    "duration": 28,
    "start_time": "2022-05-10T14:46:19.431Z"
   },
   {
    "duration": 142,
    "start_time": "2022-05-10T14:46:19.461Z"
   },
   {
    "duration": 7,
    "start_time": "2022-05-10T14:46:19.605Z"
   },
   {
    "duration": 8,
    "start_time": "2022-05-10T14:46:19.614Z"
   },
   {
    "duration": 5,
    "start_time": "2022-05-10T14:46:19.624Z"
   },
   {
    "duration": 7,
    "start_time": "2022-05-10T14:46:19.648Z"
   },
   {
    "duration": 8,
    "start_time": "2022-05-10T14:46:19.657Z"
   },
   {
    "duration": 6,
    "start_time": "2022-05-10T14:46:19.666Z"
   },
   {
    "duration": 116,
    "start_time": "2022-05-11T08:44:32.151Z"
   },
   {
    "duration": 1646,
    "start_time": "2022-05-11T09:02:11.634Z"
   },
   {
    "duration": 4,
    "start_time": "2022-05-11T09:02:13.283Z"
   },
   {
    "duration": 13,
    "start_time": "2022-05-11T09:02:13.289Z"
   },
   {
    "duration": 27,
    "start_time": "2022-05-11T09:02:13.304Z"
   },
   {
    "duration": 24,
    "start_time": "2022-05-11T09:02:13.333Z"
   },
   {
    "duration": 11,
    "start_time": "2022-05-11T09:02:13.382Z"
   },
   {
    "duration": 11,
    "start_time": "2022-05-11T09:02:13.395Z"
   },
   {
    "duration": 13,
    "start_time": "2022-05-11T09:02:13.407Z"
   },
   {
    "duration": 10,
    "start_time": "2022-05-11T09:02:13.422Z"
   },
   {
    "duration": 54,
    "start_time": "2022-05-11T09:02:13.436Z"
   },
   {
    "duration": 19,
    "start_time": "2022-05-11T09:02:13.492Z"
   },
   {
    "duration": 24,
    "start_time": "2022-05-11T09:02:13.513Z"
   },
   {
    "duration": 10,
    "start_time": "2022-05-11T09:02:13.539Z"
   },
   {
    "duration": 35,
    "start_time": "2022-05-11T09:02:13.551Z"
   },
   {
    "duration": 11,
    "start_time": "2022-05-11T09:02:13.588Z"
   },
   {
    "duration": 20,
    "start_time": "2022-05-11T09:02:13.601Z"
   },
   {
    "duration": 9,
    "start_time": "2022-05-11T09:02:13.623Z"
   },
   {
    "duration": 13,
    "start_time": "2022-05-11T09:02:13.634Z"
   },
   {
    "duration": 10,
    "start_time": "2022-05-11T09:02:13.682Z"
   },
   {
    "duration": 6,
    "start_time": "2022-05-11T09:02:13.694Z"
   },
   {
    "duration": 18,
    "start_time": "2022-05-11T09:02:13.703Z"
   },
   {
    "duration": 66,
    "start_time": "2022-05-11T09:02:13.723Z"
   },
   {
    "duration": 5,
    "start_time": "2022-05-11T09:02:13.791Z"
   },
   {
    "duration": 41,
    "start_time": "2022-05-11T09:02:13.798Z"
   },
   {
    "duration": 40,
    "start_time": "2022-05-11T09:02:13.842Z"
   },
   {
    "duration": 25,
    "start_time": "2022-05-11T09:02:13.884Z"
   },
   {
    "duration": 22,
    "start_time": "2022-05-11T09:02:13.911Z"
   },
   {
    "duration": 50,
    "start_time": "2022-05-11T09:02:13.940Z"
   },
   {
    "duration": 550,
    "start_time": "2022-05-11T09:02:13.992Z"
   },
   {
    "duration": 443,
    "start_time": "2022-05-11T09:02:14.544Z"
   },
   {
    "duration": 23,
    "start_time": "2022-05-11T09:02:14.990Z"
   },
   {
    "duration": 836,
    "start_time": "2022-05-11T09:02:15.015Z"
   },
   {
    "duration": 13,
    "start_time": "2022-05-11T09:02:15.853Z"
   },
   {
    "duration": 7,
    "start_time": "2022-05-11T09:02:15.882Z"
   },
   {
    "duration": 284,
    "start_time": "2022-05-11T09:02:15.891Z"
   },
   {
    "duration": 20,
    "start_time": "2022-05-11T09:02:16.181Z"
   },
   {
    "duration": 320,
    "start_time": "2022-05-11T09:02:16.202Z"
   },
   {
    "duration": 247,
    "start_time": "2022-05-11T09:02:16.524Z"
   },
   {
    "duration": 247,
    "start_time": "2022-05-11T09:02:16.773Z"
   },
   {
    "duration": 274,
    "start_time": "2022-05-11T09:02:17.023Z"
   },
   {
    "duration": 279,
    "start_time": "2022-05-11T09:02:17.299Z"
   },
   {
    "duration": 288,
    "start_time": "2022-05-11T09:02:17.581Z"
   },
   {
    "duration": 30,
    "start_time": "2022-05-11T09:02:17.872Z"
   },
   {
    "duration": 296,
    "start_time": "2022-05-11T09:02:17.904Z"
   },
   {
    "duration": 293,
    "start_time": "2022-05-11T09:02:18.202Z"
   },
   {
    "duration": 26,
    "start_time": "2022-05-11T09:02:18.498Z"
   },
   {
    "duration": 29,
    "start_time": "2022-05-11T09:02:18.526Z"
   },
   {
    "duration": 27,
    "start_time": "2022-05-11T09:02:18.582Z"
   },
   {
    "duration": 25,
    "start_time": "2022-05-11T09:02:18.611Z"
   },
   {
    "duration": 49,
    "start_time": "2022-05-11T09:02:18.638Z"
   },
   {
    "duration": 14,
    "start_time": "2022-05-11T09:02:18.689Z"
   },
   {
    "duration": 239,
    "start_time": "2022-05-11T09:02:18.705Z"
   },
   {
    "duration": 14,
    "start_time": "2022-05-11T09:02:18.946Z"
   },
   {
    "duration": 345,
    "start_time": "2022-05-11T09:02:18.981Z"
   },
   {
    "duration": 13,
    "start_time": "2022-05-11T09:02:19.328Z"
   },
   {
    "duration": 251,
    "start_time": "2022-05-11T09:02:19.343Z"
   },
   {
    "duration": 16,
    "start_time": "2022-05-11T09:02:19.596Z"
   },
   {
    "duration": 266,
    "start_time": "2022-05-11T09:02:19.615Z"
   },
   {
    "duration": 13,
    "start_time": "2022-05-11T09:02:19.884Z"
   },
   {
    "duration": 240,
    "start_time": "2022-05-11T09:02:19.900Z"
   },
   {
    "duration": 13,
    "start_time": "2022-05-11T09:02:20.142Z"
   },
   {
    "duration": 357,
    "start_time": "2022-05-11T09:02:20.157Z"
   },
   {
    "duration": 13,
    "start_time": "2022-05-11T09:02:20.517Z"
   },
   {
    "duration": 218,
    "start_time": "2022-05-11T09:02:20.532Z"
   },
   {
    "duration": 13,
    "start_time": "2022-05-11T09:02:20.752Z"
   },
   {
    "duration": 226,
    "start_time": "2022-05-11T09:02:20.782Z"
   },
   {
    "duration": 12,
    "start_time": "2022-05-11T09:02:21.011Z"
   },
   {
    "duration": 240,
    "start_time": "2022-05-11T09:02:21.026Z"
   },
   {
    "duration": 22,
    "start_time": "2022-05-11T09:02:21.268Z"
   },
   {
    "duration": 246,
    "start_time": "2022-05-11T09:02:21.293Z"
   },
   {
    "duration": 63,
    "start_time": "2022-05-11T09:02:21.543Z"
   },
   {
    "duration": 268,
    "start_time": "2022-05-11T09:02:21.610Z"
   },
   {
    "duration": 41,
    "start_time": "2022-05-11T09:02:21.882Z"
   },
   {
    "duration": 7,
    "start_time": "2022-05-11T09:02:21.925Z"
   },
   {
    "duration": 7,
    "start_time": "2022-05-11T09:02:21.934Z"
   },
   {
    "duration": 406,
    "start_time": "2022-05-11T09:02:21.943Z"
   },
   {
    "duration": 8,
    "start_time": "2022-05-11T09:02:22.351Z"
   },
   {
    "duration": 374,
    "start_time": "2022-05-11T09:02:22.361Z"
   },
   {
    "duration": 8,
    "start_time": "2022-05-11T09:02:22.738Z"
   },
   {
    "duration": 292,
    "start_time": "2022-05-11T09:02:22.749Z"
   },
   {
    "duration": 311,
    "start_time": "2022-05-11T09:02:23.044Z"
   },
   {
    "duration": 6,
    "start_time": "2022-05-11T09:02:23.364Z"
   },
   {
    "duration": 20,
    "start_time": "2022-05-11T09:02:23.382Z"
   },
   {
    "duration": 35,
    "start_time": "2022-05-11T09:02:23.405Z"
   },
   {
    "duration": 60,
    "start_time": "2022-05-11T09:02:23.443Z"
   },
   {
    "duration": 1076,
    "start_time": "2022-05-11T09:02:23.506Z"
   },
   {
    "duration": 25,
    "start_time": "2022-05-11T09:02:24.584Z"
   },
   {
    "duration": 19,
    "start_time": "2022-05-11T09:02:24.611Z"
   },
   {
    "duration": 50,
    "start_time": "2022-05-11T09:02:24.633Z"
   },
   {
    "duration": 19,
    "start_time": "2022-05-11T09:02:24.685Z"
   },
   {
    "duration": 854,
    "start_time": "2022-05-11T09:02:24.707Z"
   },
   {
    "duration": 37,
    "start_time": "2022-05-11T09:02:25.563Z"
   },
   {
    "duration": 23,
    "start_time": "2022-05-11T09:02:25.603Z"
   },
   {
    "duration": 233,
    "start_time": "2022-05-11T09:02:25.628Z"
   },
   {
    "duration": 47,
    "start_time": "2022-05-11T09:02:25.864Z"
   },
   {
    "duration": 28,
    "start_time": "2022-05-11T09:02:25.913Z"
   },
   {
    "duration": 250,
    "start_time": "2022-05-11T09:02:25.944Z"
   },
   {
    "duration": 29,
    "start_time": "2022-05-11T09:02:26.196Z"
   },
   {
    "duration": 23,
    "start_time": "2022-05-11T09:02:26.227Z"
   },
   {
    "duration": 266,
    "start_time": "2022-05-11T09:02:26.252Z"
   },
   {
    "duration": 10,
    "start_time": "2022-05-11T09:02:26.521Z"
   },
   {
    "duration": 12,
    "start_time": "2022-05-11T09:02:26.533Z"
   },
   {
    "duration": 7,
    "start_time": "2022-05-11T09:02:26.547Z"
   },
   {
    "duration": 29,
    "start_time": "2022-05-11T09:02:26.557Z"
   },
   {
    "duration": 10,
    "start_time": "2022-05-11T09:02:26.588Z"
   },
   {
    "duration": 13,
    "start_time": "2022-05-11T09:02:26.601Z"
   },
   {
    "duration": 11,
    "start_time": "2022-05-11T09:02:26.616Z"
   },
   {
    "duration": 1957,
    "start_time": "2022-05-12T06:36:42.115Z"
   },
   {
    "duration": 4,
    "start_time": "2022-05-12T06:36:44.076Z"
   },
   {
    "duration": 17,
    "start_time": "2022-05-12T06:36:44.082Z"
   },
   {
    "duration": 26,
    "start_time": "2022-05-12T06:36:44.104Z"
   },
   {
    "duration": 23,
    "start_time": "2022-05-12T06:36:44.132Z"
   },
   {
    "duration": 9,
    "start_time": "2022-05-12T06:36:44.157Z"
   },
   {
    "duration": 11,
    "start_time": "2022-05-12T06:36:44.197Z"
   },
   {
    "duration": 13,
    "start_time": "2022-05-12T06:36:44.210Z"
   },
   {
    "duration": 12,
    "start_time": "2022-05-12T06:36:44.225Z"
   },
   {
    "duration": 17,
    "start_time": "2022-05-12T06:36:44.241Z"
   },
   {
    "duration": 61,
    "start_time": "2022-05-12T06:36:44.260Z"
   },
   {
    "duration": 20,
    "start_time": "2022-05-12T06:36:44.323Z"
   },
   {
    "duration": 10,
    "start_time": "2022-05-12T06:36:44.345Z"
   },
   {
    "duration": 43,
    "start_time": "2022-05-12T06:36:44.357Z"
   },
   {
    "duration": 18,
    "start_time": "2022-05-12T06:36:44.404Z"
   },
   {
    "duration": 21,
    "start_time": "2022-05-12T06:36:44.424Z"
   },
   {
    "duration": 9,
    "start_time": "2022-05-12T06:36:44.447Z"
   },
   {
    "duration": 15,
    "start_time": "2022-05-12T06:36:44.458Z"
   },
   {
    "duration": 12,
    "start_time": "2022-05-12T06:36:44.500Z"
   },
   {
    "duration": 34,
    "start_time": "2022-05-12T06:40:12.507Z"
   },
   {
    "duration": 1681,
    "start_time": "2022-05-12T06:40:34.383Z"
   },
   {
    "duration": 4,
    "start_time": "2022-05-12T06:40:36.067Z"
   },
   {
    "duration": 14,
    "start_time": "2022-05-12T06:40:36.073Z"
   },
   {
    "duration": 35,
    "start_time": "2022-05-12T06:40:36.092Z"
   },
   {
    "duration": 23,
    "start_time": "2022-05-12T06:40:36.129Z"
   },
   {
    "duration": 10,
    "start_time": "2022-05-12T06:40:36.154Z"
   },
   {
    "duration": 32,
    "start_time": "2022-05-12T06:40:36.166Z"
   },
   {
    "duration": 13,
    "start_time": "2022-05-12T06:40:36.201Z"
   },
   {
    "duration": 10,
    "start_time": "2022-05-12T06:40:36.217Z"
   },
   {
    "duration": 17,
    "start_time": "2022-05-12T06:40:36.231Z"
   },
   {
    "duration": 52,
    "start_time": "2022-05-12T06:40:36.250Z"
   },
   {
    "duration": 23,
    "start_time": "2022-05-12T06:40:36.305Z"
   },
   {
    "duration": 9,
    "start_time": "2022-05-12T06:40:36.331Z"
   },
   {
    "duration": 10,
    "start_time": "2022-05-12T06:40:36.343Z"
   },
   {
    "duration": 43,
    "start_time": "2022-05-12T06:40:36.355Z"
   },
   {
    "duration": 23,
    "start_time": "2022-05-12T06:40:36.400Z"
   },
   {
    "duration": 9,
    "start_time": "2022-05-12T06:40:36.425Z"
   },
   {
    "duration": 16,
    "start_time": "2022-05-12T06:40:36.436Z"
   },
   {
    "duration": 9,
    "start_time": "2022-05-12T06:40:36.454Z"
   },
   {
    "duration": 32,
    "start_time": "2022-05-12T06:40:36.464Z"
   },
   {
    "duration": 25,
    "start_time": "2022-05-12T06:40:36.501Z"
   },
   {
    "duration": 25,
    "start_time": "2022-05-12T06:40:36.528Z"
   },
   {
    "duration": 5,
    "start_time": "2022-05-12T06:40:36.555Z"
   },
   {
    "duration": 78,
    "start_time": "2022-05-12T06:40:36.561Z"
   },
   {
    "duration": 8,
    "start_time": "2022-05-12T06:40:36.642Z"
   },
   {
    "duration": 25,
    "start_time": "2022-05-12T06:40:36.653Z"
   },
   {
    "duration": 25,
    "start_time": "2022-05-12T06:40:36.693Z"
   },
   {
    "duration": 18,
    "start_time": "2022-05-12T06:40:36.724Z"
   },
   {
    "duration": 582,
    "start_time": "2022-05-12T06:40:36.744Z"
   },
   {
    "duration": 456,
    "start_time": "2022-05-12T06:40:37.329Z"
   },
   {
    "duration": 32,
    "start_time": "2022-05-12T06:40:37.792Z"
   },
   {
    "duration": 867,
    "start_time": "2022-05-12T06:40:37.826Z"
   },
   {
    "duration": 18,
    "start_time": "2022-05-12T06:40:38.698Z"
   },
   {
    "duration": 8,
    "start_time": "2022-05-12T06:40:38.718Z"
   },
   {
    "duration": 299,
    "start_time": "2022-05-12T06:40:38.729Z"
   },
   {
    "duration": 22,
    "start_time": "2022-05-12T06:40:39.031Z"
   },
   {
    "duration": 314,
    "start_time": "2022-05-12T06:40:39.056Z"
   },
   {
    "duration": 279,
    "start_time": "2022-05-12T06:40:39.372Z"
   },
   {
    "duration": 235,
    "start_time": "2022-05-12T06:40:39.653Z"
   },
   {
    "duration": 254,
    "start_time": "2022-05-12T06:40:39.890Z"
   },
   {
    "duration": 267,
    "start_time": "2022-05-12T06:40:40.147Z"
   },
   {
    "duration": 282,
    "start_time": "2022-05-12T06:40:40.416Z"
   },
   {
    "duration": 28,
    "start_time": "2022-05-12T06:40:40.702Z"
   },
   {
    "duration": 451,
    "start_time": "2022-05-12T06:40:40.732Z"
   },
   {
    "duration": 439,
    "start_time": "2022-05-12T06:40:41.185Z"
   },
   {
    "duration": 27,
    "start_time": "2022-05-12T06:40:41.626Z"
   },
   {
    "duration": 54,
    "start_time": "2022-05-12T06:40:41.655Z"
   },
   {
    "duration": 27,
    "start_time": "2022-05-12T06:40:41.712Z"
   },
   {
    "duration": 25,
    "start_time": "2022-05-12T06:40:41.742Z"
   },
   {
    "duration": 26,
    "start_time": "2022-05-12T06:40:41.794Z"
   },
   {
    "duration": 16,
    "start_time": "2022-05-12T06:40:41.822Z"
   },
   {
    "duration": 241,
    "start_time": "2022-05-12T06:40:41.841Z"
   },
   {
    "duration": 27,
    "start_time": "2022-05-12T06:40:42.084Z"
   },
   {
    "duration": 222,
    "start_time": "2022-05-12T06:40:42.113Z"
   },
   {
    "duration": 13,
    "start_time": "2022-05-12T06:40:42.337Z"
   },
   {
    "duration": 231,
    "start_time": "2022-05-12T06:40:42.353Z"
   },
   {
    "duration": 19,
    "start_time": "2022-05-12T06:40:42.587Z"
   },
   {
    "duration": 240,
    "start_time": "2022-05-12T06:40:42.609Z"
   },
   {
    "duration": 13,
    "start_time": "2022-05-12T06:40:42.851Z"
   },
   {
    "duration": 223,
    "start_time": "2022-05-12T06:40:42.866Z"
   },
   {
    "duration": 14,
    "start_time": "2022-05-12T06:40:43.092Z"
   },
   {
    "duration": 356,
    "start_time": "2022-05-12T06:40:43.108Z"
   },
   {
    "duration": 13,
    "start_time": "2022-05-12T06:40:43.466Z"
   },
   {
    "duration": 229,
    "start_time": "2022-05-12T06:40:43.493Z"
   },
   {
    "duration": 14,
    "start_time": "2022-05-12T06:40:43.724Z"
   },
   {
    "duration": 259,
    "start_time": "2022-05-12T06:40:43.740Z"
   },
   {
    "duration": 15,
    "start_time": "2022-05-12T06:40:44.002Z"
   },
   {
    "duration": 231,
    "start_time": "2022-05-12T06:40:44.019Z"
   },
   {
    "duration": 12,
    "start_time": "2022-05-12T06:40:44.253Z"
   },
   {
    "duration": 306,
    "start_time": "2022-05-12T06:40:44.268Z"
   },
   {
    "duration": 60,
    "start_time": "2022-05-12T06:40:44.576Z"
   },
   {
    "duration": 269,
    "start_time": "2022-05-12T06:40:44.639Z"
   },
   {
    "duration": 40,
    "start_time": "2022-05-12T06:40:44.910Z"
   },
   {
    "duration": 5,
    "start_time": "2022-05-12T06:40:44.953Z"
   },
   {
    "duration": 35,
    "start_time": "2022-05-12T06:40:44.960Z"
   },
   {
    "duration": 392,
    "start_time": "2022-05-12T06:40:44.999Z"
   },
   {
    "duration": 8,
    "start_time": "2022-05-12T06:40:45.393Z"
   },
   {
    "duration": 399,
    "start_time": "2022-05-12T06:40:45.404Z"
   },
   {
    "duration": 8,
    "start_time": "2022-05-12T06:40:45.809Z"
   },
   {
    "duration": 285,
    "start_time": "2022-05-12T06:40:45.819Z"
   },
   {
    "duration": 308,
    "start_time": "2022-05-12T06:40:46.107Z"
   },
   {
    "duration": 7,
    "start_time": "2022-05-12T06:40:46.431Z"
   },
   {
    "duration": 30,
    "start_time": "2022-05-12T06:40:46.441Z"
   },
   {
    "duration": 22,
    "start_time": "2022-05-12T06:40:46.493Z"
   },
   {
    "duration": 23,
    "start_time": "2022-05-12T06:40:46.518Z"
   },
   {
    "duration": 720,
    "start_time": "2022-05-12T06:40:46.543Z"
   },
   {
    "duration": 29,
    "start_time": "2022-05-12T06:40:47.265Z"
   },
   {
    "duration": 35,
    "start_time": "2022-05-12T06:40:47.296Z"
   },
   {
    "duration": 20,
    "start_time": "2022-05-12T06:40:47.333Z"
   },
   {
    "duration": 37,
    "start_time": "2022-05-12T06:40:47.356Z"
   },
   {
    "duration": 850,
    "start_time": "2022-05-12T06:40:47.398Z"
   },
   {
    "duration": 27,
    "start_time": "2022-05-12T06:40:48.250Z"
   },
   {
    "duration": 26,
    "start_time": "2022-05-12T06:40:48.293Z"
   },
   {
    "duration": 224,
    "start_time": "2022-05-12T06:40:48.322Z"
   },
   {
    "duration": 28,
    "start_time": "2022-05-12T06:40:48.548Z"
   },
   {
    "duration": 25,
    "start_time": "2022-05-12T06:40:48.592Z"
   },
   {
    "duration": 245,
    "start_time": "2022-05-12T06:40:48.619Z"
   },
   {
    "duration": 42,
    "start_time": "2022-05-12T06:40:48.867Z"
   },
   {
    "duration": 21,
    "start_time": "2022-05-12T06:40:48.912Z"
   },
   {
    "duration": 239,
    "start_time": "2022-05-12T06:40:48.936Z"
   },
   {
    "duration": 21,
    "start_time": "2022-05-12T06:40:49.177Z"
   },
   {
    "duration": 17,
    "start_time": "2022-05-12T06:40:49.201Z"
   },
   {
    "duration": 7,
    "start_time": "2022-05-12T06:40:49.221Z"
   },
   {
    "duration": 12,
    "start_time": "2022-05-12T06:40:49.231Z"
   },
   {
    "duration": 14,
    "start_time": "2022-05-12T06:40:49.245Z"
   },
   {
    "duration": 35,
    "start_time": "2022-05-12T06:40:49.261Z"
   },
   {
    "duration": 9,
    "start_time": "2022-05-12T06:40:49.298Z"
   },
   {
    "duration": 9,
    "start_time": "2022-05-12T06:47:22.613Z"
   },
   {
    "duration": 9,
    "start_time": "2022-05-12T06:47:29.944Z"
   },
   {
    "duration": 8,
    "start_time": "2022-05-12T06:48:02.134Z"
   },
   {
    "duration": 7,
    "start_time": "2022-05-12T06:48:40.746Z"
   },
   {
    "duration": 9,
    "start_time": "2022-05-12T06:48:52.880Z"
   },
   {
    "duration": 7,
    "start_time": "2022-05-12T06:48:53.532Z"
   },
   {
    "duration": 10,
    "start_time": "2022-05-12T06:57:51.896Z"
   },
   {
    "duration": 9,
    "start_time": "2022-05-12T07:01:43.362Z"
   },
   {
    "duration": 10,
    "start_time": "2022-05-12T07:01:46.825Z"
   },
   {
    "duration": 7,
    "start_time": "2022-05-12T07:02:29.025Z"
   },
   {
    "duration": 1656,
    "start_time": "2022-05-12T07:10:50.221Z"
   },
   {
    "duration": 4,
    "start_time": "2022-05-12T07:10:51.881Z"
   },
   {
    "duration": 15,
    "start_time": "2022-05-12T07:10:51.887Z"
   },
   {
    "duration": 25,
    "start_time": "2022-05-12T07:10:51.905Z"
   },
   {
    "duration": 22,
    "start_time": "2022-05-12T07:10:51.932Z"
   },
   {
    "duration": 10,
    "start_time": "2022-05-12T07:10:51.956Z"
   },
   {
    "duration": 31,
    "start_time": "2022-05-12T07:10:51.968Z"
   },
   {
    "duration": 11,
    "start_time": "2022-05-12T07:10:52.001Z"
   },
   {
    "duration": 18,
    "start_time": "2022-05-12T07:10:52.014Z"
   },
   {
    "duration": 17,
    "start_time": "2022-05-12T07:10:52.036Z"
   },
   {
    "duration": 54,
    "start_time": "2022-05-12T07:10:52.055Z"
   },
   {
    "duration": 25,
    "start_time": "2022-05-12T07:10:52.111Z"
   },
   {
    "duration": 9,
    "start_time": "2022-05-12T07:10:52.138Z"
   },
   {
    "duration": 48,
    "start_time": "2022-05-12T07:10:52.149Z"
   },
   {
    "duration": 13,
    "start_time": "2022-05-12T07:10:52.200Z"
   },
   {
    "duration": 24,
    "start_time": "2022-05-12T07:10:52.215Z"
   },
   {
    "duration": 12,
    "start_time": "2022-05-12T07:10:52.242Z"
   },
   {
    "duration": 44,
    "start_time": "2022-05-12T07:10:52.256Z"
   },
   {
    "duration": 12,
    "start_time": "2022-05-12T07:10:52.302Z"
   },
   {
    "duration": 6,
    "start_time": "2022-05-12T07:10:52.316Z"
   },
   {
    "duration": 19,
    "start_time": "2022-05-12T07:10:52.325Z"
   },
   {
    "duration": 51,
    "start_time": "2022-05-12T07:10:52.346Z"
   },
   {
    "duration": 7,
    "start_time": "2022-05-12T07:10:52.399Z"
   },
   {
    "duration": 40,
    "start_time": "2022-05-12T07:10:52.408Z"
   },
   {
    "duration": 9,
    "start_time": "2022-05-12T07:10:52.451Z"
   },
   {
    "duration": 55,
    "start_time": "2022-05-12T07:10:52.462Z"
   },
   {
    "duration": 24,
    "start_time": "2022-05-12T07:10:52.520Z"
   },
   {
    "duration": 59,
    "start_time": "2022-05-12T07:10:52.553Z"
   },
   {
    "duration": 576,
    "start_time": "2022-05-12T07:10:52.614Z"
   },
   {
    "duration": 500,
    "start_time": "2022-05-12T07:10:53.195Z"
   },
   {
    "duration": 28,
    "start_time": "2022-05-12T07:10:53.698Z"
   },
   {
    "duration": 888,
    "start_time": "2022-05-12T07:10:53.729Z"
   },
   {
    "duration": 14,
    "start_time": "2022-05-12T07:10:54.619Z"
   },
   {
    "duration": 7,
    "start_time": "2022-05-12T07:10:54.635Z"
   },
   {
    "duration": 301,
    "start_time": "2022-05-12T07:10:54.644Z"
   },
   {
    "duration": 19,
    "start_time": "2022-05-12T07:10:54.947Z"
   },
   {
    "duration": 332,
    "start_time": "2022-05-12T07:10:54.969Z"
   },
   {
    "duration": 244,
    "start_time": "2022-05-12T07:10:55.303Z"
   },
   {
    "duration": 259,
    "start_time": "2022-05-12T07:10:55.549Z"
   },
   {
    "duration": 266,
    "start_time": "2022-05-12T07:10:55.811Z"
   },
   {
    "duration": 371,
    "start_time": "2022-05-12T07:10:56.080Z"
   },
   {
    "duration": 288,
    "start_time": "2022-05-12T07:10:56.454Z"
   },
   {
    "duration": 28,
    "start_time": "2022-05-12T07:10:56.744Z"
   },
   {
    "duration": 302,
    "start_time": "2022-05-12T07:10:56.774Z"
   },
   {
    "duration": 298,
    "start_time": "2022-05-12T07:10:57.078Z"
   },
   {
    "duration": 37,
    "start_time": "2022-05-12T07:10:57.379Z"
   },
   {
    "duration": 40,
    "start_time": "2022-05-12T07:10:57.419Z"
   },
   {
    "duration": 55,
    "start_time": "2022-05-12T07:10:57.461Z"
   },
   {
    "duration": 30,
    "start_time": "2022-05-12T07:10:57.519Z"
   },
   {
    "duration": 48,
    "start_time": "2022-05-12T07:10:57.552Z"
   },
   {
    "duration": 25,
    "start_time": "2022-05-12T07:10:57.602Z"
   },
   {
    "duration": 217,
    "start_time": "2022-05-12T07:10:57.629Z"
   },
   {
    "duration": 13,
    "start_time": "2022-05-12T07:10:57.848Z"
   },
   {
    "duration": 240,
    "start_time": "2022-05-12T07:10:57.863Z"
   },
   {
    "duration": 18,
    "start_time": "2022-05-12T07:10:58.110Z"
   },
   {
    "duration": 315,
    "start_time": "2022-05-12T07:10:58.131Z"
   },
   {
    "duration": 16,
    "start_time": "2022-05-12T07:10:58.449Z"
   },
   {
    "duration": 332,
    "start_time": "2022-05-12T07:10:58.468Z"
   },
   {
    "duration": 14,
    "start_time": "2022-05-12T07:10:58.803Z"
   },
   {
    "duration": 228,
    "start_time": "2022-05-12T07:10:58.819Z"
   },
   {
    "duration": 14,
    "start_time": "2022-05-12T07:10:59.049Z"
   },
   {
    "duration": 353,
    "start_time": "2022-05-12T07:10:59.065Z"
   },
   {
    "duration": 13,
    "start_time": "2022-05-12T07:10:59.420Z"
   },
   {
    "duration": 227,
    "start_time": "2022-05-12T07:10:59.436Z"
   },
   {
    "duration": 27,
    "start_time": "2022-05-12T07:10:59.666Z"
   },
   {
    "duration": 231,
    "start_time": "2022-05-12T07:10:59.696Z"
   },
   {
    "duration": 15,
    "start_time": "2022-05-12T07:10:59.930Z"
   },
   {
    "duration": 281,
    "start_time": "2022-05-12T07:10:59.948Z"
   },
   {
    "duration": 14,
    "start_time": "2022-05-12T07:11:00.231Z"
   },
   {
    "duration": 271,
    "start_time": "2022-05-12T07:11:00.248Z"
   },
   {
    "duration": 74,
    "start_time": "2022-05-12T07:11:00.522Z"
   },
   {
    "duration": 280,
    "start_time": "2022-05-12T07:11:00.599Z"
   },
   {
    "duration": 68,
    "start_time": "2022-05-12T07:11:00.882Z"
   },
   {
    "duration": 9,
    "start_time": "2022-05-12T07:11:00.952Z"
   },
   {
    "duration": 39,
    "start_time": "2022-05-12T07:11:00.964Z"
   },
   {
    "duration": 432,
    "start_time": "2022-05-12T07:11:01.005Z"
   },
   {
    "duration": 10,
    "start_time": "2022-05-12T07:11:01.439Z"
   },
   {
    "duration": 524,
    "start_time": "2022-05-12T07:11:01.452Z"
   },
   {
    "duration": 20,
    "start_time": "2022-05-12T07:11:01.979Z"
   },
   {
    "duration": 317,
    "start_time": "2022-05-12T07:11:02.002Z"
   },
   {
    "duration": 305,
    "start_time": "2022-05-12T07:11:02.322Z"
   },
   {
    "duration": 6,
    "start_time": "2022-05-12T07:11:02.636Z"
   },
   {
    "duration": 32,
    "start_time": "2022-05-12T07:11:02.644Z"
   },
   {
    "duration": 39,
    "start_time": "2022-05-12T07:11:02.678Z"
   },
   {
    "duration": 28,
    "start_time": "2022-05-12T07:11:02.719Z"
   },
   {
    "duration": 718,
    "start_time": "2022-05-12T07:11:02.749Z"
   },
   {
    "duration": 30,
    "start_time": "2022-05-12T07:11:03.469Z"
   },
   {
    "duration": 21,
    "start_time": "2022-05-12T07:11:03.503Z"
   },
   {
    "duration": 19,
    "start_time": "2022-05-12T07:11:03.527Z"
   },
   {
    "duration": 19,
    "start_time": "2022-05-12T07:11:03.549Z"
   },
   {
    "duration": 1070,
    "start_time": "2022-05-12T07:11:03.594Z"
   },
   {
    "duration": 57,
    "start_time": "2022-05-12T07:11:04.666Z"
   },
   {
    "duration": 23,
    "start_time": "2022-05-12T07:11:04.725Z"
   },
   {
    "duration": 226,
    "start_time": "2022-05-12T07:11:04.750Z"
   },
   {
    "duration": 40,
    "start_time": "2022-05-12T07:11:04.979Z"
   },
   {
    "duration": 24,
    "start_time": "2022-05-12T07:11:05.023Z"
   },
   {
    "duration": 261,
    "start_time": "2022-05-12T07:11:05.050Z"
   },
   {
    "duration": 28,
    "start_time": "2022-05-12T07:11:05.314Z"
   },
   {
    "duration": 57,
    "start_time": "2022-05-12T07:11:05.345Z"
   },
   {
    "duration": 339,
    "start_time": "2022-05-12T07:11:05.404Z"
   },
   {
    "duration": 11,
    "start_time": "2022-05-12T07:11:05.746Z"
   },
   {
    "duration": 19,
    "start_time": "2022-05-12T07:11:05.760Z"
   },
   {
    "duration": 13,
    "start_time": "2022-05-12T07:11:05.793Z"
   },
   {
    "duration": 34,
    "start_time": "2022-05-12T07:11:05.809Z"
   },
   {
    "duration": 10,
    "start_time": "2022-05-12T07:11:05.846Z"
   },
   {
    "duration": 15,
    "start_time": "2022-05-12T07:11:05.859Z"
   },
   {
    "duration": 20,
    "start_time": "2022-05-12T07:11:05.876Z"
   },
   {
    "duration": 1598,
    "start_time": "2022-05-12T13:50:37.988Z"
   },
   {
    "duration": 4,
    "start_time": "2022-05-12T13:50:39.588Z"
   },
   {
    "duration": 10,
    "start_time": "2022-05-12T13:50:39.594Z"
   },
   {
    "duration": 23,
    "start_time": "2022-05-12T13:50:39.606Z"
   },
   {
    "duration": 23,
    "start_time": "2022-05-12T13:50:39.652Z"
   },
   {
    "duration": 12,
    "start_time": "2022-05-12T13:50:39.678Z"
   },
   {
    "duration": 8,
    "start_time": "2022-05-12T13:50:39.693Z"
   },
   {
    "duration": 49,
    "start_time": "2022-05-12T13:50:39.704Z"
   },
   {
    "duration": 9,
    "start_time": "2022-05-12T13:50:39.756Z"
   },
   {
    "duration": 17,
    "start_time": "2022-05-12T13:50:39.767Z"
   },
   {
    "duration": 19,
    "start_time": "2022-05-12T13:50:39.786Z"
   },
   {
    "duration": 50,
    "start_time": "2022-05-12T13:50:39.807Z"
   },
   {
    "duration": 10,
    "start_time": "2022-05-12T13:50:39.860Z"
   },
   {
    "duration": 6,
    "start_time": "2022-05-12T13:50:39.878Z"
   },
   {
    "duration": 12,
    "start_time": "2022-05-12T13:50:39.887Z"
   },
   {
    "duration": 59,
    "start_time": "2022-05-12T13:50:39.902Z"
   },
   {
    "duration": 9,
    "start_time": "2022-05-12T13:50:39.964Z"
   },
   {
    "duration": 17,
    "start_time": "2022-05-12T13:50:39.975Z"
   },
   {
    "duration": 10,
    "start_time": "2022-05-12T13:50:39.994Z"
   },
   {
    "duration": 6,
    "start_time": "2022-05-12T13:50:40.006Z"
   },
   {
    "duration": 58,
    "start_time": "2022-05-12T13:50:40.014Z"
   },
   {
    "duration": 25,
    "start_time": "2022-05-12T13:50:40.074Z"
   },
   {
    "duration": 4,
    "start_time": "2022-05-12T13:50:40.101Z"
   },
   {
    "duration": 78,
    "start_time": "2022-05-12T13:50:40.108Z"
   },
   {
    "duration": 10,
    "start_time": "2022-05-12T13:50:40.188Z"
   },
   {
    "duration": 52,
    "start_time": "2022-05-12T13:50:40.201Z"
   },
   {
    "duration": 23,
    "start_time": "2022-05-12T13:50:40.256Z"
   },
   {
    "duration": 20,
    "start_time": "2022-05-12T13:50:40.282Z"
   },
   {
    "duration": 567,
    "start_time": "2022-05-12T13:50:40.304Z"
   },
   {
    "duration": 438,
    "start_time": "2022-05-12T13:50:40.874Z"
   },
   {
    "duration": 22,
    "start_time": "2022-05-12T13:50:41.314Z"
   },
   {
    "duration": 822,
    "start_time": "2022-05-12T13:50:41.352Z"
   },
   {
    "duration": 13,
    "start_time": "2022-05-12T13:50:42.176Z"
   },
   {
    "duration": 7,
    "start_time": "2022-05-12T13:50:42.191Z"
   },
   {
    "duration": 295,
    "start_time": "2022-05-12T13:50:42.201Z"
   },
   {
    "duration": 19,
    "start_time": "2022-05-12T13:50:42.498Z"
   },
   {
    "duration": 308,
    "start_time": "2022-05-12T13:50:42.519Z"
   },
   {
    "duration": 253,
    "start_time": "2022-05-12T13:50:42.829Z"
   },
   {
    "duration": 249,
    "start_time": "2022-05-12T13:50:43.085Z"
   },
   {
    "duration": 263,
    "start_time": "2022-05-12T13:50:43.337Z"
   },
   {
    "duration": 257,
    "start_time": "2022-05-12T13:50:43.608Z"
   },
   {
    "duration": 274,
    "start_time": "2022-05-12T13:50:43.868Z"
   },
   {
    "duration": 26,
    "start_time": "2022-05-12T13:50:44.151Z"
   },
   {
    "duration": 278,
    "start_time": "2022-05-12T13:50:44.179Z"
   },
   {
    "duration": 295,
    "start_time": "2022-05-12T13:50:44.459Z"
   },
   {
    "duration": 27,
    "start_time": "2022-05-12T13:50:44.756Z"
   },
   {
    "duration": 29,
    "start_time": "2022-05-12T13:50:44.785Z"
   },
   {
    "duration": 50,
    "start_time": "2022-05-12T13:50:44.816Z"
   },
   {
    "duration": 22,
    "start_time": "2022-05-12T13:50:44.868Z"
   },
   {
    "duration": 25,
    "start_time": "2022-05-12T13:50:44.892Z"
   },
   {
    "duration": 35,
    "start_time": "2022-05-12T13:50:44.919Z"
   },
   {
    "duration": 230,
    "start_time": "2022-05-12T13:50:44.956Z"
   },
   {
    "duration": 14,
    "start_time": "2022-05-12T13:50:45.188Z"
   },
   {
    "duration": 230,
    "start_time": "2022-05-12T13:50:45.204Z"
   },
   {
    "duration": 23,
    "start_time": "2022-05-12T13:50:45.436Z"
   },
   {
    "duration": 230,
    "start_time": "2022-05-12T13:50:45.462Z"
   },
   {
    "duration": 12,
    "start_time": "2022-05-12T13:50:45.694Z"
   },
   {
    "duration": 241,
    "start_time": "2022-05-12T13:50:45.708Z"
   },
   {
    "duration": 13,
    "start_time": "2022-05-12T13:50:45.951Z"
   },
   {
    "duration": 311,
    "start_time": "2022-05-12T13:50:45.966Z"
   },
   {
    "duration": 14,
    "start_time": "2022-05-12T13:50:46.279Z"
   },
   {
    "duration": 257,
    "start_time": "2022-05-12T13:50:46.295Z"
   },
   {
    "duration": 14,
    "start_time": "2022-05-12T13:50:46.555Z"
   },
   {
    "duration": 223,
    "start_time": "2022-05-12T13:50:46.572Z"
   },
   {
    "duration": 12,
    "start_time": "2022-05-12T13:50:46.798Z"
   },
   {
    "duration": 231,
    "start_time": "2022-05-12T13:50:46.812Z"
   },
   {
    "duration": 17,
    "start_time": "2022-05-12T13:50:47.045Z"
   },
   {
    "duration": 223,
    "start_time": "2022-05-12T13:50:47.064Z"
   },
   {
    "duration": 13,
    "start_time": "2022-05-12T13:50:47.289Z"
   },
   {
    "duration": 248,
    "start_time": "2022-05-12T13:50:47.304Z"
   },
   {
    "duration": 47,
    "start_time": "2022-05-12T13:50:47.554Z"
   },
   {
    "duration": 267,
    "start_time": "2022-05-12T13:50:47.603Z"
   },
   {
    "duration": 39,
    "start_time": "2022-05-12T13:50:47.872Z"
   },
   {
    "duration": 6,
    "start_time": "2022-05-12T13:50:47.913Z"
   },
   {
    "duration": 38,
    "start_time": "2022-05-12T13:50:47.921Z"
   },
   {
    "duration": 359,
    "start_time": "2022-05-12T13:50:47.961Z"
   },
   {
    "duration": 7,
    "start_time": "2022-05-12T13:50:48.322Z"
   },
   {
    "duration": 385,
    "start_time": "2022-05-12T13:50:48.331Z"
   },
   {
    "duration": 7,
    "start_time": "2022-05-12T13:50:48.718Z"
   },
   {
    "duration": 336,
    "start_time": "2022-05-12T13:50:48.727Z"
   },
   {
    "duration": 309,
    "start_time": "2022-05-12T13:50:49.065Z"
   },
   {
    "duration": 6,
    "start_time": "2022-05-12T13:50:49.376Z"
   },
   {
    "duration": 28,
    "start_time": "2022-05-12T13:50:49.384Z"
   },
   {
    "duration": 23,
    "start_time": "2022-05-12T13:50:49.414Z"
   },
   {
    "duration": 27,
    "start_time": "2022-05-12T13:50:49.440Z"
   },
   {
    "duration": 1318,
    "start_time": "2022-05-12T13:50:49.469Z"
   },
   {
    "duration": 72,
    "start_time": "2022-05-12T13:50:50.790Z"
   },
   {
    "duration": 22,
    "start_time": "2022-05-12T13:50:50.864Z"
   },
   {
    "duration": 75,
    "start_time": "2022-05-12T13:50:50.888Z"
   },
   {
    "duration": 288,
    "start_time": "2022-05-12T13:50:50.965Z"
   },
   {
    "duration": 1341,
    "start_time": "2022-05-12T13:50:51.256Z"
   },
   {
    "duration": 81,
    "start_time": "2022-05-12T13:50:52.599Z"
   },
   {
    "duration": 80,
    "start_time": "2022-05-12T13:50:52.683Z"
   },
   {
    "duration": 387,
    "start_time": "2022-05-12T13:50:52.767Z"
   },
   {
    "duration": 29,
    "start_time": "2022-05-12T13:50:53.156Z"
   },
   {
    "duration": 73,
    "start_time": "2022-05-12T13:50:53.187Z"
   },
   {
    "duration": 334,
    "start_time": "2022-05-12T13:50:53.262Z"
   },
   {
    "duration": 29,
    "start_time": "2022-05-12T13:50:53.598Z"
   },
   {
    "duration": 15,
    "start_time": "2022-05-12T13:50:53.653Z"
   },
   {
    "duration": 22,
    "start_time": "2022-05-12T13:50:53.670Z"
   },
   {
    "duration": 283,
    "start_time": "2022-05-12T13:50:53.694Z"
   },
   {
    "duration": 9,
    "start_time": "2022-05-12T13:50:53.980Z"
   },
   {
    "duration": 65,
    "start_time": "2022-05-12T13:50:53.991Z"
   },
   {
    "duration": 10,
    "start_time": "2022-05-12T13:50:54.059Z"
   },
   {
    "duration": 11,
    "start_time": "2022-05-12T13:50:54.071Z"
   },
   {
    "duration": 11,
    "start_time": "2022-05-12T13:50:54.084Z"
   },
   {
    "duration": 56,
    "start_time": "2022-05-12T13:50:54.097Z"
   },
   {
    "duration": 13,
    "start_time": "2022-05-12T13:50:54.155Z"
   },
   {
    "duration": 16,
    "start_time": "2022-05-12T13:52:49.273Z"
   },
   {
    "duration": 6,
    "start_time": "2022-05-12T13:53:36.630Z"
   },
   {
    "duration": 6,
    "start_time": "2022-05-12T13:53:43.184Z"
   },
   {
    "duration": 7,
    "start_time": "2022-05-12T13:54:52.503Z"
   },
   {
    "duration": 19,
    "start_time": "2022-05-12T13:55:02.968Z"
   },
   {
    "duration": 21,
    "start_time": "2022-05-12T13:55:23.330Z"
   },
   {
    "duration": 28,
    "start_time": "2022-05-12T13:55:52.436Z"
   },
   {
    "duration": 41,
    "start_time": "2022-05-12T13:56:17.389Z"
   },
   {
    "duration": 22,
    "start_time": "2022-05-12T13:56:26.243Z"
   },
   {
    "duration": 191,
    "start_time": "2022-05-12T13:58:47.468Z"
   },
   {
    "duration": 16,
    "start_time": "2022-05-12T13:58:52.235Z"
   },
   {
    "duration": 12,
    "start_time": "2022-05-12T13:59:38.277Z"
   },
   {
    "duration": 130,
    "start_time": "2022-05-12T13:59:42.471Z"
   },
   {
    "duration": 34,
    "start_time": "2022-05-12T13:59:43.586Z"
   },
   {
    "duration": 1928,
    "start_time": "2022-05-12T14:00:19.549Z"
   },
   {
    "duration": 123,
    "start_time": "2022-05-12T14:00:29.424Z"
   },
   {
    "duration": 123,
    "start_time": "2022-05-12T14:00:46.303Z"
   },
   {
    "duration": 143,
    "start_time": "2022-05-12T14:00:52.905Z"
   },
   {
    "duration": 22,
    "start_time": "2022-05-12T14:01:01.727Z"
   },
   {
    "duration": 23,
    "start_time": "2022-05-12T14:01:15.076Z"
   },
   {
    "duration": 375,
    "start_time": "2022-05-12T14:02:10.782Z"
   },
   {
    "duration": 162,
    "start_time": "2022-05-12T14:02:53.546Z"
   },
   {
    "duration": 18,
    "start_time": "2022-05-12T14:02:54.572Z"
   },
   {
    "duration": 346,
    "start_time": "2022-05-12T14:02:55.446Z"
   },
   {
    "duration": 344,
    "start_time": "2022-05-12T14:03:04.743Z"
   },
   {
    "duration": 1644,
    "start_time": "2022-05-12T14:06:19.366Z"
   },
   {
    "duration": 5,
    "start_time": "2022-05-12T14:06:21.012Z"
   },
   {
    "duration": 13,
    "start_time": "2022-05-12T14:06:21.019Z"
   },
   {
    "duration": 29,
    "start_time": "2022-05-12T14:06:21.034Z"
   },
   {
    "duration": 25,
    "start_time": "2022-05-12T14:06:21.067Z"
   },
   {
    "duration": 11,
    "start_time": "2022-05-12T14:06:21.095Z"
   },
   {
    "duration": 9,
    "start_time": "2022-05-12T14:06:21.108Z"
   },
   {
    "duration": 40,
    "start_time": "2022-05-12T14:06:21.119Z"
   },
   {
    "duration": 12,
    "start_time": "2022-05-12T14:06:21.161Z"
   },
   {
    "duration": 17,
    "start_time": "2022-05-12T14:06:21.176Z"
   },
   {
    "duration": 59,
    "start_time": "2022-05-12T14:06:21.196Z"
   },
   {
    "duration": 22,
    "start_time": "2022-05-12T14:06:21.258Z"
   },
   {
    "duration": 10,
    "start_time": "2022-05-12T14:06:21.283Z"
   },
   {
    "duration": 6,
    "start_time": "2022-05-12T14:06:21.301Z"
   },
   {
    "duration": 50,
    "start_time": "2022-05-12T14:06:21.310Z"
   },
   {
    "duration": 26,
    "start_time": "2022-05-12T14:06:21.362Z"
   },
   {
    "duration": 9,
    "start_time": "2022-05-12T14:06:21.390Z"
   },
   {
    "duration": 16,
    "start_time": "2022-05-12T14:06:21.401Z"
   },
   {
    "duration": 38,
    "start_time": "2022-05-12T14:06:21.419Z"
   },
   {
    "duration": 8,
    "start_time": "2022-05-12T14:06:21.459Z"
   },
   {
    "duration": 19,
    "start_time": "2022-05-12T14:06:21.469Z"
   },
   {
    "duration": 25,
    "start_time": "2022-05-12T14:06:21.490Z"
   },
   {
    "duration": 4,
    "start_time": "2022-05-12T14:06:21.517Z"
   },
   {
    "duration": 38,
    "start_time": "2022-05-12T14:06:21.551Z"
   },
   {
    "duration": 9,
    "start_time": "2022-05-12T14:06:21.591Z"
   },
   {
    "duration": 58,
    "start_time": "2022-05-12T14:06:21.603Z"
   },
   {
    "duration": 23,
    "start_time": "2022-05-12T14:06:21.664Z"
   },
   {
    "duration": 18,
    "start_time": "2022-05-12T14:06:21.690Z"
   },
   {
    "duration": 574,
    "start_time": "2022-05-12T14:06:21.710Z"
   },
   {
    "duration": 520,
    "start_time": "2022-05-12T14:06:22.286Z"
   },
   {
    "duration": 23,
    "start_time": "2022-05-12T14:06:22.808Z"
   },
   {
    "duration": 890,
    "start_time": "2022-05-12T14:06:22.834Z"
   },
   {
    "duration": 13,
    "start_time": "2022-05-12T14:06:23.727Z"
   },
   {
    "duration": 8,
    "start_time": "2022-05-12T14:06:23.752Z"
   },
   {
    "duration": 295,
    "start_time": "2022-05-12T14:06:23.762Z"
   },
   {
    "duration": 21,
    "start_time": "2022-05-12T14:06:24.059Z"
   },
   {
    "duration": 323,
    "start_time": "2022-05-12T14:06:24.082Z"
   },
   {
    "duration": 259,
    "start_time": "2022-05-12T14:06:24.408Z"
   },
   {
    "duration": 264,
    "start_time": "2022-05-12T14:06:24.669Z"
   },
   {
    "duration": 282,
    "start_time": "2022-05-12T14:06:24.936Z"
   },
   {
    "duration": 271,
    "start_time": "2022-05-12T14:06:25.226Z"
   },
   {
    "duration": 289,
    "start_time": "2022-05-12T14:06:25.499Z"
   },
   {
    "duration": 26,
    "start_time": "2022-05-12T14:06:25.791Z"
   },
   {
    "duration": 289,
    "start_time": "2022-05-12T14:06:25.819Z"
   },
   {
    "duration": 297,
    "start_time": "2022-05-12T14:06:26.110Z"
   },
   {
    "duration": 26,
    "start_time": "2022-05-12T14:06:26.409Z"
   },
   {
    "duration": 28,
    "start_time": "2022-05-12T14:06:26.451Z"
   },
   {
    "duration": 39,
    "start_time": "2022-05-12T14:06:26.481Z"
   },
   {
    "duration": 41,
    "start_time": "2022-05-12T14:06:26.522Z"
   },
   {
    "duration": 39,
    "start_time": "2022-05-12T14:06:26.565Z"
   },
   {
    "duration": 25,
    "start_time": "2022-05-12T14:06:26.606Z"
   },
   {
    "duration": 235,
    "start_time": "2022-05-12T14:06:26.634Z"
   },
   {
    "duration": 13,
    "start_time": "2022-05-12T14:06:26.872Z"
   },
   {
    "duration": 235,
    "start_time": "2022-05-12T14:06:26.888Z"
   },
   {
    "duration": 25,
    "start_time": "2022-05-12T14:06:27.126Z"
   },
   {
    "duration": 242,
    "start_time": "2022-05-12T14:06:27.154Z"
   },
   {
    "duration": 13,
    "start_time": "2022-05-12T14:06:27.399Z"
   },
   {
    "duration": 238,
    "start_time": "2022-05-12T14:06:27.414Z"
   },
   {
    "duration": 13,
    "start_time": "2022-05-12T14:06:27.654Z"
   },
   {
    "duration": 329,
    "start_time": "2022-05-12T14:06:27.670Z"
   },
   {
    "duration": 14,
    "start_time": "2022-05-12T14:06:28.001Z"
   },
   {
    "duration": 252,
    "start_time": "2022-05-12T14:06:28.018Z"
   },
   {
    "duration": 14,
    "start_time": "2022-05-12T14:06:28.272Z"
   },
   {
    "duration": 228,
    "start_time": "2022-05-12T14:06:28.288Z"
   },
   {
    "duration": 14,
    "start_time": "2022-05-12T14:06:28.518Z"
   },
   {
    "duration": 226,
    "start_time": "2022-05-12T14:06:28.534Z"
   },
   {
    "duration": 13,
    "start_time": "2022-05-12T14:06:28.763Z"
   },
   {
    "duration": 236,
    "start_time": "2022-05-12T14:06:28.779Z"
   },
   {
    "duration": 14,
    "start_time": "2022-05-12T14:06:29.018Z"
   },
   {
    "duration": 258,
    "start_time": "2022-05-12T14:06:29.034Z"
   },
   {
    "duration": 63,
    "start_time": "2022-05-12T14:06:29.294Z"
   },
   {
    "duration": 254,
    "start_time": "2022-05-12T14:06:29.359Z"
   },
   {
    "duration": 53,
    "start_time": "2022-05-12T14:06:29.615Z"
   },
   {
    "duration": 6,
    "start_time": "2022-05-12T14:06:29.671Z"
   },
   {
    "duration": 12,
    "start_time": "2022-05-12T14:06:29.679Z"
   },
   {
    "duration": 381,
    "start_time": "2022-05-12T14:06:29.693Z"
   },
   {
    "duration": 8,
    "start_time": "2022-05-12T14:06:30.076Z"
   },
   {
    "duration": 368,
    "start_time": "2022-05-12T14:06:30.086Z"
   },
   {
    "duration": 8,
    "start_time": "2022-05-12T14:06:30.456Z"
   },
   {
    "duration": 291,
    "start_time": "2022-05-12T14:06:30.466Z"
   },
   {
    "duration": 304,
    "start_time": "2022-05-12T14:06:30.759Z"
   },
   {
    "duration": 6,
    "start_time": "2022-05-12T14:06:31.066Z"
   },
   {
    "duration": 36,
    "start_time": "2022-05-12T14:06:31.074Z"
   },
   {
    "duration": 31,
    "start_time": "2022-05-12T14:06:31.113Z"
   },
   {
    "duration": 33,
    "start_time": "2022-05-12T14:06:31.146Z"
   },
   {
    "duration": 682,
    "start_time": "2022-05-12T14:06:31.181Z"
   },
   {
    "duration": 19,
    "start_time": "2022-05-12T14:06:31.865Z"
   },
   {
    "duration": 22,
    "start_time": "2022-05-12T14:06:31.886Z"
   },
   {
    "duration": 47,
    "start_time": "2022-05-12T14:06:31.911Z"
   },
   {
    "duration": 26,
    "start_time": "2022-05-12T14:06:31.960Z"
   },
   {
    "duration": 839,
    "start_time": "2022-05-12T14:06:31.988Z"
   },
   {
    "duration": 40,
    "start_time": "2022-05-12T14:06:32.829Z"
   },
   {
    "duration": 23,
    "start_time": "2022-05-12T14:06:32.872Z"
   },
   {
    "duration": 216,
    "start_time": "2022-05-12T14:06:32.897Z"
   },
   {
    "duration": 48,
    "start_time": "2022-05-12T14:06:33.115Z"
   },
   {
    "duration": 37,
    "start_time": "2022-05-12T14:06:33.165Z"
   },
   {
    "duration": 223,
    "start_time": "2022-05-12T14:06:33.204Z"
   },
   {
    "duration": 35,
    "start_time": "2022-05-12T14:06:33.429Z"
   },
   {
    "duration": 66,
    "start_time": "2022-05-12T14:06:33.467Z"
   },
   {
    "duration": 32,
    "start_time": "2022-05-12T14:06:33.535Z"
   },
   {
    "duration": 251,
    "start_time": "2022-05-12T14:06:33.569Z"
   },
   {
    "duration": 232,
    "start_time": "2022-05-12T14:06:33.822Z"
   },
   {
    "duration": 9,
    "start_time": "2022-05-12T14:06:34.056Z"
   },
   {
    "duration": 18,
    "start_time": "2022-05-12T14:06:34.067Z"
   },
   {
    "duration": 20,
    "start_time": "2022-05-12T14:06:34.087Z"
   },
   {
    "duration": 17,
    "start_time": "2022-05-12T14:06:34.109Z"
   },
   {
    "duration": 29,
    "start_time": "2022-05-12T14:06:34.128Z"
   },
   {
    "duration": 26,
    "start_time": "2022-05-12T14:06:34.159Z"
   },
   {
    "duration": 13,
    "start_time": "2022-05-12T14:06:34.187Z"
   },
   {
    "duration": 255,
    "start_time": "2022-05-12T14:08:12.140Z"
   }
  ],
  "kernelspec": {
   "display_name": "Python 3 (ipykernel)",
   "language": "python",
   "name": "python3"
  },
  "language_info": {
   "codemirror_mode": {
    "name": "ipython",
    "version": 3
   },
   "file_extension": ".py",
   "mimetype": "text/x-python",
   "name": "python",
   "nbconvert_exporter": "python",
   "pygments_lexer": "ipython3",
   "version": "3.9.7"
  },
  "toc": {
   "base_numbering": 1,
   "nav_menu": {},
   "number_sections": true,
   "sideBar": true,
   "skip_h1_title": true,
   "title_cell": "Table of Contents",
   "title_sidebar": "Contents",
   "toc_cell": false,
   "toc_position": {
    "height": "calc(100% - 180px)",
    "left": "10px",
    "top": "150px",
    "width": "285.516px"
   },
   "toc_section_display": true,
   "toc_window_display": true
  }
 },
 "nbformat": 4,
 "nbformat_minor": 5
}
