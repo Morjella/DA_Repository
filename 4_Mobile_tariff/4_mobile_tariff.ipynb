{
 "cells": [
  {
   "cell_type": "markdown",
   "id": "de60f54a",
   "metadata": {},
   "source": [
    "# Введение\n",
    "\n",
    "В данной проектной работе будет произведен анализ двух тарифов сотовой связи **Ультра** и **Смарт** на основе выборки за 2018 г. В ходе исследования будет проведено преобразование данных, анализ данных на предмет того, сколько минут звонков, сообщений и трафика тратят абоненты, а также проверены 2 гипотезы, касающиеся выручки по данным тарифам."
   ]
  },
  {
   "cell_type": "code",
   "execution_count": 1,
   "id": "d2317fb2",
   "metadata": {},
   "outputs": [],
   "source": [
    "import pandas as pd\n",
    "import numpy as np\n",
    "from scipy import stats as st\n",
    "from scipy.stats import norm\n",
    "import matplotlib.pyplot as plt\n",
    "import random"
   ]
  },
  {
   "cell_type": "markdown",
   "id": "3450c8f4",
   "metadata": {},
   "source": [
    "# 1. Загрузка файлов данных\n",
    "Для проведения исследования откроем предложенные датафреймы и присвоим каждому из них свое имя. В следующем шаге мы подробно расмотрим каждый датафрейм и проверим его на корректность данных"
   ]
  },
  {
   "cell_type": "code",
   "execution_count": 2,
   "id": "0d25438e",
   "metadata": {
    "scrolled": true
   },
   "outputs": [],
   "source": [
    "data_calls = pd.read_csv('/datasets/calls.csv')\n",
    "data_internet = pd.read_csv('/datasets/internet.csv')\n",
    "data_messages = pd.read_csv('/datasets/messages.csv')\n",
    "data_tariffs = pd.read_csv('/datasets/tariffs.csv')\n",
    "data_users = pd.read_csv('/datasets/users.csv')"
   ]
  },
  {
   "cell_type": "markdown",
   "id": "049cd9bc",
   "metadata": {},
   "source": [
    "# 2. Подготовка данных\n",
    "Посмотрим информацию о датафреймах и при необходимости произведем предобработку данных.\n",
    "\n",
    "## 2.1 Звонки - data_calls\n",
    "Воспользуемся методом `info()` и посмотрим информацию о датафрейме **data_calls**. Видно, что в датафрейме 4 столбца и отсутствуют пропуски данных. Здесь я предлагаю заменить тип столбца **call_date** на `datetime` - т.к. здесь рассматривается дата звонка, которую удобно рассматривать именно в формате дата/время. И преобразуем столбец **duration** в тип `int`, предварительно воспользовавшись функцией `np.ceil()` для округления \"наверх\". \n",
    "(в примечании указано, что все звонки округляются до минут). Для проверки посчитаем сумму значений по столбцу **duration** до и после преобразований (если округление прошло корректно, т.е. \"наверх\", сумма длительности звонков после преобразования будет больше, нежели ранее)"
   ]
  },
  {
   "cell_type": "code",
   "execution_count": 3,
   "id": "dec9fd6a",
   "metadata": {},
   "outputs": [
    {
     "name": "stdout",
     "output_type": "stream",
     "text": [
      "<class 'pandas.core.frame.DataFrame'>\n",
      "RangeIndex: 202607 entries, 0 to 202606\n",
      "Data columns (total 4 columns):\n",
      " #   Column     Non-Null Count   Dtype  \n",
      "---  ------     --------------   -----  \n",
      " 0   id         202607 non-null  object \n",
      " 1   call_date  202607 non-null  object \n",
      " 2   duration   202607 non-null  float64\n",
      " 3   user_id    202607 non-null  int64  \n",
      "dtypes: float64(1), int64(1), object(2)\n",
      "memory usage: 6.2+ MB\n"
     ]
    }
   ],
   "source": [
    "data_calls.info()"
   ]
  },
  {
   "cell_type": "code",
   "execution_count": 4,
   "id": "d405a19f",
   "metadata": {
    "scrolled": true
   },
   "outputs": [
    {
     "data": {
      "text/html": [
       "<div>\n",
       "<style scoped>\n",
       "    .dataframe tbody tr th:only-of-type {\n",
       "        vertical-align: middle;\n",
       "    }\n",
       "\n",
       "    .dataframe tbody tr th {\n",
       "        vertical-align: top;\n",
       "    }\n",
       "\n",
       "    .dataframe thead th {\n",
       "        text-align: right;\n",
       "    }\n",
       "</style>\n",
       "<table border=\"1\" class=\"dataframe\">\n",
       "  <thead>\n",
       "    <tr style=\"text-align: right;\">\n",
       "      <th></th>\n",
       "      <th>id</th>\n",
       "      <th>call_date</th>\n",
       "      <th>duration</th>\n",
       "      <th>user_id</th>\n",
       "    </tr>\n",
       "  </thead>\n",
       "  <tbody>\n",
       "    <tr>\n",
       "      <th>0</th>\n",
       "      <td>1000_0</td>\n",
       "      <td>2018-07-25</td>\n",
       "      <td>0.00</td>\n",
       "      <td>1000</td>\n",
       "    </tr>\n",
       "    <tr>\n",
       "      <th>1</th>\n",
       "      <td>1000_1</td>\n",
       "      <td>2018-08-17</td>\n",
       "      <td>0.00</td>\n",
       "      <td>1000</td>\n",
       "    </tr>\n",
       "    <tr>\n",
       "      <th>2</th>\n",
       "      <td>1000_2</td>\n",
       "      <td>2018-06-11</td>\n",
       "      <td>2.85</td>\n",
       "      <td>1000</td>\n",
       "    </tr>\n",
       "    <tr>\n",
       "      <th>3</th>\n",
       "      <td>1000_3</td>\n",
       "      <td>2018-09-21</td>\n",
       "      <td>13.80</td>\n",
       "      <td>1000</td>\n",
       "    </tr>\n",
       "    <tr>\n",
       "      <th>4</th>\n",
       "      <td>1000_4</td>\n",
       "      <td>2018-12-15</td>\n",
       "      <td>5.18</td>\n",
       "      <td>1000</td>\n",
       "    </tr>\n",
       "  </tbody>\n",
       "</table>\n",
       "</div>"
      ],
      "text/plain": [
       "       id   call_date  duration  user_id\n",
       "0  1000_0  2018-07-25      0.00     1000\n",
       "1  1000_1  2018-08-17      0.00     1000\n",
       "2  1000_2  2018-06-11      2.85     1000\n",
       "3  1000_3  2018-09-21     13.80     1000\n",
       "4  1000_4  2018-12-15      5.18     1000"
      ]
     },
     "execution_count": 4,
     "metadata": {},
     "output_type": "execute_result"
    }
   ],
   "source": [
    "data_calls.head()"
   ]
  },
  {
   "cell_type": "code",
   "execution_count": 5,
   "id": "a1632046",
   "metadata": {},
   "outputs": [],
   "source": [
    "data_calls['call_date'] = pd.to_datetime(data_calls['call_date'], format = '%Y-%m-%d')"
   ]
  },
  {
   "cell_type": "code",
   "execution_count": 6,
   "id": "6c1a7abf",
   "metadata": {
    "scrolled": true
   },
   "outputs": [
    {
     "name": "stdout",
     "output_type": "stream",
     "text": [
      "1368790.0399999998\n"
     ]
    },
    {
     "data": {
      "text/plain": [
       "1450301"
      ]
     },
     "execution_count": 6,
     "metadata": {},
     "output_type": "execute_result"
    }
   ],
   "source": [
    "print(data_calls['duration'].sum())\n",
    "\n",
    "data_calls['duration'] = np.ceil(data_calls['duration'])\n",
    "data_calls['duration'] = data_calls['duration'].astype('int16')\n",
    "data_calls['duration'].sum()"
   ]
  },
  {
   "cell_type": "markdown",
   "id": "a1144e14",
   "metadata": {},
   "source": [
    "Как видим, преобразование столбца **duration** прошло успешно - сумма длительности звонков увеличилась, столбец **call_date** был успешно преобразован в тип `datetime64`.\n",
    "Однако в нашей выгрузке могут быть данные за разные месяцы (по условиям задачи, в датафрейме содержатся данные только за 2018 г.). Создадим столбец **month**, куда выгрузим порядковый номер месяца звонков. "
   ]
  },
  {
   "cell_type": "code",
   "execution_count": 7,
   "id": "b032c1fe",
   "metadata": {},
   "outputs": [],
   "source": [
    "data_calls['month'] = pd.DatetimeIndex(data_calls['call_date']).month"
   ]
  },
  {
   "cell_type": "markdown",
   "id": "5c5c5c4e",
   "metadata": {},
   "source": [
    "## 2.2. Интернет- сессии - data_internet\n",
    "\n",
    "В этой таблице видим, что произошел дубль столбца с индексами - такая же информация есть в столбце **Unnamed: 0** - удалим этот столбец. Округлять трафки пока не будем, т.к. округление происходит по общей сумме за месяц. \n",
    "Также произведем преобразование столбца **session_date** в тип даты - `datetime64` и создадим столбец **month** с месяцем интернет-сессий. "
   ]
  },
  {
   "cell_type": "code",
   "execution_count": 8,
   "id": "0f1e36dc",
   "metadata": {
    "scrolled": false
   },
   "outputs": [
    {
     "name": "stdout",
     "output_type": "stream",
     "text": [
      "<class 'pandas.core.frame.DataFrame'>\n",
      "RangeIndex: 149396 entries, 0 to 149395\n",
      "Data columns (total 5 columns):\n",
      " #   Column        Non-Null Count   Dtype  \n",
      "---  ------        --------------   -----  \n",
      " 0   Unnamed: 0    149396 non-null  int64  \n",
      " 1   id            149396 non-null  object \n",
      " 2   mb_used       149396 non-null  float64\n",
      " 3   session_date  149396 non-null  object \n",
      " 4   user_id       149396 non-null  int64  \n",
      "dtypes: float64(1), int64(2), object(2)\n",
      "memory usage: 5.7+ MB\n"
     ]
    }
   ],
   "source": [
    "data_internet.info()"
   ]
  },
  {
   "cell_type": "code",
   "execution_count": 9,
   "id": "60bbe26a",
   "metadata": {},
   "outputs": [
    {
     "data": {
      "text/html": [
       "<div>\n",
       "<style scoped>\n",
       "    .dataframe tbody tr th:only-of-type {\n",
       "        vertical-align: middle;\n",
       "    }\n",
       "\n",
       "    .dataframe tbody tr th {\n",
       "        vertical-align: top;\n",
       "    }\n",
       "\n",
       "    .dataframe thead th {\n",
       "        text-align: right;\n",
       "    }\n",
       "</style>\n",
       "<table border=\"1\" class=\"dataframe\">\n",
       "  <thead>\n",
       "    <tr style=\"text-align: right;\">\n",
       "      <th></th>\n",
       "      <th>Unnamed: 0</th>\n",
       "      <th>id</th>\n",
       "      <th>mb_used</th>\n",
       "      <th>session_date</th>\n",
       "      <th>user_id</th>\n",
       "    </tr>\n",
       "  </thead>\n",
       "  <tbody>\n",
       "    <tr>\n",
       "      <th>149391</th>\n",
       "      <td>149391</td>\n",
       "      <td>1499_152</td>\n",
       "      <td>318.90</td>\n",
       "      <td>2018-10-03</td>\n",
       "      <td>1499</td>\n",
       "    </tr>\n",
       "    <tr>\n",
       "      <th>149392</th>\n",
       "      <td>149392</td>\n",
       "      <td>1499_153</td>\n",
       "      <td>490.13</td>\n",
       "      <td>2018-12-14</td>\n",
       "      <td>1499</td>\n",
       "    </tr>\n",
       "    <tr>\n",
       "      <th>149393</th>\n",
       "      <td>149393</td>\n",
       "      <td>1499_154</td>\n",
       "      <td>0.00</td>\n",
       "      <td>2018-10-27</td>\n",
       "      <td>1499</td>\n",
       "    </tr>\n",
       "    <tr>\n",
       "      <th>149394</th>\n",
       "      <td>149394</td>\n",
       "      <td>1499_155</td>\n",
       "      <td>1246.32</td>\n",
       "      <td>2018-11-26</td>\n",
       "      <td>1499</td>\n",
       "    </tr>\n",
       "    <tr>\n",
       "      <th>149395</th>\n",
       "      <td>149395</td>\n",
       "      <td>1499_156</td>\n",
       "      <td>544.37</td>\n",
       "      <td>2018-10-26</td>\n",
       "      <td>1499</td>\n",
       "    </tr>\n",
       "  </tbody>\n",
       "</table>\n",
       "</div>"
      ],
      "text/plain": [
       "        Unnamed: 0        id  mb_used session_date  user_id\n",
       "149391      149391  1499_152   318.90   2018-10-03     1499\n",
       "149392      149392  1499_153   490.13   2018-12-14     1499\n",
       "149393      149393  1499_154     0.00   2018-10-27     1499\n",
       "149394      149394  1499_155  1246.32   2018-11-26     1499\n",
       "149395      149395  1499_156   544.37   2018-10-26     1499"
      ]
     },
     "execution_count": 9,
     "metadata": {},
     "output_type": "execute_result"
    }
   ],
   "source": [
    "data_internet.tail()"
   ]
  },
  {
   "cell_type": "code",
   "execution_count": 10,
   "id": "df07791c",
   "metadata": {},
   "outputs": [
    {
     "data": {
      "text/html": [
       "<div>\n",
       "<style scoped>\n",
       "    .dataframe tbody tr th:only-of-type {\n",
       "        vertical-align: middle;\n",
       "    }\n",
       "\n",
       "    .dataframe tbody tr th {\n",
       "        vertical-align: top;\n",
       "    }\n",
       "\n",
       "    .dataframe thead th {\n",
       "        text-align: right;\n",
       "    }\n",
       "</style>\n",
       "<table border=\"1\" class=\"dataframe\">\n",
       "  <thead>\n",
       "    <tr style=\"text-align: right;\">\n",
       "      <th></th>\n",
       "      <th>id</th>\n",
       "      <th>mb_used</th>\n",
       "      <th>session_date</th>\n",
       "      <th>user_id</th>\n",
       "      <th>month</th>\n",
       "    </tr>\n",
       "  </thead>\n",
       "  <tbody>\n",
       "    <tr>\n",
       "      <th>0</th>\n",
       "      <td>1000_0</td>\n",
       "      <td>112.95</td>\n",
       "      <td>2018-11-25</td>\n",
       "      <td>1000</td>\n",
       "      <td>11</td>\n",
       "    </tr>\n",
       "    <tr>\n",
       "      <th>1</th>\n",
       "      <td>1000_1</td>\n",
       "      <td>1052.81</td>\n",
       "      <td>2018-09-07</td>\n",
       "      <td>1000</td>\n",
       "      <td>9</td>\n",
       "    </tr>\n",
       "    <tr>\n",
       "      <th>2</th>\n",
       "      <td>1000_2</td>\n",
       "      <td>1197.26</td>\n",
       "      <td>2018-06-25</td>\n",
       "      <td>1000</td>\n",
       "      <td>6</td>\n",
       "    </tr>\n",
       "    <tr>\n",
       "      <th>3</th>\n",
       "      <td>1000_3</td>\n",
       "      <td>550.27</td>\n",
       "      <td>2018-08-22</td>\n",
       "      <td>1000</td>\n",
       "      <td>8</td>\n",
       "    </tr>\n",
       "    <tr>\n",
       "      <th>4</th>\n",
       "      <td>1000_4</td>\n",
       "      <td>302.56</td>\n",
       "      <td>2018-09-24</td>\n",
       "      <td>1000</td>\n",
       "      <td>9</td>\n",
       "    </tr>\n",
       "  </tbody>\n",
       "</table>\n",
       "</div>"
      ],
      "text/plain": [
       "       id  mb_used session_date  user_id  month\n",
       "0  1000_0   112.95   2018-11-25     1000     11\n",
       "1  1000_1  1052.81   2018-09-07     1000      9\n",
       "2  1000_2  1197.26   2018-06-25     1000      6\n",
       "3  1000_3   550.27   2018-08-22     1000      8\n",
       "4  1000_4   302.56   2018-09-24     1000      9"
      ]
     },
     "execution_count": 10,
     "metadata": {},
     "output_type": "execute_result"
    }
   ],
   "source": [
    "data_internet = data_internet.drop(columns = 'Unnamed: 0', axis = 1)\n",
    "data_internet['session_date'] = pd.to_datetime(data_internet['session_date'], format = '%Y-%m-%d')\n",
    "data_internet['month'] = pd.DatetimeIndex(data_internet['session_date']).month\n",
    "data_internet.head()"
   ]
  },
  {
   "cell_type": "markdown",
   "id": "63658637",
   "metadata": {},
   "source": [
    "## 2.3. Cообщения- data_messages"
   ]
  },
  {
   "cell_type": "markdown",
   "id": "4da34bb8",
   "metadata": {},
   "source": [
    "Посмотрим инфо о датафрейме **data_messages**- видно, что пропуски в датафрейме отсутствуют. Изменим тип столбца **message_date** на `datetime64` и добавим месяц отправки сообщений **month**: "
   ]
  },
  {
   "cell_type": "code",
   "execution_count": 11,
   "id": "60c9e515",
   "metadata": {
    "scrolled": true
   },
   "outputs": [
    {
     "name": "stdout",
     "output_type": "stream",
     "text": [
      "<class 'pandas.core.frame.DataFrame'>\n",
      "RangeIndex: 123036 entries, 0 to 123035\n",
      "Data columns (total 3 columns):\n",
      " #   Column        Non-Null Count   Dtype \n",
      "---  ------        --------------   ----- \n",
      " 0   id            123036 non-null  object\n",
      " 1   message_date  123036 non-null  object\n",
      " 2   user_id       123036 non-null  int64 \n",
      "dtypes: int64(1), object(2)\n",
      "memory usage: 2.8+ MB\n"
     ]
    }
   ],
   "source": [
    "data_messages.info()"
   ]
  },
  {
   "cell_type": "code",
   "execution_count": 12,
   "id": "dbd2aa4d",
   "metadata": {
    "scrolled": true
   },
   "outputs": [
    {
     "data": {
      "text/html": [
       "<div>\n",
       "<style scoped>\n",
       "    .dataframe tbody tr th:only-of-type {\n",
       "        vertical-align: middle;\n",
       "    }\n",
       "\n",
       "    .dataframe tbody tr th {\n",
       "        vertical-align: top;\n",
       "    }\n",
       "\n",
       "    .dataframe thead th {\n",
       "        text-align: right;\n",
       "    }\n",
       "</style>\n",
       "<table border=\"1\" class=\"dataframe\">\n",
       "  <thead>\n",
       "    <tr style=\"text-align: right;\">\n",
       "      <th></th>\n",
       "      <th>id</th>\n",
       "      <th>message_date</th>\n",
       "      <th>user_id</th>\n",
       "      <th>month</th>\n",
       "    </tr>\n",
       "  </thead>\n",
       "  <tbody>\n",
       "    <tr>\n",
       "      <th>0</th>\n",
       "      <td>1000_0</td>\n",
       "      <td>2018-06-27</td>\n",
       "      <td>1000</td>\n",
       "      <td>6</td>\n",
       "    </tr>\n",
       "    <tr>\n",
       "      <th>1</th>\n",
       "      <td>1000_1</td>\n",
       "      <td>2018-10-08</td>\n",
       "      <td>1000</td>\n",
       "      <td>10</td>\n",
       "    </tr>\n",
       "    <tr>\n",
       "      <th>2</th>\n",
       "      <td>1000_2</td>\n",
       "      <td>2018-08-04</td>\n",
       "      <td>1000</td>\n",
       "      <td>8</td>\n",
       "    </tr>\n",
       "    <tr>\n",
       "      <th>3</th>\n",
       "      <td>1000_3</td>\n",
       "      <td>2018-06-16</td>\n",
       "      <td>1000</td>\n",
       "      <td>6</td>\n",
       "    </tr>\n",
       "    <tr>\n",
       "      <th>4</th>\n",
       "      <td>1000_4</td>\n",
       "      <td>2018-12-05</td>\n",
       "      <td>1000</td>\n",
       "      <td>12</td>\n",
       "    </tr>\n",
       "  </tbody>\n",
       "</table>\n",
       "</div>"
      ],
      "text/plain": [
       "       id message_date  user_id  month\n",
       "0  1000_0   2018-06-27     1000      6\n",
       "1  1000_1   2018-10-08     1000     10\n",
       "2  1000_2   2018-08-04     1000      8\n",
       "3  1000_3   2018-06-16     1000      6\n",
       "4  1000_4   2018-12-05     1000     12"
      ]
     },
     "execution_count": 12,
     "metadata": {},
     "output_type": "execute_result"
    }
   ],
   "source": [
    "data_messages['message_date'] = pd.to_datetime(data_messages['message_date'], format = '%Y-%m-%d')\n",
    "data_messages['month'] = pd.DatetimeIndex(data_messages['message_date']).month\n",
    "data_messages.head()"
   ]
  },
  {
   "cell_type": "markdown",
   "id": "9776925d",
   "metadata": {},
   "source": [
    "## 2.4. Тарифы - data_tariffs\n",
    "Если загрузим информацию о датафрейме **data_tariffs**, также видим, что здесь все корректно, никаких изменений не требуется. "
   ]
  },
  {
   "cell_type": "code",
   "execution_count": 13,
   "id": "4217a950",
   "metadata": {
    "scrolled": true
   },
   "outputs": [
    {
     "name": "stdout",
     "output_type": "stream",
     "text": [
      "<class 'pandas.core.frame.DataFrame'>\n",
      "RangeIndex: 2 entries, 0 to 1\n",
      "Data columns (total 8 columns):\n",
      " #   Column                 Non-Null Count  Dtype \n",
      "---  ------                 --------------  ----- \n",
      " 0   messages_included      2 non-null      int64 \n",
      " 1   mb_per_month_included  2 non-null      int64 \n",
      " 2   minutes_included       2 non-null      int64 \n",
      " 3   rub_monthly_fee        2 non-null      int64 \n",
      " 4   rub_per_gb             2 non-null      int64 \n",
      " 5   rub_per_message        2 non-null      int64 \n",
      " 6   rub_per_minute         2 non-null      int64 \n",
      " 7   tariff_name            2 non-null      object\n",
      "dtypes: int64(7), object(1)\n",
      "memory usage: 256.0+ bytes\n"
     ]
    }
   ],
   "source": [
    "data_tariffs.info()"
   ]
  },
  {
   "cell_type": "code",
   "execution_count": 14,
   "id": "36069351",
   "metadata": {},
   "outputs": [
    {
     "data": {
      "text/html": [
       "<div>\n",
       "<style scoped>\n",
       "    .dataframe tbody tr th:only-of-type {\n",
       "        vertical-align: middle;\n",
       "    }\n",
       "\n",
       "    .dataframe tbody tr th {\n",
       "        vertical-align: top;\n",
       "    }\n",
       "\n",
       "    .dataframe thead th {\n",
       "        text-align: right;\n",
       "    }\n",
       "</style>\n",
       "<table border=\"1\" class=\"dataframe\">\n",
       "  <thead>\n",
       "    <tr style=\"text-align: right;\">\n",
       "      <th></th>\n",
       "      <th>messages_included</th>\n",
       "      <th>mb_per_month_included</th>\n",
       "      <th>minutes_included</th>\n",
       "      <th>rub_monthly_fee</th>\n",
       "      <th>rub_per_gb</th>\n",
       "      <th>rub_per_message</th>\n",
       "      <th>rub_per_minute</th>\n",
       "      <th>tariff_name</th>\n",
       "    </tr>\n",
       "  </thead>\n",
       "  <tbody>\n",
       "    <tr>\n",
       "      <th>0</th>\n",
       "      <td>50</td>\n",
       "      <td>15360</td>\n",
       "      <td>500</td>\n",
       "      <td>550</td>\n",
       "      <td>200</td>\n",
       "      <td>3</td>\n",
       "      <td>3</td>\n",
       "      <td>smart</td>\n",
       "    </tr>\n",
       "    <tr>\n",
       "      <th>1</th>\n",
       "      <td>1000</td>\n",
       "      <td>30720</td>\n",
       "      <td>3000</td>\n",
       "      <td>1950</td>\n",
       "      <td>150</td>\n",
       "      <td>1</td>\n",
       "      <td>1</td>\n",
       "      <td>ultra</td>\n",
       "    </tr>\n",
       "  </tbody>\n",
       "</table>\n",
       "</div>"
      ],
      "text/plain": [
       "   messages_included  mb_per_month_included  minutes_included  \\\n",
       "0                 50                  15360               500   \n",
       "1               1000                  30720              3000   \n",
       "\n",
       "   rub_monthly_fee  rub_per_gb  rub_per_message  rub_per_minute tariff_name  \n",
       "0              550         200                3               3       smart  \n",
       "1             1950         150                1               1       ultra  "
      ]
     },
     "execution_count": 14,
     "metadata": {},
     "output_type": "execute_result"
    }
   ],
   "source": [
    "data_tariffs #здесь все ОК"
   ]
  },
  {
   "cell_type": "markdown",
   "id": "bc48dc4b",
   "metadata": {},
   "source": [
    "## 2.5. Пользователи - data_users\n",
    "В этом датафрейме также все заполнено верно, есть пропуски в столбце **churn_date**, но так должно быть- в этом столбце указана дата прекращения пользования тарифом, многие пользователи до сих пор продолжают им пользоваться. Изменим только тип данных в столбцах **reg_date** и **churn_date** на `datetime64`:"
   ]
  },
  {
   "cell_type": "code",
   "execution_count": 15,
   "id": "6af88152",
   "metadata": {},
   "outputs": [
    {
     "name": "stdout",
     "output_type": "stream",
     "text": [
      "<class 'pandas.core.frame.DataFrame'>\n",
      "RangeIndex: 500 entries, 0 to 499\n",
      "Data columns (total 8 columns):\n",
      " #   Column      Non-Null Count  Dtype \n",
      "---  ------      --------------  ----- \n",
      " 0   user_id     500 non-null    int64 \n",
      " 1   age         500 non-null    int64 \n",
      " 2   churn_date  38 non-null     object\n",
      " 3   city        500 non-null    object\n",
      " 4   first_name  500 non-null    object\n",
      " 5   last_name   500 non-null    object\n",
      " 6   reg_date    500 non-null    object\n",
      " 7   tariff      500 non-null    object\n",
      "dtypes: int64(2), object(6)\n",
      "memory usage: 31.4+ KB\n"
     ]
    }
   ],
   "source": [
    "data_users.info()"
   ]
  },
  {
   "cell_type": "code",
   "execution_count": 16,
   "id": "73ace02e",
   "metadata": {},
   "outputs": [
    {
     "data": {
      "text/html": [
       "<div>\n",
       "<style scoped>\n",
       "    .dataframe tbody tr th:only-of-type {\n",
       "        vertical-align: middle;\n",
       "    }\n",
       "\n",
       "    .dataframe tbody tr th {\n",
       "        vertical-align: top;\n",
       "    }\n",
       "\n",
       "    .dataframe thead th {\n",
       "        text-align: right;\n",
       "    }\n",
       "</style>\n",
       "<table border=\"1\" class=\"dataframe\">\n",
       "  <thead>\n",
       "    <tr style=\"text-align: right;\">\n",
       "      <th></th>\n",
       "      <th>user_id</th>\n",
       "      <th>age</th>\n",
       "      <th>churn_date</th>\n",
       "      <th>city</th>\n",
       "      <th>first_name</th>\n",
       "      <th>last_name</th>\n",
       "      <th>reg_date</th>\n",
       "      <th>tariff</th>\n",
       "    </tr>\n",
       "  </thead>\n",
       "  <tbody>\n",
       "    <tr>\n",
       "      <th>0</th>\n",
       "      <td>1000</td>\n",
       "      <td>52</td>\n",
       "      <td>NaT</td>\n",
       "      <td>Краснодар</td>\n",
       "      <td>Рафаил</td>\n",
       "      <td>Верещагин</td>\n",
       "      <td>2018-05-25</td>\n",
       "      <td>ultra</td>\n",
       "    </tr>\n",
       "    <tr>\n",
       "      <th>1</th>\n",
       "      <td>1001</td>\n",
       "      <td>41</td>\n",
       "      <td>NaT</td>\n",
       "      <td>Москва</td>\n",
       "      <td>Иван</td>\n",
       "      <td>Ежов</td>\n",
       "      <td>2018-11-01</td>\n",
       "      <td>smart</td>\n",
       "    </tr>\n",
       "    <tr>\n",
       "      <th>2</th>\n",
       "      <td>1002</td>\n",
       "      <td>59</td>\n",
       "      <td>NaT</td>\n",
       "      <td>Стерлитамак</td>\n",
       "      <td>Евгений</td>\n",
       "      <td>Абрамович</td>\n",
       "      <td>2018-06-17</td>\n",
       "      <td>smart</td>\n",
       "    </tr>\n",
       "    <tr>\n",
       "      <th>3</th>\n",
       "      <td>1003</td>\n",
       "      <td>23</td>\n",
       "      <td>NaT</td>\n",
       "      <td>Москва</td>\n",
       "      <td>Белла</td>\n",
       "      <td>Белякова</td>\n",
       "      <td>2018-08-17</td>\n",
       "      <td>ultra</td>\n",
       "    </tr>\n",
       "    <tr>\n",
       "      <th>4</th>\n",
       "      <td>1004</td>\n",
       "      <td>68</td>\n",
       "      <td>NaT</td>\n",
       "      <td>Новокузнецк</td>\n",
       "      <td>Татьяна</td>\n",
       "      <td>Авдеенко</td>\n",
       "      <td>2018-05-14</td>\n",
       "      <td>ultra</td>\n",
       "    </tr>\n",
       "  </tbody>\n",
       "</table>\n",
       "</div>"
      ],
      "text/plain": [
       "   user_id  age churn_date         city first_name  last_name   reg_date  \\\n",
       "0     1000   52        NaT    Краснодар     Рафаил  Верещагин 2018-05-25   \n",
       "1     1001   41        NaT       Москва       Иван       Ежов 2018-11-01   \n",
       "2     1002   59        NaT  Стерлитамак    Евгений  Абрамович 2018-06-17   \n",
       "3     1003   23        NaT       Москва      Белла   Белякова 2018-08-17   \n",
       "4     1004   68        NaT  Новокузнецк    Татьяна   Авдеенко 2018-05-14   \n",
       "\n",
       "  tariff  \n",
       "0  ultra  \n",
       "1  smart  \n",
       "2  smart  \n",
       "3  ultra  \n",
       "4  ultra  "
      ]
     },
     "execution_count": 16,
     "metadata": {},
     "output_type": "execute_result"
    }
   ],
   "source": [
    "data_users['reg_date'] = pd.to_datetime(data_users['reg_date'], format = '%Y-%m-%d')\n",
    "data_users['churn_date'] = pd.to_datetime(data_users['churn_date'], format = '%Y-%m-%d')\n",
    "data_users.head()"
   ]
  },
  {
   "cell_type": "markdown",
   "id": "105b315c",
   "metadata": {},
   "source": [
    "## 2.6. Расчет трат каждого пользователя\n",
    "\n",
    "Произведем расчет ежемесячных трат для каждого пользователя. \n",
    "Для этого: \n",
    "- Создадим сводные таблицы по датафреймам **data_calls**, **data_internet**, **data_messages**, где посчитаем суммарное количество продолжительности звонков, использования траффика и сообщений по каждому **user_id** ежемесячно **month**.\n",
    "- Создадим таблицу-словаь с использованием столбцов **user_id** и названием тарифа **tariff**.\n",
    "- Соединим эти таблицы в единую таблицу **users_table**, будем использовать метод слияния **outer** (т.е. или). Выбираю такой способ потому, что человек может не звонить, но активно отправлять сообщения и пользоваться интернетом, к примеру. \n",
    "- Проведем преобразования таблицы: пересчитаем трафик в Гб, округлив \"наверх\" при помощи функции `np.ceil()`, переименуем колонки и заполним пропуски 0 (если есть пропуск, значит, в этом месяце данным способом связи не пользовались).\n",
    "- Соединим таблицу **users_table** c таблицей стоимости тарифов **data_tariffs**, здесь будем соединять способом **left**. \n",
    "- Преобразуем количество включенного в тариф траффика в Гб."
   ]
  },
  {
   "cell_type": "code",
   "execution_count": 17,
   "id": "a4e9faed",
   "metadata": {
    "scrolled": true
   },
   "outputs": [
    {
     "data": {
      "text/html": [
       "<div>\n",
       "<style scoped>\n",
       "    .dataframe tbody tr th:only-of-type {\n",
       "        vertical-align: middle;\n",
       "    }\n",
       "\n",
       "    .dataframe tbody tr th {\n",
       "        vertical-align: top;\n",
       "    }\n",
       "\n",
       "    .dataframe thead th {\n",
       "        text-align: right;\n",
       "    }\n",
       "</style>\n",
       "<table border=\"1\" class=\"dataframe\">\n",
       "  <thead>\n",
       "    <tr style=\"text-align: right;\">\n",
       "      <th></th>\n",
       "      <th>user_id</th>\n",
       "      <th>month</th>\n",
       "      <th>duration</th>\n",
       "    </tr>\n",
       "  </thead>\n",
       "  <tbody>\n",
       "    <tr>\n",
       "      <th>0</th>\n",
       "      <td>1000</td>\n",
       "      <td>5</td>\n",
       "      <td>159</td>\n",
       "    </tr>\n",
       "    <tr>\n",
       "      <th>1</th>\n",
       "      <td>1000</td>\n",
       "      <td>6</td>\n",
       "      <td>172</td>\n",
       "    </tr>\n",
       "    <tr>\n",
       "      <th>2</th>\n",
       "      <td>1000</td>\n",
       "      <td>7</td>\n",
       "      <td>340</td>\n",
       "    </tr>\n",
       "    <tr>\n",
       "      <th>3</th>\n",
       "      <td>1000</td>\n",
       "      <td>8</td>\n",
       "      <td>408</td>\n",
       "    </tr>\n",
       "    <tr>\n",
       "      <th>4</th>\n",
       "      <td>1000</td>\n",
       "      <td>9</td>\n",
       "      <td>466</td>\n",
       "    </tr>\n",
       "  </tbody>\n",
       "</table>\n",
       "</div>"
      ],
      "text/plain": [
       "   user_id  month  duration\n",
       "0     1000      5       159\n",
       "1     1000      6       172\n",
       "2     1000      7       340\n",
       "3     1000      8       408\n",
       "4     1000      9       466"
      ]
     },
     "execution_count": 17,
     "metadata": {},
     "output_type": "execute_result"
    }
   ],
   "source": [
    "calls_pivot = data_calls.pivot_table(index = ['user_id','month'], values = 'duration', \n",
    "                                     aggfunc = 'sum').sort_values(by = ['user_id', 'month']).reset_index()\n",
    "calls_pivot.head()"
   ]
  },
  {
   "cell_type": "code",
   "execution_count": 18,
   "id": "c19cbbf0",
   "metadata": {},
   "outputs": [
    {
     "data": {
      "text/html": [
       "<div>\n",
       "<style scoped>\n",
       "    .dataframe tbody tr th:only-of-type {\n",
       "        vertical-align: middle;\n",
       "    }\n",
       "\n",
       "    .dataframe tbody tr th {\n",
       "        vertical-align: top;\n",
       "    }\n",
       "\n",
       "    .dataframe thead th {\n",
       "        text-align: right;\n",
       "    }\n",
       "</style>\n",
       "<table border=\"1\" class=\"dataframe\">\n",
       "  <thead>\n",
       "    <tr style=\"text-align: right;\">\n",
       "      <th></th>\n",
       "      <th>user_id</th>\n",
       "      <th>month</th>\n",
       "      <th>mb_used</th>\n",
       "    </tr>\n",
       "  </thead>\n",
       "  <tbody>\n",
       "    <tr>\n",
       "      <th>0</th>\n",
       "      <td>1000</td>\n",
       "      <td>5</td>\n",
       "      <td>2253.49</td>\n",
       "    </tr>\n",
       "    <tr>\n",
       "      <th>1</th>\n",
       "      <td>1000</td>\n",
       "      <td>6</td>\n",
       "      <td>23233.77</td>\n",
       "    </tr>\n",
       "    <tr>\n",
       "      <th>2</th>\n",
       "      <td>1000</td>\n",
       "      <td>7</td>\n",
       "      <td>14003.64</td>\n",
       "    </tr>\n",
       "    <tr>\n",
       "      <th>3</th>\n",
       "      <td>1000</td>\n",
       "      <td>8</td>\n",
       "      <td>14055.93</td>\n",
       "    </tr>\n",
       "    <tr>\n",
       "      <th>4</th>\n",
       "      <td>1000</td>\n",
       "      <td>9</td>\n",
       "      <td>14568.91</td>\n",
       "    </tr>\n",
       "  </tbody>\n",
       "</table>\n",
       "</div>"
      ],
      "text/plain": [
       "   user_id  month   mb_used\n",
       "0     1000      5   2253.49\n",
       "1     1000      6  23233.77\n",
       "2     1000      7  14003.64\n",
       "3     1000      8  14055.93\n",
       "4     1000      9  14568.91"
      ]
     },
     "execution_count": 18,
     "metadata": {},
     "output_type": "execute_result"
    }
   ],
   "source": [
    "internet_pivot = data_internet.pivot_table(index = ['user_id', 'month'], values = 'mb_used', \n",
    "                                           aggfunc = 'sum').sort_values(by = ['user_id', 'month']).reset_index()\n",
    "internet_pivot.head()"
   ]
  },
  {
   "cell_type": "code",
   "execution_count": 19,
   "id": "06bd7e4c",
   "metadata": {},
   "outputs": [
    {
     "data": {
      "text/html": [
       "<div>\n",
       "<style scoped>\n",
       "    .dataframe tbody tr th:only-of-type {\n",
       "        vertical-align: middle;\n",
       "    }\n",
       "\n",
       "    .dataframe tbody tr th {\n",
       "        vertical-align: top;\n",
       "    }\n",
       "\n",
       "    .dataframe thead th {\n",
       "        text-align: right;\n",
       "    }\n",
       "</style>\n",
       "<table border=\"1\" class=\"dataframe\">\n",
       "  <thead>\n",
       "    <tr style=\"text-align: right;\">\n",
       "      <th></th>\n",
       "      <th>user_id</th>\n",
       "      <th>month</th>\n",
       "      <th>id</th>\n",
       "    </tr>\n",
       "  </thead>\n",
       "  <tbody>\n",
       "    <tr>\n",
       "      <th>0</th>\n",
       "      <td>1000</td>\n",
       "      <td>5</td>\n",
       "      <td>22</td>\n",
       "    </tr>\n",
       "    <tr>\n",
       "      <th>1</th>\n",
       "      <td>1000</td>\n",
       "      <td>6</td>\n",
       "      <td>60</td>\n",
       "    </tr>\n",
       "    <tr>\n",
       "      <th>2</th>\n",
       "      <td>1000</td>\n",
       "      <td>7</td>\n",
       "      <td>75</td>\n",
       "    </tr>\n",
       "    <tr>\n",
       "      <th>3</th>\n",
       "      <td>1000</td>\n",
       "      <td>8</td>\n",
       "      <td>81</td>\n",
       "    </tr>\n",
       "    <tr>\n",
       "      <th>4</th>\n",
       "      <td>1000</td>\n",
       "      <td>9</td>\n",
       "      <td>57</td>\n",
       "    </tr>\n",
       "  </tbody>\n",
       "</table>\n",
       "</div>"
      ],
      "text/plain": [
       "   user_id  month  id\n",
       "0     1000      5  22\n",
       "1     1000      6  60\n",
       "2     1000      7  75\n",
       "3     1000      8  81\n",
       "4     1000      9  57"
      ]
     },
     "execution_count": 19,
     "metadata": {},
     "output_type": "execute_result"
    }
   ],
   "source": [
    "messages_pivot = data_messages.pivot_table(index = ['user_id', 'month'], values = 'id', \n",
    "                                           aggfunc = 'count').sort_values(by = ['user_id', 'month']).reset_index()\n",
    "messages_pivot.head()"
   ]
  },
  {
   "cell_type": "code",
   "execution_count": 20,
   "id": "35980005",
   "metadata": {},
   "outputs": [],
   "source": [
    "tariffs_users  = data_users[['user_id', 'tariff', 'age', 'city']]"
   ]
  },
  {
   "cell_type": "code",
   "execution_count": 21,
   "id": "64034557",
   "metadata": {},
   "outputs": [],
   "source": [
    "users_table = calls_pivot.merge(internet_pivot, on = ['user_id', 'month'], how = 'outer')\n",
    "users_table = users_table.merge(messages_pivot, on = ['user_id', 'month'], how = 'outer')\n",
    "users_table = users_table.merge(tariffs_users, on = ['user_id'], how = 'left')"
   ]
  },
  {
   "cell_type": "code",
   "execution_count": 22,
   "id": "f52de486",
   "metadata": {},
   "outputs": [
    {
     "data": {
      "text/html": [
       "<div>\n",
       "<style scoped>\n",
       "    .dataframe tbody tr th:only-of-type {\n",
       "        vertical-align: middle;\n",
       "    }\n",
       "\n",
       "    .dataframe tbody tr th {\n",
       "        vertical-align: top;\n",
       "    }\n",
       "\n",
       "    .dataframe thead th {\n",
       "        text-align: right;\n",
       "    }\n",
       "</style>\n",
       "<table border=\"1\" class=\"dataframe\">\n",
       "  <thead>\n",
       "    <tr style=\"text-align: right;\">\n",
       "      <th></th>\n",
       "      <th>user_id</th>\n",
       "      <th>month</th>\n",
       "      <th>duration</th>\n",
       "      <th>mb_used</th>\n",
       "      <th>id</th>\n",
       "      <th>tariff</th>\n",
       "      <th>age</th>\n",
       "      <th>city</th>\n",
       "    </tr>\n",
       "  </thead>\n",
       "  <tbody>\n",
       "    <tr>\n",
       "      <th>0</th>\n",
       "      <td>1000</td>\n",
       "      <td>5</td>\n",
       "      <td>159.0</td>\n",
       "      <td>2253.49</td>\n",
       "      <td>22.0</td>\n",
       "      <td>ultra</td>\n",
       "      <td>52</td>\n",
       "      <td>Краснодар</td>\n",
       "    </tr>\n",
       "    <tr>\n",
       "      <th>1</th>\n",
       "      <td>1000</td>\n",
       "      <td>6</td>\n",
       "      <td>172.0</td>\n",
       "      <td>23233.77</td>\n",
       "      <td>60.0</td>\n",
       "      <td>ultra</td>\n",
       "      <td>52</td>\n",
       "      <td>Краснодар</td>\n",
       "    </tr>\n",
       "    <tr>\n",
       "      <th>2</th>\n",
       "      <td>1000</td>\n",
       "      <td>7</td>\n",
       "      <td>340.0</td>\n",
       "      <td>14003.64</td>\n",
       "      <td>75.0</td>\n",
       "      <td>ultra</td>\n",
       "      <td>52</td>\n",
       "      <td>Краснодар</td>\n",
       "    </tr>\n",
       "    <tr>\n",
       "      <th>3</th>\n",
       "      <td>1000</td>\n",
       "      <td>8</td>\n",
       "      <td>408.0</td>\n",
       "      <td>14055.93</td>\n",
       "      <td>81.0</td>\n",
       "      <td>ultra</td>\n",
       "      <td>52</td>\n",
       "      <td>Краснодар</td>\n",
       "    </tr>\n",
       "    <tr>\n",
       "      <th>4</th>\n",
       "      <td>1000</td>\n",
       "      <td>9</td>\n",
       "      <td>466.0</td>\n",
       "      <td>14568.91</td>\n",
       "      <td>57.0</td>\n",
       "      <td>ultra</td>\n",
       "      <td>52</td>\n",
       "      <td>Краснодар</td>\n",
       "    </tr>\n",
       "  </tbody>\n",
       "</table>\n",
       "</div>"
      ],
      "text/plain": [
       "   user_id  month  duration   mb_used    id tariff  age       city\n",
       "0     1000      5     159.0   2253.49  22.0  ultra   52  Краснодар\n",
       "1     1000      6     172.0  23233.77  60.0  ultra   52  Краснодар\n",
       "2     1000      7     340.0  14003.64  75.0  ultra   52  Краснодар\n",
       "3     1000      8     408.0  14055.93  81.0  ultra   52  Краснодар\n",
       "4     1000      9     466.0  14568.91  57.0  ultra   52  Краснодар"
      ]
     },
     "execution_count": 22,
     "metadata": {},
     "output_type": "execute_result"
    }
   ],
   "source": [
    "users_table.head()"
   ]
  },
  {
   "cell_type": "code",
   "execution_count": 23,
   "id": "ebf9062c",
   "metadata": {},
   "outputs": [],
   "source": [
    "users_table['mb_used'] = np.ceil((users_table['mb_used'] / 1024))\n",
    "users_table.columns = ['user_id', 'month', 'calls', 'internet', 'messages', 'tariff_name', 'age', 'city']\n",
    "users_table = users_table.fillna(0)"
   ]
  },
  {
   "cell_type": "code",
   "execution_count": 24,
   "id": "e95e8829",
   "metadata": {},
   "outputs": [
    {
     "data": {
      "text/html": [
       "<div>\n",
       "<style scoped>\n",
       "    .dataframe tbody tr th:only-of-type {\n",
       "        vertical-align: middle;\n",
       "    }\n",
       "\n",
       "    .dataframe tbody tr th {\n",
       "        vertical-align: top;\n",
       "    }\n",
       "\n",
       "    .dataframe thead th {\n",
       "        text-align: right;\n",
       "    }\n",
       "</style>\n",
       "<table border=\"1\" class=\"dataframe\">\n",
       "  <thead>\n",
       "    <tr style=\"text-align: right;\">\n",
       "      <th></th>\n",
       "      <th>user_id</th>\n",
       "      <th>month</th>\n",
       "      <th>calls</th>\n",
       "      <th>internet</th>\n",
       "      <th>messages</th>\n",
       "      <th>tariff_name</th>\n",
       "      <th>age</th>\n",
       "      <th>city</th>\n",
       "    </tr>\n",
       "  </thead>\n",
       "  <tbody>\n",
       "    <tr>\n",
       "      <th>0</th>\n",
       "      <td>1000</td>\n",
       "      <td>5</td>\n",
       "      <td>159.0</td>\n",
       "      <td>3.0</td>\n",
       "      <td>22.0</td>\n",
       "      <td>ultra</td>\n",
       "      <td>52</td>\n",
       "      <td>Краснодар</td>\n",
       "    </tr>\n",
       "    <tr>\n",
       "      <th>1</th>\n",
       "      <td>1000</td>\n",
       "      <td>6</td>\n",
       "      <td>172.0</td>\n",
       "      <td>23.0</td>\n",
       "      <td>60.0</td>\n",
       "      <td>ultra</td>\n",
       "      <td>52</td>\n",
       "      <td>Краснодар</td>\n",
       "    </tr>\n",
       "    <tr>\n",
       "      <th>2</th>\n",
       "      <td>1000</td>\n",
       "      <td>7</td>\n",
       "      <td>340.0</td>\n",
       "      <td>14.0</td>\n",
       "      <td>75.0</td>\n",
       "      <td>ultra</td>\n",
       "      <td>52</td>\n",
       "      <td>Краснодар</td>\n",
       "    </tr>\n",
       "    <tr>\n",
       "      <th>3</th>\n",
       "      <td>1000</td>\n",
       "      <td>8</td>\n",
       "      <td>408.0</td>\n",
       "      <td>14.0</td>\n",
       "      <td>81.0</td>\n",
       "      <td>ultra</td>\n",
       "      <td>52</td>\n",
       "      <td>Краснодар</td>\n",
       "    </tr>\n",
       "    <tr>\n",
       "      <th>4</th>\n",
       "      <td>1000</td>\n",
       "      <td>9</td>\n",
       "      <td>466.0</td>\n",
       "      <td>15.0</td>\n",
       "      <td>57.0</td>\n",
       "      <td>ultra</td>\n",
       "      <td>52</td>\n",
       "      <td>Краснодар</td>\n",
       "    </tr>\n",
       "  </tbody>\n",
       "</table>\n",
       "</div>"
      ],
      "text/plain": [
       "   user_id  month  calls  internet  messages tariff_name  age       city\n",
       "0     1000      5  159.0       3.0      22.0       ultra   52  Краснодар\n",
       "1     1000      6  172.0      23.0      60.0       ultra   52  Краснодар\n",
       "2     1000      7  340.0      14.0      75.0       ultra   52  Краснодар\n",
       "3     1000      8  408.0      14.0      81.0       ultra   52  Краснодар\n",
       "4     1000      9  466.0      15.0      57.0       ultra   52  Краснодар"
      ]
     },
     "execution_count": 24,
     "metadata": {},
     "output_type": "execute_result"
    }
   ],
   "source": [
    "users_table.head()"
   ]
  },
  {
   "cell_type": "code",
   "execution_count": 25,
   "id": "df6d7efc",
   "metadata": {},
   "outputs": [],
   "source": [
    "users_table = users_table.merge(data_tariffs, on = 'tariff_name', how = 'left')"
   ]
  },
  {
   "cell_type": "code",
   "execution_count": 26,
   "id": "762c903c",
   "metadata": {},
   "outputs": [],
   "source": [
    "users_table['gb_per_month_included'] = (users_table['mb_per_month_included'] / 1024)\n",
    "users_table = users_table.drop(columns = 'mb_per_month_included', axis = 1)"
   ]
  },
  {
   "cell_type": "code",
   "execution_count": 27,
   "id": "82064bda",
   "metadata": {},
   "outputs": [
    {
     "data": {
      "text/html": [
       "<div>\n",
       "<style scoped>\n",
       "    .dataframe tbody tr th:only-of-type {\n",
       "        vertical-align: middle;\n",
       "    }\n",
       "\n",
       "    .dataframe tbody tr th {\n",
       "        vertical-align: top;\n",
       "    }\n",
       "\n",
       "    .dataframe thead th {\n",
       "        text-align: right;\n",
       "    }\n",
       "</style>\n",
       "<table border=\"1\" class=\"dataframe\">\n",
       "  <thead>\n",
       "    <tr style=\"text-align: right;\">\n",
       "      <th></th>\n",
       "      <th>user_id</th>\n",
       "      <th>month</th>\n",
       "      <th>calls</th>\n",
       "      <th>internet</th>\n",
       "      <th>messages</th>\n",
       "      <th>tariff_name</th>\n",
       "      <th>age</th>\n",
       "      <th>city</th>\n",
       "      <th>messages_included</th>\n",
       "      <th>minutes_included</th>\n",
       "      <th>rub_monthly_fee</th>\n",
       "      <th>rub_per_gb</th>\n",
       "      <th>rub_per_message</th>\n",
       "      <th>rub_per_minute</th>\n",
       "      <th>gb_per_month_included</th>\n",
       "    </tr>\n",
       "  </thead>\n",
       "  <tbody>\n",
       "    <tr>\n",
       "      <th>3209</th>\n",
       "      <td>1489</td>\n",
       "      <td>8</td>\n",
       "      <td>0.0</td>\n",
       "      <td>11.0</td>\n",
       "      <td>17.0</td>\n",
       "      <td>smart</td>\n",
       "      <td>35</td>\n",
       "      <td>Санкт-Петербург</td>\n",
       "      <td>50</td>\n",
       "      <td>500</td>\n",
       "      <td>550</td>\n",
       "      <td>200</td>\n",
       "      <td>3</td>\n",
       "      <td>3</td>\n",
       "      <td>15.0</td>\n",
       "    </tr>\n",
       "    <tr>\n",
       "      <th>3210</th>\n",
       "      <td>1489</td>\n",
       "      <td>9</td>\n",
       "      <td>0.0</td>\n",
       "      <td>17.0</td>\n",
       "      <td>32.0</td>\n",
       "      <td>smart</td>\n",
       "      <td>35</td>\n",
       "      <td>Санкт-Петербург</td>\n",
       "      <td>50</td>\n",
       "      <td>500</td>\n",
       "      <td>550</td>\n",
       "      <td>200</td>\n",
       "      <td>3</td>\n",
       "      <td>3</td>\n",
       "      <td>15.0</td>\n",
       "    </tr>\n",
       "    <tr>\n",
       "      <th>3211</th>\n",
       "      <td>1489</td>\n",
       "      <td>10</td>\n",
       "      <td>0.0</td>\n",
       "      <td>20.0</td>\n",
       "      <td>21.0</td>\n",
       "      <td>smart</td>\n",
       "      <td>35</td>\n",
       "      <td>Санкт-Петербург</td>\n",
       "      <td>50</td>\n",
       "      <td>500</td>\n",
       "      <td>550</td>\n",
       "      <td>200</td>\n",
       "      <td>3</td>\n",
       "      <td>3</td>\n",
       "      <td>15.0</td>\n",
       "    </tr>\n",
       "    <tr>\n",
       "      <th>3212</th>\n",
       "      <td>1489</td>\n",
       "      <td>11</td>\n",
       "      <td>0.0</td>\n",
       "      <td>18.0</td>\n",
       "      <td>20.0</td>\n",
       "      <td>smart</td>\n",
       "      <td>35</td>\n",
       "      <td>Санкт-Петербург</td>\n",
       "      <td>50</td>\n",
       "      <td>500</td>\n",
       "      <td>550</td>\n",
       "      <td>200</td>\n",
       "      <td>3</td>\n",
       "      <td>3</td>\n",
       "      <td>15.0</td>\n",
       "    </tr>\n",
       "    <tr>\n",
       "      <th>3213</th>\n",
       "      <td>1489</td>\n",
       "      <td>12</td>\n",
       "      <td>0.0</td>\n",
       "      <td>17.0</td>\n",
       "      <td>35.0</td>\n",
       "      <td>smart</td>\n",
       "      <td>35</td>\n",
       "      <td>Санкт-Петербург</td>\n",
       "      <td>50</td>\n",
       "      <td>500</td>\n",
       "      <td>550</td>\n",
       "      <td>200</td>\n",
       "      <td>3</td>\n",
       "      <td>3</td>\n",
       "      <td>15.0</td>\n",
       "    </tr>\n",
       "  </tbody>\n",
       "</table>\n",
       "</div>"
      ],
      "text/plain": [
       "      user_id  month  calls  internet  messages tariff_name  age  \\\n",
       "3209     1489      8    0.0      11.0      17.0       smart   35   \n",
       "3210     1489      9    0.0      17.0      32.0       smart   35   \n",
       "3211     1489     10    0.0      20.0      21.0       smart   35   \n",
       "3212     1489     11    0.0      18.0      20.0       smart   35   \n",
       "3213     1489     12    0.0      17.0      35.0       smart   35   \n",
       "\n",
       "                 city  messages_included  minutes_included  rub_monthly_fee  \\\n",
       "3209  Санкт-Петербург                 50               500              550   \n",
       "3210  Санкт-Петербург                 50               500              550   \n",
       "3211  Санкт-Петербург                 50               500              550   \n",
       "3212  Санкт-Петербург                 50               500              550   \n",
       "3213  Санкт-Петербург                 50               500              550   \n",
       "\n",
       "      rub_per_gb  rub_per_message  rub_per_minute  gb_per_month_included  \n",
       "3209         200                3               3                   15.0  \n",
       "3210         200                3               3                   15.0  \n",
       "3211         200                3               3                   15.0  \n",
       "3212         200                3               3                   15.0  \n",
       "3213         200                3               3                   15.0  "
      ]
     },
     "execution_count": 27,
     "metadata": {},
     "output_type": "execute_result"
    }
   ],
   "source": [
    "users_table.tail()"
   ]
  },
  {
   "cell_type": "markdown",
   "id": "83fe12cc",
   "metadata": {},
   "source": [
    "Для расчета ежемесячной оплаты напишем 3 функции: \n",
    "- cost_calls - стоимость звонков,\n",
    "- cost_internet - стоимость интернета,\n",
    "- cost_messages - стоимость сообщений. \n",
    "\n",
    "Применим функции к нашей таблице и посчитаем стоимость по каждому пункту. В столбце **final_cost** просуммируем полученные данные с ежемесячной стоимостью тарифа и получим финальный счет. После этого преобразуем некоторые столбцы таблицы в тип int16."
   ]
  },
  {
   "cell_type": "code",
   "execution_count": 28,
   "id": "c4fd7ff1",
   "metadata": {},
   "outputs": [],
   "source": [
    "def cost_calls (row):\n",
    "    calls = row['calls']\n",
    "    minutes = row['minutes_included']\n",
    "    rub_per_minute = row ['rub_per_minute']\n",
    "    \n",
    "    if calls > minutes:\n",
    "        cost_calls = (calls - minutes)* rub_per_minute\n",
    "        return cost_calls\n",
    "    return 0"
   ]
  },
  {
   "cell_type": "code",
   "execution_count": 29,
   "id": "4527a940",
   "metadata": {},
   "outputs": [],
   "source": [
    "def cost_internet (row):\n",
    "    internet = row['internet']\n",
    "    gb_included = row['gb_per_month_included']\n",
    "    rub_per_gb = row ['rub_per_gb']\n",
    "    \n",
    "    if internet > gb_included:\n",
    "        cost_internet = (internet - gb_included)* rub_per_gb\n",
    "        return cost_internet\n",
    "    return 0"
   ]
  },
  {
   "cell_type": "code",
   "execution_count": 30,
   "id": "a7d88fed",
   "metadata": {},
   "outputs": [],
   "source": [
    "def cost_messages (row):\n",
    "    messages = row['messages']\n",
    "    messages_included = row['messages_included']\n",
    "    rub_per_message = row ['rub_per_message']\n",
    "    \n",
    "    if messages > messages_included:\n",
    "        cost_messages = (messages - messages_included)* rub_per_message\n",
    "        return cost_messages\n",
    "    return 0"
   ]
  },
  {
   "cell_type": "code",
   "execution_count": 31,
   "id": "f60e346f",
   "metadata": {},
   "outputs": [],
   "source": [
    "users_table['cost_calls'] = users_table.apply(cost_calls, axis = 1)\n",
    "users_table['cost_internet'] = users_table.apply(cost_internet, axis = 1)\n",
    "users_table['cost_messages'] = users_table.apply(cost_messages, axis = 1)\n",
    "users_table['final_cost'] = users_table['cost_calls'] + users_table['cost_internet'] + users_table['cost_messages'] + users_table['rub_monthly_fee']"
   ]
  },
  {
   "cell_type": "code",
   "execution_count": 32,
   "id": "29230c80",
   "metadata": {},
   "outputs": [],
   "source": [
    "col_types = ['calls', 'internet', 'messages', 'final_cost']\n",
    "for col in users_table.columns:\n",
    "    if col in col_types:\n",
    "        users_table[col] = users_table[col].astype('int16')"
   ]
  },
  {
   "cell_type": "code",
   "execution_count": 33,
   "id": "a477d6d5",
   "metadata": {},
   "outputs": [
    {
     "data": {
      "text/html": [
       "<div>\n",
       "<style scoped>\n",
       "    .dataframe tbody tr th:only-of-type {\n",
       "        vertical-align: middle;\n",
       "    }\n",
       "\n",
       "    .dataframe tbody tr th {\n",
       "        vertical-align: top;\n",
       "    }\n",
       "\n",
       "    .dataframe thead th {\n",
       "        text-align: right;\n",
       "    }\n",
       "</style>\n",
       "<table border=\"1\" class=\"dataframe\">\n",
       "  <thead>\n",
       "    <tr style=\"text-align: right;\">\n",
       "      <th></th>\n",
       "      <th>user_id</th>\n",
       "      <th>month</th>\n",
       "      <th>calls</th>\n",
       "      <th>internet</th>\n",
       "      <th>messages</th>\n",
       "      <th>tariff_name</th>\n",
       "      <th>age</th>\n",
       "      <th>city</th>\n",
       "      <th>messages_included</th>\n",
       "      <th>minutes_included</th>\n",
       "      <th>rub_monthly_fee</th>\n",
       "      <th>rub_per_gb</th>\n",
       "      <th>rub_per_message</th>\n",
       "      <th>rub_per_minute</th>\n",
       "      <th>gb_per_month_included</th>\n",
       "      <th>cost_calls</th>\n",
       "      <th>cost_internet</th>\n",
       "      <th>cost_messages</th>\n",
       "      <th>final_cost</th>\n",
       "    </tr>\n",
       "  </thead>\n",
       "  <tbody>\n",
       "    <tr>\n",
       "      <th>0</th>\n",
       "      <td>1000</td>\n",
       "      <td>5</td>\n",
       "      <td>159</td>\n",
       "      <td>3</td>\n",
       "      <td>22</td>\n",
       "      <td>ultra</td>\n",
       "      <td>52</td>\n",
       "      <td>Краснодар</td>\n",
       "      <td>1000</td>\n",
       "      <td>3000</td>\n",
       "      <td>1950</td>\n",
       "      <td>150</td>\n",
       "      <td>1</td>\n",
       "      <td>1</td>\n",
       "      <td>30.0</td>\n",
       "      <td>0.0</td>\n",
       "      <td>0.0</td>\n",
       "      <td>0.0</td>\n",
       "      <td>1950</td>\n",
       "    </tr>\n",
       "    <tr>\n",
       "      <th>1</th>\n",
       "      <td>1000</td>\n",
       "      <td>6</td>\n",
       "      <td>172</td>\n",
       "      <td>23</td>\n",
       "      <td>60</td>\n",
       "      <td>ultra</td>\n",
       "      <td>52</td>\n",
       "      <td>Краснодар</td>\n",
       "      <td>1000</td>\n",
       "      <td>3000</td>\n",
       "      <td>1950</td>\n",
       "      <td>150</td>\n",
       "      <td>1</td>\n",
       "      <td>1</td>\n",
       "      <td>30.0</td>\n",
       "      <td>0.0</td>\n",
       "      <td>0.0</td>\n",
       "      <td>0.0</td>\n",
       "      <td>1950</td>\n",
       "    </tr>\n",
       "    <tr>\n",
       "      <th>2</th>\n",
       "      <td>1000</td>\n",
       "      <td>7</td>\n",
       "      <td>340</td>\n",
       "      <td>14</td>\n",
       "      <td>75</td>\n",
       "      <td>ultra</td>\n",
       "      <td>52</td>\n",
       "      <td>Краснодар</td>\n",
       "      <td>1000</td>\n",
       "      <td>3000</td>\n",
       "      <td>1950</td>\n",
       "      <td>150</td>\n",
       "      <td>1</td>\n",
       "      <td>1</td>\n",
       "      <td>30.0</td>\n",
       "      <td>0.0</td>\n",
       "      <td>0.0</td>\n",
       "      <td>0.0</td>\n",
       "      <td>1950</td>\n",
       "    </tr>\n",
       "    <tr>\n",
       "      <th>3</th>\n",
       "      <td>1000</td>\n",
       "      <td>8</td>\n",
       "      <td>408</td>\n",
       "      <td>14</td>\n",
       "      <td>81</td>\n",
       "      <td>ultra</td>\n",
       "      <td>52</td>\n",
       "      <td>Краснодар</td>\n",
       "      <td>1000</td>\n",
       "      <td>3000</td>\n",
       "      <td>1950</td>\n",
       "      <td>150</td>\n",
       "      <td>1</td>\n",
       "      <td>1</td>\n",
       "      <td>30.0</td>\n",
       "      <td>0.0</td>\n",
       "      <td>0.0</td>\n",
       "      <td>0.0</td>\n",
       "      <td>1950</td>\n",
       "    </tr>\n",
       "    <tr>\n",
       "      <th>4</th>\n",
       "      <td>1000</td>\n",
       "      <td>9</td>\n",
       "      <td>466</td>\n",
       "      <td>15</td>\n",
       "      <td>57</td>\n",
       "      <td>ultra</td>\n",
       "      <td>52</td>\n",
       "      <td>Краснодар</td>\n",
       "      <td>1000</td>\n",
       "      <td>3000</td>\n",
       "      <td>1950</td>\n",
       "      <td>150</td>\n",
       "      <td>1</td>\n",
       "      <td>1</td>\n",
       "      <td>30.0</td>\n",
       "      <td>0.0</td>\n",
       "      <td>0.0</td>\n",
       "      <td>0.0</td>\n",
       "      <td>1950</td>\n",
       "    </tr>\n",
       "  </tbody>\n",
       "</table>\n",
       "</div>"
      ],
      "text/plain": [
       "   user_id  month  calls  internet  messages tariff_name  age       city  \\\n",
       "0     1000      5    159         3        22       ultra   52  Краснодар   \n",
       "1     1000      6    172        23        60       ultra   52  Краснодар   \n",
       "2     1000      7    340        14        75       ultra   52  Краснодар   \n",
       "3     1000      8    408        14        81       ultra   52  Краснодар   \n",
       "4     1000      9    466        15        57       ultra   52  Краснодар   \n",
       "\n",
       "   messages_included  minutes_included  rub_monthly_fee  rub_per_gb  \\\n",
       "0               1000              3000             1950         150   \n",
       "1               1000              3000             1950         150   \n",
       "2               1000              3000             1950         150   \n",
       "3               1000              3000             1950         150   \n",
       "4               1000              3000             1950         150   \n",
       "\n",
       "   rub_per_message  rub_per_minute  gb_per_month_included  cost_calls  \\\n",
       "0                1               1                   30.0         0.0   \n",
       "1                1               1                   30.0         0.0   \n",
       "2                1               1                   30.0         0.0   \n",
       "3                1               1                   30.0         0.0   \n",
       "4                1               1                   30.0         0.0   \n",
       "\n",
       "   cost_internet  cost_messages  final_cost  \n",
       "0            0.0            0.0        1950  \n",
       "1            0.0            0.0        1950  \n",
       "2            0.0            0.0        1950  \n",
       "3            0.0            0.0        1950  \n",
       "4            0.0            0.0        1950  "
      ]
     },
     "execution_count": 33,
     "metadata": {},
     "output_type": "execute_result"
    }
   ],
   "source": [
    "users_table.head()"
   ]
  },
  {
   "cell_type": "markdown",
   "id": "0f67eb26",
   "metadata": {},
   "source": [
    "Для упрощения работы создадим окончательный датафрейм **users_final_cost** на основе **users_table**, куда добавим только данные о пользователе, активности за месяц и стоимости. "
   ]
  },
  {
   "cell_type": "code",
   "execution_count": 34,
   "id": "01467c17",
   "metadata": {},
   "outputs": [],
   "source": [
    "users_final_cost = users_table[['user_id', 'month', 'calls', 'internet', 'messages', 'final_cost', 'tariff_name', 'age', 'city', ]].sort_values(by = 'user_id').reset_index(drop = True)"
   ]
  },
  {
   "cell_type": "code",
   "execution_count": 35,
   "id": "02fa1ac7",
   "metadata": {},
   "outputs": [
    {
     "data": {
      "text/html": [
       "<div>\n",
       "<style scoped>\n",
       "    .dataframe tbody tr th:only-of-type {\n",
       "        vertical-align: middle;\n",
       "    }\n",
       "\n",
       "    .dataframe tbody tr th {\n",
       "        vertical-align: top;\n",
       "    }\n",
       "\n",
       "    .dataframe thead th {\n",
       "        text-align: right;\n",
       "    }\n",
       "</style>\n",
       "<table border=\"1\" class=\"dataframe\">\n",
       "  <thead>\n",
       "    <tr style=\"text-align: right;\">\n",
       "      <th></th>\n",
       "      <th>user_id</th>\n",
       "      <th>month</th>\n",
       "      <th>calls</th>\n",
       "      <th>internet</th>\n",
       "      <th>messages</th>\n",
       "      <th>final_cost</th>\n",
       "      <th>tariff_name</th>\n",
       "      <th>age</th>\n",
       "      <th>city</th>\n",
       "    </tr>\n",
       "  </thead>\n",
       "  <tbody>\n",
       "    <tr>\n",
       "      <th>0</th>\n",
       "      <td>1000</td>\n",
       "      <td>5</td>\n",
       "      <td>159</td>\n",
       "      <td>3</td>\n",
       "      <td>22</td>\n",
       "      <td>1950</td>\n",
       "      <td>ultra</td>\n",
       "      <td>52</td>\n",
       "      <td>Краснодар</td>\n",
       "    </tr>\n",
       "    <tr>\n",
       "      <th>1</th>\n",
       "      <td>1000</td>\n",
       "      <td>6</td>\n",
       "      <td>172</td>\n",
       "      <td>23</td>\n",
       "      <td>60</td>\n",
       "      <td>1950</td>\n",
       "      <td>ultra</td>\n",
       "      <td>52</td>\n",
       "      <td>Краснодар</td>\n",
       "    </tr>\n",
       "    <tr>\n",
       "      <th>2</th>\n",
       "      <td>1000</td>\n",
       "      <td>7</td>\n",
       "      <td>340</td>\n",
       "      <td>14</td>\n",
       "      <td>75</td>\n",
       "      <td>1950</td>\n",
       "      <td>ultra</td>\n",
       "      <td>52</td>\n",
       "      <td>Краснодар</td>\n",
       "    </tr>\n",
       "    <tr>\n",
       "      <th>3</th>\n",
       "      <td>1000</td>\n",
       "      <td>8</td>\n",
       "      <td>408</td>\n",
       "      <td>14</td>\n",
       "      <td>81</td>\n",
       "      <td>1950</td>\n",
       "      <td>ultra</td>\n",
       "      <td>52</td>\n",
       "      <td>Краснодар</td>\n",
       "    </tr>\n",
       "    <tr>\n",
       "      <th>4</th>\n",
       "      <td>1000</td>\n",
       "      <td>9</td>\n",
       "      <td>466</td>\n",
       "      <td>15</td>\n",
       "      <td>57</td>\n",
       "      <td>1950</td>\n",
       "      <td>ultra</td>\n",
       "      <td>52</td>\n",
       "      <td>Краснодар</td>\n",
       "    </tr>\n",
       "  </tbody>\n",
       "</table>\n",
       "</div>"
      ],
      "text/plain": [
       "   user_id  month  calls  internet  messages  final_cost tariff_name  age  \\\n",
       "0     1000      5    159         3        22        1950       ultra   52   \n",
       "1     1000      6    172        23        60        1950       ultra   52   \n",
       "2     1000      7    340        14        75        1950       ultra   52   \n",
       "3     1000      8    408        14        81        1950       ultra   52   \n",
       "4     1000      9    466        15        57        1950       ultra   52   \n",
       "\n",
       "        city  \n",
       "0  Краснодар  \n",
       "1  Краснодар  \n",
       "2  Краснодар  \n",
       "3  Краснодар  \n",
       "4  Краснодар  "
      ]
     },
     "execution_count": 35,
     "metadata": {},
     "output_type": "execute_result"
    }
   ],
   "source": [
    "users_final_cost.head()"
   ]
  },
  {
   "cell_type": "markdown",
   "id": "ed07c09d",
   "metadata": {},
   "source": [
    "Проверим, не попали ли в список те пользователи, которые уже расторгли контракт с оператором. \n",
    "Для этого сделаем таблицу **data_users_churn**, куда попадут пользователи с проставленной датой расторжения контракта - таких 38.\n",
    "Затем уберем тех пользователей, у которых нулевая активность и проставлена дата расторжения контракта. Таких пользователей нет, значит, оставляем таблицу **users_final_cost** без изменений. "
   ]
  },
  {
   "cell_type": "code",
   "execution_count": 36,
   "id": "c658cdd0",
   "metadata": {},
   "outputs": [
    {
     "data": {
      "text/plain": [
       "38"
      ]
     },
     "execution_count": 36,
     "metadata": {},
     "output_type": "execute_result"
    }
   ],
   "source": [
    "data_users_churn = data_users.query('churn_date == churn_date')\n",
    "len(data_users_churn)"
   ]
  },
  {
   "cell_type": "code",
   "execution_count": 37,
   "id": "ac789082",
   "metadata": {
    "scrolled": true
   },
   "outputs": [
    {
     "data": {
      "text/html": [
       "<div>\n",
       "<style scoped>\n",
       "    .dataframe tbody tr th:only-of-type {\n",
       "        vertical-align: middle;\n",
       "    }\n",
       "\n",
       "    .dataframe tbody tr th {\n",
       "        vertical-align: top;\n",
       "    }\n",
       "\n",
       "    .dataframe thead th {\n",
       "        text-align: right;\n",
       "    }\n",
       "</style>\n",
       "<table border=\"1\" class=\"dataframe\">\n",
       "  <thead>\n",
       "    <tr style=\"text-align: right;\">\n",
       "      <th></th>\n",
       "      <th>user_id</th>\n",
       "      <th>month</th>\n",
       "      <th>calls</th>\n",
       "      <th>internet</th>\n",
       "      <th>messages</th>\n",
       "      <th>final_cost</th>\n",
       "      <th>tariff_name</th>\n",
       "      <th>age</th>\n",
       "      <th>city</th>\n",
       "    </tr>\n",
       "  </thead>\n",
       "  <tbody>\n",
       "  </tbody>\n",
       "</table>\n",
       "</div>"
      ],
      "text/plain": [
       "Empty DataFrame\n",
       "Columns: [user_id, month, calls, internet, messages, final_cost, tariff_name, age, city]\n",
       "Index: []"
      ]
     },
     "execution_count": 37,
     "metadata": {},
     "output_type": "execute_result"
    }
   ],
   "source": [
    "users_final_cost.query('user_id in @data_users_churn.user_id and (calls == internet == messages)')"
   ]
  },
  {
   "cell_type": "markdown",
   "id": "6c7994c2",
   "metadata": {},
   "source": [
    "Проверим, сколько пользователей не попало в нашу таблицу. Найдем количество пользователей до объединения таблиц и после. Видим, что у нас \"выпало\" 2 пользователя. Если мы сделаем запрос по таблице пользователей, то найдем пользователей, которые не попали в объединенную таблицу. Как видно, эти абоненты не пользовались услугами связи, поэтому и не попали в сводную таблицу (а в конце 2018 г. контракт и вовсе был расторгнут)"
   ]
  },
  {
   "cell_type": "code",
   "execution_count": 39,
   "id": "31595b20",
   "metadata": {
    "scrolled": true
   },
   "outputs": [
    {
     "name": "stdout",
     "output_type": "stream",
     "text": [
      "500\n"
     ]
    }
   ],
   "source": [
    "len(data_users.groupby('user_id'))"
   ]
  },
  {
   "cell_type": "code",
   "execution_count": 40,
   "id": "2e711e2c",
   "metadata": {},
   "outputs": [
    {
     "data": {
      "text/plain": [
       "498"
      ]
     },
     "execution_count": 40,
     "metadata": {},
     "output_type": "execute_result"
    }
   ],
   "source": [
    "len(users_final_cost.groupby('user_id'))"
   ]
  },
  {
   "cell_type": "code",
   "execution_count": 41,
   "id": "e69c41d2",
   "metadata": {
    "scrolled": true
   },
   "outputs": [
    {
     "data": {
      "text/html": [
       "<div>\n",
       "<style scoped>\n",
       "    .dataframe tbody tr th:only-of-type {\n",
       "        vertical-align: middle;\n",
       "    }\n",
       "\n",
       "    .dataframe tbody tr th {\n",
       "        vertical-align: top;\n",
       "    }\n",
       "\n",
       "    .dataframe thead th {\n",
       "        text-align: right;\n",
       "    }\n",
       "</style>\n",
       "<table border=\"1\" class=\"dataframe\">\n",
       "  <thead>\n",
       "    <tr style=\"text-align: right;\">\n",
       "      <th></th>\n",
       "      <th>user_id</th>\n",
       "      <th>age</th>\n",
       "      <th>churn_date</th>\n",
       "      <th>city</th>\n",
       "      <th>first_name</th>\n",
       "      <th>last_name</th>\n",
       "      <th>reg_date</th>\n",
       "      <th>tariff</th>\n",
       "    </tr>\n",
       "  </thead>\n",
       "  <tbody>\n",
       "    <tr>\n",
       "      <th>128</th>\n",
       "      <td>1128</td>\n",
       "      <td>51</td>\n",
       "      <td>2018-12-23</td>\n",
       "      <td>Волжский</td>\n",
       "      <td>Ксения</td>\n",
       "      <td>Агаева</td>\n",
       "      <td>2018-12-15</td>\n",
       "      <td>ultra</td>\n",
       "    </tr>\n",
       "    <tr>\n",
       "      <th>371</th>\n",
       "      <td>1371</td>\n",
       "      <td>50</td>\n",
       "      <td>2018-12-30</td>\n",
       "      <td>Омск</td>\n",
       "      <td>Ириней</td>\n",
       "      <td>Трофимов</td>\n",
       "      <td>2018-12-25</td>\n",
       "      <td>smart</td>\n",
       "    </tr>\n",
       "  </tbody>\n",
       "</table>\n",
       "</div>"
      ],
      "text/plain": [
       "     user_id  age churn_date      city first_name last_name   reg_date tariff\n",
       "128     1128   51 2018-12-23  Волжский     Ксения    Агаева 2018-12-15  ultra\n",
       "371     1371   50 2018-12-30      Омск     Ириней  Трофимов 2018-12-25  smart"
      ]
     },
     "execution_count": 41,
     "metadata": {},
     "output_type": "execute_result"
    }
   ],
   "source": [
    "data_users.query('user_id not in @users_final_cost.user_id')"
   ]
  },
  {
   "cell_type": "code",
   "execution_count": 42,
   "id": "42b50380",
   "metadata": {},
   "outputs": [
    {
     "data": {
      "text/html": [
       "<div>\n",
       "<style scoped>\n",
       "    .dataframe tbody tr th:only-of-type {\n",
       "        vertical-align: middle;\n",
       "    }\n",
       "\n",
       "    .dataframe tbody tr th {\n",
       "        vertical-align: top;\n",
       "    }\n",
       "\n",
       "    .dataframe thead th {\n",
       "        text-align: right;\n",
       "    }\n",
       "</style>\n",
       "<table border=\"1\" class=\"dataframe\">\n",
       "  <thead>\n",
       "    <tr style=\"text-align: right;\">\n",
       "      <th></th>\n",
       "      <th>user_id</th>\n",
       "      <th>month</th>\n",
       "      <th>duration</th>\n",
       "    </tr>\n",
       "  </thead>\n",
       "  <tbody>\n",
       "  </tbody>\n",
       "</table>\n",
       "</div>"
      ],
      "text/plain": [
       "Empty DataFrame\n",
       "Columns: [user_id, month, duration]\n",
       "Index: []"
      ]
     },
     "execution_count": 42,
     "metadata": {},
     "output_type": "execute_result"
    }
   ],
   "source": [
    "calls_pivot.query('user_id not in @users_final_cost.user_id')"
   ]
  },
  {
   "cell_type": "code",
   "execution_count": 43,
   "id": "45e4ee0c",
   "metadata": {},
   "outputs": [
    {
     "data": {
      "text/html": [
       "<div>\n",
       "<style scoped>\n",
       "    .dataframe tbody tr th:only-of-type {\n",
       "        vertical-align: middle;\n",
       "    }\n",
       "\n",
       "    .dataframe tbody tr th {\n",
       "        vertical-align: top;\n",
       "    }\n",
       "\n",
       "    .dataframe thead th {\n",
       "        text-align: right;\n",
       "    }\n",
       "</style>\n",
       "<table border=\"1\" class=\"dataframe\">\n",
       "  <thead>\n",
       "    <tr style=\"text-align: right;\">\n",
       "      <th></th>\n",
       "      <th>user_id</th>\n",
       "      <th>month</th>\n",
       "      <th>mb_used</th>\n",
       "    </tr>\n",
       "  </thead>\n",
       "  <tbody>\n",
       "  </tbody>\n",
       "</table>\n",
       "</div>"
      ],
      "text/plain": [
       "Empty DataFrame\n",
       "Columns: [user_id, month, mb_used]\n",
       "Index: []"
      ]
     },
     "execution_count": 43,
     "metadata": {},
     "output_type": "execute_result"
    }
   ],
   "source": [
    "internet_pivot.query('user_id not in @users_final_cost.user_id')"
   ]
  },
  {
   "cell_type": "code",
   "execution_count": 45,
   "id": "e903b19c",
   "metadata": {},
   "outputs": [
    {
     "data": {
      "text/html": [
       "<div>\n",
       "<style scoped>\n",
       "    .dataframe tbody tr th:only-of-type {\n",
       "        vertical-align: middle;\n",
       "    }\n",
       "\n",
       "    .dataframe tbody tr th {\n",
       "        vertical-align: top;\n",
       "    }\n",
       "\n",
       "    .dataframe thead th {\n",
       "        text-align: right;\n",
       "    }\n",
       "</style>\n",
       "<table border=\"1\" class=\"dataframe\">\n",
       "  <thead>\n",
       "    <tr style=\"text-align: right;\">\n",
       "      <th></th>\n",
       "      <th>user_id</th>\n",
       "      <th>month</th>\n",
       "      <th>id</th>\n",
       "    </tr>\n",
       "  </thead>\n",
       "  <tbody>\n",
       "  </tbody>\n",
       "</table>\n",
       "</div>"
      ],
      "text/plain": [
       "Empty DataFrame\n",
       "Columns: [user_id, month, id]\n",
       "Index: []"
      ]
     },
     "execution_count": 45,
     "metadata": {},
     "output_type": "execute_result"
    }
   ],
   "source": [
    "messages_pivot.query('user_id not in @users_final_cost.user_id')"
   ]
  },
  {
   "cell_type": "markdown",
   "id": "cd429f5b",
   "metadata": {},
   "source": [
    "**Вывод по блоку:** \n",
    "\n",
    "В процессе подготовки данных были проведены преобразования над входящими датафреймами, такие как: \n",
    "- изменение типов данных;\n",
    "- объединение даных в сводные таблицы;\n",
    "- создание новых столбцов с данными, полученными в результате вычислений. \n",
    "\n",
    "Итоговая таблица готова к анализу и нахождению закономерностей."
   ]
  },
  {
   "cell_type": "markdown",
   "id": "2ae3d5fe",
   "metadata": {},
   "source": [
    "# 3.Анализ полученных данных.\n",
    "\n",
    "Создадим сводную таблицу и проанализируем основные показатели по пользователям каждого тарифа. \n",
    "Видно, что больше всего тратят на услуги связи пользователи тарифа **ultra** (в среднем, разница с тарифом **smart** -более чем 1,5 раза, 2070.15 руб/1289.97 руб.) \n",
    "В среднем тратят:\n",
    "\n",
    "**По тарифу smart:**\n",
    "- 418 мин. звонков, 16.33 Гб. интернета, 33 сообщений в месяц со средней оплатой 1289.97 руб. в месяц.\n",
    "\n",
    "**По тарифу ultra:**\n",
    "- 527 мин. звонков, 19.49 Гб. интернета, 49 сообщений в месяц со средней оплатой 2070.15  руб. в месяц.\n",
    "\n",
    "Видно, что в среднем пользователи тарифа **smart** превышают заложенный в тариф объем услуг связи по параметру \"интернет\", что отражается на средней оплате за месяц. Пользователи тарифа **ultra** в среднем вписываются в существующий лимит."
   ]
  },
  {
   "cell_type": "code",
   "execution_count": 46,
   "id": "25de740e",
   "metadata": {},
   "outputs": [
    {
     "data": {
      "text/html": [
       "<div>\n",
       "<style scoped>\n",
       "    .dataframe tbody tr th:only-of-type {\n",
       "        vertical-align: middle;\n",
       "    }\n",
       "\n",
       "    .dataframe tbody tr th {\n",
       "        vertical-align: top;\n",
       "    }\n",
       "\n",
       "    .dataframe thead th {\n",
       "        text-align: right;\n",
       "    }\n",
       "</style>\n",
       "<table border=\"1\" class=\"dataframe\">\n",
       "  <thead>\n",
       "    <tr style=\"text-align: right;\">\n",
       "      <th></th>\n",
       "      <th>calls</th>\n",
       "      <th>final_cost</th>\n",
       "      <th>internet</th>\n",
       "      <th>messages</th>\n",
       "    </tr>\n",
       "    <tr>\n",
       "      <th>tariff_name</th>\n",
       "      <th></th>\n",
       "      <th></th>\n",
       "      <th></th>\n",
       "      <th></th>\n",
       "    </tr>\n",
       "  </thead>\n",
       "  <tbody>\n",
       "    <tr>\n",
       "      <th>smart</th>\n",
       "      <td>417.93</td>\n",
       "      <td>1289.97</td>\n",
       "      <td>16.33</td>\n",
       "      <td>33.38</td>\n",
       "    </tr>\n",
       "    <tr>\n",
       "      <th>ultra</th>\n",
       "      <td>526.62</td>\n",
       "      <td>2070.15</td>\n",
       "      <td>19.49</td>\n",
       "      <td>49.36</td>\n",
       "    </tr>\n",
       "  </tbody>\n",
       "</table>\n",
       "</div>"
      ],
      "text/plain": [
       "              calls  final_cost  internet  messages\n",
       "tariff_name                                        \n",
       "smart        417.93     1289.97     16.33     33.38\n",
       "ultra        526.62     2070.15     19.49     49.36"
      ]
     },
     "execution_count": 46,
     "metadata": {},
     "output_type": "execute_result"
    }
   ],
   "source": [
    "round(users_final_cost.pivot_table(index = ['tariff_name'], values = ['calls', 'internet', 'messages','final_cost']), 2)"
   ]
  },
  {
   "cell_type": "markdown",
   "id": "7c0ad1bf",
   "metadata": {},
   "source": [
    "## 3.1. Анализ потраченных минут за месяц"
   ]
  },
  {
   "cell_type": "markdown",
   "id": "287ddfb0",
   "metadata": {},
   "source": [
    "Построим гистограммы количества потраченных минут в месяц по каждому тарифу. Тариф **smart** отображается голубым цветом, а тариф **ultra** - оранжевым. \n",
    "\n",
    "По гистограмме видно, что: \n",
    "\n",
    "Тариф **smart**:\n",
    "- Больше всего пользователей тратят от 380 до 580 минут в месяц (пиковое значение- от 380 до 480 мин).\n",
    "- Достаточно большое количество пользователей тратят от 0 до 380 мин. \n",
    "- Меньшее количество абонентов тратит от 580 до 760 мин.\n",
    "- Единичные пользователи трятят от 760 до 1050 мин. \n",
    "\n",
    "Тариф **ultra**:\n",
    "- Большая часть абонентов тратит от 0 до 880 мин. разговоров в месяц - гистограмма довольно равномерная, с небольшим провалос в диапазоне 100-220 мин, и небольшим пиком в районе 500 мин. \n",
    "- Далее количество звонков идет на спад до 1500-1600 мин. (с единичными значениями в районе 1600 мин.)"
   ]
  },
  {
   "cell_type": "code",
   "execution_count": 89,
   "id": "0957d2e2",
   "metadata": {},
   "outputs": [
    {
     "data": {
      "text/plain": [
       "<matplotlib.legend.Legend at 0x7fe94c301eb0>"
      ]
     },
     "execution_count": 89,
     "metadata": {},
     "output_type": "execute_result"
    },
    {
     "data": {
      "image/png": "[encoded data removed]",
      "text/plain": [
       "<Figure size 504x360 with 1 Axes>"
      ]
     },
     "metadata": {
      "needs_background": "light"
     },
     "output_type": "display_data"
    }
   ],
   "source": [
    "users_final_cost.query('tariff_name == \"smart\"')['calls'].hist(bins = 15, alpha = 0.5, figsize = (7, 5))\n",
    "users_final_cost.query('tariff_name == \"ultra\"')['calls'].hist(bins = 15, alpha = 0.7, figsize = (7, 5))\n",
    "plt.legend(['Smart', 'Ultra'])"
   ]
  },
  {
   "cell_type": "markdown",
   "id": "de543230",
   "metadata": {},
   "source": [
    "Т.к. в дальнейшем мы будем находить дисперсию и стандартное отклонение, на которое большое влияние оказывают выбросы, я предлагаю убрать единичные значения, так мы сможем точнее рассчитать дисперсию. Найдем длину исходного датафрейма и сравним с длиной запроса по фильтру:"
   ]
  },
  {
   "cell_type": "code",
   "execution_count": 48,
   "id": "c00cd14a",
   "metadata": {},
   "outputs": [
    {
     "data": {
      "text/plain": [
       "3214"
      ]
     },
     "execution_count": 48,
     "metadata": {},
     "output_type": "execute_result"
    }
   ],
   "source": [
    "len(users_final_cost) #длина исходного датафрейма"
   ]
  },
  {
   "cell_type": "code",
   "execution_count": 49,
   "id": "b0c0fb5f",
   "metadata": {
    "scrolled": false
   },
   "outputs": [
    {
     "data": {
      "text/plain": [
       "66"
      ]
     },
     "execution_count": 49,
     "metadata": {},
     "output_type": "execute_result"
    }
   ],
   "source": [
    "len(users_final_cost.query('(tariff_name == \"smart\" and calls > 825) or (tariff_name == \"ultra\" and calls > 1200)'))"
   ]
  },
  {
   "cell_type": "markdown",
   "id": "76c66097",
   "metadata": {},
   "source": [
    "Видно, что отсортированные значения составляют около 2% датафрейма. Удалим их, чтобы они не мешали нашей выборке."
   ]
  },
  {
   "cell_type": "code",
   "execution_count": 50,
   "id": "f7681a7f",
   "metadata": {},
   "outputs": [
    {
     "data": {
      "text/plain": [
       "3176"
      ]
     },
     "execution_count": 50,
     "metadata": {},
     "output_type": "execute_result"
    }
   ],
   "source": [
    "users_final_cost = users_final_cost.query('not(tariff_name == \"smart\" and calls > 825) or (tariff_name == \"ultra\" and calls > 1200)')\n",
    "len(users_final_cost)"
   ]
  },
  {
   "cell_type": "markdown",
   "id": "82ca3137",
   "metadata": {},
   "source": [
    "## 3.2. Анализ потраченного траффика за месяц\n",
    "\n",
    "По аналогии с предыдущим шагом сделаем гистограммы потраченного траффика на разных тарифах. "
   ]
  },
  {
   "cell_type": "code",
   "execution_count": 90,
   "id": "69adb5e5",
   "metadata": {},
   "outputs": [
    {
     "data": {
      "text/plain": [
       "<matplotlib.legend.Legend at 0x7fe94b33b430>"
      ]
     },
     "execution_count": 90,
     "metadata": {},
     "output_type": "execute_result"
    },
    {
     "data": {
      "image/png": "[encoded data removed]",
      "text/plain": [
       "<Figure size 504x360 with 1 Axes>"
      ]
     },
     "metadata": {
      "needs_background": "light"
     },
     "output_type": "display_data"
    }
   ],
   "source": [
    "users_final_cost.query('tariff_name == \"smart\"')['internet'].hist(bins = 15, alpha = 0.5, figsize = (7, 5))\n",
    "users_final_cost.query('tariff_name == \"ultra\"')['internet'].hist(bins = 15, alpha = 0.7, figsize = (7, 5))\n",
    "plt.legend(['Smart', 'Ultra'])"
   ]
  },
  {
   "cell_type": "markdown",
   "id": "08c4f6df",
   "metadata": {},
   "source": [
    "Видно, что пользователи тарифа **smart** крайне неоднородно потребляют траффик - пиковое потребление находится на границе 15 гб, включенных в тариф. Немалая часть пользователей тратит от 10 до 15 Гб и также входит в предел потребления. Однако есть большая группа пользователей, потребляющих интернет больше, чем заложено в тариф- от 15 до 22 Гб. Свыше 27 Гб тратят уже единичные абоненты. \n",
    "\n",
    "У пользователей тарифа **ultra** гистограмма распределния схожа с гистограммой расходования минут. Большая часть абонентов тратит не более положенных 30 Гб в месяц, причем гистограмма довольна равномерна по своим значениям на диапазоне от 10 до 30 Гб. Далее гистограмма идет на спад, однако присутствует группа абонентов, которая тратит от 30 до 40 Гб в месяц. Меньше 40 Гб- единичные значения. \n",
    "Также уберем из анализа единичные значения траффика, которых здесь около 1%. "
   ]
  },
  {
   "cell_type": "code",
   "execution_count": 52,
   "id": "d213169d",
   "metadata": {
    "scrolled": true
   },
   "outputs": [
    {
     "name": "stdout",
     "output_type": "stream",
     "text": [
      "37\n"
     ]
    }
   ],
   "source": [
    "print(len(users_final_cost.query(\n",
    "    '(tariff_name == \"smart\" and internet > 30) or (tariff_name == \"ultra\" and internet > 40)')))\n",
    "users_final_cost = users_final_cost.query(\n",
    "    'not(tariff_name == \"smart\" and internet > 30) or (tariff_name == \"ultra\" and internet > 40)')"
   ]
  },
  {
   "cell_type": "markdown",
   "id": "9bc91663",
   "metadata": {},
   "source": [
    "## 3.3. Анализ отправки сообщений\n",
    "\n",
    "Построим гистограммы, отображающие, сколько сообщений отправили абоненты в месяц. "
   ]
  },
  {
   "cell_type": "code",
   "execution_count": 91,
   "id": "836659c4",
   "metadata": {},
   "outputs": [
    {
     "data": {
      "text/plain": [
       "<matplotlib.legend.Legend at 0x7fe94c2cafd0>"
      ]
     },
     "execution_count": 91,
     "metadata": {},
     "output_type": "execute_result"
    },
    {
     "data": {
      "image/png": "[encoded data removed]",
      "text/plain": [
       "<Figure size 504x360 with 1 Axes>"
      ]
     },
     "metadata": {
      "needs_background": "light"
     },
     "output_type": "display_data"
    }
   ],
   "source": [
    "users_final_cost.query('tariff_name == \"smart\"')['messages'].hist(bins = 15, alpha = 0.5, figsize = (7, 5))\n",
    "users_final_cost.query('tariff_name == \"ultra\"')['messages'].hist(bins = 15, alpha = 0.7, figsize = (7, 5))\n",
    "plt.legend(['Smart', 'Ultra'])"
   ]
  },
  {
   "cell_type": "markdown",
   "id": "2ab06d1e",
   "metadata": {},
   "source": [
    "Т.к. сейчас сервис отправки сообщений изживает себя и заменяется интернет-мессенджерами, гистограмма четко показывает, что большая группа абонентов обоих тарифов отправляет не более 10 сообщений в месяц. Большая часть абонентов тарифа **smart** вписывается в порог 50 сообщений в месяц, меньшая группа тратит от 50 до 100 сообщений в месяц. \n",
    "\n",
    "Все абоненты тарифа **ultra** вписываются в порог тарифа- 1000 сообщений в месяц, здесь также большая часть абонентов тратит от 0 до 50 сообщений в месяц, меньшая- от 50 до 150 сообщений. Единичные пользователи тратят от 150 до 220 сообщений в месяц. \n",
    "\n",
    "Здесь также уберем единичные значения для уменьшения влияния на дисперсию. \n",
    "Затем найдем длину получившегося датафрейма и видим, что количество строк уменьшилось по сравнению с началом анализа всего на 3%, что является допустимым. "
   ]
  },
  {
   "cell_type": "code",
   "execution_count": 54,
   "id": "b874c53e",
   "metadata": {},
   "outputs": [
    {
     "name": "stdout",
     "output_type": "stream",
     "text": [
      "58\n"
     ]
    },
    {
     "data": {
      "text/plain": [
       "3143"
      ]
     },
     "execution_count": 54,
     "metadata": {},
     "output_type": "execute_result"
    }
   ],
   "source": [
    "print(len(users_final_cost.query(\n",
    "    '(tariff_name == \"smart\" and messages > 110) or (tariff_name == \"ultra\" and messages > 150)')))\n",
    "users_final_cost = users_final_cost.query(\n",
    "    'not(tariff_name == \"smart\" and messages > 110) or (tariff_name == \"ultra\" and messages > 150)')\n",
    "len(users_final_cost)"
   ]
  },
  {
   "cell_type": "markdown",
   "id": "b5377bea",
   "metadata": {},
   "source": [
    "## 3.4. Анализ ежемесячной оплаты\n",
    "Построим гистограмму по размеру ежемесячных расходов абонентов. "
   ]
  },
  {
   "cell_type": "code",
   "execution_count": 92,
   "id": "528e75b5",
   "metadata": {
    "scrolled": true
   },
   "outputs": [
    {
     "data": {
      "text/plain": [
       "<matplotlib.legend.Legend at 0x7fe94b2550d0>"
      ]
     },
     "execution_count": 92,
     "metadata": {},
     "output_type": "execute_result"
    },
    {
     "data": {
      "image/png": "[encoded data removed]",
      "text/plain": [
       "<Figure size 504x360 with 1 Axes>"
      ]
     },
     "metadata": {
      "needs_background": "light"
     },
     "output_type": "display_data"
    }
   ],
   "source": [
    "users_final_cost.query('tariff_name == \"smart\"')['final_cost'].hist(bins = 15, alpha = 0.5, figsize = (7, 5))\n",
    "users_final_cost.query('tariff_name == \"ultra\"')['final_cost'].hist(bins = 15, alpha = 0.7, figsize = (7, 5))\n",
    "plt.legend(['Smart', 'Ultra'])"
   ]
  },
  {
   "cell_type": "markdown",
   "id": "5b203be4",
   "metadata": {},
   "source": [
    "По гистограмме видно, что пиковые значения оплат находятся на уровне значений стоимости тарифа, однако видна следующая особенность: практически все пользователи тарифа **ultra** платят либо фиксированную стоимость, либо незначительно ее превышают, тогда как ориентировочно больше половины пользователей тарифа **smart** не вписываются в ежемесячную стоимость. \n",
    "Проверим эту гипотезу далее, после нахождения статистических показателей. "
   ]
  },
  {
   "cell_type": "markdown",
   "id": "b07e90ae",
   "metadata": {},
   "source": [
    "## 3.5. Подсчет среднего количества, дисперсии и стандартного отклонения"
   ]
  },
  {
   "cell_type": "markdown",
   "id": "240522dd",
   "metadata": {},
   "source": [
    "Рассчитаем значение среднего, дисперсии и стандартного отклонения для каждого из параметров, а также построим график нормального распределения. Здесь мы будем пользоваться именно нормальным распределением, т.к.:\n",
    "- данная ситуация не попадает к биномиальному распределению - мы рассматриваем непрерывные величины, а не дискретные;\n",
    "- при большой выборке любое распределение стремится к нормальному. \n",
    "\n",
    "Т.к. в нашем распоряжении вся генеральная совокупность, будет пользоваться формулами расчета именно для нее. \n",
    "Здесь и далее:\n",
    "- `mean_` - среднее значение\n",
    "- `disp_` - дисперсия\n",
    "- `std_`- стандартное отклонение"
   ]
  },
  {
   "cell_type": "markdown",
   "id": "f8d50856",
   "metadata": {},
   "source": [
    "### 3.5.1 Статистические значения звонков для тарифов smart и ultra"
   ]
  },
  {
   "cell_type": "markdown",
   "id": "068a4f42",
   "metadata": {},
   "source": [
    "При помощи библиотеки `numpy` найдем значения среднего, дисперсии и стандартного отклонения для тарифа **smart**, а также зададим нормальное распределение:"
   ]
  },
  {
   "cell_type": "code",
   "execution_count": 56,
   "id": "68a166f4",
   "metadata": {},
   "outputs": [
    {
     "name": "stdout",
     "output_type": "stream",
     "text": [
      "407.16\n",
      "31938.75\n"
     ]
    },
    {
     "data": {
      "text/plain": [
       "178.71"
      ]
     },
     "execution_count": 56,
     "metadata": {},
     "output_type": "execute_result"
    }
   ],
   "source": [
    "mean_smart_calls = round((users_final_cost.query('tariff_name == \"smart\"')['calls']).mean(), 2)\n",
    "disp_smart_calls = round((np.var(users_final_cost.query('tariff_name == \"smart\"')['calls'])), 2)\n",
    "std_smart_calls = round((np.std(users_final_cost.query('tariff_name == \"smart\"')['calls'])), 2)\n",
    "smart_calls = st.norm(mean_smart_calls, std_smart_calls)\n",
    "\n",
    "print(mean_smart_calls)\n",
    "print(disp_smart_calls)\n",
    "std_smart_calls"
   ]
  },
  {
   "cell_type": "code",
   "execution_count": 57,
   "id": "8304268e",
   "metadata": {},
   "outputs": [
    {
     "data": {
      "image/png": "[encoded data removed]",
      "text/plain": [
       "<Figure size 432x288 with 1 Axes>"
      ]
     },
     "metadata": {
      "needs_background": "light"
     },
     "output_type": "display_data"
    }
   ],
   "source": [
    "x = np.linspace(-100, 1000, 100)\n",
    "\n",
    "plt.plot(x, norm.pdf(x, loc=mean_smart_calls, scale=std_smart_calls))\n",
    "plt.xlabel('Количество звонков', fontsize=12)\n",
    "plt.ylabel('Плотность вероятности', fontsize=12)\n",
    "plt.show()      "
   ]
  },
  {
   "cell_type": "markdown",
   "id": "9df48c41",
   "metadata": {},
   "source": [
    "Видно, что стандартное отклонение довольно большое (ок. 40% от среднего), что указывает на большой разброс данных. "
   ]
  },
  {
   "cell_type": "markdown",
   "id": "080ab6ab",
   "metadata": {},
   "source": [
    "Найдем эти же значения по столбцу **calls** для тарифа **ultra**:"
   ]
  },
  {
   "cell_type": "code",
   "execution_count": 58,
   "id": "8a669e82",
   "metadata": {},
   "outputs": [
    {
     "name": "stdout",
     "output_type": "stream",
     "text": [
      "526.62\n",
      "100771.22\n"
     ]
    },
    {
     "data": {
      "text/plain": [
       "317.44"
      ]
     },
     "execution_count": 58,
     "metadata": {},
     "output_type": "execute_result"
    }
   ],
   "source": [
    "mean_ultra_calls = round((users_final_cost.query('tariff_name == \"ultra\"')['calls']).mean(), 2)\n",
    "disp_ultra_calls = round((np.var(users_final_cost.query('tariff_name == \"ultra\"')['calls'])), 2)\n",
    "std_ultra_calls = round((np.std(users_final_cost.query('tariff_name == \"ultra\"')['calls'])), 2)\n",
    "ultra_calls = st.norm(mean_ultra_calls, std_ultra_calls)\n",
    "\n",
    "print(mean_ultra_calls)\n",
    "print(disp_ultra_calls)\n",
    "std_ultra_calls"
   ]
  },
  {
   "cell_type": "code",
   "execution_count": 59,
   "id": "ac5427ac",
   "metadata": {},
   "outputs": [
    {
     "data": {
      "image/png": "[encoded data removed]",
      "text/plain": [
       "<Figure size 432x288 with 1 Axes>"
      ]
     },
     "metadata": {
      "needs_background": "light"
     },
     "output_type": "display_data"
    }
   ],
   "source": [
    "y = np.linspace(-200, 1500, 100)\n",
    "\n",
    "plt.plot(y, norm.pdf(y, loc=mean_ultra_calls, scale=std_ultra_calls))\n",
    "plt.xlabel('Количество звонков', fontsize=12)\n",
    "plt.ylabel('Плотность вероятности', fontsize=12)\n",
    "plt.show()     "
   ]
  },
  {
   "cell_type": "markdown",
   "id": "5c0811e4",
   "metadata": {},
   "source": [
    "Видно, что среднее количество потраченных минут, как и стандартное отклонение по тарифу **ultra** выше, чем по тарифу  **smart**, что указывает на больший раброс потраченных минут. Если мы посмотрим на ось ординат, то увидим, что график плотности распределния минут на тарифе **ultra** имеет пик ниже, чем на тарифе **smart** и более распластан по оси абсцисс. Это обуславливается бОльшим отклонением на тарифе **ultra** и, соответственно, увеличением интервала нахождения результатов. "
   ]
  },
  {
   "cell_type": "markdown",
   "id": "a57b8e51",
   "metadata": {},
   "source": [
    "Найдем вероятность попадания количества звонков в отведенное тарифом количество минут.\n",
    "Видим, что для тарифа **smart** эта вероятность равна 70%, для тарифа **ultra** (для существующей генеральной совокупности)- 100%."
   ]
  },
  {
   "cell_type": "code",
   "execution_count": 60,
   "id": "4759f4da",
   "metadata": {},
   "outputs": [
    {
     "data": {
      "text/plain": [
       "0.7"
      ]
     },
     "execution_count": 60,
     "metadata": {},
     "output_type": "execute_result"
    }
   ],
   "source": [
    "prob_smart_calls = round(smart_calls.cdf(500), 2) #smart\n",
    "prob_smart_calls"
   ]
  },
  {
   "cell_type": "code",
   "execution_count": 61,
   "id": "4b4f4439",
   "metadata": {},
   "outputs": [
    {
     "data": {
      "text/plain": [
       "1.0"
      ]
     },
     "execution_count": 61,
     "metadata": {},
     "output_type": "execute_result"
    }
   ],
   "source": [
    "prob_ultra_calls = round(ultra_calls.cdf(3000), 2)  #ultra\n",
    "prob_ultra_calls"
   ]
  },
  {
   "cell_type": "markdown",
   "id": "b097c9f3",
   "metadata": {},
   "source": [
    "### 3.5.2 Статистические значения трафика для тарифов smart и ultra\n",
    "По порядку, расписанному в предыдущем пункте, найдем статистические показатели потребления траффика для абонентов тарифов **smart** и **ultra**. \n",
    "Начнем с тарифа **smart**:"
   ]
  },
  {
   "cell_type": "code",
   "execution_count": 62,
   "id": "f9905d19",
   "metadata": {},
   "outputs": [
    {
     "name": "stdout",
     "output_type": "stream",
     "text": [
      "16.13\n",
      "30.76\n"
     ]
    },
    {
     "data": {
      "text/plain": [
       "5.55"
      ]
     },
     "execution_count": 62,
     "metadata": {},
     "output_type": "execute_result"
    }
   ],
   "source": [
    "mean_smart_internet = round((users_final_cost.query('tariff_name == \"smart\"')['internet']).mean(), 2)\n",
    "disp_smart_internet = round((np.var(users_final_cost.query('tariff_name == \"smart\"')['internet'])), 2)\n",
    "std_smart_internet = round((np.std(users_final_cost.query('tariff_name == \"smart\"')['internet'])), 2)\n",
    "smart_internet = st.norm(mean_smart_internet, std_smart_internet)\n",
    "\n",
    "print(mean_smart_internet)\n",
    "print(disp_smart_internet)\n",
    "std_smart_internet"
   ]
  },
  {
   "cell_type": "code",
   "execution_count": 63,
   "id": "c6a0b744",
   "metadata": {},
   "outputs": [
    {
     "data": {
      "image/png": "[encoded data removed]",
      "text/plain": [
       "<Figure size 432x288 with 1 Axes>"
      ]
     },
     "metadata": {
      "needs_background": "light"
     },
     "output_type": "display_data"
    }
   ],
   "source": [
    "a = np.linspace(-5, 40, 50)\n",
    "\n",
    "plt.plot(a, norm.pdf(a, loc=mean_smart_internet, scale=std_smart_internet))\n",
    "plt.xlabel('Потребление траффика', fontsize=12)\n",
    "plt.ylabel('Плотность вероятности', fontsize=12)\n",
    "plt.show()"
   ]
  },
  {
   "cell_type": "markdown",
   "id": "a481f639",
   "metadata": {},
   "source": [
    "И найдем те же самые параметры для тарифа **ultra** по столбцу **internet**:"
   ]
  },
  {
   "cell_type": "code",
   "execution_count": 64,
   "id": "0b4ec544",
   "metadata": {},
   "outputs": [
    {
     "name": "stdout",
     "output_type": "stream",
     "text": [
      "19.49\n",
      "96.99\n"
     ]
    },
    {
     "data": {
      "text/plain": [
       "9.85"
      ]
     },
     "execution_count": 64,
     "metadata": {},
     "output_type": "execute_result"
    }
   ],
   "source": [
    "mean_ultra_internet = round((users_final_cost.query('tariff_name == \"ultra\"')['internet']).mean(), 2)\n",
    "disp_ultra_internet = round((np.var(users_final_cost.query('tariff_name == \"ultra\"')['internet'])), 2)\n",
    "std_ultra_internet = round((np.std(users_final_cost.query('tariff_name == \"ultra\"')['internet'])), 2)\n",
    "ultra_internet = st.norm(mean_ultra_internet, std_ultra_internet)\n",
    "\n",
    "print(mean_ultra_internet)\n",
    "print(disp_ultra_internet)\n",
    "std_ultra_internet"
   ]
  },
  {
   "cell_type": "code",
   "execution_count": 65,
   "id": "f77ef8dd",
   "metadata": {},
   "outputs": [
    {
     "data": {
      "image/png": "[encoded data removed]",
      "text/plain": [
       "<Figure size 432x288 with 1 Axes>"
      ]
     },
     "metadata": {
      "needs_background": "light"
     },
     "output_type": "display_data"
    }
   ],
   "source": [
    "b = np.linspace(-10, 50, 50)\n",
    "\n",
    "plt.plot(b, norm.pdf(b, loc=mean_ultra_internet, scale=std_ultra_internet))\n",
    "plt.xlabel('Потребление траффика', fontsize=12)\n",
    "plt.ylabel('Плотность вероятности', fontsize=12)\n",
    "plt.show()"
   ]
  },
  {
   "cell_type": "markdown",
   "id": "09bb72b9",
   "metadata": {},
   "source": [
    "При анализе трафика подтверждаются выводы, полученные по гистограмме: \n",
    "- Разница в средних значениях по тарифам **smart** и **ultra** не так велика (`16.13/19.49`, т.е. около 20%), однако стандартное отклонение имеет разницу почти в 50% (`5.55\\9.85`), что опять же указывает на уплощенность распределения потребления трафика по тарифу **ultra** и большую разбросанность значений, нежели по тарифу **smart**. \n",
    "- Пики на графике соответствуют пикам потребления на гистограмме. \n",
    "\n",
    "Снова проверим вероятность попадания абонентом в отведенное количество трафика. \n",
    "Вероятность попадания в лимит трафика по тарифу **smart** - 42%, и по тарифу **ultra** - 86%. "
   ]
  },
  {
   "cell_type": "code",
   "execution_count": 66,
   "id": "cd0187b7",
   "metadata": {},
   "outputs": [
    {
     "data": {
      "text/plain": [
       "0.42"
      ]
     },
     "execution_count": 66,
     "metadata": {},
     "output_type": "execute_result"
    }
   ],
   "source": [
    "prob_smart_internet = round(smart_internet.cdf(15), 2) #smart\n",
    "prob_smart_internet"
   ]
  },
  {
   "cell_type": "code",
   "execution_count": 67,
   "id": "d163dbde",
   "metadata": {},
   "outputs": [
    {
     "data": {
      "text/plain": [
       "0.86"
      ]
     },
     "execution_count": 67,
     "metadata": {},
     "output_type": "execute_result"
    }
   ],
   "source": [
    "prob_ultra_internet = round(ultra_internet.cdf(30), 2)  #ultra\n",
    "prob_ultra_internet"
   ]
  },
  {
   "cell_type": "markdown",
   "id": "54b0e879",
   "metadata": {},
   "source": [
    "### 3.5.3 Статистические значения отправки сообщений для тарифов smart и ultra\n",
    "Найдем необходимые статистические значения для столбца **messages**.\n",
    "По тарифу **smart**:"
   ]
  },
  {
   "cell_type": "code",
   "execution_count": 68,
   "id": "1e41b694",
   "metadata": {},
   "outputs": [
    {
     "name": "stdout",
     "output_type": "stream",
     "text": [
      "32.58\n",
      "728.82\n"
     ]
    },
    {
     "data": {
      "text/plain": [
       "27.0"
      ]
     },
     "execution_count": 68,
     "metadata": {},
     "output_type": "execute_result"
    }
   ],
   "source": [
    "mean_smart_messages = round((users_final_cost.query('tariff_name == \"smart\"')['messages']).mean(), 2)\n",
    "disp_smart_messages = round((np.var(users_final_cost.query('tariff_name == \"smart\"')['messages'])), 2)\n",
    "std_smart_messages = round((np.std(users_final_cost.query('tariff_name == \"smart\"')['messages'])), 2)\n",
    "smart_messages = st.norm(mean_smart_messages, std_smart_messages)\n",
    "\n",
    "print(mean_smart_messages)\n",
    "print(disp_smart_messages)\n",
    "std_smart_messages"
   ]
  },
  {
   "cell_type": "code",
   "execution_count": 69,
   "id": "b7c42108",
   "metadata": {},
   "outputs": [
    {
     "data": {
      "image/png": "[encoded data removed]",
      "text/plain": [
       "<Figure size 432x288 with 1 Axes>"
      ]
     },
     "metadata": {
      "needs_background": "light"
     },
     "output_type": "display_data"
    }
   ],
   "source": [
    "c = np.linspace(0, 120, 50)\n",
    "\n",
    "plt.plot(c, norm.pdf(c, loc=mean_smart_messages, scale=std_smart_messages))\n",
    "plt.xlabel('Количество сообщений', fontsize=12)\n",
    "plt.ylabel('Плотность вероятности', fontsize=12)\n",
    "plt.show()"
   ]
  },
  {
   "cell_type": "markdown",
   "id": "55f5811a",
   "metadata": {},
   "source": [
    "И по тарифу **ultra**:"
   ]
  },
  {
   "cell_type": "code",
   "execution_count": 70,
   "id": "c75ce1fd",
   "metadata": {},
   "outputs": [
    {
     "name": "stdout",
     "output_type": "stream",
     "text": [
      "49.36\n",
      "2282.95\n"
     ]
    },
    {
     "data": {
      "text/plain": [
       "47.78"
      ]
     },
     "execution_count": 70,
     "metadata": {},
     "output_type": "execute_result"
    }
   ],
   "source": [
    "mean_ultra_messages = round((users_final_cost.query('tariff_name == \"ultra\"')['messages']).mean(), 2)\n",
    "disp_ultra_messages = round((np.var(users_final_cost.query('tariff_name == \"ultra\"')['messages'])), 2)\n",
    "std_ultra_messages = round((np.std(users_final_cost.query('tariff_name == \"ultra\"')['messages'])), 2)\n",
    "ultra_messages = st.norm(mean_ultra_messages, std_ultra_messages)\n",
    "\n",
    "print(mean_ultra_messages)\n",
    "print(disp_ultra_messages)\n",
    "std_ultra_messages"
   ]
  },
  {
   "cell_type": "code",
   "execution_count": 71,
   "id": "bde00c2c",
   "metadata": {},
   "outputs": [
    {
     "data": {
      "image/png": "[encoded data removed]",
      "text/plain": [
       "<Figure size 432x288 with 1 Axes>"
      ]
     },
     "metadata": {
      "needs_background": "light"
     },
     "output_type": "display_data"
    }
   ],
   "source": [
    "d = np.linspace(0, 180, 50)\n",
    "\n",
    "plt.plot(d, norm.pdf(d, loc=mean_ultra_messages, scale=std_ultra_messages))\n",
    "plt.xlabel('Количество сообщений', fontsize=12)\n",
    "plt.ylabel('Плотность вероятности', fontsize=12)\n",
    "plt.show()"
   ]
  },
  {
   "cell_type": "markdown",
   "id": "d7cd7991",
   "metadata": {},
   "source": [
    "Здесь мы видим, что графики смещены относительно оси Х  и пики находятся слишком близко к оси. Это также подтверждается гистограммой, где пики по обеим тарифам находятся в интервале около 0. Однако среднее значение все-таки отлично от 0 и так же, как и было раньше- график по тарифу **ultra** имеет большее среднее отклонение и уплощен относительно графика **smart**.\n",
    "Посчитаем и здесмь вероятность попадания в количество сообщений, отведенных тарифом.\n",
    "Для тарифа **ultra** вероятность так же высока, как и со звонками- 1, для тарифа **smart** она также немалая и составляет 0,74. "
   ]
  },
  {
   "cell_type": "code",
   "execution_count": 72,
   "id": "3b2bb17f",
   "metadata": {},
   "outputs": [
    {
     "data": {
      "text/plain": [
       "0.74"
      ]
     },
     "execution_count": 72,
     "metadata": {},
     "output_type": "execute_result"
    }
   ],
   "source": [
    "prob_smart_messages = round(smart_messages.cdf(50), 2) #smart\n",
    "prob_smart_messages"
   ]
  },
  {
   "cell_type": "code",
   "execution_count": 73,
   "id": "08ac4b95",
   "metadata": {},
   "outputs": [
    {
     "data": {
      "text/plain": [
       "1.0"
      ]
     },
     "execution_count": 73,
     "metadata": {},
     "output_type": "execute_result"
    }
   ],
   "source": [
    "prob_ultra_messages = round(ultra_messages.cdf(1000), 2) #ultra\n",
    "prob_ultra_messages"
   ]
  },
  {
   "cell_type": "markdown",
   "id": "eb7410aa",
   "metadata": {},
   "source": [
    "### 3.5.4 Статистические значения ежемесячной оплаты для тарифов smart и ultra\n",
    "Найдем статистические значения для среднего счета по тарифу **smart**:"
   ]
  },
  {
   "cell_type": "code",
   "execution_count": 74,
   "id": "a2c88c4e",
   "metadata": {},
   "outputs": [
    {
     "name": "stdout",
     "output_type": "stream",
     "text": [
      "1232.66\n",
      "527403.11\n"
     ]
    },
    {
     "data": {
      "text/plain": [
       "726.23"
      ]
     },
     "execution_count": 74,
     "metadata": {},
     "output_type": "execute_result"
    }
   ],
   "source": [
    "mean_smart_cost = round((users_final_cost.query('tariff_name == \"smart\"')['final_cost']).mean(), 2)\n",
    "disp_smart_cost = round((np.var(users_final_cost.query('tariff_name == \"smart\"')['final_cost'])), 2)\n",
    "std_smart_cost = round((np.std(users_final_cost.query('tariff_name == \"smart\"')['final_cost'])), 2)\n",
    "smart_cost = st.norm(mean_smart_cost, std_smart_cost)\n",
    "\n",
    "print(mean_smart_cost)\n",
    "print(disp_smart_cost)\n",
    "std_smart_cost"
   ]
  },
  {
   "cell_type": "code",
   "execution_count": 75,
   "id": "8a44cfcd",
   "metadata": {},
   "outputs": [
    {
     "data": {
      "image/png": "[encoded data removed]",
      "text/plain": [
       "<Figure size 432x288 with 1 Axes>"
      ]
     },
     "metadata": {
      "needs_background": "light"
     },
     "output_type": "display_data"
    }
   ],
   "source": [
    "e = np.linspace(-500, 3000, 50)\n",
    "\n",
    "plt.plot(e, norm.pdf(e, loc=mean_smart_cost, scale=std_smart_cost))\n",
    "plt.xlabel('Средний счет', fontsize=12)\n",
    "plt.ylabel('Плотность вероятности', fontsize=12)\n",
    "plt.show()"
   ]
  },
  {
   "cell_type": "markdown",
   "id": "3a0b323c",
   "metadata": {},
   "source": [
    "И по тарифу **ultra**:"
   ]
  },
  {
   "cell_type": "code",
   "execution_count": 76,
   "id": "dc14bdb3",
   "metadata": {},
   "outputs": [
    {
     "name": "stdout",
     "output_type": "stream",
     "text": [
      "2070.15\n",
      "141373.07\n"
     ]
    },
    {
     "data": {
      "text/plain": [
       "376.0"
      ]
     },
     "execution_count": 76,
     "metadata": {},
     "output_type": "execute_result"
    }
   ],
   "source": [
    "mean_ultra_cost = round((users_final_cost.query('tariff_name == \"ultra\"')['final_cost']).mean(), 2)\n",
    "disp_ultra_cost = round((np.var(users_final_cost.query('tariff_name == \"ultra\"')['final_cost'])), 2)\n",
    "std_ultra_cost = round((np.std(users_final_cost.query('tariff_name == \"ultra\"')['final_cost'])), 2)\n",
    "ultra_cost = st.norm(mean_smart_cost, std_smart_cost)\n",
    "\n",
    "print(mean_ultra_cost)\n",
    "print(disp_ultra_cost)\n",
    "std_ultra_cost"
   ]
  },
  {
   "cell_type": "code",
   "execution_count": 77,
   "id": "85e103da",
   "metadata": {},
   "outputs": [
    {
     "data": {
      "image/png": "[encoded data removed]",
      "text/plain": [
       "<Figure size 432x288 with 1 Axes>"
      ]
     },
     "metadata": {
      "needs_background": "light"
     },
     "output_type": "display_data"
    }
   ],
   "source": [
    "f = np.linspace(0, 4000, 50)\n",
    "\n",
    "plt.plot(f, norm.pdf(f, loc=mean_ultra_cost, scale=std_ultra_cost))\n",
    "plt.xlabel('Средний счет', fontsize=12)\n",
    "plt.ylabel('Плотность вероятности', fontsize=12)\n",
    "plt.show()"
   ]
  },
  {
   "cell_type": "markdown",
   "id": "a9b61531",
   "metadata": {},
   "source": [
    "Если рассмотреть графики, то первое, что можно увидеть: \n",
    "- средняя помесячная оплата на тарифе **smart** выше, чем помесячная оплата по тарифу более чем в 2 раза- `1232.66/550.00` руб., т.е. большинство абонентов этого тарифа превышают лимиты. \n",
    "- средняя оплата абонентов тарифа **ultra** также выше фиксированной оплаты по тарифу, но незначительно- `2070.15/1950.00`\n",
    "- среднее отклонение по тарифу **smart** в 2 раза выше, чем по тарифу **ultra**, что характеризует увеличенный разброс данных. \n",
    "Гипотеза о том, что пользователи тарифа **smart** превышают фиксированную оплату подтверждается нахождением вероятности. Вероятность попасть в ежемесячный лимит стоимости по тарифу **smart** составляет 17%, зато по тарифу **ultra** - целых 84%. "
   ]
  },
  {
   "cell_type": "code",
   "execution_count": 78,
   "id": "8cc2bf26",
   "metadata": {},
   "outputs": [
    {
     "data": {
      "text/plain": [
       "0.17"
      ]
     },
     "execution_count": 78,
     "metadata": {},
     "output_type": "execute_result"
    }
   ],
   "source": [
    "prob_smart_cost = round(smart_cost.cdf(550), 2) #smart\n",
    "prob_smart_cost"
   ]
  },
  {
   "cell_type": "code",
   "execution_count": 79,
   "id": "5bd2ed1e",
   "metadata": {},
   "outputs": [
    {
     "data": {
      "text/plain": [
       "0.84"
      ]
     },
     "execution_count": 79,
     "metadata": {},
     "output_type": "execute_result"
    }
   ],
   "source": [
    "prob_ultra_cost = round(ultra_cost.cdf(1950), 2) #ultra\n",
    "prob_ultra_cost"
   ]
  },
  {
   "cell_type": "markdown",
   "id": "4f097852",
   "metadata": {},
   "source": [
    "**Вывод по блоку**: \n",
    "\n",
    "Был произведен анализ основных параметров (количество минут, трафика, сообщений и ежемесячная оплата) абонентов тарифов **smart** и **ultra**, найдены статистические показатели, построены гистограммы и графики распределения. \n",
    "В ходе исследования было выявлено, что пользователи тарифа **smart** зачастую выходят за пределы установленных лимитов и как следствие- тратят намного больше, чем ежемесячная плата по тарифу. "
   ]
  },
  {
   "cell_type": "markdown",
   "id": "e44fcc78",
   "metadata": {},
   "source": [
    "# 4. Проверка гипотез.\n",
    "\n",
    "## 4.1. \"Средняя выручка тарифов \"Ультра\" и \"Смарт\" различаются. \n",
    "\n",
    "Для проверки гипотезы используем гипотезу о равенстве среднего парных выборок. \n",
    "Определим нулевую и альтернативную гипотезы: \n",
    "\n",
    "- **Н_0**: \"Выборочное среднее совокупности по тарифу \"Смарт\"- равно выборочному среднему совокупности по тарифу \"Ультра\"\n",
    "- **Н_1**: \"Выборочное среднее совокупности по тарифу \"Смарт\"- НЕ равно выборочному среднему совокупности по тарифу \"Ультра\"\n",
    "\n",
    "Для проверки используем метод `st.ttest_rel` и зададим `alpha = 0.05`. \n",
    "Т.к. для такого метода выборки должны быть равны, сделаем выборки из генеральной совокупности по 100 элементов каждая и проверим гипотезу: "
   ]
  },
  {
   "cell_type": "code",
   "execution_count": 80,
   "id": "5de5c40f",
   "metadata": {},
   "outputs": [],
   "source": [
    "sample_smart = users_final_cost.query('tariff_name == \"smart\"')['final_cost']\n",
    "smart_array = np.asarray(sample_smart)\n",
    "stat_smart = np.random.choice(smart_array, 100)"
   ]
  },
  {
   "cell_type": "code",
   "execution_count": 81,
   "id": "2d96ed3f",
   "metadata": {},
   "outputs": [],
   "source": [
    "sample_ultra = users_final_cost.query('tariff_name == \"ultra\"')['final_cost']\n",
    "ultra_array = np.asarray(sample_ultra)\n",
    "stat_ultra = np.random.choice(ultra_array, 100)"
   ]
  },
  {
   "cell_type": "code",
   "execution_count": 82,
   "id": "1dd79542",
   "metadata": {},
   "outputs": [
    {
     "name": "stdout",
     "output_type": "stream",
     "text": [
      "p-значение:  5.155529212867259e-25\n",
      "Верна альтернативная гипотеза Н_1\n"
     ]
    }
   ],
   "source": [
    "alpha = .05 # критический уровень статистической значимости\n",
    "\n",
    "result_tariff = st.ttest_rel(stat_ultra, stat_smart)\n",
    "\n",
    "print('p-значение: ', result_tariff.pvalue)\n",
    "\n",
    "if result_tariff.pvalue < alpha:\n",
    "    print(\"Верна альтернативная гипотеза Н_1\")\n",
    "else:\n",
    "    print(\"Верна нулевая гипотеза Н_0\") "
   ]
  },
  {
   "cell_type": "markdown",
   "id": "ee982239",
   "metadata": {},
   "source": [
    "Таким образом, после проверки была отвергнута нулевая гипотеза Н0 в пользу альтернативной гипотезы Н1: \"Выборочное среднее совокупности по тарифу \"Смарт\"- НЕ равно выборочному среднему совокупности по тарифу \"Ультра\"."
   ]
  },
  {
   "cell_type": "markdown",
   "id": "1bbd440e",
   "metadata": {},
   "source": [
    "## 4.2. \"Средняя выручка пользователей из Москвы отличается от выручки в других регионах\n",
    "\n",
    "Здесь мы используем метод проверки односторонней гипотезы (у нас будет правосторонняя) и используем метод `st.ttest_1samp` \n",
    "\n",
    "Гипотезы: \n",
    "\n",
    "- **Н_0**: \"Средняя выручка пользователей из Москвы- равна средней выручке абонентов из регионов\"\n",
    "- **Н_1**: \"Средняя выручка пользователей из Москвы- БОЛЬШЕ средней выручке абонентов из регионов\"\n",
    "\n",
    "Также создадим массив **array_moscow** и сравним со средним значением выручки в регионе **mean_region**:"
   ]
  },
  {
   "cell_type": "code",
   "execution_count": 83,
   "id": "6e8d6151",
   "metadata": {},
   "outputs": [],
   "source": [
    "sample_moscow = users_final_cost.query('city == \"Москва\"')['final_cost']\n",
    "array_moscow = np.asarray(sample_moscow) "
   ]
  },
  {
   "cell_type": "code",
   "execution_count": 84,
   "id": "24f57ff4",
   "metadata": {},
   "outputs": [],
   "source": [
    "mean_region = users_final_cost.query('not(city == \"Москва\")')['final_cost'].mean()"
   ]
  },
  {
   "cell_type": "code",
   "execution_count": 85,
   "id": "d7faacd6",
   "metadata": {},
   "outputs": [
    {
     "name": "stdout",
     "output_type": "stream",
     "text": [
      "p-значение: 0.057885267603854665\n",
      "Не отвергаем нулевую гипотезу\n"
     ]
    }
   ],
   "source": [
    "alpha = 0.05\n",
    "\n",
    "result_region = st.ttest_1samp(array_moscow, mean_region)\n",
    "\n",
    "# тест односторонний: p-value будет в два раза меньше\n",
    "print('p-значение:', result_region.pvalue / 2)\n",
    "\n",
    "\n",
    "if (result_region.pvalue / 2 < alpha) and (array_moscow.mean() > mean_region):\n",
    "    print(\"Отвергаем нулевую гипотезу\")\n",
    "else:\n",
    "    print(\"Не отвергаем нулевую гипотезу\") "
   ]
  },
  {
   "cell_type": "markdown",
   "id": "065d857b",
   "metadata": {},
   "source": [
    "Видим, что здесь нулевая гипотеза не была отвергнута (Н_0: \"Средняя выручка пользователей из Москвы- равна средней выручке абонентов из регионов\"). \n",
    "\n",
    "Для подтверждения этого я также сравнила средние значения генеральной совокупности. Видно, что эти значения различаются незначительно, поэтому не отвергаем сформированную нулевую гипотезу. "
   ]
  },
  {
   "cell_type": "code",
   "execution_count": 86,
   "id": "b36448a3",
   "metadata": {},
   "outputs": [
    {
     "data": {
      "text/plain": [
       "1532.8297520661158"
      ]
     },
     "execution_count": 86,
     "metadata": {},
     "output_type": "execute_result"
    }
   ],
   "source": [
    "array_moscow.mean()"
   ]
  },
  {
   "cell_type": "code",
   "execution_count": 87,
   "id": "77315278",
   "metadata": {},
   "outputs": [
    {
     "data": {
      "text/plain": [
       "1486.1343577620173"
      ]
     },
     "execution_count": 87,
     "metadata": {},
     "output_type": "execute_result"
    }
   ],
   "source": [
    "mean_region"
   ]
  },
  {
   "cell_type": "markdown",
   "id": "99fddb77",
   "metadata": {},
   "source": [
    "# Вывод"
   ]
  },
  {
   "cell_type": "markdown",
   "id": "0042e542",
   "metadata": {},
   "source": [
    "В ходе практической работы было выполнено исследование расходования связи пользователями двух тарифных планов. \n",
    "В процессе анализа основных показателей (звонки, трафик, сообщения, ежемесячная оплата) было выявлено, что большинство пользователей тарифа **Смарт** не укладываются в отведенные тарифом параметры и оплачивают дополнительные услуги связи. \n",
    "Например, немало пользователей тратят от 500 до 760 мин. в месяц (при включенных в тариф 500 минутах), а также используют до 20 Гб интернета в месяц (при включенных в тариф 30 Гб). Все это приводит к систематическим переплатам абонентов за связь и превышению ежемесячного счета до 1000-1500 руб. в месяц (что составляет 100-200% от ежемесячной стоимости тарифного плана).  \n",
    "\n",
    "Пользователи тарифа **Ультра**, в свою очередь, намного чаще (с вероятностью 84%) не выходят за пределы установленного лимита по интернету и трафику, что позволяет практически всем пользователям не тратить более, чем предусмотрено тарифом. \n",
    "\n",
    "Этот вывод был получен в ходе исследования соответствующих гистограмм, анализа графика распределения и основны статистических параметров по каждому из пунктов, таких как: среднее, дисперсия и среднее отклонения. \n",
    "\n",
    "Также были проверены две гипотезы- одна методом равенства среднего парных выборок, вторая - методом проверки односторонней гипотезы. В ходе проверки было выяснено, что средняя величина выручки по тарифам **Смарт** и **Ультра** различаются, а вот средняя величина выручки не зависит от региона абонента. \n",
    "\n",
    "После исследования можно сделать вывод: несмотря на то, что абоненты тарифа **Смарт** постоянно выходят за пределы того объема связи, что предусмотрен тарифом и, соответственно, переплачивают, для сотового оператора все равно выгоднее тариф **Ультра**, как приносящий большее количество выручки. Из-за высокой абонентской платы, средняя сумма, потраченная абонентами тарифа **Ультра** на связь все равно выше, чем средний счет абонента тарифа **Смарт**, а количество потраченных минут и траффика хоть и отличается, но не на порядок. "
   ]
  }
 ],
 "metadata": {
  "ExecuteTimeLog": [
   {
    "duration": 1624,
    "start_time": "2022-04-30T10:56:53.563Z"
   },
   {
    "duration": 182,
    "start_time": "2022-04-30T10:56:55.190Z"
   },
   {
    "duration": 0,
    "start_time": "2022-04-30T10:56:55.432Z"
   },
   {
    "duration": 0,
    "start_time": "2022-04-30T10:56:55.434Z"
   },
   {
    "duration": 0,
    "start_time": "2022-04-30T10:56:55.435Z"
   },
   {
    "duration": 0,
    "start_time": "2022-04-30T10:56:55.437Z"
   },
   {
    "duration": 0,
    "start_time": "2022-04-30T10:56:55.438Z"
   },
   {
    "duration": 0,
    "start_time": "2022-04-30T10:56:55.440Z"
   },
   {
    "duration": 0,
    "start_time": "2022-04-30T10:56:55.441Z"
   },
   {
    "duration": 0,
    "start_time": "2022-04-30T10:56:55.443Z"
   },
   {
    "duration": 0,
    "start_time": "2022-04-30T10:56:55.444Z"
   },
   {
    "duration": 0,
    "start_time": "2022-04-30T10:56:55.446Z"
   },
   {
    "duration": 0,
    "start_time": "2022-04-30T10:56:55.447Z"
   },
   {
    "duration": 0,
    "start_time": "2022-04-30T10:56:55.449Z"
   },
   {
    "duration": 0,
    "start_time": "2022-04-30T10:56:55.450Z"
   },
   {
    "duration": 0,
    "start_time": "2022-04-30T10:56:55.452Z"
   },
   {
    "duration": 0,
    "start_time": "2022-04-30T10:56:55.453Z"
   },
   {
    "duration": 0,
    "start_time": "2022-04-30T10:56:55.455Z"
   },
   {
    "duration": 0,
    "start_time": "2022-04-30T10:56:55.456Z"
   },
   {
    "duration": 0,
    "start_time": "2022-04-30T10:56:55.457Z"
   },
   {
    "duration": 0,
    "start_time": "2022-04-30T10:56:55.459Z"
   },
   {
    "duration": 0,
    "start_time": "2022-04-30T10:56:55.460Z"
   },
   {
    "duration": 0,
    "start_time": "2022-04-30T10:56:55.493Z"
   },
   {
    "duration": 0,
    "start_time": "2022-04-30T10:56:55.494Z"
   },
   {
    "duration": 0,
    "start_time": "2022-04-30T10:56:55.496Z"
   },
   {
    "duration": 0,
    "start_time": "2022-04-30T10:56:55.497Z"
   },
   {
    "duration": 0,
    "start_time": "2022-04-30T10:56:55.499Z"
   },
   {
    "duration": 558,
    "start_time": "2022-04-30T10:58:01.448Z"
   },
   {
    "duration": 6,
    "start_time": "2022-04-30T10:58:12.937Z"
   },
   {
    "duration": 540,
    "start_time": "2022-04-30T10:58:12.946Z"
   },
   {
    "duration": 37,
    "start_time": "2022-04-30T10:58:13.489Z"
   },
   {
    "duration": 17,
    "start_time": "2022-04-30T10:58:13.529Z"
   },
   {
    "duration": 72,
    "start_time": "2022-04-30T10:58:13.548Z"
   },
   {
    "duration": 12,
    "start_time": "2022-04-30T10:58:13.622Z"
   },
   {
    "duration": 57,
    "start_time": "2022-04-30T10:58:13.636Z"
   },
   {
    "duration": 32,
    "start_time": "2022-04-30T10:58:13.695Z"
   },
   {
    "duration": 12,
    "start_time": "2022-04-30T10:58:13.730Z"
   },
   {
    "duration": 102,
    "start_time": "2022-04-30T10:58:13.744Z"
   },
   {
    "duration": 45,
    "start_time": "2022-04-30T10:58:13.849Z"
   },
   {
    "duration": 56,
    "start_time": "2022-04-30T10:58:13.896Z"
   },
   {
    "duration": 16,
    "start_time": "2022-04-30T10:58:13.954Z"
   },
   {
    "duration": 12,
    "start_time": "2022-04-30T10:58:13.993Z"
   },
   {
    "duration": 21,
    "start_time": "2022-04-30T10:58:14.008Z"
   },
   {
    "duration": 22,
    "start_time": "2022-04-30T10:58:14.031Z"
   },
   {
    "duration": 89,
    "start_time": "2022-04-30T10:58:14.055Z"
   },
   {
    "duration": 56,
    "start_time": "2022-04-30T10:58:14.146Z"
   },
   {
    "duration": 45,
    "start_time": "2022-04-30T10:58:14.205Z"
   },
   {
    "duration": 5,
    "start_time": "2022-04-30T10:58:14.252Z"
   },
   {
    "duration": 54,
    "start_time": "2022-04-30T10:58:14.259Z"
   },
   {
    "duration": 15,
    "start_time": "2022-04-30T10:58:14.315Z"
   },
   {
    "duration": 10,
    "start_time": "2022-04-30T10:58:14.332Z"
   },
   {
    "duration": 17,
    "start_time": "2022-04-30T10:58:14.349Z"
   },
   {
    "duration": 32,
    "start_time": "2022-04-30T10:58:14.368Z"
   },
   {
    "duration": 8,
    "start_time": "2022-04-30T10:58:14.403Z"
   },
   {
    "duration": 19,
    "start_time": "2022-04-30T10:58:14.414Z"
   },
   {
    "duration": 7,
    "start_time": "2022-04-30T10:59:48.831Z"
   },
   {
    "duration": 3498,
    "start_time": "2022-04-30T10:59:49.583Z"
   },
   {
    "duration": 1366,
    "start_time": "2022-04-30T11:02:07.380Z"
   },
   {
    "duration": 558,
    "start_time": "2022-04-30T11:02:08.749Z"
   },
   {
    "duration": 35,
    "start_time": "2022-04-30T11:02:09.309Z"
   },
   {
    "duration": 16,
    "start_time": "2022-04-30T11:02:09.346Z"
   },
   {
    "duration": 59,
    "start_time": "2022-04-30T11:02:09.365Z"
   },
   {
    "duration": 12,
    "start_time": "2022-04-30T11:02:09.426Z"
   },
   {
    "duration": 53,
    "start_time": "2022-04-30T11:02:09.441Z"
   },
   {
    "duration": 31,
    "start_time": "2022-04-30T11:02:09.496Z"
   },
   {
    "duration": 13,
    "start_time": "2022-04-30T11:02:09.529Z"
   },
   {
    "duration": 104,
    "start_time": "2022-04-30T11:02:09.544Z"
   },
   {
    "duration": 23,
    "start_time": "2022-04-30T11:02:09.651Z"
   },
   {
    "duration": 65,
    "start_time": "2022-04-30T11:02:09.676Z"
   },
   {
    "duration": 15,
    "start_time": "2022-04-30T11:02:09.743Z"
   },
   {
    "duration": 36,
    "start_time": "2022-04-30T11:02:09.762Z"
   },
   {
    "duration": 16,
    "start_time": "2022-04-30T11:02:09.801Z"
   },
   {
    "duration": 19,
    "start_time": "2022-04-30T11:02:09.820Z"
   },
   {
    "duration": 92,
    "start_time": "2022-04-30T11:02:09.842Z"
   },
   {
    "duration": 42,
    "start_time": "2022-04-30T11:02:09.936Z"
   },
   {
    "duration": 47,
    "start_time": "2022-04-30T11:02:09.992Z"
   },
   {
    "duration": 5,
    "start_time": "2022-04-30T11:02:10.041Z"
   },
   {
    "duration": 48,
    "start_time": "2022-04-30T11:02:10.048Z"
   },
   {
    "duration": 15,
    "start_time": "2022-04-30T11:02:10.098Z"
   },
   {
    "duration": 11,
    "start_time": "2022-04-30T11:02:10.115Z"
   },
   {
    "duration": 18,
    "start_time": "2022-04-30T11:02:10.128Z"
   },
   {
    "duration": 12,
    "start_time": "2022-04-30T11:02:10.148Z"
   },
   {
    "duration": 9,
    "start_time": "2022-04-30T11:02:10.193Z"
   },
   {
    "duration": 19,
    "start_time": "2022-04-30T11:02:10.204Z"
   },
   {
    "duration": 6,
    "start_time": "2022-04-30T11:02:10.226Z"
   },
   {
    "duration": 7,
    "start_time": "2022-04-30T11:02:10.234Z"
   },
   {
    "duration": 17,
    "start_time": "2022-04-30T11:02:10.243Z"
   },
   {
    "duration": 216,
    "start_time": "2022-04-30T11:02:10.262Z"
   },
   {
    "duration": 16,
    "start_time": "2022-04-30T11:02:10.480Z"
   },
   {
    "duration": 25,
    "start_time": "2022-04-30T11:02:10.498Z"
   },
   {
    "duration": 8,
    "start_time": "2022-04-30T11:02:10.526Z"
   },
   {
    "duration": 14,
    "start_time": "2022-04-30T11:02:10.536Z"
   },
   {
    "duration": 10,
    "start_time": "2022-04-30T11:02:10.552Z"
   },
   {
    "duration": 15,
    "start_time": "2022-04-30T11:02:10.593Z"
   },
   {
    "duration": 135,
    "start_time": "2022-04-30T11:03:36.441Z"
   },
   {
    "duration": 13,
    "start_time": "2022-04-30T11:03:41.302Z"
   },
   {
    "duration": 15,
    "start_time": "2022-04-30T11:04:04.655Z"
   },
   {
    "duration": 17,
    "start_time": "2022-04-30T11:06:26.379Z"
   },
   {
    "duration": 12,
    "start_time": "2022-04-30T11:07:53.997Z"
   },
   {
    "duration": 12,
    "start_time": "2022-04-30T11:08:08.026Z"
   },
   {
    "duration": 11,
    "start_time": "2022-04-30T11:08:18.050Z"
   },
   {
    "duration": 11,
    "start_time": "2022-04-30T11:08:21.711Z"
   },
   {
    "duration": 30,
    "start_time": "2022-04-30T11:11:11.322Z"
   },
   {
    "duration": 278,
    "start_time": "2022-04-30T11:11:11.354Z"
   },
   {
    "duration": 6,
    "start_time": "2022-04-30T11:11:11.634Z"
   },
   {
    "duration": 12,
    "start_time": "2022-04-30T11:11:11.643Z"
   },
   {
    "duration": 37,
    "start_time": "2022-04-30T11:11:11.657Z"
   },
   {
    "duration": 245,
    "start_time": "2022-04-30T11:11:11.696Z"
   },
   {
    "duration": 15,
    "start_time": "2022-04-30T11:11:11.943Z"
   },
   {
    "duration": 251,
    "start_time": "2022-04-30T11:11:11.960Z"
   },
   {
    "duration": 19,
    "start_time": "2022-04-30T11:11:12.214Z"
   },
   {
    "duration": 254,
    "start_time": "2022-04-30T11:11:12.239Z"
   },
   {
    "duration": 22,
    "start_time": "2022-04-30T11:11:12.495Z"
   },
   {
    "duration": 193,
    "start_time": "2022-04-30T11:11:12.519Z"
   },
   {
    "duration": 19,
    "start_time": "2022-04-30T11:11:12.715Z"
   },
   {
    "duration": 225,
    "start_time": "2022-04-30T11:11:12.737Z"
   },
   {
    "duration": 8,
    "start_time": "2022-04-30T11:11:12.965Z"
   },
   {
    "duration": 7,
    "start_time": "2022-04-30T11:11:12.993Z"
   },
   {
    "duration": 22,
    "start_time": "2022-04-30T11:11:13.003Z"
   },
   {
    "duration": 224,
    "start_time": "2022-04-30T11:11:13.028Z"
   },
   {
    "duration": 21,
    "start_time": "2022-04-30T11:11:13.254Z"
   },
   {
    "duration": 214,
    "start_time": "2022-04-30T11:11:13.292Z"
   },
   {
    "duration": 7,
    "start_time": "2022-04-30T11:11:13.508Z"
   },
   {
    "duration": 8,
    "start_time": "2022-04-30T11:11:13.517Z"
   },
   {
    "duration": 22,
    "start_time": "2022-04-30T11:11:13.527Z"
   },
   {
    "duration": 233,
    "start_time": "2022-04-30T11:11:13.551Z"
   },
   {
    "duration": 24,
    "start_time": "2022-04-30T11:11:13.786Z"
   },
   {
    "duration": 290,
    "start_time": "2022-04-30T11:11:13.811Z"
   },
   {
    "duration": 6,
    "start_time": "2022-04-30T11:11:14.103Z"
   },
   {
    "duration": 5,
    "start_time": "2022-04-30T11:11:14.115Z"
   },
   {
    "duration": 21,
    "start_time": "2022-04-30T11:11:14.122Z"
   },
   {
    "duration": 232,
    "start_time": "2022-04-30T11:11:14.145Z"
   },
   {
    "duration": 26,
    "start_time": "2022-04-30T11:11:14.379Z"
   },
   {
    "duration": 211,
    "start_time": "2022-04-30T11:11:14.407Z"
   },
   {
    "duration": 6,
    "start_time": "2022-04-30T11:11:14.620Z"
   },
   {
    "duration": 8,
    "start_time": "2022-04-30T11:11:14.628Z"
   },
   {
    "duration": 9,
    "start_time": "2022-04-30T11:11:14.638Z"
   },
   {
    "duration": 8,
    "start_time": "2022-04-30T11:11:14.649Z"
   },
   {
    "duration": 37,
    "start_time": "2022-04-30T11:11:14.659Z"
   },
   {
    "duration": 13,
    "start_time": "2022-04-30T11:11:14.698Z"
   },
   {
    "duration": 9,
    "start_time": "2022-04-30T11:11:14.713Z"
   },
   {
    "duration": 7,
    "start_time": "2022-04-30T11:11:14.724Z"
   },
   {
    "duration": 8,
    "start_time": "2022-04-30T11:11:14.733Z"
   },
   {
    "duration": 7,
    "start_time": "2022-04-30T11:11:14.743Z"
   },
   {
    "duration": 254,
    "start_time": "2022-04-30T11:13:56.892Z"
   },
   {
    "duration": 364,
    "start_time": "2022-04-30T11:14:08.962Z"
   },
   {
    "duration": 440,
    "start_time": "2022-04-30T11:14:24.258Z"
   },
   {
    "duration": 281,
    "start_time": "2022-04-30T11:15:19.924Z"
   },
   {
    "duration": 255,
    "start_time": "2022-04-30T11:15:26.875Z"
   },
   {
    "duration": 210,
    "start_time": "2022-04-30T11:34:33.430Z"
   },
   {
    "duration": 203,
    "start_time": "2022-04-30T11:34:50.917Z"
   }
  ],
  "kernelspec": {
   "display_name": "Python 3 (ipykernel)",
   "language": "python",
   "name": "python3"
  },
  "language_info": {
   "codemirror_mode": {
    "name": "ipython",
    "version": 3
   },
   "file_extension": ".py",
   "mimetype": "text/x-python",
   "name": "python",
   "nbconvert_exporter": "python",
   "pygments_lexer": "ipython3",
   "version": "3.9.7"
  },
  "toc": {
   "base_numbering": 1,
   "nav_menu": {},
   "number_sections": true,
   "sideBar": true,
   "skip_h1_title": true,
   "title_cell": "Table of Contents",
   "title_sidebar": "Contents",
   "toc_cell": false,
   "toc_position": {},
   "toc_section_display": true,
   "toc_window_display": false
  }
 },
 "nbformat": 4,
 "nbformat_minor": 5
}
