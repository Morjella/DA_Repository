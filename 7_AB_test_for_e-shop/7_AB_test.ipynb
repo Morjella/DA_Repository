{
 "cells": [
  {
   "cell_type": "markdown",
   "id": "4e6a663e",
   "metadata": {},
   "source": [
    "# Принятие решений в бизнесе. А/В тест.\n",
    "# Введение\n",
    "\n",
    "В данном проекте рассматривается: \n",
    "- Приоритизация гипотез при помощи метода `WSJF` (алгоритмы `ICE` и `RICE`). \n",
    "Будут рассммотрены 9 гипотез, которые будут отсортированы по приоритетности исполнения. \n",
    "\n",
    "- Анализ и интерпретация A/B теста. \n",
    "Будут изучены результаты A/B теста с 2 группами: контрольной (`A`) и экспериментальной (`B`).\n",
    "\n",
    "\n",
    "В ходе работы были проверены следующие кумулятивные метрики: \n",
    "- Кумулятивная выручка по группам;\n",
    "- Кумулятивный средний чек по группам;\n",
    "- Относительное изменение кумулятивного среднего чека группы B к группе A;\n",
    "- Кумулятивная конверсия по группам;\n",
    "- Оносительное изменение кумулятивной конверсии группы B к группе A. \n",
    "\n",
    "и проведен непараметрический тест U-критерий Манна-Уитни для расчета статистической значимости: \n",
    "-  Различий в конверсии и среднем чеке заказа между группами по «сырым» данным;\n",
    "-  Различий в конверсии и среднем чеке заказа между группами по «очищенным» данным.\n",
    "\n",
    "По результатам проведенного исследования была проведена оценка A/B теста и вывод о его результатах.\n",
    "\n",
    "Срок проведения теста - 1 календарный месяц (01.08-01.09.2019 г.)"
   ]
  },
  {
   "cell_type": "markdown",
   "id": "08e86334",
   "metadata": {},
   "source": [
    "### Загрузка данных"
   ]
  },
  {
   "cell_type": "code",
   "execution_count": 1,
   "id": "1c79446e",
   "metadata": {},
   "outputs": [],
   "source": [
    "import pandas as pd\n",
    "import numpy as np\n",
    "import datetime as dt\n",
    "import scipy.stats as stats\n",
    "from matplotlib import pyplot as plt"
   ]
  },
  {
   "cell_type": "code",
   "execution_count": 2,
   "id": "0168adfd",
   "metadata": {},
   "outputs": [],
   "source": [
    "try:\n",
    "    hypothesis = pd.read_csv(r'C:\\Users\\newsl\\datasets\\hypothesis.csv')\n",
    "    orders = pd.read_csv(r'C:\\Users\\newsl\\datasets\\orders.csv')\n",
    "    visitors = pd.read_csv(r'C:\\Users\\newsl\\datasets\\visitors.csv')\n",
    "except:\n",
    "    hypothesis = pd.read_csv('/datasets/hypothesis.csv')\n",
    "    orders = pd.read_csv('/datasets/orders.csv')\n",
    "    visitors = pd.read_csv('/datasets/visitors.csv')"
   ]
  },
  {
   "cell_type": "markdown",
   "id": "c8153d15",
   "metadata": {},
   "source": [
    "# I часть. Приоритизация гипотез.\n",
    "Займемся приоритизацией гипотез. В датафрейм `hypothesis` были выгружены 9 гипотез для увеличения выручки интернет-магазина. Для приоритизации используем метод `WSJF`, позволяющий оценить задачи более детально и рассортировать гипотезы по их приоритету. \n",
    "Каждой гипотезе присвоено 4 параметра оценки: \n",
    "- Reach — скольких пользователей затронет изменение, которое вы хотите внести;\n",
    "- Impact — насколько сильно изменение повлияет на пользователей, их опыт и удовлетворение от продукта;\n",
    "- Confidence — насколько вы уверены, что это изменение повлияет на пользователей именно так;\n",
    "- Efforts — сколько стоит протестировать эту гипотезу\n",
    "\n",
    "Для приоритизации будем использовать фреймворки `ICE` и `RICE`, но для начала выгрузим датафрейм и посмотрим на него. \n",
    "В датафрейме `hypothesis`: 4 столбца с оценками и 9 строк с гипотезами, пропуски отсутствуют. Переведем названия столбцов для удобства в нижний регистр и замемся непосредственно приоритизацией: "
   ]
  },
  {
   "cell_type": "code",
   "execution_count": 3,
   "id": "0de8c9af",
   "metadata": {
    "scrolled": true
   },
   "outputs": [
    {
     "name": "stdout",
     "output_type": "stream",
     "text": [
      "<class 'pandas.core.frame.DataFrame'>\n",
      "RangeIndex: 9 entries, 0 to 8\n",
      "Data columns (total 5 columns):\n",
      " #   Column      Non-Null Count  Dtype \n",
      "---  ------      --------------  ----- \n",
      " 0   Hypothesis  9 non-null      object\n",
      " 1   Reach       9 non-null      int64 \n",
      " 2   Impact      9 non-null      int64 \n",
      " 3   Confidence  9 non-null      int64 \n",
      " 4   Efforts     9 non-null      int64 \n",
      "dtypes: int64(4), object(1)\n",
      "memory usage: 488.0+ bytes\n"
     ]
    }
   ],
   "source": [
    "hypothesis.info()"
   ]
  },
  {
   "cell_type": "code",
   "execution_count": 4,
   "id": "323b47c1",
   "metadata": {
    "scrolled": true
   },
   "outputs": [
    {
     "data": {
      "text/html": [
       "<div>\n",
       "<style scoped>\n",
       "    .dataframe tbody tr th:only-of-type {\n",
       "        vertical-align: middle;\n",
       "    }\n",
       "\n",
       "    .dataframe tbody tr th {\n",
       "        vertical-align: top;\n",
       "    }\n",
       "\n",
       "    .dataframe thead th {\n",
       "        text-align: right;\n",
       "    }\n",
       "</style>\n",
       "<table border=\"1\" class=\"dataframe\">\n",
       "  <thead>\n",
       "    <tr style=\"text-align: right;\">\n",
       "      <th></th>\n",
       "      <th>hypothesis</th>\n",
       "      <th>reach</th>\n",
       "      <th>impact</th>\n",
       "      <th>confidence</th>\n",
       "      <th>efforts</th>\n",
       "    </tr>\n",
       "  </thead>\n",
       "  <tbody>\n",
       "    <tr>\n",
       "      <th>0</th>\n",
       "      <td>Добавить два новых канала привлечения трафика, что позволит привлекать на 30% больше пользователей</td>\n",
       "      <td>3</td>\n",
       "      <td>10</td>\n",
       "      <td>8</td>\n",
       "      <td>6</td>\n",
       "    </tr>\n",
       "    <tr>\n",
       "      <th>1</th>\n",
       "      <td>Запустить собственную службу доставки, что сократит срок доставки заказов</td>\n",
       "      <td>2</td>\n",
       "      <td>5</td>\n",
       "      <td>4</td>\n",
       "      <td>10</td>\n",
       "    </tr>\n",
       "    <tr>\n",
       "      <th>2</th>\n",
       "      <td>Добавить блоки рекомендаций товаров на сайт интернет магазина, чтобы повысить конверсию и средний чек заказа</td>\n",
       "      <td>8</td>\n",
       "      <td>3</td>\n",
       "      <td>7</td>\n",
       "      <td>3</td>\n",
       "    </tr>\n",
       "    <tr>\n",
       "      <th>3</th>\n",
       "      <td>Изменить структура категорий, что увеличит конверсию, т.к. пользователи быстрее найдут нужный товар</td>\n",
       "      <td>8</td>\n",
       "      <td>3</td>\n",
       "      <td>3</td>\n",
       "      <td>8</td>\n",
       "    </tr>\n",
       "    <tr>\n",
       "      <th>4</th>\n",
       "      <td>Изменить цвет фона главной страницы, чтобы увеличить вовлеченность пользователей</td>\n",
       "      <td>3</td>\n",
       "      <td>1</td>\n",
       "      <td>1</td>\n",
       "      <td>1</td>\n",
       "    </tr>\n",
       "    <tr>\n",
       "      <th>5</th>\n",
       "      <td>Добавить страницу отзывов клиентов о магазине, что позволит увеличить количество заказов</td>\n",
       "      <td>3</td>\n",
       "      <td>2</td>\n",
       "      <td>2</td>\n",
       "      <td>3</td>\n",
       "    </tr>\n",
       "    <tr>\n",
       "      <th>6</th>\n",
       "      <td>Показать на главной странице баннеры с актуальными акциями и распродажами, чтобы увеличить конверсию</td>\n",
       "      <td>5</td>\n",
       "      <td>3</td>\n",
       "      <td>8</td>\n",
       "      <td>3</td>\n",
       "    </tr>\n",
       "    <tr>\n",
       "      <th>7</th>\n",
       "      <td>Добавить форму подписки на все основные страницы, чтобы собрать базу клиентов для email-рассылок</td>\n",
       "      <td>10</td>\n",
       "      <td>7</td>\n",
       "      <td>8</td>\n",
       "      <td>5</td>\n",
       "    </tr>\n",
       "    <tr>\n",
       "      <th>8</th>\n",
       "      <td>Запустить акцию, дающую скидку на товар в день рождения</td>\n",
       "      <td>1</td>\n",
       "      <td>9</td>\n",
       "      <td>9</td>\n",
       "      <td>5</td>\n",
       "    </tr>\n",
       "  </tbody>\n",
       "</table>\n",
       "</div>"
      ],
      "text/plain": [
       "                                                                                                     hypothesis  \\\n",
       "0  Добавить два новых канала привлечения трафика, что позволит привлекать на 30% больше пользователей             \n",
       "1  Запустить собственную службу доставки, что сократит срок доставки заказов                                      \n",
       "2  Добавить блоки рекомендаций товаров на сайт интернет магазина, чтобы повысить конверсию и средний чек заказа   \n",
       "3  Изменить структура категорий, что увеличит конверсию, т.к. пользователи быстрее найдут нужный товар            \n",
       "4  Изменить цвет фона главной страницы, чтобы увеличить вовлеченность пользователей                               \n",
       "5  Добавить страницу отзывов клиентов о магазине, что позволит увеличить количество заказов                       \n",
       "6  Показать на главной странице баннеры с актуальными акциями и распродажами, чтобы увеличить конверсию           \n",
       "7  Добавить форму подписки на все основные страницы, чтобы собрать базу клиентов для email-рассылок               \n",
       "8  Запустить акцию, дающую скидку на товар в день рождения                                                        \n",
       "\n",
       "   reach  impact  confidence  efforts  \n",
       "0  3      10      8           6        \n",
       "1  2      5       4           10       \n",
       "2  8      3       7           3        \n",
       "3  8      3       3           8        \n",
       "4  3      1       1           1        \n",
       "5  3      2       2           3        \n",
       "6  5      3       8           3        \n",
       "7  10     7       8           5        \n",
       "8  1      9       9           5        "
      ]
     },
     "metadata": {},
     "output_type": "display_data"
    }
   ],
   "source": [
    "hypothesis.columns = [x.lower() for x in hypothesis.columns]\n",
    "pd.options.display.max_colwidth = 1\n",
    "display(hypothesis)"
   ]
  },
  {
   "cell_type": "markdown",
   "id": "5c4ecfa9",
   "metadata": {},
   "source": [
    "Начнем с фреймворка `ICE`:\n",
    "`ICE = (impact * confidence) / efforts`\n",
    "\n",
    "Здесь мы оцениваем отношение, насколько мы уверены, что изменение повлияет на пользователей и именно так, как мы рассчитывали, к стоимости внедрения такой гипотезы. Т.е. на первый план при оценке `ICE` выходят те гипотезы, внедрение которых максимально влияет на пользователей, при этом стоимость такого изменения- минимальна. \n",
    "Видно, что ТОП-2 гипотез следующий: \n",
    "- 8\tЗапустить акцию, дающую скидку на товар в день рождения: `ICE = 16.20`,\n",
    "- 0 Добавить два новых канала привлечения трафика, что позволит привлекать на 30% больше пользователей : `ICE = 13.33`, \n",
    "- 7 Добавить форму подписки на все основные страницы, чтобы собрать базу клиентов для email-рассылок: `ICE = 11.20`\n",
    "\n",
    "Эти гипотезы требуют средних денежных и временных затрат на их внедрение, однако оказывают большое влияние на пользователей. Поэтому их приоритет `ICE` максимален и при таком способе подсчета данные гипотезы являются наиболее приоритетными для внедрения. "
   ]
  },
  {
   "cell_type": "code",
   "execution_count": 5,
   "id": "3bdb1637",
   "metadata": {
    "scrolled": true
   },
   "outputs": [
    {
     "data": {
      "text/html": [
       "<div>\n",
       "<style scoped>\n",
       "    .dataframe tbody tr th:only-of-type {\n",
       "        vertical-align: middle;\n",
       "    }\n",
       "\n",
       "    .dataframe tbody tr th {\n",
       "        vertical-align: top;\n",
       "    }\n",
       "\n",
       "    .dataframe thead th {\n",
       "        text-align: right;\n",
       "    }\n",
       "</style>\n",
       "<table border=\"1\" class=\"dataframe\">\n",
       "  <thead>\n",
       "    <tr style=\"text-align: right;\">\n",
       "      <th></th>\n",
       "      <th>hypothesis</th>\n",
       "      <th>ICE</th>\n",
       "    </tr>\n",
       "  </thead>\n",
       "  <tbody>\n",
       "    <tr>\n",
       "      <th>8</th>\n",
       "      <td>Запустить акцию, дающую скидку на товар в день рождения</td>\n",
       "      <td>16.20</td>\n",
       "    </tr>\n",
       "    <tr>\n",
       "      <th>0</th>\n",
       "      <td>Добавить два новых канала привлечения трафика, что позволит привлекать на 30% больше пользователей</td>\n",
       "      <td>13.33</td>\n",
       "    </tr>\n",
       "    <tr>\n",
       "      <th>7</th>\n",
       "      <td>Добавить форму подписки на все основные страницы, чтобы собрать базу клиентов для email-рассылок</td>\n",
       "      <td>11.20</td>\n",
       "    </tr>\n",
       "    <tr>\n",
       "      <th>6</th>\n",
       "      <td>Показать на главной странице баннеры с актуальными акциями и распродажами, чтобы увеличить конверсию</td>\n",
       "      <td>8.00</td>\n",
       "    </tr>\n",
       "    <tr>\n",
       "      <th>2</th>\n",
       "      <td>Добавить блоки рекомендаций товаров на сайт интернет магазина, чтобы повысить конверсию и средний чек заказа</td>\n",
       "      <td>7.00</td>\n",
       "    </tr>\n",
       "    <tr>\n",
       "      <th>1</th>\n",
       "      <td>Запустить собственную службу доставки, что сократит срок доставки заказов</td>\n",
       "      <td>2.00</td>\n",
       "    </tr>\n",
       "    <tr>\n",
       "      <th>5</th>\n",
       "      <td>Добавить страницу отзывов клиентов о магазине, что позволит увеличить количество заказов</td>\n",
       "      <td>1.33</td>\n",
       "    </tr>\n",
       "    <tr>\n",
       "      <th>3</th>\n",
       "      <td>Изменить структура категорий, что увеличит конверсию, т.к. пользователи быстрее найдут нужный товар</td>\n",
       "      <td>1.12</td>\n",
       "    </tr>\n",
       "    <tr>\n",
       "      <th>4</th>\n",
       "      <td>Изменить цвет фона главной страницы, чтобы увеличить вовлеченность пользователей</td>\n",
       "      <td>1.00</td>\n",
       "    </tr>\n",
       "  </tbody>\n",
       "</table>\n",
       "</div>"
      ],
      "text/plain": [
       "                                                                                                     hypothesis  \\\n",
       "8  Запустить акцию, дающую скидку на товар в день рождения                                                        \n",
       "0  Добавить два новых канала привлечения трафика, что позволит привлекать на 30% больше пользователей             \n",
       "7  Добавить форму подписки на все основные страницы, чтобы собрать базу клиентов для email-рассылок               \n",
       "6  Показать на главной странице баннеры с актуальными акциями и распродажами, чтобы увеличить конверсию           \n",
       "2  Добавить блоки рекомендаций товаров на сайт интернет магазина, чтобы повысить конверсию и средний чек заказа   \n",
       "1  Запустить собственную службу доставки, что сократит срок доставки заказов                                      \n",
       "5  Добавить страницу отзывов клиентов о магазине, что позволит увеличить количество заказов                       \n",
       "3  Изменить структура категорий, что увеличит конверсию, т.к. пользователи быстрее найдут нужный товар            \n",
       "4  Изменить цвет фона главной страницы, чтобы увеличить вовлеченность пользователей                               \n",
       "\n",
       "     ICE  \n",
       "8  16.20  \n",
       "0  13.33  \n",
       "7  11.20  \n",
       "6  8.00   \n",
       "2  7.00   \n",
       "1  2.00   \n",
       "5  1.33   \n",
       "3  1.12   \n",
       "4  1.00   "
      ]
     },
     "metadata": {},
     "output_type": "display_data"
    }
   ],
   "source": [
    "hypothesis['ICE'] = round((hypothesis['impact'] * hypothesis['confidence']) / hypothesis['efforts'], 2)\n",
    "display(hypothesis.sort_values(by = 'ICE', ascending = False)[['hypothesis', 'ICE']])"
   ]
  },
  {
   "cell_type": "markdown",
   "id": "ae4331c7",
   "metadata": {},
   "source": [
    "Проверим эти же гипотезы по фреймворку `RICE`: `RICE = (reach * impact * confidence) / efforts`\n",
    "\n",
    "При таком способе расчета мы также оцениваем, какое количество пользователей затронет наша гипотеза - чем большее, тем выше показатель `reach`.\n",
    "Видно, что при оценке `RICE` ТОП-3 гипотез изменился: \n",
    "- 7 Добавить форму подписки на все основные страницы, чтобы собрать базу клиентов для email-рассылок: `RICE = 112.0`;\n",
    "- 2 Добавить блоки рекомендаций товаров на сайт интернет магазина, чтобы повысить конверсию и средний чек заказа: `RICE = 56.0`;\n",
    "- 0 Добавить два новых канала привлечения трафика, что позволит привлекать на 30% больше пользователей : `RICE = 40.0`\n",
    "\n",
    "На первое место уверенно вышла гипотеза 7, которая затрагивает абсолютно всех пользователей, а стоимость ее внедрения - средняя. Именно поэтому ее приоритет выше всего. \n",
    "На второе место вышла гипотеза 2, которая также затрагивает всех пользователей и имеет низкую стоимость внедрения. \n",
    "Третье место - гипотеза 0 (небольшой охват пользователей, но остальные параметры довольно высоки). \n",
    "\n",
    "В ТОП-3 `ICE` и `RICE` попали гипотезы 0 и 7. \n",
    "А вот 8 и 2 попали только в один из рейтингов и вот почему: \n",
    "- 8: очень низкий показатель охвата пользователей - ТОП-3 `ICE`, \n",
    "- 2: наоборот, высокий показатель охвата `reach`, но низкий показатель изменений для пользователей `impact` - ТОП-3 `RICE`\n",
    "\n",
    "Таким образом, гипотезы могут менять приоритет в зависимости от метода оценки и подсчета - `ICE` или `RICE`"
   ]
  },
  {
   "cell_type": "code",
   "execution_count": 6,
   "id": "282e2981",
   "metadata": {
    "scrolled": false
   },
   "outputs": [
    {
     "data": {
      "text/html": [
       "<div>\n",
       "<style scoped>\n",
       "    .dataframe tbody tr th:only-of-type {\n",
       "        vertical-align: middle;\n",
       "    }\n",
       "\n",
       "    .dataframe tbody tr th {\n",
       "        vertical-align: top;\n",
       "    }\n",
       "\n",
       "    .dataframe thead th {\n",
       "        text-align: right;\n",
       "    }\n",
       "</style>\n",
       "<table border=\"1\" class=\"dataframe\">\n",
       "  <thead>\n",
       "    <tr style=\"text-align: right;\">\n",
       "      <th></th>\n",
       "      <th>hypothesis</th>\n",
       "      <th>RICE</th>\n",
       "    </tr>\n",
       "  </thead>\n",
       "  <tbody>\n",
       "    <tr>\n",
       "      <th>7</th>\n",
       "      <td>Добавить форму подписки на все основные страницы, чтобы собрать базу клиентов для email-рассылок</td>\n",
       "      <td>112.0</td>\n",
       "    </tr>\n",
       "    <tr>\n",
       "      <th>2</th>\n",
       "      <td>Добавить блоки рекомендаций товаров на сайт интернет магазина, чтобы повысить конверсию и средний чек заказа</td>\n",
       "      <td>56.0</td>\n",
       "    </tr>\n",
       "    <tr>\n",
       "      <th>0</th>\n",
       "      <td>Добавить два новых канала привлечения трафика, что позволит привлекать на 30% больше пользователей</td>\n",
       "      <td>40.0</td>\n",
       "    </tr>\n",
       "    <tr>\n",
       "      <th>6</th>\n",
       "      <td>Показать на главной странице баннеры с актуальными акциями и распродажами, чтобы увеличить конверсию</td>\n",
       "      <td>40.0</td>\n",
       "    </tr>\n",
       "    <tr>\n",
       "      <th>8</th>\n",
       "      <td>Запустить акцию, дающую скидку на товар в день рождения</td>\n",
       "      <td>16.2</td>\n",
       "    </tr>\n",
       "    <tr>\n",
       "      <th>3</th>\n",
       "      <td>Изменить структура категорий, что увеличит конверсию, т.к. пользователи быстрее найдут нужный товар</td>\n",
       "      <td>9.0</td>\n",
       "    </tr>\n",
       "    <tr>\n",
       "      <th>1</th>\n",
       "      <td>Запустить собственную службу доставки, что сократит срок доставки заказов</td>\n",
       "      <td>4.0</td>\n",
       "    </tr>\n",
       "    <tr>\n",
       "      <th>5</th>\n",
       "      <td>Добавить страницу отзывов клиентов о магазине, что позволит увеличить количество заказов</td>\n",
       "      <td>4.0</td>\n",
       "    </tr>\n",
       "    <tr>\n",
       "      <th>4</th>\n",
       "      <td>Изменить цвет фона главной страницы, чтобы увеличить вовлеченность пользователей</td>\n",
       "      <td>3.0</td>\n",
       "    </tr>\n",
       "  </tbody>\n",
       "</table>\n",
       "</div>"
      ],
      "text/plain": [
       "                                                                                                     hypothesis  \\\n",
       "7  Добавить форму подписки на все основные страницы, чтобы собрать базу клиентов для email-рассылок               \n",
       "2  Добавить блоки рекомендаций товаров на сайт интернет магазина, чтобы повысить конверсию и средний чек заказа   \n",
       "0  Добавить два новых канала привлечения трафика, что позволит привлекать на 30% больше пользователей             \n",
       "6  Показать на главной странице баннеры с актуальными акциями и распродажами, чтобы увеличить конверсию           \n",
       "8  Запустить акцию, дающую скидку на товар в день рождения                                                        \n",
       "3  Изменить структура категорий, что увеличит конверсию, т.к. пользователи быстрее найдут нужный товар            \n",
       "1  Запустить собственную службу доставки, что сократит срок доставки заказов                                      \n",
       "5  Добавить страницу отзывов клиентов о магазине, что позволит увеличить количество заказов                       \n",
       "4  Изменить цвет фона главной страницы, чтобы увеличить вовлеченность пользователей                               \n",
       "\n",
       "    RICE  \n",
       "7  112.0  \n",
       "2  56.0   \n",
       "0  40.0   \n",
       "6  40.0   \n",
       "8  16.2   \n",
       "3  9.0    \n",
       "1  4.0    \n",
       "5  4.0    \n",
       "4  3.0    "
      ]
     },
     "metadata": {},
     "output_type": "display_data"
    }
   ],
   "source": [
    "hypothesis['RICE'] = round((hypothesis['reach'] * hypothesis['impact'] * hypothesis['confidence']) / hypothesis['efforts'], 2)\n",
    "display(hypothesis.sort_values(by = 'RICE', ascending = False)[['hypothesis', 'RICE']])"
   ]
  },
  {
   "cell_type": "markdown",
   "id": "3605724c",
   "metadata": {},
   "source": [
    "# II часть. Анализ A/B-теста.\n",
    "Займемся анализом результатов А/В теста и интерпретацией результата. \n",
    "Загрузим датафреймы `orders` (информация о заказах) и `visitors` (информация о визитах). В обоих датафреймах данные занесены верно, колонки названы корректно, пропусков нет. Изменим столбцы `date` на формат даты и можем приступать к обработке данных. \n",
    "Здесь и далее группа `A` - контрольная (без изменений), `B` - группа, при помощи которой подтверждали гипотезу."
   ]
  },
  {
   "cell_type": "code",
   "execution_count": 7,
   "id": "1cee1c02",
   "metadata": {},
   "outputs": [
    {
     "name": "stdout",
     "output_type": "stream",
     "text": [
      "<class 'pandas.core.frame.DataFrame'>\n",
      "RangeIndex: 1197 entries, 0 to 1196\n",
      "Data columns (total 5 columns):\n",
      " #   Column         Non-Null Count  Dtype \n",
      "---  ------         --------------  ----- \n",
      " 0   transactionId  1197 non-null   int64 \n",
      " 1   visitorId      1197 non-null   int64 \n",
      " 2   date           1197 non-null   object\n",
      " 3   revenue        1197 non-null   int64 \n",
      " 4   group          1197 non-null   object\n",
      "dtypes: int64(3), object(2)\n",
      "memory usage: 46.9+ KB\n"
     ]
    },
    {
     "data": {
      "text/html": [
       "<div>\n",
       "<style scoped>\n",
       "    .dataframe tbody tr th:only-of-type {\n",
       "        vertical-align: middle;\n",
       "    }\n",
       "\n",
       "    .dataframe tbody tr th {\n",
       "        vertical-align: top;\n",
       "    }\n",
       "\n",
       "    .dataframe thead th {\n",
       "        text-align: right;\n",
       "    }\n",
       "</style>\n",
       "<table border=\"1\" class=\"dataframe\">\n",
       "  <thead>\n",
       "    <tr style=\"text-align: right;\">\n",
       "      <th></th>\n",
       "      <th>transactionId</th>\n",
       "      <th>visitorId</th>\n",
       "      <th>date</th>\n",
       "      <th>revenue</th>\n",
       "      <th>group</th>\n",
       "    </tr>\n",
       "  </thead>\n",
       "  <tbody>\n",
       "    <tr>\n",
       "      <th>0</th>\n",
       "      <td>3667963787</td>\n",
       "      <td>3312258926</td>\n",
       "      <td>2019-08-15</td>\n",
       "      <td>1650</td>\n",
       "      <td>B</td>\n",
       "    </tr>\n",
       "    <tr>\n",
       "      <th>1</th>\n",
       "      <td>2804400009</td>\n",
       "      <td>3642806036</td>\n",
       "      <td>2019-08-15</td>\n",
       "      <td>730</td>\n",
       "      <td>B</td>\n",
       "    </tr>\n",
       "    <tr>\n",
       "      <th>2</th>\n",
       "      <td>2961555356</td>\n",
       "      <td>4069496402</td>\n",
       "      <td>2019-08-15</td>\n",
       "      <td>400</td>\n",
       "      <td>A</td>\n",
       "    </tr>\n",
       "    <tr>\n",
       "      <th>3</th>\n",
       "      <td>3797467345</td>\n",
       "      <td>1196621759</td>\n",
       "      <td>2019-08-15</td>\n",
       "      <td>9759</td>\n",
       "      <td>B</td>\n",
       "    </tr>\n",
       "    <tr>\n",
       "      <th>4</th>\n",
       "      <td>2282983706</td>\n",
       "      <td>2322279887</td>\n",
       "      <td>2019-08-15</td>\n",
       "      <td>2308</td>\n",
       "      <td>B</td>\n",
       "    </tr>\n",
       "  </tbody>\n",
       "</table>\n",
       "</div>"
      ],
      "text/plain": [
       "   transactionId   visitorId       date  revenue group\n",
       "0  3667963787     3312258926 2019-08-15  1650     B   \n",
       "1  2804400009     3642806036 2019-08-15  730      B   \n",
       "2  2961555356     4069496402 2019-08-15  400      A   \n",
       "3  3797467345     1196621759 2019-08-15  9759     B   \n",
       "4  2282983706     2322279887 2019-08-15  2308     B   "
      ]
     },
     "execution_count": 7,
     "metadata": {},
     "output_type": "execute_result"
    }
   ],
   "source": [
    "orders.info()\n",
    "orders['date'] = orders['date'].map(lambda x: dt.datetime.strptime(x, '%Y-%m-%d'))\n",
    "orders.head()"
   ]
  },
  {
   "cell_type": "code",
   "execution_count": 8,
   "id": "98718554",
   "metadata": {},
   "outputs": [
    {
     "name": "stdout",
     "output_type": "stream",
     "text": [
      "<class 'pandas.core.frame.DataFrame'>\n",
      "RangeIndex: 62 entries, 0 to 61\n",
      "Data columns (total 3 columns):\n",
      " #   Column    Non-Null Count  Dtype \n",
      "---  ------    --------------  ----- \n",
      " 0   date      62 non-null     object\n",
      " 1   group     62 non-null     object\n",
      " 2   visitors  62 non-null     int64 \n",
      "dtypes: int64(1), object(2)\n",
      "memory usage: 1.6+ KB\n"
     ]
    },
    {
     "data": {
      "text/html": [
       "<div>\n",
       "<style scoped>\n",
       "    .dataframe tbody tr th:only-of-type {\n",
       "        vertical-align: middle;\n",
       "    }\n",
       "\n",
       "    .dataframe tbody tr th {\n",
       "        vertical-align: top;\n",
       "    }\n",
       "\n",
       "    .dataframe thead th {\n",
       "        text-align: right;\n",
       "    }\n",
       "</style>\n",
       "<table border=\"1\" class=\"dataframe\">\n",
       "  <thead>\n",
       "    <tr style=\"text-align: right;\">\n",
       "      <th></th>\n",
       "      <th>date</th>\n",
       "      <th>group</th>\n",
       "      <th>visitors</th>\n",
       "    </tr>\n",
       "  </thead>\n",
       "  <tbody>\n",
       "    <tr>\n",
       "      <th>0</th>\n",
       "      <td>2019-08-01</td>\n",
       "      <td>A</td>\n",
       "      <td>719</td>\n",
       "    </tr>\n",
       "    <tr>\n",
       "      <th>1</th>\n",
       "      <td>2019-08-02</td>\n",
       "      <td>A</td>\n",
       "      <td>619</td>\n",
       "    </tr>\n",
       "    <tr>\n",
       "      <th>2</th>\n",
       "      <td>2019-08-03</td>\n",
       "      <td>A</td>\n",
       "      <td>507</td>\n",
       "    </tr>\n",
       "    <tr>\n",
       "      <th>3</th>\n",
       "      <td>2019-08-04</td>\n",
       "      <td>A</td>\n",
       "      <td>717</td>\n",
       "    </tr>\n",
       "    <tr>\n",
       "      <th>4</th>\n",
       "      <td>2019-08-05</td>\n",
       "      <td>A</td>\n",
       "      <td>756</td>\n",
       "    </tr>\n",
       "  </tbody>\n",
       "</table>\n",
       "</div>"
      ],
      "text/plain": [
       "        date group  visitors\n",
       "0 2019-08-01  A     719     \n",
       "1 2019-08-02  A     619     \n",
       "2 2019-08-03  A     507     \n",
       "3 2019-08-04  A     717     \n",
       "4 2019-08-05  A     756     "
      ]
     },
     "execution_count": 8,
     "metadata": {},
     "output_type": "execute_result"
    }
   ],
   "source": [
    "visitors.info()\n",
    "visitors['date'] = visitors['date'].map(lambda x: dt.datetime.strptime(x, '%Y-%m-%d'))\n",
    "visitors.head()"
   ]
  },
  {
   "cell_type": "markdown",
   "id": "2b97926b",
   "metadata": {},
   "source": [
    "Если мы посмотрим на вывод `info()` обоих датафреймов, то увидим, что пропуски значений отсутствуют. Проверим, есть ли дубликаты в таблицах, а также посмотрим, не попали ли какие-то пользователи в обе группы исследования одновременно. "
   ]
  },
  {
   "cell_type": "code",
   "execution_count": 9,
   "id": "c5c4847a",
   "metadata": {
    "scrolled": true
   },
   "outputs": [
    {
     "data": {
      "text/html": [
       "<div>\n",
       "<style scoped>\n",
       "    .dataframe tbody tr th:only-of-type {\n",
       "        vertical-align: middle;\n",
       "    }\n",
       "\n",
       "    .dataframe tbody tr th {\n",
       "        vertical-align: top;\n",
       "    }\n",
       "\n",
       "    .dataframe thead th {\n",
       "        text-align: right;\n",
       "    }\n",
       "</style>\n",
       "<table border=\"1\" class=\"dataframe\">\n",
       "  <thead>\n",
       "    <tr style=\"text-align: right;\">\n",
       "      <th></th>\n",
       "      <th>transactionId</th>\n",
       "      <th>visitorId</th>\n",
       "      <th>date</th>\n",
       "      <th>revenue</th>\n",
       "      <th>group</th>\n",
       "    </tr>\n",
       "  </thead>\n",
       "  <tbody>\n",
       "  </tbody>\n",
       "</table>\n",
       "</div>"
      ],
      "text/plain": [
       "Empty DataFrame\n",
       "Columns: [transactionId, visitorId, date, revenue, group]\n",
       "Index: []"
      ]
     },
     "execution_count": 9,
     "metadata": {},
     "output_type": "execute_result"
    }
   ],
   "source": [
    "orders.loc[orders.duplicated()]"
   ]
  },
  {
   "cell_type": "code",
   "execution_count": 10,
   "id": "c84dceae",
   "metadata": {},
   "outputs": [
    {
     "data": {
      "text/html": [
       "<div>\n",
       "<style scoped>\n",
       "    .dataframe tbody tr th:only-of-type {\n",
       "        vertical-align: middle;\n",
       "    }\n",
       "\n",
       "    .dataframe tbody tr th {\n",
       "        vertical-align: top;\n",
       "    }\n",
       "\n",
       "    .dataframe thead th {\n",
       "        text-align: right;\n",
       "    }\n",
       "</style>\n",
       "<table border=\"1\" class=\"dataframe\">\n",
       "  <thead>\n",
       "    <tr style=\"text-align: right;\">\n",
       "      <th></th>\n",
       "      <th>date</th>\n",
       "      <th>group</th>\n",
       "      <th>visitors</th>\n",
       "    </tr>\n",
       "  </thead>\n",
       "  <tbody>\n",
       "  </tbody>\n",
       "</table>\n",
       "</div>"
      ],
      "text/plain": [
       "Empty DataFrame\n",
       "Columns: [date, group, visitors]\n",
       "Index: []"
      ]
     },
     "execution_count": 10,
     "metadata": {},
     "output_type": "execute_result"
    }
   ],
   "source": [
    "visitors.loc[visitors.duplicated()]"
   ]
  },
  {
   "cell_type": "code",
   "execution_count": 11,
   "id": "fde91865",
   "metadata": {},
   "outputs": [],
   "source": [
    "orders_usersA = orders.query('group == \"A\"')[['transactionId', 'visitorId']]\n",
    "orders_usersB = orders.query('group == \"B\"')[['transactionId', 'visitorId']]"
   ]
  },
  {
   "cell_type": "code",
   "execution_count": 12,
   "id": "08cebfb1",
   "metadata": {},
   "outputs": [
    {
     "data": {
      "text/plain": [
       "89"
      ]
     },
     "execution_count": 12,
     "metadata": {},
     "output_type": "execute_result"
    }
   ],
   "source": [
    "# код ревьюера\n",
    "orders_usersA['visitorId'].isin(orders_usersB['visitorId']).sum()"
   ]
  },
  {
   "cell_type": "markdown",
   "id": "a5086fa8",
   "metadata": {},
   "source": [
    "Как видно, между столбцами `visitorId` в группах `A` и `B` есть пересечения. Найдем ID уникальных пользователей в каждой группе, при помощи множеств найдем пересечения этих ID. \n",
    "Как видно, в таблице `orders` 58 пересекающихся `visitorId`, всего строк с такими `visitorId` в таблице `orders`- 181. \n",
    "Я считаю, что подобные спорные `visitorId` - они противоречат самой сути A/B теста, где одно из главных условий- пользователи не должны пересекаться. "
   ]
  },
  {
   "cell_type": "code",
   "execution_count": 13,
   "id": "db633f6e",
   "metadata": {},
   "outputs": [
    {
     "name": "stdout",
     "output_type": "stream",
     "text": [
      "58\n"
     ]
    },
    {
     "data": {
      "text/plain": [
       "181"
      ]
     },
     "execution_count": 13,
     "metadata": {},
     "output_type": "execute_result"
    }
   ],
   "source": [
    "visitors_A = orders_usersA['visitorId'].unique()\n",
    "visitors_B = orders_usersB['visitorId'].unique()\n",
    "result=list(set(visitors_A) & set(visitors_B))\n",
    "print(len(result))\n",
    "len(orders.query('visitorId in @result'))"
   ]
  },
  {
   "cell_type": "code",
   "execution_count": 14,
   "id": "b3a555e9",
   "metadata": {},
   "outputs": [
    {
     "data": {
      "text/plain": [
       "1016"
      ]
     },
     "execution_count": 14,
     "metadata": {},
     "output_type": "execute_result"
    }
   ],
   "source": [
    "orders = orders.query('not(visitorId in @result)')\n",
    "len(orders)"
   ]
  },
  {
   "cell_type": "code",
   "execution_count": 15,
   "id": "92cedd83",
   "metadata": {},
   "outputs": [
    {
     "data": {
      "text/plain": [
       "0"
      ]
     },
     "execution_count": 15,
     "metadata": {},
     "output_type": "execute_result"
    }
   ],
   "source": [
    "orders_usersA = orders.query('group == \"A\"')[['transactionId', 'visitorId']]\n",
    "orders_usersB = orders.query('group == \"B\"')[['transactionId', 'visitorId']]\n",
    "orders_usersA['visitorId'].isin(orders_usersB['visitorId']).sum()"
   ]
  },
  {
   "cell_type": "markdown",
   "id": "59d51196",
   "metadata": {},
   "source": [
    "К сожалению, после удаления пересекающихся пользователей, таблица потеряла около 15% данных (`1197/1016` строк), однако теперь данные корректные и готовы к анализу. "
   ]
  },
  {
   "cell_type": "markdown",
   "id": "65daa5fd",
   "metadata": {},
   "source": [
    "## Анализ кумулятивных метрик\n",
    "Проведем анализ кумулятивных метрик. Это необходимо для того. чтобы исключите проблему \"подсматривания\". Для этого мы исследуем накопительные данные за все время теста и построим графики. \n",
    "\n",
    "Для анализа создадим таблицу с кумулятивными данными. \n",
    "Сначала создадим датафрейм `date_groups` c уникальными парами \"дата-группа\", затем получим из таблицы `orders` даты меньшие, чем в таблице `date_groups` и сагрегируем данные: \n",
    "- Дата,\n",
    "- Группа исследования,\n",
    "- Количество уникальных заказов, \n",
    "- Количество уникальных покупателей, \n",
    "- Сумма заказов. \n",
    "\n",
    "То же самое сделаем с датафреймом `visitors` и получим следующие столбцы: \n",
    "- Дата,\n",
    "- Группа исследования,\n",
    "- Количество уникальных посетителей. \n",
    "\n",
    "Сщединим полученные кумулятивные таблицы в одну `cumulative_data` по парам \"дата-группа\" и на ее основе будем строить кумулятивные графики."
   ]
  },
  {
   "cell_type": "code",
   "execution_count": 16,
   "id": "adef0733",
   "metadata": {
    "scrolled": false
   },
   "outputs": [
    {
     "data": {
      "text/html": [
       "<div>\n",
       "<style scoped>\n",
       "    .dataframe tbody tr th:only-of-type {\n",
       "        vertical-align: middle;\n",
       "    }\n",
       "\n",
       "    .dataframe tbody tr th {\n",
       "        vertical-align: top;\n",
       "    }\n",
       "\n",
       "    .dataframe thead th {\n",
       "        text-align: right;\n",
       "    }\n",
       "</style>\n",
       "<table border=\"1\" class=\"dataframe\">\n",
       "  <thead>\n",
       "    <tr style=\"text-align: right;\">\n",
       "      <th></th>\n",
       "      <th>date</th>\n",
       "      <th>group</th>\n",
       "    </tr>\n",
       "  </thead>\n",
       "  <tbody>\n",
       "    <tr>\n",
       "      <th>0</th>\n",
       "      <td>2019-08-15</td>\n",
       "      <td>B</td>\n",
       "    </tr>\n",
       "    <tr>\n",
       "      <th>7</th>\n",
       "      <td>2019-08-15</td>\n",
       "      <td>A</td>\n",
       "    </tr>\n",
       "    <tr>\n",
       "      <th>45</th>\n",
       "      <td>2019-08-16</td>\n",
       "      <td>A</td>\n",
       "    </tr>\n",
       "    <tr>\n",
       "      <th>47</th>\n",
       "      <td>2019-08-16</td>\n",
       "      <td>B</td>\n",
       "    </tr>\n",
       "    <tr>\n",
       "      <th>55</th>\n",
       "      <td>2019-08-01</td>\n",
       "      <td>A</td>\n",
       "    </tr>\n",
       "    <tr>\n",
       "      <th>...</th>\n",
       "      <td>...</td>\n",
       "      <td>...</td>\n",
       "    </tr>\n",
       "    <tr>\n",
       "      <th>1068</th>\n",
       "      <td>2019-08-12</td>\n",
       "      <td>A</td>\n",
       "    </tr>\n",
       "    <tr>\n",
       "      <th>1114</th>\n",
       "      <td>2019-08-13</td>\n",
       "      <td>B</td>\n",
       "    </tr>\n",
       "    <tr>\n",
       "      <th>1116</th>\n",
       "      <td>2019-08-13</td>\n",
       "      <td>A</td>\n",
       "    </tr>\n",
       "    <tr>\n",
       "      <th>1149</th>\n",
       "      <td>2019-08-14</td>\n",
       "      <td>B</td>\n",
       "    </tr>\n",
       "    <tr>\n",
       "      <th>1150</th>\n",
       "      <td>2019-08-14</td>\n",
       "      <td>A</td>\n",
       "    </tr>\n",
       "  </tbody>\n",
       "</table>\n",
       "<p>62 rows × 2 columns</p>\n",
       "</div>"
      ],
      "text/plain": [
       "           date group\n",
       "0    2019-08-15  B   \n",
       "7    2019-08-15  A   \n",
       "45   2019-08-16  A   \n",
       "47   2019-08-16  B   \n",
       "55   2019-08-01  A   \n",
       "...         ... ..   \n",
       "1068 2019-08-12  A   \n",
       "1114 2019-08-13  B   \n",
       "1116 2019-08-13  A   \n",
       "1149 2019-08-14  B   \n",
       "1150 2019-08-14  A   \n",
       "\n",
       "[62 rows x 2 columns]"
      ]
     },
     "execution_count": 16,
     "metadata": {},
     "output_type": "execute_result"
    }
   ],
   "source": [
    "date_groups = orders[['date', 'group']].drop_duplicates()\n",
    "date_groups"
   ]
  },
  {
   "cell_type": "code",
   "execution_count": 17,
   "id": "38dc4219",
   "metadata": {},
   "outputs": [
    {
     "data": {
      "text/html": [
       "<div>\n",
       "<style scoped>\n",
       "    .dataframe tbody tr th:only-of-type {\n",
       "        vertical-align: middle;\n",
       "    }\n",
       "\n",
       "    .dataframe tbody tr th {\n",
       "        vertical-align: top;\n",
       "    }\n",
       "\n",
       "    .dataframe thead th {\n",
       "        text-align: right;\n",
       "    }\n",
       "</style>\n",
       "<table border=\"1\" class=\"dataframe\">\n",
       "  <thead>\n",
       "    <tr style=\"text-align: right;\">\n",
       "      <th></th>\n",
       "      <th>date</th>\n",
       "      <th>group</th>\n",
       "      <th>transactionId</th>\n",
       "      <th>visitorId</th>\n",
       "      <th>revenue</th>\n",
       "    </tr>\n",
       "  </thead>\n",
       "  <tbody>\n",
       "    <tr>\n",
       "      <th>55</th>\n",
       "      <td>2019-08-01</td>\n",
       "      <td>A</td>\n",
       "      <td>23</td>\n",
       "      <td>19</td>\n",
       "      <td>142779</td>\n",
       "    </tr>\n",
       "    <tr>\n",
       "      <th>66</th>\n",
       "      <td>2019-08-01</td>\n",
       "      <td>B</td>\n",
       "      <td>17</td>\n",
       "      <td>17</td>\n",
       "      <td>59758</td>\n",
       "    </tr>\n",
       "    <tr>\n",
       "      <th>175</th>\n",
       "      <td>2019-08-02</td>\n",
       "      <td>A</td>\n",
       "      <td>42</td>\n",
       "      <td>36</td>\n",
       "      <td>234381</td>\n",
       "    </tr>\n",
       "    <tr>\n",
       "      <th>173</th>\n",
       "      <td>2019-08-02</td>\n",
       "      <td>B</td>\n",
       "      <td>40</td>\n",
       "      <td>39</td>\n",
       "      <td>221801</td>\n",
       "    </tr>\n",
       "    <tr>\n",
       "      <th>291</th>\n",
       "      <td>2019-08-03</td>\n",
       "      <td>A</td>\n",
       "      <td>66</td>\n",
       "      <td>60</td>\n",
       "      <td>346854</td>\n",
       "    </tr>\n",
       "  </tbody>\n",
       "</table>\n",
       "</div>"
      ],
      "text/plain": [
       "          date group  transactionId  visitorId  revenue\n",
       "55  2019-08-01  A     23             19         142779 \n",
       "66  2019-08-01  B     17             17         59758  \n",
       "175 2019-08-02  A     42             36         234381 \n",
       "173 2019-08-02  B     40             39         221801 \n",
       "291 2019-08-03  A     66             60         346854 "
      ]
     },
     "execution_count": 17,
     "metadata": {},
     "output_type": "execute_result"
    }
   ],
   "source": [
    "orders_agg = date_groups.apply(lambda x: orders[np.logical_and(orders['date'] <= x['date'], orders['group'] == x['group'])]\\\n",
    ".agg({'date' : 'max', 'group' : 'max', 'transactionId' : 'nunique', 'visitorId' : 'nunique', 'revenue' : 'sum'}), axis=1).sort_values(by=['date','group'])\n",
    "orders_agg.head()"
   ]
  },
  {
   "cell_type": "code",
   "execution_count": 18,
   "id": "416186b3",
   "metadata": {},
   "outputs": [
    {
     "data": {
      "text/html": [
       "<div>\n",
       "<style scoped>\n",
       "    .dataframe tbody tr th:only-of-type {\n",
       "        vertical-align: middle;\n",
       "    }\n",
       "\n",
       "    .dataframe tbody tr th {\n",
       "        vertical-align: top;\n",
       "    }\n",
       "\n",
       "    .dataframe thead th {\n",
       "        text-align: right;\n",
       "    }\n",
       "</style>\n",
       "<table border=\"1\" class=\"dataframe\">\n",
       "  <thead>\n",
       "    <tr style=\"text-align: right;\">\n",
       "      <th></th>\n",
       "      <th>date</th>\n",
       "      <th>group</th>\n",
       "      <th>visitors</th>\n",
       "    </tr>\n",
       "  </thead>\n",
       "  <tbody>\n",
       "    <tr>\n",
       "      <th>55</th>\n",
       "      <td>2019-08-01</td>\n",
       "      <td>A</td>\n",
       "      <td>719</td>\n",
       "    </tr>\n",
       "    <tr>\n",
       "      <th>66</th>\n",
       "      <td>2019-08-01</td>\n",
       "      <td>B</td>\n",
       "      <td>713</td>\n",
       "    </tr>\n",
       "    <tr>\n",
       "      <th>175</th>\n",
       "      <td>2019-08-02</td>\n",
       "      <td>A</td>\n",
       "      <td>1338</td>\n",
       "    </tr>\n",
       "    <tr>\n",
       "      <th>173</th>\n",
       "      <td>2019-08-02</td>\n",
       "      <td>B</td>\n",
       "      <td>1294</td>\n",
       "    </tr>\n",
       "    <tr>\n",
       "      <th>291</th>\n",
       "      <td>2019-08-03</td>\n",
       "      <td>A</td>\n",
       "      <td>1845</td>\n",
       "    </tr>\n",
       "  </tbody>\n",
       "</table>\n",
       "</div>"
      ],
      "text/plain": [
       "          date group  visitors\n",
       "55  2019-08-01  A     719     \n",
       "66  2019-08-01  B     713     \n",
       "175 2019-08-02  A     1338    \n",
       "173 2019-08-02  B     1294    \n",
       "291 2019-08-03  A     1845    "
      ]
     },
     "execution_count": 18,
     "metadata": {},
     "output_type": "execute_result"
    }
   ],
   "source": [
    "visitors_agg = date_groups.apply(lambda x: visitors[np.logical_and(visitors['date'] <= x['date'], visitors['group'] == x['group'])]\\\n",
    ".agg({'date' : 'max', 'group' : 'max', 'visitors' : 'sum'}), axis=1).sort_values(by=['date','group'])  \n",
    "visitors_agg.head() "
   ]
  },
  {
   "cell_type": "code",
   "execution_count": 19,
   "id": "a81db703",
   "metadata": {},
   "outputs": [
    {
     "data": {
      "text/html": [
       "<div>\n",
       "<style scoped>\n",
       "    .dataframe tbody tr th:only-of-type {\n",
       "        vertical-align: middle;\n",
       "    }\n",
       "\n",
       "    .dataframe tbody tr th {\n",
       "        vertical-align: top;\n",
       "    }\n",
       "\n",
       "    .dataframe thead th {\n",
       "        text-align: right;\n",
       "    }\n",
       "</style>\n",
       "<table border=\"1\" class=\"dataframe\">\n",
       "  <thead>\n",
       "    <tr style=\"text-align: right;\">\n",
       "      <th></th>\n",
       "      <th>date</th>\n",
       "      <th>group</th>\n",
       "      <th>orders</th>\n",
       "      <th>buyers</th>\n",
       "      <th>revenue</th>\n",
       "      <th>visitors</th>\n",
       "    </tr>\n",
       "  </thead>\n",
       "  <tbody>\n",
       "    <tr>\n",
       "      <th>0</th>\n",
       "      <td>2019-08-01</td>\n",
       "      <td>A</td>\n",
       "      <td>23</td>\n",
       "      <td>19</td>\n",
       "      <td>142779</td>\n",
       "      <td>719</td>\n",
       "    </tr>\n",
       "    <tr>\n",
       "      <th>1</th>\n",
       "      <td>2019-08-01</td>\n",
       "      <td>B</td>\n",
       "      <td>17</td>\n",
       "      <td>17</td>\n",
       "      <td>59758</td>\n",
       "      <td>713</td>\n",
       "    </tr>\n",
       "    <tr>\n",
       "      <th>2</th>\n",
       "      <td>2019-08-02</td>\n",
       "      <td>A</td>\n",
       "      <td>42</td>\n",
       "      <td>36</td>\n",
       "      <td>234381</td>\n",
       "      <td>1338</td>\n",
       "    </tr>\n",
       "    <tr>\n",
       "      <th>3</th>\n",
       "      <td>2019-08-02</td>\n",
       "      <td>B</td>\n",
       "      <td>40</td>\n",
       "      <td>39</td>\n",
       "      <td>221801</td>\n",
       "      <td>1294</td>\n",
       "    </tr>\n",
       "    <tr>\n",
       "      <th>4</th>\n",
       "      <td>2019-08-03</td>\n",
       "      <td>A</td>\n",
       "      <td>66</td>\n",
       "      <td>60</td>\n",
       "      <td>346854</td>\n",
       "      <td>1845</td>\n",
       "    </tr>\n",
       "  </tbody>\n",
       "</table>\n",
       "</div>"
      ],
      "text/plain": [
       "        date group  orders  buyers  revenue  visitors\n",
       "0 2019-08-01  A     23      19      142779   719     \n",
       "1 2019-08-01  B     17      17      59758    713     \n",
       "2 2019-08-02  A     42      36      234381   1338    \n",
       "3 2019-08-02  B     40      39      221801   1294    \n",
       "4 2019-08-03  A     66      60      346854   1845    "
      ]
     },
     "execution_count": 19,
     "metadata": {},
     "output_type": "execute_result"
    }
   ],
   "source": [
    "cumulative_data = orders_agg.merge(visitors_agg, left_on=['date', 'group'], right_on=['date', 'group'])\n",
    "cumulative_data.columns = ['date', 'group', 'orders', 'buyers', 'revenue', 'visitors']\n",
    "cumulative_data.head()"
   ]
  },
  {
   "cell_type": "markdown",
   "id": "a7163304",
   "metadata": {},
   "source": [
    "### Анализ кумулятивной выручки по группам А/B\n",
    "Рассморим графики кумулятивной выручки в группах. \n",
    "Для этого разделим `cumulative_data` на 2 датафрейма по группам анализа и построим графики кумулятивной выручки по каждой из групп. \n",
    "\n",
    "В ходе эксперимента кумулятивная выручка неуклонно растет, что неплохо.\n",
    "Видно, что в первые 12 дней проведения эксперимента кумулятивная выручка в группах была приблизительно одинакова, хоть группа `А` и немного отставала по выручке. На 13 день кумулятивная выручка сравнялась, однако далее выручка в группе `В` стала расти намного быстрее и к концу эксперимента окончательно обогнала группу `А`. Возможно, имеют место какие-то дорогие нетипичные заказы в группе `В`, сделанные на 18й день эксперимента. Были ли подобные выбросы- проверим далее."
   ]
  },
  {
   "cell_type": "code",
   "execution_count": 20,
   "id": "f46932b7",
   "metadata": {
    "scrolled": false
   },
   "outputs": [
    {
     "data": {
      "text/plain": [
       "<matplotlib.legend.Legend at 0x7f7634f43dc0>"
      ]
     },
     "execution_count": 20,
     "metadata": {},
     "output_type": "execute_result"
    },
    {
     "data": {
      "image/png": "[encoded data removed]",
      "text/plain": [
       "<Figure size 1080x360 with 1 Axes>"
      ]
     },
     "metadata": {
      "needs_background": "light"
     },
     "output_type": "display_data"
    }
   ],
   "source": [
    "# датафрейм с кумулятивным количеством заказов и кумулятивной выручкой по дням в группе А\n",
    "cumulative_revenueA = cumulative_data[cumulative_data['group'] == 'A'][['date', 'revenue', 'orders']]\n",
    "\n",
    "# датафрейм с кумулятивным количеством заказов и кумулятивной выручкой по дням в группе B\n",
    "cumulative_revenueB = cumulative_data[cumulative_data['group'] == 'B'][['date','revenue', 'orders']]\n",
    "\n",
    "fig = plt.figure(figsize=(15, 5))\n",
    "plt.plot(cumulative_revenueA['date'], cumulative_revenueA['revenue'], label = 'A')\n",
    "plt.plot(cumulative_revenueB['date'], cumulative_revenueB['revenue'], label = 'B')\n",
    "plt.xticks(rotation = 45)\n",
    "plt.axhline(y=4000000, color='grey', linestyle='--') \n",
    "plt.axhline(y=5900000, color='grey', linestyle='--')\n",
    "plt.title('График кумулятивной выручки контрольной (А) и экспериментальной (В) групп')\n",
    "plt.xlabel('Даты проведения эксперимента')\n",
    "plt.ylabel('Кумулятивная выручка')\n",
    "              \n",
    "plt.legend() "
   ]
  },
  {
   "cell_type": "markdown",
   "id": "43f8ce98",
   "metadata": {},
   "source": [
    "### Анализ кумулятивного среднего чека по группам А/B\n",
    "\n",
    "Для анализа среднего чека поделим в каждой группе сумму заказов на их количество и построим график кумулятивного среднего чека. \n",
    "Видно, что в ходе всего эксперимента группа `В` обгоняет контрольную и кривая среднего чека неуклонно растет. Однако также на 18 день (как и в предыдущем графике), произошел скачок среднего чека. Видимо, имеет место быть выброс в виде крупного заказа в этот день, как мы и предполагали.\n",
    "Контрольная группа `А` нестабильна: на 6й день средний чек снизился до минимума, затем стал расти и после 13 дня оставался относительно стабильным, без скачков. "
   ]
  },
  {
   "cell_type": "code",
   "execution_count": 21,
   "id": "8b66c981",
   "metadata": {},
   "outputs": [
    {
     "data": {
      "text/plain": [
       "<matplotlib.legend.Legend at 0x7f762cbaa0a0>"
      ]
     },
     "execution_count": 21,
     "metadata": {},
     "output_type": "execute_result"
    },
    {
     "data": {
      "image/png": "[encoded data removed]",
      "text/plain": [
       "<Figure size 1080x360 with 1 Axes>"
      ]
     },
     "metadata": {
      "needs_background": "light"
     },
     "output_type": "display_data"
    }
   ],
   "source": [
    "fig = plt.figure(figsize=(15, 5))\n",
    "plt.plot(cumulative_revenueA['date'], cumulative_revenueA['revenue']/cumulative_revenueA['orders'], label = 'A')\n",
    "plt.plot(cumulative_revenueB['date'], cumulative_revenueB['revenue']/cumulative_revenueB['orders'], label = 'B')\n",
    "plt.xticks(rotation = 45)\n",
    "plt.title('График кумулятивного среднего чека контрольной (А) и экспериментальной (В) групп')\n",
    "plt.xlabel('Даты проведения эксперимента')\n",
    "plt.ylabel('Кумулятивный средний чек')\n",
    "\n",
    "plt.legend() "
   ]
  },
  {
   "cell_type": "markdown",
   "id": "7ec713fd",
   "metadata": {},
   "source": [
    "### Анализ относительного изменения кумулятивного среднего чека группы B к группе A\n",
    "Для того, чтобы выяснить, каково относительное изменение чека в экспериментальной группе `B` относительно контрольной группы `A`, найдем отношение В/А и построим график изменений. \n",
    "Видно, что: \n",
    "- Практически везде средний чек группы В выше чем у группы А (график находится выше 0),\n",
    "- Средний чек группы В ниже только в 1 день эксперимента и с 10 по 14 день, \n",
    "- График растет неравномерно, видны скачки на 2, 5 и 18 день. \n",
    "\n",
    "Этот график подтверждает мое предположение о наличии крупных заказов-выбросов, которые влияют на ход эксперимента. "
   ]
  },
  {
   "cell_type": "code",
   "execution_count": 22,
   "id": "ae8770cf",
   "metadata": {
    "scrolled": false
   },
   "outputs": [
    {
     "data": {
      "text/plain": [
       "Text(0, 0.5, 'Отношение кумулятивного среднего чека групп B/A')"
      ]
     },
     "execution_count": 22,
     "metadata": {},
     "output_type": "execute_result"
    },
    {
     "data": {
      "image/png": "[encoded data removed]",
      "text/plain": [
       "<Figure size 1080x360 with 1 Axes>"
      ]
     },
     "metadata": {
      "needs_background": "light"
     },
     "output_type": "display_data"
    }
   ],
   "source": [
    "# собираем данные в одном датафрейме\n",
    "merg_cumulative_revenue = cumulative_revenueA.merge(cumulative_revenueB, left_on='date', right_on='date', how='left', suffixes=['A', 'B'])\n",
    "\n",
    "# cтроим отношение средних чеков\n",
    "fig = plt.figure(figsize=(15, 5))\n",
    "plt.plot(merg_cumulative_revenue['date'], (merg_cumulative_revenue['revenueB']/merg_cumulative_revenue['ordersB'])/\n",
    "         (merg_cumulative_revenue['revenueA']/merg_cumulative_revenue['ordersA'])-1, color = 'green')\n",
    "plt.xticks(rotation = 45)  \n",
    "# добавляем ось X\n",
    "plt.axhline(y=0, color='black', linestyle='--') \n",
    "\n",
    "plt.title('График относительного изменения кумулятивного среднего чека экспериментальной (В) к контрольной (А) группе')\n",
    "plt.xlabel('Даты проведения эксперимента')\n",
    "plt.ylabel('Отношение кумулятивного среднего чека групп B/A')           "
   ]
  },
  {
   "cell_type": "markdown",
   "id": "04bd4760",
   "metadata": {},
   "source": [
    "### Анализ кумулятивной конверсии по группам А/B\n",
    "\n",
    "Рассмотрим кумулятивную конверсию в контрольной (`А`) и экспериментальной (`В`) группах. \n",
    "Для этого в датасете `cumulative_data` рассчитаем конверсию, а затем создадим из этой таблицы 2 датасета с информацией о конверсии в каждой из групп. \n",
    "Видно, что примерно после недели эксперимента конверсия обеих групп зафиксировалась и находится в относительном равновесии. График симметричен относительно `y = 0.0285` - кумулятивная конверсия группы В после недели эксперимента находится выше этой линии (0.030-0.032), конверсия группы `А` - ниже (0.027-0.025). \n",
    "На первой неделе эксперимента конверсия группы `В` ощутимо меньше, чем у группы `А`, однако после недели она выровнялась и обогнала группу `А`. У контрольной же группы `А` конверсия сначала росла, достигла пика на 3-4 день (возможно, имела место какая-либо рекламная кампания в эти дни), а затем пошла на спад. Для анализа различия конверсии между группами построим график относительного различия кумулятивных конверсий. "
   ]
  },
  {
   "cell_type": "code",
   "execution_count": 23,
   "id": "b5e3b4ba",
   "metadata": {
    "scrolled": false
   },
   "outputs": [
    {
     "data": {
      "text/plain": [
       "<matplotlib.legend.Legend at 0x7f762caac220>"
      ]
     },
     "execution_count": 23,
     "metadata": {},
     "output_type": "execute_result"
    },
    {
     "data": {
      "image/png": "[encoded data removed]",
      "text/plain": [
       "<Figure size 1080x360 with 1 Axes>"
      ]
     },
     "metadata": {
      "needs_background": "light"
     },
     "output_type": "display_data"
    }
   ],
   "source": [
    "cumulative_data['conversion'] = cumulative_data['orders'] / cumulative_data['visitors']\n",
    "cumulative_conversionA = cumulative_data[cumulative_data['group'] == 'A']\n",
    "cumulative_conversionB = cumulative_data[cumulative_data['group'] == 'B']\n",
    "\n",
    "fig = plt.figure(figsize=(15, 5))\n",
    "plt.plot(cumulative_conversionA['date'], cumulative_conversionA['conversion'], label='A')\n",
    "plt.plot(cumulative_conversionB['date'], cumulative_conversionB['conversion'], label='B')\n",
    "plt.xticks(rotation = 45)\n",
    "plt.axhline(y=0.0285, color='black', linestyle='--') \n",
    "\n",
    "plt.xlabel('Даты проведения эксперимента')\n",
    "plt.ylabel('Отношение кумулятивной конверсии групп B/A') \n",
    "plt.legend()"
   ]
  },
  {
   "cell_type": "markdown",
   "id": "ed506dfe",
   "metadata": {},
   "source": [
    "### Анализ  относительного изменения кумулятивной конверсии группы B к группе A.\n",
    "\n",
    "Изучим график относительного прироста конверсии экспериментальной группы к контрольной. По графику видно, что практически всю первую неделю эксперимента конверсия группы `В` была ниже, нежели у группы `А`. Однако затем ситуация улучшилась и конверсия группы `В` стала расти относительно контрольной группы, далее конверсия зафиксировалась на уровне +(11-16)% группы В относительно группы `А`. \n",
    "Хотелось бы на сделать вывод о том, что эксперимент удался и экспериментальная группа `В` вырвалась вперед, однако стоит учесть возможные аномалии в обеих группах. "
   ]
  },
  {
   "cell_type": "code",
   "execution_count": 24,
   "id": "cbe2971a",
   "metadata": {
    "scrolled": false
   },
   "outputs": [
    {
     "data": {
      "text/plain": [
       "Text(0, 0.5, 'Прирост конверсии групп B/A')"
      ]
     },
     "execution_count": 24,
     "metadata": {},
     "output_type": "execute_result"
    },
    {
     "data": {
      "image/png": "[encoded data removed]",
      "text/plain": [
       "<Figure size 1080x360 with 1 Axes>"
      ]
     },
     "metadata": {
      "needs_background": "light"
     },
     "output_type": "display_data"
    }
   ],
   "source": [
    "merg_cumulative_conv = cumulative_conversionA[['date','conversion']].merge(cumulative_conversionB[['date','conversion']], \n",
    "                                                    left_on='date', right_on='date', how='left', suffixes=['A', 'B'])\n",
    "\n",
    "fig = plt.figure(figsize=(15, 5))\n",
    "plt.plot(merg_cumulative_conv['date'], merg_cumulative_conv['conversionB']/merg_cumulative_conv['conversionA']-1, color = 'green')\n",
    "plt.title('Относительный прирост конверсии группы B относительно группы A')\n",
    "\n",
    "plt.axhline(y=0.175, color='black', linestyle='--')\n",
    "plt.axhline(y=0.135, color='grey', linestyle='--')\n",
    "plt.axhline(y=0, color='red', linestyle='--')\n",
    "\n",
    "plt.xlabel('Даты проведения эксперимента')\n",
    "plt.ylabel('Прирост конверсии групп B/A') "
   ]
  },
  {
   "cell_type": "markdown",
   "id": "5e480b48",
   "metadata": {},
   "source": [
    "## Анализ выбросов\n",
    "\n",
    "Проведем анализ возможных выбросов и посмотрим, присутствуют ли выбросы в данных и какова граница этих выбросов. Для этого проанализируем данные о количестве и стоимости заказов пользователей.\n",
    "\n",
    "### Анализ количества заказов по пользователям\n",
    "Проанализируем заказы пользователей - для этого посчитаем количество заказов `orders_count` и сумму покупок `orders_sum` для каждого пользователя. Чтобы определить границу аномалий по количеству заказов и сумме, найдем 95 и 99 перцентиль для каждого из параметров. <a id='orders_users'></a>"
   ]
  },
  {
   "cell_type": "code",
   "execution_count": 25,
   "id": "922d2b0f",
   "metadata": {},
   "outputs": [
    {
     "data": {
      "text/html": [
       "<div>\n",
       "<style scoped>\n",
       "    .dataframe tbody tr th:only-of-type {\n",
       "        vertical-align: middle;\n",
       "    }\n",
       "\n",
       "    .dataframe tbody tr th {\n",
       "        vertical-align: top;\n",
       "    }\n",
       "\n",
       "    .dataframe thead th {\n",
       "        text-align: right;\n",
       "    }\n",
       "</style>\n",
       "<table border=\"1\" class=\"dataframe\">\n",
       "  <thead>\n",
       "    <tr style=\"text-align: right;\">\n",
       "      <th></th>\n",
       "      <th>orders_count</th>\n",
       "      <th>orders_sum</th>\n",
       "    </tr>\n",
       "    <tr>\n",
       "      <th>visitorId</th>\n",
       "      <th></th>\n",
       "      <th></th>\n",
       "    </tr>\n",
       "  </thead>\n",
       "  <tbody>\n",
       "    <tr>\n",
       "      <th>5114589</th>\n",
       "      <td>1</td>\n",
       "      <td>570</td>\n",
       "    </tr>\n",
       "    <tr>\n",
       "      <th>6958315</th>\n",
       "      <td>1</td>\n",
       "      <td>1490</td>\n",
       "    </tr>\n",
       "    <tr>\n",
       "      <th>11685486</th>\n",
       "      <td>1</td>\n",
       "      <td>6201</td>\n",
       "    </tr>\n",
       "    <tr>\n",
       "      <th>39475350</th>\n",
       "      <td>1</td>\n",
       "      <td>3990</td>\n",
       "    </tr>\n",
       "    <tr>\n",
       "      <th>47206413</th>\n",
       "      <td>1</td>\n",
       "      <td>730</td>\n",
       "    </tr>\n",
       "  </tbody>\n",
       "</table>\n",
       "</div>"
      ],
      "text/plain": [
       "           orders_count  orders_sum\n",
       "visitorId                          \n",
       "5114589    1             570       \n",
       "6958315    1             1490      \n",
       "11685486   1             6201      \n",
       "39475350   1             3990      \n",
       "47206413   1             730       "
      ]
     },
     "execution_count": 25,
     "metadata": {},
     "output_type": "execute_result"
    }
   ],
   "source": [
    "orders_users = orders.groupby('visitorId').agg({'transactionId':'nunique', 'revenue':'sum'})\n",
    "x_range = pd.Series(range(0, len(orders_users)))\n",
    "orders_users.columns = ['orders_count', 'orders_sum']\n",
    "orders_users.head()"
   ]
  },
  {
   "cell_type": "code",
   "execution_count": 26,
   "id": "8372812c",
   "metadata": {},
   "outputs": [
    {
     "name": "stdout",
     "output_type": "stream",
     "text": [
      "[1. 2.]\n",
      "[28910. 59082.]\n"
     ]
    }
   ],
   "source": [
    "print(np.percentile(orders_users['orders_count'], [95, 99]))\n",
    "print(np.percentile(orders_users['orders_sum'], [95, 99]))"
   ]
  },
  {
   "cell_type": "markdown",
   "id": "b6bf8bcb",
   "metadata": {},
   "source": [
    "Если проанализировать значения 95 и 99 перцентилей, то можно сказать:  <a id='trash'></a>\n",
    "- 95% пользователей делают 1 заказ и только 1% пользователей делает 2 и более заказа.\n",
    "- 95% пользователей покупают на общую сумму менее 28910.0 и только 1% пользователей купили на сумму более 59082.0\n",
    "\n",
    "Значения выше 95 перцентиля будем считать выбросами, т.к. они искажают общую картину, но являются очень малочисленными, чтобы по ним можно было составить общую картину. Если мы посмотрим на точечный график количества и стоимости заказов по пользователям, то можно заметить, что большая часть значений располагается ниже линии 95 перцентиля. Выше линии 95 (и тем более 99) перцентиля- единичные значения. \n",
    "\n",
    "Перейдем к расчету статистической значимости различий по исходным данным, а также по данным, очищенным от выбросов. За выбросы примем значения за границей 95 перцентиля. "
   ]
  },
  {
   "cell_type": "code",
   "execution_count": 27,
   "id": "b057d9f2",
   "metadata": {
    "scrolled": true
   },
   "outputs": [
    {
     "data": {
      "image/png": "[encoded data removed]",
      "text/plain": [
       "<Figure size 1080x360 with 2 Axes>"
      ]
     },
     "metadata": {
      "needs_background": "light"
     },
     "output_type": "display_data"
    }
   ],
   "source": [
    "fig = plt.figure(figsize=(15, 5))\n",
    "\n",
    "ax1 = plt.subplot(1, 2, 1)\n",
    "plt.scatter(x_range, orders_users['orders_count'])\n",
    "plt.axhline(y=2, color='green', linestyle='--')\n",
    "plt.title('График количества заказов по пользователям')\n",
    "plt.xlabel('Количество пользователей')\n",
    "plt.ylabel('Количество заказов одного пользователя')\n",
    "\n",
    "ax2 = plt.subplot(1, 2, 2)\n",
    "plt.scatter(x_range, orders_users['orders_sum'])\n",
    "plt.axhline(y=28910, color='green', linestyle='--')\n",
    "plt.axhline(y=59082, color='green', linestyle='--')\n",
    "plt.ylim(0, 125000)\n",
    "plt.title('График стоимости заказов по пользователям')\n",
    "plt.xlabel('Количество пользователей')\n",
    "plt.ylabel('Стоимость заказов одного пользователя')\n",
    "\n",
    "plt.show()"
   ]
  },
  {
   "cell_type": "markdown",
   "id": "d34bacbb",
   "metadata": {},
   "source": [
    "## Расчет статистической значимости различий между группами\n",
    "\n",
    "Проведем расчет статистической значимости метрик в контрольной и экспериментальной группах. Расчет будем вести как по \"сырым\" исходным данным, так и по данным, \"очищенным\" от выбросов. \n",
    "Для начала создадим сводную таблицу `data` со обычными и накопитиельными данными по обеим группам: "
   ]
  },
  {
   "cell_type": "code",
   "execution_count": 28,
   "id": "9b398714",
   "metadata": {},
   "outputs": [
    {
     "data": {
      "text/html": [
       "<div>\n",
       "<style scoped>\n",
       "    .dataframe tbody tr th:only-of-type {\n",
       "        vertical-align: middle;\n",
       "    }\n",
       "\n",
       "    .dataframe tbody tr th {\n",
       "        vertical-align: top;\n",
       "    }\n",
       "\n",
       "    .dataframe thead th {\n",
       "        text-align: right;\n",
       "    }\n",
       "</style>\n",
       "<table border=\"1\" class=\"dataframe\">\n",
       "  <thead>\n",
       "    <tr style=\"text-align: right;\">\n",
       "      <th></th>\n",
       "      <th>date</th>\n",
       "      <th>ordersPerDateA</th>\n",
       "      <th>revenuePerDateA</th>\n",
       "      <th>ordersPerDateB</th>\n",
       "      <th>revenuePerDateB</th>\n",
       "      <th>ordersCummulativeA</th>\n",
       "      <th>revenueCummulativeA</th>\n",
       "      <th>ordersCummulativeB</th>\n",
       "      <th>revenueCummulativeB</th>\n",
       "      <th>visitorsPerDateA</th>\n",
       "      <th>visitorsPerDateB</th>\n",
       "      <th>visitorsCummulativeA</th>\n",
       "      <th>visitorsCummulativeB</th>\n",
       "    </tr>\n",
       "  </thead>\n",
       "  <tbody>\n",
       "    <tr>\n",
       "      <th>0</th>\n",
       "      <td>2019-08-01</td>\n",
       "      <td>23</td>\n",
       "      <td>142779</td>\n",
       "      <td>17</td>\n",
       "      <td>59758</td>\n",
       "      <td>23</td>\n",
       "      <td>142779</td>\n",
       "      <td>17</td>\n",
       "      <td>59758</td>\n",
       "      <td>719</td>\n",
       "      <td>713</td>\n",
       "      <td>719</td>\n",
       "      <td>713</td>\n",
       "    </tr>\n",
       "    <tr>\n",
       "      <th>1</th>\n",
       "      <td>2019-08-02</td>\n",
       "      <td>19</td>\n",
       "      <td>91602</td>\n",
       "      <td>23</td>\n",
       "      <td>162043</td>\n",
       "      <td>42</td>\n",
       "      <td>234381</td>\n",
       "      <td>40</td>\n",
       "      <td>221801</td>\n",
       "      <td>619</td>\n",
       "      <td>581</td>\n",
       "      <td>1338</td>\n",
       "      <td>1294</td>\n",
       "    </tr>\n",
       "    <tr>\n",
       "      <th>2</th>\n",
       "      <td>2019-08-03</td>\n",
       "      <td>24</td>\n",
       "      <td>112473</td>\n",
       "      <td>14</td>\n",
       "      <td>67049</td>\n",
       "      <td>66</td>\n",
       "      <td>346854</td>\n",
       "      <td>54</td>\n",
       "      <td>288850</td>\n",
       "      <td>507</td>\n",
       "      <td>509</td>\n",
       "      <td>1845</td>\n",
       "      <td>1803</td>\n",
       "    </tr>\n",
       "    <tr>\n",
       "      <th>3</th>\n",
       "      <td>2019-08-04</td>\n",
       "      <td>11</td>\n",
       "      <td>41176</td>\n",
       "      <td>14</td>\n",
       "      <td>96890</td>\n",
       "      <td>77</td>\n",
       "      <td>388030</td>\n",
       "      <td>68</td>\n",
       "      <td>385740</td>\n",
       "      <td>717</td>\n",
       "      <td>770</td>\n",
       "      <td>2562</td>\n",
       "      <td>2573</td>\n",
       "    </tr>\n",
       "    <tr>\n",
       "      <th>4</th>\n",
       "      <td>2019-08-05</td>\n",
       "      <td>22</td>\n",
       "      <td>86383</td>\n",
       "      <td>21</td>\n",
       "      <td>89908</td>\n",
       "      <td>99</td>\n",
       "      <td>474413</td>\n",
       "      <td>89</td>\n",
       "      <td>475648</td>\n",
       "      <td>756</td>\n",
       "      <td>707</td>\n",
       "      <td>3318</td>\n",
       "      <td>3280</td>\n",
       "    </tr>\n",
       "  </tbody>\n",
       "</table>\n",
       "</div>"
      ],
      "text/plain": [
       "        date  ordersPerDateA  revenuePerDateA  ordersPerDateB  \\\n",
       "0 2019-08-01  23              142779           17               \n",
       "1 2019-08-02  19              91602            23               \n",
       "2 2019-08-03  24              112473           14               \n",
       "3 2019-08-04  11              41176            14               \n",
       "4 2019-08-05  22              86383            21               \n",
       "\n",
       "   revenuePerDateB  ordersCummulativeA  revenueCummulativeA  \\\n",
       "0  59758            23                  142779                \n",
       "1  162043           42                  234381                \n",
       "2  67049            66                  346854                \n",
       "3  96890            77                  388030                \n",
       "4  89908            99                  474413                \n",
       "\n",
       "   ordersCummulativeB  revenueCummulativeB  visitorsPerDateA  \\\n",
       "0  17                  59758                719                \n",
       "1  40                  221801               619                \n",
       "2  54                  288850               507                \n",
       "3  68                  385740               717                \n",
       "4  89                  475648               756                \n",
       "\n",
       "   visitorsPerDateB  visitorsCummulativeA  visitorsCummulativeB  \n",
       "0  713               719                   713                   \n",
       "1  581               1338                  1294                  \n",
       "2  509               1845                  1803                  \n",
       "3  770               2562                  2573                  \n",
       "4  707               3318                  3280                  "
      ]
     },
     "execution_count": 28,
     "metadata": {},
     "output_type": "execute_result"
    }
   ],
   "source": [
    "visitorsA_daily = visitors[visitors['group'] == 'A'][['date', 'visitors']].sort_values(by = 'date')\n",
    "visitorsA_daily.columns = ['date', 'visitorsPerDateA']\n",
    "\n",
    "visitorsB_daily = visitors[visitors['group'] == 'B'][['date', 'visitors']].sort_values(by = 'date')\n",
    "visitorsB_daily.columns = ['date', 'visitorsPerDateB']\n",
    "\n",
    "visitorsA_cumm = visitors_agg[visitors_agg['group'] == 'A']\n",
    "visitorsA_cumm = visitorsA_cumm[['date', 'visitors']].sort_values(by = 'date')\n",
    "visitorsA_cumm.columns = ['date', 'visitorsCummulativeA']\n",
    "\n",
    "visitorsB_cumm = visitors_agg[visitors_agg['group'] == 'B']\n",
    "visitorsB_cumm = visitorsB_cumm[['date', 'visitors']].sort_values(by = 'date')\n",
    "visitorsB_cumm.columns = ['date', 'visitorsCummulativeB']\n",
    "\n",
    "ordersA_daily = orders[orders['group'] == 'A'][['date', 'transactionId', 'visitorId', 'revenue']].groupby('date', \n",
    "                as_index = False).agg({'transactionId': pd.Series.nunique, 'revenue': 'sum'}).sort_values(by = 'date')\n",
    "ordersA_daily.columns = ['date', 'ordersPerDateA', 'revenuePerDateA']\n",
    "\n",
    "ordersB_daily = orders[orders['group'] == 'B'][['date', 'transactionId', 'visitorId', 'revenue']].groupby('date', \n",
    "                as_index = False).agg({'transactionId': pd.Series.nunique, 'revenue': 'sum'}).sort_values(by = 'date')\n",
    "ordersB_daily.columns = ['date', 'ordersPerDateB', 'revenuePerDateB']\n",
    "\n",
    "ordersA_cumm = orders_agg[orders_agg['group'] == 'A'][['date', 'transactionId', 'revenue']].sort_values(by = 'date')\n",
    "ordersA_cumm.columns = ['date', 'ordersCummulativeA', 'revenueCummulativeA']\n",
    "\n",
    "ordersB_cumm = orders_agg[orders_agg['group'] == 'B'][['date', 'transactionId', 'revenue']].sort_values(by = 'date')\n",
    "ordersB_cumm.columns = ['date', 'ordersCummulativeB', 'revenueCummulativeB']\n",
    "\n",
    "data = (\n",
    "    ordersA_daily.merge(\n",
    "        ordersB_daily, left_on='date', right_on='date', how='left'\n",
    "    )\n",
    "    .merge(ordersA_cumm, left_on='date', right_on='date', how='left')\n",
    "    .merge(ordersB_cumm, left_on='date', right_on='date', how='left')\n",
    "    .merge(visitorsA_daily, left_on='date', right_on='date', how='left')\n",
    "    .merge(visitorsB_daily, left_on='date', right_on='date', how='left')\n",
    "    .merge(visitorsA_cumm, left_on='date', right_on='date', how='left')\n",
    "    .merge(visitorsB_cumm, left_on='date', right_on='date', how='left')\n",
    ")\n",
    "data.head()"
   ]
  },
  {
   "cell_type": "markdown",
   "id": "8989d716",
   "metadata": {},
   "source": [
    "Сделаем выборку по числу заказов каждого пользователя в группах - `SampleA`, `SampleB`. "
   ]
  },
  {
   "cell_type": "code",
   "execution_count": 29,
   "id": "fe5730c6",
   "metadata": {
    "scrolled": false
   },
   "outputs": [],
   "source": [
    "orders_by_usersA = orders[orders['group'] == 'A'].groupby('visitorId', as_index=False).agg({'transactionId': pd.Series.nunique})\n",
    "orders_by_usersA.columns = ['userId', 'orders']\n",
    "\n",
    "orders_by_usersB = orders[orders['group'] == 'B'].groupby('visitorId', as_index=False).agg({'transactionId': pd.Series.nunique})\n",
    "orders_by_usersB.columns = ['userId', 'orders']\n",
    "\n",
    "sampleA = pd.concat([orders_by_usersA['orders'],pd.Series(0, index=np.arange(data['visitorsPerDateA'].sum() - \n",
    "                                                    len(orders_by_usersA['orders'])), name='orders')],axis=0)\n",
    "sampleB = pd.concat([orders_by_usersB['orders'],pd.Series(0, index=np.arange(data['visitorsPerDateB'].sum() - \n",
    "                                                    len(orders_by_usersB['orders'])), name='orders')],axis=0)"
   ]
  },
  {
   "cell_type": "markdown",
   "id": "f55da285",
   "metadata": {},
   "source": [
    "### Cтатистическая значимость различий в конверсии между группами по «сырым» данным\n",
    "\n",
    "Для расчета статистической значимости конверсии между выборками применим непараметрический тест U-критерий Манна-Уитни к выборкам `SampleA`, `SampleB`.\n",
    "Для расчетов примем `p-value = 0.05`.\n",
    "Т.к. в ходе исследования графики показывали, что конверсия экспериментальной группы `В` выше, чем у контрольной группы `А`, проверим статистическое различие конверсий между группами.\n",
    "\n",
    "**Нулевая гипотеза Н0:** Статистических различий в конверсии между группами А и В нет. \n",
    "\n",
    "**Альтернативная гипотеза Н1:** Статистические различия в конверсии между группами А и В есть."
   ]
  },
  {
   "cell_type": "code",
   "execution_count": 30,
   "id": "30680f21",
   "metadata": {},
   "outputs": [
    {
     "name": "stdout",
     "output_type": "stream",
     "text": [
      "0.01102\n",
      "0.15980\n"
     ]
    }
   ],
   "source": [
    "print(\"{0:.5f}\".format(stats.mannwhitneyu(sampleA, sampleB)[1]))\n",
    "\n",
    "print(\"{0:.5f}\".format(sampleB.mean() / sampleA.mean() - 1))"
   ]
  },
  {
   "cell_type": "markdown",
   "id": "f6679b6e",
   "metadata": {},
   "source": [
    "Видно, что отвергается нулевая гипотеза в сторону альтернативной- статистические различия между группами присутствуют (результат теста меньше `p-value = 0.05`). Второй тест показывает нам, что статистическая разница между группами в пользу группы `B` - практически 16%. Это довольно большой прирост конверсии. Проверим, есть ли различия в среднем чеке между группами."
   ]
  },
  {
   "cell_type": "markdown",
   "id": "8e5cc3ec",
   "metadata": {},
   "source": [
    "### Cтатистическая значимость различий среднего чека между группами по «сырым» данным\n",
    "\n",
    "При помощи того же теста проверим различия среднего чека между группами А и В. Здесь опять же предположим, что экспериментальная группа опережает контрольную. \n",
    "\n",
    "**Нулевая гипотеза Н0:** Статистических различий в среднем чеке между группами А и В нет. \n",
    "\n",
    "**Альтернативная гипотеза Н1:** Статистические различия в среднем чеке между группами А и В есть."
   ]
  },
  {
   "cell_type": "code",
   "execution_count": 31,
   "id": "77707d3d",
   "metadata": {
    "scrolled": true
   },
   "outputs": [
    {
     "name": "stdout",
     "output_type": "stream",
     "text": [
      "0.82949\n",
      "0.28660\n"
     ]
    }
   ],
   "source": [
    "print('{0:.5f}'.format(stats.mannwhitneyu(orders[orders['group']=='A']['revenue'], \n",
    "                                          orders[orders['group']=='B']['revenue'])[1]))\n",
    "print('{0:.5f}'.format(orders[orders['group']=='B']['revenue'].mean()/orders[orders['group']=='A']['revenue'].mean()-1))"
   ]
  },
  {
   "cell_type": "markdown",
   "id": "ced44f5f",
   "metadata": {},
   "source": [
    "Значение теста значительно больше `p-value = 0.05`, это значит, что нулевая гипотеза об отсутствии различий в среднем чеке подтверждается. Однако согласно второму тесту, средний чек группы `B` примерно на 28% выше, чем у группы `А`. \n",
    "Выше я изучала выбросы в \"сырых\" данных. Очистим данные от выбросов и изучим, как изменились результаты статистического теста.\n",
    "Применим к очищенным данные те же самые гипотезы, что мы проверяли ранее. "
   ]
  },
  {
   "cell_type": "markdown",
   "id": "aed3c756",
   "metadata": {},
   "source": [
    "### Очистка данных от выбросов\n",
    "\n",
    "На основании [данных](#trash), полученных в главе \"Анализ выбросов\", очистим данные от выбросов и установим границу выбросов на уровне 95 процентиля по количеству и сумме заказов. \n",
    "\n",
    "**95 перцентиль:**\n",
    "- для количества заказов: 1,\n",
    "- для суммы заказов: 28910.0. \n",
    "\n",
    "Используем таблицу [`orders_users`](#orders_users), где уже было посчитано количество и сумма заказов каждого пользователя и найдем пользователей с аномальными заказами. Как видно, таких пользователей 79 шт. Создадим выборки `SampleA_filt`, `SampleB_filt` для очищенных данных. "
   ]
  },
  {
   "cell_type": "code",
   "execution_count": 32,
   "id": "c5c7b188",
   "metadata": {
    "scrolled": true
   },
   "outputs": [
    {
     "name": "stdout",
     "output_type": "stream",
     "text": [
      "79\n"
     ]
    }
   ],
   "source": [
    "users_many_orders = pd.concat([orders_by_usersA[orders_by_usersA['orders'] > 1]['userId'],\n",
    "                               orders_by_usersB[orders_by_usersB['orders'] > 1]['userId'],],axis=0,)\n",
    "users_expensive_orders = orders[orders['revenue'] > 28910]['visitorId']\n",
    "anomal_users = pd.concat([users_many_orders, users_expensive_orders], axis=0).drop_duplicates().sort_values()\n",
    "\n",
    "print(len(anomal_users))"
   ]
  },
  {
   "cell_type": "code",
   "execution_count": 33,
   "id": "8766ba41",
   "metadata": {},
   "outputs": [],
   "source": [
    "sampleA_filt = pd.concat([np.logical_not(orders_by_usersA['orders'].isin(anomal_users)),pd.Series(0, \n",
    "                index=np.arange(data['visitorsPerDateA'].sum() - len(orders_by_usersA['orders'])), name='orders')],axis=0)\n",
    "sampleB_filt = pd.concat([np.logical_not(orders_by_usersB['orders'].isin(anomal_users)),pd.Series(0, \n",
    "                index=np.arange(data['visitorsPerDateB'].sum() - len(orders_by_usersB['orders'])), name='orders')],axis=0)"
   ]
  },
  {
   "cell_type": "code",
   "execution_count": 34,
   "id": "bc311b4b",
   "metadata": {},
   "outputs": [
    {
     "data": {
      "text/plain": [
       "0    1\n",
       "1    1\n",
       "2    1\n",
       "3    1\n",
       "4    1\n",
       "Name: orders, dtype: int64"
      ]
     },
     "execution_count": 34,
     "metadata": {},
     "output_type": "execute_result"
    }
   ],
   "source": [
    "sampleB_filt.head()"
   ]
  },
  {
   "cell_type": "markdown",
   "id": "e947500a",
   "metadata": {},
   "source": [
    "### Cтатистическая значимость различий в конверсии между группами по «очищенным» данным\n",
    "\n",
    "Проверим различия в конверсии по \"очищенным\" данным - выборки `SampleA_filt`, `SampleB_filt`\n",
    "Для расчетов примем `p-value = 0.05`. Гипотезы оставим неизменными: \n",
    "\n",
    "**Нулевая гипотеза Н0:** Статистических различий в конверсии между группами А и В нет. \n",
    "\n",
    "**Альтернативная гипотеза Н1:** Статистические различия в конверсии между группами А и В есть."
   ]
  },
  {
   "cell_type": "code",
   "execution_count": 35,
   "id": "e3903b68",
   "metadata": {},
   "outputs": [
    {
     "name": "stdout",
     "output_type": "stream",
     "text": [
      "0.01093\n",
      "0.17523\n"
     ]
    }
   ],
   "source": [
    "print(\"{0:.5f}\".format(stats.mannwhitneyu(sampleA_filt, sampleB_filt)[1]))\n",
    "\n",
    "print(\"{0:.5f}\".format(sampleB_filt.mean() / sampleA_filt.mean() - 1))"
   ]
  },
  {
   "cell_type": "markdown",
   "id": "731f85f9",
   "metadata": {},
   "source": [
    "Здесь так же, как и ранее, нулевая гипотеза была отвергнута в сторону альтернативной - различия в конверсии есть, результат теста намного меньше `p-value`. Результаты теста по \"сырым\" и \"очищенным\" данным различаются незначительно (`0.01102/0.01093`), однако после удаления выбросов изменилось статистическая разница между экспериментальной и контрольной группой (`0.16/0.175`). Это значит, что выбросы влияли на средние значения конверсии и увеличивали значение по контрольной группе. После удаления выбросов среднее значение по группе `A` уменьшилось, что дало бОльшие различия в средней конверсии между группами. "
   ]
  },
  {
   "cell_type": "markdown",
   "id": "9d9fc447",
   "metadata": {},
   "source": [
    "### Cтатистическая значимость различий среднего чека между группами по «очищенным» данным\n",
    "\n",
    "Также проверим различия среднего чека между группами А и В по очищенным данным. Гипотезы оставим неизменными\n",
    "\n",
    "**Нулевая гипотеза Н0:** Статистических различий в среднем чеке между группами А и В нет. \n",
    "\n",
    "**Альтернативная гипотеза Н1:** Статистические различия в среднем чеке между группами А и В есть."
   ]
  },
  {
   "cell_type": "code",
   "execution_count": 36,
   "id": "d2000941",
   "metadata": {},
   "outputs": [
    {
     "name": "stdout",
     "output_type": "stream",
     "text": [
      "0.83632\n",
      "-0.00888\n"
     ]
    }
   ],
   "source": [
    "print('{0:.5f}'.format(stats.mannwhitneyu(\n",
    "        orders[np.logical_and(orders['group'] == 'A', np.logical_not(orders['visitorId'].isin(anomal_users)),)]['revenue'],\n",
    "        orders[np.logical_and(orders['group'] == 'B', np.logical_not(orders['visitorId'].isin(anomal_users)),)]['revenue'],\n",
    "        )[1]))\n",
    "\n",
    "print(\"{0:.5f}\".format(\n",
    "        orders[np.logical_and(orders['group'] == 'B', np.logical_not(orders['visitorId'].isin(anomal_users)),)]\n",
    "        ['revenue'].mean() / orders[np.logical_and(orders['group'] == 'A', np.logical_not(orders\n",
    "        ['visitorId'].isin(anomal_users)),)]['revenue'].mean()- 1))"
   ]
  },
  {
   "cell_type": "markdown",
   "id": "f90a4cb1",
   "metadata": {},
   "source": [
    "После очистки данных от выбросов также не отвергается нулевая гипотеза о том, что статистических различий среднего чека между группами А и В нет. Однако значение теста увеличилось по сравнению с \"сырым\" тестом, а вот различия между средним чеком наоборот уменьшились до 0. Это еще раз подтверждает то, что выбросы в виде большого количества заказов или дорогих заказов влияли на тест и неправомочно увеличивали средний чек.  "
   ]
  },
  {
   "cell_type": "markdown",
   "id": "b9113365",
   "metadata": {},
   "source": [
    "### Выводы по результатам теста: \n",
    "\n",
    "Проанализировав данные, можно сделать выводы по результатам теста.\n",
    "- Имеется статистическое различие конверсии между экспериментальной (`B`) и контрольной (`A`) группой по \"сырым\" и \"очищенным\" данным. Разница- в пользу экспериментальной (`B`) группы. \n",
    "- Статистическое различие между средними чеками не подтверждено - ни по сырым данным, ни после фильтрации от выбросов. \n",
    "- График относительной конверсии между группами подтверждает, что конверсия группы `B` намного выше, чем у группы `A`. Если судить по графику, различия в конверсии групп достигают 16%, это же значение было подтверждено статистическим тестом. \n",
    "- График относительных изменений среднего чека указывает на то, что средний чек группы `B` больше, чем у группы `A`. Однако на этом графике имеются провалы ниже 0, да и сам график несколько неравномерен. Это можно объяснить выбросами данных в виде крупных заказов или пользователей с количеством заказов >1. Т.к. статистический тест не подтвердил различие между средними чеками, влияние выбросов на этот график можно считать довольно большим. \n",
    "- Кумулятивная выручка и кумулятивная конверсия экспериментальной группы также выше, чем у контрольной. В конце эксперимента разница между кумулятивной выручкой групп составляет около 1/3.\n",
    "\n",
    "Исходя из этого, можно сказать, что можно остановить тест и зафиксировать победу группы `В`. Различия в выручке и конверсии в пользу экспериментальной группы `В` в сравнении с контрольной группой `A` очевидны, что подтверждается графиками и статистическими расчетами. Продолжать тест не стоит, т.к. дальнейшие результаты могут быть неверными из-за накопления данных. "
   ]
  },
  {
   "cell_type": "markdown",
   "id": "d1794f7a",
   "metadata": {},
   "source": [
    "# Вывод по работе: \n",
    "\n",
    "В ходе практической работы было решено 2 блока задач:\n",
    "- Приоритизация гипотез для бизнеса,\n",
    "- Анализ и интерпретация А/B теста. \n",
    "\n",
    "Для приоритизации гипотез был использован метод `WSJF` (алгоритмы `ICE` и `RICE`). После обработки гипотез по указанным алгоритмам, ТОП-3 гипотез различался в зависимости от метода. Это связано с тем, что на первый план при оценке `ICE` выходят те гипотезы, внедрение которых максимально влияет на пользователей, при этом стоимость такого изменения- минимальна. При оценке `RICE` мы также оцениваем, какое количество пользователей затронет наша гипотеза. Разные способы подсчета влияют на приоритизацию гипотез, поэтому при использовании разных методов на первое место могут выходить различные гипотезы. \n",
    "В нашем случае 2 гипотезы попали в ТОП-3 каждого из методов: \n",
    "- 7. Добавить форму подписки на все основные страницы, чтобы собрать базу клиентов для email-рассылок\t\n",
    "- 0. Добавить два новых канала привлечения трафика, что позволит привлекать на 30% больше пользователей\n",
    "\n",
    "Обе эти гипотезы не требуют больших затрат для внедрения и затрагивают большое (или все) количество пользователей, что позволяет дать данным гипотезам высокий приоритет. \n",
    "\n",
    "Во втором блоке был проведен анализ и интерпретация результатов А/B теста. Срок проведения теста - 1 календарный месяц (01.08-01.09.2019 г.).\n",
    "\n",
    "В ходе тестирования было выявлено превосходство экспериментальной группы `В` над контрольной группой `A`. Для этого сравнивались показатели кумулятивной выручки, кумулятивной конверсии, а также рассчитывалась статистическая значимость различий в конверсии и среднем чеке. В сумме всех проверенных показателей группа `В` показала лучшие результаты, в связи с чем было принято решение зафиксировать результаты и зафиксировать победу группы `В`."
   ]
  }
 ],
 "metadata": {
  "ExecuteTimeLog": [
   {
    "duration": 971,
    "start_time": "2022-06-15T14:46:33.889Z"
   },
   {
    "duration": 245,
    "start_time": "2022-06-15T14:46:34.861Z"
   },
   {
    "duration": 14,
    "start_time": "2022-06-15T14:46:35.110Z"
   },
   {
    "duration": 12,
    "start_time": "2022-06-15T14:46:35.126Z"
   },
   {
    "duration": 20,
    "start_time": "2022-06-15T14:46:35.140Z"
   },
   {
    "duration": 10,
    "start_time": "2022-06-15T14:46:35.161Z"
   },
   {
    "duration": 37,
    "start_time": "2022-06-15T14:46:35.173Z"
   },
   {
    "duration": 22,
    "start_time": "2022-06-15T14:46:35.212Z"
   },
   {
    "duration": 17,
    "start_time": "2022-06-15T14:46:35.236Z"
   },
   {
    "duration": 190,
    "start_time": "2022-06-15T14:46:35.256Z"
   },
   {
    "duration": 154,
    "start_time": "2022-06-15T14:46:35.448Z"
   },
   {
    "duration": 11,
    "start_time": "2022-06-15T14:46:35.604Z"
   },
   {
    "duration": 447,
    "start_time": "2022-06-15T14:46:35.617Z"
   },
   {
    "duration": 232,
    "start_time": "2022-06-15T14:46:36.066Z"
   },
   {
    "duration": 317,
    "start_time": "2022-06-15T14:46:36.300Z"
   },
   {
    "duration": 319,
    "start_time": "2022-06-15T14:46:36.618Z"
   },
   {
    "duration": 301,
    "start_time": "2022-06-15T14:46:36.938Z"
   },
   {
    "duration": 10,
    "start_time": "2022-06-15T14:46:37.240Z"
   },
   {
    "duration": 5,
    "start_time": "2022-06-15T14:46:37.252Z"
   },
   {
    "duration": 415,
    "start_time": "2022-06-15T14:46:37.258Z"
   },
   {
    "duration": 80,
    "start_time": "2022-06-15T14:46:37.675Z"
   },
   {
    "duration": 242,
    "start_time": "2022-06-15T14:46:37.757Z"
   },
   {
    "duration": 24,
    "start_time": "2022-06-15T14:46:38.002Z"
   },
   {
    "duration": 12,
    "start_time": "2022-06-15T14:46:38.029Z"
   },
   {
    "duration": 13,
    "start_time": "2022-06-15T14:46:38.043Z"
   },
   {
    "duration": 30,
    "start_time": "2022-06-15T14:46:38.079Z"
   },
   {
    "duration": 12,
    "start_time": "2022-06-15T14:46:38.111Z"
   },
   {
    "duration": 26,
    "start_time": "2022-06-15T14:46:38.126Z"
   },
   {
    "duration": 17,
    "start_time": "2022-06-15T14:46:38.154Z"
   },
   {
    "duration": 994,
    "start_time": "2022-06-15T15:16:43.454Z"
   },
   {
    "duration": 196,
    "start_time": "2022-06-15T15:16:44.450Z"
   },
   {
    "duration": 12,
    "start_time": "2022-06-15T15:16:44.647Z"
   },
   {
    "duration": 15,
    "start_time": "2022-06-15T15:16:44.661Z"
   },
   {
    "duration": 8,
    "start_time": "2022-06-15T15:16:44.678Z"
   },
   {
    "duration": 7,
    "start_time": "2022-06-15T15:16:44.688Z"
   },
   {
    "duration": 24,
    "start_time": "2022-06-15T15:16:44.697Z"
   },
   {
    "duration": 15,
    "start_time": "2022-06-15T15:16:44.722Z"
   },
   {
    "duration": 12,
    "start_time": "2022-06-15T15:16:44.739Z"
   },
   {
    "duration": 157,
    "start_time": "2022-06-15T15:16:44.778Z"
   },
   {
    "duration": 119,
    "start_time": "2022-06-15T15:16:44.937Z"
   },
   {
    "duration": 27,
    "start_time": "2022-06-15T15:16:45.057Z"
   },
   {
    "duration": 409,
    "start_time": "2022-06-15T15:16:45.086Z"
   },
   {
    "duration": 197,
    "start_time": "2022-06-15T15:16:45.497Z"
   },
   {
    "duration": 296,
    "start_time": "2022-06-15T15:16:45.696Z"
   },
   {
    "duration": 324,
    "start_time": "2022-06-15T15:16:45.994Z"
   },
   {
    "duration": 274,
    "start_time": "2022-06-15T15:16:46.320Z"
   },
   {
    "duration": 11,
    "start_time": "2022-06-15T15:16:46.595Z"
   },
   {
    "duration": 5,
    "start_time": "2022-06-15T15:16:46.607Z"
   },
   {
    "duration": 408,
    "start_time": "2022-06-15T15:16:46.613Z"
   },
   {
    "duration": 69,
    "start_time": "2022-06-15T15:16:47.022Z"
   },
   {
    "duration": 124,
    "start_time": "2022-06-15T15:16:47.092Z"
   },
   {
    "duration": 20,
    "start_time": "2022-06-15T15:16:47.217Z"
   },
   {
    "duration": 11,
    "start_time": "2022-06-15T15:16:47.238Z"
   },
   {
    "duration": 7,
    "start_time": "2022-06-15T15:16:47.251Z"
   },
   {
    "duration": 6,
    "start_time": "2022-06-15T15:16:47.277Z"
   },
   {
    "duration": 12,
    "start_time": "2022-06-15T15:16:47.285Z"
   },
   {
    "duration": 22,
    "start_time": "2022-06-15T15:16:47.298Z"
   },
   {
    "duration": 14,
    "start_time": "2022-06-15T15:16:47.321Z"
   },
   {
    "duration": 1352,
    "start_time": "2022-06-16T13:57:33.290Z"
   },
   {
    "duration": 231,
    "start_time": "2022-06-16T13:57:34.645Z"
   },
   {
    "duration": 16,
    "start_time": "2022-06-16T13:57:34.879Z"
   },
   {
    "duration": 51,
    "start_time": "2022-06-16T13:57:34.897Z"
   },
   {
    "duration": 46,
    "start_time": "2022-06-16T13:57:34.952Z"
   },
   {
    "duration": 38,
    "start_time": "2022-06-16T13:57:35.002Z"
   },
   {
    "duration": 88,
    "start_time": "2022-06-16T13:57:35.043Z"
   },
   {
    "duration": 34,
    "start_time": "2022-06-16T13:57:35.138Z"
   },
   {
    "duration": 45,
    "start_time": "2022-06-16T13:57:35.178Z"
   },
   {
    "duration": 104,
    "start_time": "2022-06-16T13:57:35.226Z"
   },
   {
    "duration": 65,
    "start_time": "2022-06-16T13:57:35.332Z"
   },
   {
    "duration": 25,
    "start_time": "2022-06-16T13:57:35.399Z"
   },
   {
    "duration": 67,
    "start_time": "2022-06-16T13:57:35.432Z"
   },
   {
    "duration": 23,
    "start_time": "2022-06-16T13:57:35.502Z"
   },
   {
    "duration": 55,
    "start_time": "2022-06-16T13:57:35.529Z"
   },
   {
    "duration": 204,
    "start_time": "2022-06-16T13:57:35.586Z"
   },
   {
    "duration": 190,
    "start_time": "2022-06-16T13:57:35.792Z"
   },
   {
    "duration": 14,
    "start_time": "2022-06-16T13:57:35.986Z"
   },
   {
    "duration": 594,
    "start_time": "2022-06-16T13:57:36.002Z"
   },
   {
    "duration": 314,
    "start_time": "2022-06-16T13:57:36.598Z"
   },
   {
    "duration": 425,
    "start_time": "2022-06-16T13:57:36.914Z"
   },
   {
    "duration": 426,
    "start_time": "2022-06-16T13:57:37.341Z"
   },
   {
    "duration": 353,
    "start_time": "2022-06-16T13:57:37.769Z"
   },
   {
    "duration": 32,
    "start_time": "2022-06-16T13:57:38.124Z"
   },
   {
    "duration": 31,
    "start_time": "2022-06-16T13:57:38.157Z"
   },
   {
    "duration": 547,
    "start_time": "2022-06-16T13:57:38.191Z"
   },
   {
    "duration": 114,
    "start_time": "2022-06-16T13:57:38.741Z"
   },
   {
    "duration": 294,
    "start_time": "2022-06-16T13:57:38.857Z"
   },
   {
    "duration": 40,
    "start_time": "2022-06-16T13:57:39.153Z"
   },
   {
    "duration": 31,
    "start_time": "2022-06-16T13:57:39.195Z"
   },
   {
    "duration": 41,
    "start_time": "2022-06-16T13:57:39.229Z"
   },
   {
    "duration": 20,
    "start_time": "2022-06-16T13:57:39.272Z"
   },
   {
    "duration": 20,
    "start_time": "2022-06-16T13:57:39.294Z"
   },
   {
    "duration": 105,
    "start_time": "2022-06-16T13:57:39.317Z"
   },
   {
    "duration": 42,
    "start_time": "2022-06-16T13:57:39.424Z"
   },
   {
    "duration": 13,
    "start_time": "2022-06-16T14:00:01.384Z"
   },
   {
    "duration": 13,
    "start_time": "2022-06-16T14:00:31.318Z"
   },
   {
    "duration": 156,
    "start_time": "2022-06-16T14:00:43.979Z"
   },
   {
    "duration": 12,
    "start_time": "2022-06-16T14:00:51.199Z"
   },
   {
    "duration": 8,
    "start_time": "2022-06-16T14:02:01.881Z"
   },
   {
    "duration": 6,
    "start_time": "2022-06-16T14:02:09.565Z"
   },
   {
    "duration": 11,
    "start_time": "2022-06-16T14:04:36.890Z"
   },
   {
    "duration": 11,
    "start_time": "2022-06-16T14:04:46.194Z"
   },
   {
    "duration": 38,
    "start_time": "2022-06-16T14:05:05.822Z"
   },
   {
    "duration": 12,
    "start_time": "2022-06-16T14:05:26.252Z"
   },
   {
    "duration": 10,
    "start_time": "2022-06-16T14:05:36.903Z"
   },
   {
    "duration": 10,
    "start_time": "2022-06-16T14:05:41.665Z"
   },
   {
    "duration": 6,
    "start_time": "2022-06-16T14:07:18.683Z"
   },
   {
    "duration": 10,
    "start_time": "2022-06-16T14:07:26.163Z"
   },
   {
    "duration": 1114,
    "start_time": "2022-06-16T14:09:49.962Z"
   },
   {
    "duration": 159,
    "start_time": "2022-06-16T14:09:51.078Z"
   },
   {
    "duration": 17,
    "start_time": "2022-06-16T14:09:51.244Z"
   },
   {
    "duration": 28,
    "start_time": "2022-06-16T14:09:51.263Z"
   },
   {
    "duration": 24,
    "start_time": "2022-06-16T14:09:51.295Z"
   },
   {
    "duration": 17,
    "start_time": "2022-06-16T14:09:51.321Z"
   },
   {
    "duration": 43,
    "start_time": "2022-06-16T14:09:51.341Z"
   },
   {
    "duration": 21,
    "start_time": "2022-06-16T14:09:51.387Z"
   },
   {
    "duration": 28,
    "start_time": "2022-06-16T14:09:51.410Z"
   },
   {
    "duration": 22,
    "start_time": "2022-06-16T14:09:51.445Z"
   },
   {
    "duration": 22,
    "start_time": "2022-06-16T14:09:51.469Z"
   },
   {
    "duration": 26,
    "start_time": "2022-06-16T14:09:51.498Z"
   },
   {
    "duration": 45,
    "start_time": "2022-06-16T14:09:51.527Z"
   },
   {
    "duration": 38,
    "start_time": "2022-06-16T14:09:51.577Z"
   },
   {
    "duration": 32,
    "start_time": "2022-06-16T14:09:51.617Z"
   },
   {
    "duration": 21,
    "start_time": "2022-06-16T14:09:51.653Z"
   },
   {
    "duration": 241,
    "start_time": "2022-06-16T14:09:51.676Z"
   },
   {
    "duration": 169,
    "start_time": "2022-06-16T14:09:51.919Z"
   },
   {
    "duration": 16,
    "start_time": "2022-06-16T14:09:52.090Z"
   },
   {
    "duration": 539,
    "start_time": "2022-06-16T14:09:52.108Z"
   },
   {
    "duration": 295,
    "start_time": "2022-06-16T14:09:52.650Z"
   },
   {
    "duration": 362,
    "start_time": "2022-06-16T14:09:52.948Z"
   },
   {
    "duration": 412,
    "start_time": "2022-06-16T14:09:53.312Z"
   },
   {
    "duration": 358,
    "start_time": "2022-06-16T14:09:53.725Z"
   },
   {
    "duration": 13,
    "start_time": "2022-06-16T14:09:54.085Z"
   },
   {
    "duration": 6,
    "start_time": "2022-06-16T14:09:54.100Z"
   },
   {
    "duration": 546,
    "start_time": "2022-06-16T14:09:54.129Z"
   },
   {
    "duration": 97,
    "start_time": "2022-06-16T14:09:54.677Z"
   },
   {
    "duration": 177,
    "start_time": "2022-06-16T14:09:54.776Z"
   },
   {
    "duration": 24,
    "start_time": "2022-06-16T14:09:54.955Z"
   },
   {
    "duration": 13,
    "start_time": "2022-06-16T14:09:54.981Z"
   },
   {
    "duration": 44,
    "start_time": "2022-06-16T14:09:54.996Z"
   },
   {
    "duration": 9,
    "start_time": "2022-06-16T14:09:55.042Z"
   },
   {
    "duration": 8,
    "start_time": "2022-06-16T14:09:55.053Z"
   },
   {
    "duration": 34,
    "start_time": "2022-06-16T14:09:55.063Z"
   },
   {
    "duration": 27,
    "start_time": "2022-06-16T14:09:55.099Z"
   },
   {
    "duration": 973,
    "start_time": "2022-06-18T05:56:22.927Z"
   },
   {
    "duration": 248,
    "start_time": "2022-06-18T05:56:23.901Z"
   },
   {
    "duration": 11,
    "start_time": "2022-06-18T05:56:24.151Z"
   },
   {
    "duration": 27,
    "start_time": "2022-06-18T05:56:24.164Z"
   },
   {
    "duration": 20,
    "start_time": "2022-06-18T05:56:24.193Z"
   },
   {
    "duration": 21,
    "start_time": "2022-06-18T05:56:24.215Z"
   },
   {
    "duration": 36,
    "start_time": "2022-06-18T05:56:24.238Z"
   },
   {
    "duration": 17,
    "start_time": "2022-06-18T05:56:24.277Z"
   },
   {
    "duration": 17,
    "start_time": "2022-06-18T05:56:24.295Z"
   },
   {
    "duration": 18,
    "start_time": "2022-06-18T05:56:24.315Z"
   },
   {
    "duration": 11,
    "start_time": "2022-06-18T05:56:24.334Z"
   },
   {
    "duration": 8,
    "start_time": "2022-06-18T05:56:24.347Z"
   },
   {
    "duration": 9,
    "start_time": "2022-06-18T05:56:24.357Z"
   },
   {
    "duration": 7,
    "start_time": "2022-06-18T05:56:24.367Z"
   },
   {
    "duration": 18,
    "start_time": "2022-06-18T05:56:24.375Z"
   },
   {
    "duration": 43,
    "start_time": "2022-06-18T05:56:24.395Z"
   },
   {
    "duration": 220,
    "start_time": "2022-06-18T05:56:24.440Z"
   },
   {
    "duration": 167,
    "start_time": "2022-06-18T05:56:24.662Z"
   },
   {
    "duration": 16,
    "start_time": "2022-06-18T05:56:24.830Z"
   },
   {
    "duration": 453,
    "start_time": "2022-06-18T05:56:24.848Z"
   },
   {
    "duration": 254,
    "start_time": "2022-06-18T05:56:25.303Z"
   },
   {
    "duration": 315,
    "start_time": "2022-06-18T05:56:25.559Z"
   },
   {
    "duration": 365,
    "start_time": "2022-06-18T05:56:25.876Z"
   },
   {
    "duration": 323,
    "start_time": "2022-06-18T05:56:26.242Z"
   },
   {
    "duration": 13,
    "start_time": "2022-06-18T05:56:26.567Z"
   },
   {
    "duration": 6,
    "start_time": "2022-06-18T05:56:26.581Z"
   },
   {
    "duration": 420,
    "start_time": "2022-06-18T05:56:26.588Z"
   },
   {
    "duration": 72,
    "start_time": "2022-06-18T05:56:27.012Z"
   },
   {
    "duration": 167,
    "start_time": "2022-06-18T05:56:27.086Z"
   },
   {
    "duration": 26,
    "start_time": "2022-06-18T05:56:27.254Z"
   },
   {
    "duration": 12,
    "start_time": "2022-06-18T05:56:27.281Z"
   },
   {
    "duration": 32,
    "start_time": "2022-06-18T05:56:27.294Z"
   },
   {
    "duration": 9,
    "start_time": "2022-06-18T05:56:27.329Z"
   },
   {
    "duration": 5,
    "start_time": "2022-06-18T05:56:27.341Z"
   },
   {
    "duration": 26,
    "start_time": "2022-06-18T05:56:27.347Z"
   },
   {
    "duration": 13,
    "start_time": "2022-06-18T05:56:27.374Z"
   },
   {
    "duration": 974,
    "start_time": "2022-06-18T06:00:41.580Z"
   },
   {
    "duration": 148,
    "start_time": "2022-06-18T06:00:42.557Z"
   },
   {
    "duration": 13,
    "start_time": "2022-06-18T06:00:42.707Z"
   },
   {
    "duration": 22,
    "start_time": "2022-06-18T06:00:42.722Z"
   },
   {
    "duration": 19,
    "start_time": "2022-06-18T06:00:42.746Z"
   },
   {
    "duration": 14,
    "start_time": "2022-06-18T06:00:42.767Z"
   },
   {
    "duration": 29,
    "start_time": "2022-06-18T06:00:42.782Z"
   },
   {
    "duration": 17,
    "start_time": "2022-06-18T06:00:42.826Z"
   },
   {
    "duration": 31,
    "start_time": "2022-06-18T06:00:42.845Z"
   },
   {
    "duration": 7,
    "start_time": "2022-06-18T06:00:42.878Z"
   },
   {
    "duration": 11,
    "start_time": "2022-06-18T06:00:42.886Z"
   },
   {
    "duration": 12,
    "start_time": "2022-06-18T06:00:42.898Z"
   },
   {
    "duration": 21,
    "start_time": "2022-06-18T06:00:42.911Z"
   },
   {
    "duration": 10,
    "start_time": "2022-06-18T06:00:42.936Z"
   },
   {
    "duration": 26,
    "start_time": "2022-06-18T06:00:42.948Z"
   },
   {
    "duration": 29,
    "start_time": "2022-06-18T06:00:42.976Z"
   },
   {
    "duration": 193,
    "start_time": "2022-06-18T06:00:43.007Z"
   },
   {
    "duration": 134,
    "start_time": "2022-06-18T06:00:43.202Z"
   },
   {
    "duration": 12,
    "start_time": "2022-06-18T06:00:43.338Z"
   },
   {
    "duration": 428,
    "start_time": "2022-06-18T06:00:43.352Z"
   },
   {
    "duration": 257,
    "start_time": "2022-06-18T06:00:43.782Z"
   },
   {
    "duration": 331,
    "start_time": "2022-06-18T06:00:44.041Z"
   },
   {
    "duration": 370,
    "start_time": "2022-06-18T06:00:44.374Z"
   },
   {
    "duration": 330,
    "start_time": "2022-06-18T06:00:44.746Z"
   },
   {
    "duration": 15,
    "start_time": "2022-06-18T06:00:45.078Z"
   },
   {
    "duration": 11,
    "start_time": "2022-06-18T06:00:45.095Z"
   },
   {
    "duration": 397,
    "start_time": "2022-06-18T06:00:45.125Z"
   },
   {
    "duration": 62,
    "start_time": "2022-06-18T06:00:45.526Z"
   },
   {
    "duration": 160,
    "start_time": "2022-06-18T06:00:45.590Z"
   },
   {
    "duration": 25,
    "start_time": "2022-06-18T06:00:45.752Z"
   },
   {
    "duration": 12,
    "start_time": "2022-06-18T06:00:45.779Z"
   },
   {
    "duration": 34,
    "start_time": "2022-06-18T06:00:45.793Z"
   },
   {
    "duration": 22,
    "start_time": "2022-06-18T06:00:45.830Z"
   },
   {
    "duration": 10,
    "start_time": "2022-06-18T06:00:45.854Z"
   },
   {
    "duration": 39,
    "start_time": "2022-06-18T06:00:45.865Z"
   },
   {
    "duration": 17,
    "start_time": "2022-06-18T06:00:45.907Z"
   },
   {
    "duration": 928,
    "start_time": "2022-06-18T06:03:55.787Z"
   },
   {
    "duration": 129,
    "start_time": "2022-06-18T06:03:56.717Z"
   },
   {
    "duration": 11,
    "start_time": "2022-06-18T06:03:56.848Z"
   },
   {
    "duration": 16,
    "start_time": "2022-06-18T06:03:56.861Z"
   },
   {
    "duration": 11,
    "start_time": "2022-06-18T06:03:56.879Z"
   },
   {
    "duration": 13,
    "start_time": "2022-06-18T06:03:56.891Z"
   },
   {
    "duration": 33,
    "start_time": "2022-06-18T06:03:56.905Z"
   },
   {
    "duration": 15,
    "start_time": "2022-06-18T06:03:56.940Z"
   },
   {
    "duration": 13,
    "start_time": "2022-06-18T06:03:56.957Z"
   },
   {
    "duration": 12,
    "start_time": "2022-06-18T06:03:56.972Z"
   },
   {
    "duration": 22,
    "start_time": "2022-06-18T06:03:56.985Z"
   },
   {
    "duration": 19,
    "start_time": "2022-06-18T06:03:57.009Z"
   },
   {
    "duration": 12,
    "start_time": "2022-06-18T06:03:57.029Z"
   },
   {
    "duration": 10,
    "start_time": "2022-06-18T06:03:57.043Z"
   },
   {
    "duration": 16,
    "start_time": "2022-06-18T06:03:57.055Z"
   },
   {
    "duration": 15,
    "start_time": "2022-06-18T06:03:57.073Z"
   },
   {
    "duration": 186,
    "start_time": "2022-06-18T06:03:57.090Z"
   },
   {
    "duration": 136,
    "start_time": "2022-06-18T06:03:57.278Z"
   },
   {
    "duration": 13,
    "start_time": "2022-06-18T06:03:57.425Z"
   },
   {
    "duration": 437,
    "start_time": "2022-06-18T06:03:57.439Z"
   },
   {
    "duration": 243,
    "start_time": "2022-06-18T06:03:57.877Z"
   },
   {
    "duration": 335,
    "start_time": "2022-06-18T06:03:58.126Z"
   },
   {
    "duration": 300,
    "start_time": "2022-06-18T06:03:58.462Z"
   },
   {
    "duration": 285,
    "start_time": "2022-06-18T06:03:58.764Z"
   },
   {
    "duration": 14,
    "start_time": "2022-06-18T06:03:59.050Z"
   },
   {
    "duration": 6,
    "start_time": "2022-06-18T06:03:59.065Z"
   },
   {
    "duration": 457,
    "start_time": "2022-06-18T06:03:59.072Z"
   },
   {
    "duration": 63,
    "start_time": "2022-06-18T06:03:59.532Z"
   },
   {
    "duration": 153,
    "start_time": "2022-06-18T06:03:59.597Z"
   },
   {
    "duration": 22,
    "start_time": "2022-06-18T06:03:59.753Z"
   },
   {
    "duration": 11,
    "start_time": "2022-06-18T06:03:59.777Z"
   },
   {
    "duration": 11,
    "start_time": "2022-06-18T06:03:59.790Z"
   },
   {
    "duration": 29,
    "start_time": "2022-06-18T06:03:59.802Z"
   },
   {
    "duration": 8,
    "start_time": "2022-06-18T06:03:59.832Z"
   },
   {
    "duration": 24,
    "start_time": "2022-06-18T06:03:59.841Z"
   },
   {
    "duration": 11,
    "start_time": "2022-06-18T06:03:59.867Z"
   }
  ],
  "kernelspec": {
   "display_name": "Python 3 (ipykernel)",
   "language": "python",
   "name": "python3"
  },
  "language_info": {
   "codemirror_mode": {
    "name": "ipython",
    "version": 3
   },
   "file_extension": ".py",
   "mimetype": "text/x-python",
   "name": "python",
   "nbconvert_exporter": "python",
   "pygments_lexer": "ipython3",
   "version": "3.9.7"
  },
  "toc": {
   "base_numbering": 1,
   "nav_menu": {},
   "number_sections": true,
   "sideBar": true,
   "skip_h1_title": true,
   "title_cell": "Table of Contents",
   "title_sidebar": "Contents",
   "toc_cell": false,
   "toc_position": {},
   "toc_section_display": true,
   "toc_window_display": false
  }
 },
 "nbformat": 4,
 "nbformat_minor": 5
}
